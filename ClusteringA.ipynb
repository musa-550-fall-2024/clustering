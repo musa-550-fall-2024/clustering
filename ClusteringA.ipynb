{
 "cells": [
  {
   "cell_type": "code",
   "execution_count": 55,
   "metadata": {
    "slideshow": {
     "slide_type": "skip"
    }
   },
   "outputs": [],
   "source": [
    "from matplotlib import pyplot as plt\n",
    "import numpy as np\n",
    "import pandas as pd\n",
    "import geopandas as gpd\n",
    "np.random.seed(42)"
   ]
  },
  {
   "cell_type": "markdown",
   "metadata": {
    "slideshow": {
     "slide_type": "slide"
    }
   },
   "source": [
    "# Clustering Analysis in Python\n",
    "## kmeans\n",
    "\n",
    "- Nov 14, 2023"
   ]
  },
  {
   "cell_type": "markdown",
   "metadata": {
    "slideshow": {
     "slide_type": "slide"
    }
   },
   "source": [
    "## Clustering in Python\n",
    "\n",
    "- Both spatial and non-spatial datasets\n",
    "- Two new techniques: \n",
    "    - Non-spatial: **K-means**\n",
    "    - Spatial: **DBSCAN**\n",
    "- Some exercises:\n",
    "    1. Grouping Philadelphia neighborhoods by AirBnb listings\n",
    "    2. Identifying clusters in taxi rides in NYC"
   ]
  },
  {
   "cell_type": "markdown",
   "metadata": {
    "slideshow": {
     "slide_type": "slide"
    }
   },
   "source": [
    "## \"Machine learning\" and \"AI\"\n",
    "\n",
    "![](imgs/machine_learning.jpg)"
   ]
  },
  {
   "cell_type": "markdown",
   "metadata": {
    "slideshow": {
     "slide_type": "subslide"
    }
   },
   "source": [
    "- The computer **learns** patterns and properties of an input data set without the user specifying them beforehand\n",
    "- Can be both **supervised** and **unsupervised**"
   ]
  },
  {
   "cell_type": "markdown",
   "metadata": {
    "slideshow": {
     "slide_type": "subslide"
    }
   },
   "source": [
    "### Supervised\n",
    "- Example: classification\n",
    "- Given a training set of **labeled** data, learn to assign labels to new data\n",
    "\n",
    "### Unsupervised\n",
    "- Example: clustering\n",
    "- Identify structure / clusters in data without any prior knowledge"
   ]
  },
  {
   "cell_type": "markdown",
   "metadata": {
    "slideshow": {
     "slide_type": "slide"
    }
   },
   "source": [
    "## Machine learning in Python: scikit-learn\n",
    "\n",
    "- State-of-the-art machine learning in Python\n",
    "- Easy to use, lots of functionality"
   ]
  },
  {
   "cell_type": "markdown",
   "metadata": {
    "slideshow": {
     "slide_type": "subslide"
    }
   },
   "source": [
    "## Clustering is just one (of many) features\n",
    "\n",
    "![](imgs/scikit_learn.png)"
   ]
  },
  {
   "cell_type": "markdown",
   "metadata": {
    "slideshow": {
     "slide_type": "subslide"
    }
   },
   "source": [
    "[https://scikit-learn.org/stable/](https://scikit-learn.org/stable/)\n",
    "\n",
    "\n",
    "\n",
    "- We will focus on clustering algorithms today and discuss a few other machine learning techniques in the next two weeks.\n",
    "- If there is a specific scikit-learn use case we won't cover, I'm open to ideas for incorporating it as part of the final project. \n"
   ]
  },
  {
   "cell_type": "markdown",
   "metadata": {
    "slideshow": {
     "slide_type": "slide"
    }
   },
   "source": [
    "## Part 1: Non-spatial clustering\n",
    "\n",
    "**The goal**\n",
    "\n",
    "Partition a dataset into groups that have a similar set of attributes, **or features**, within the group and a dissimilar set of features between groups.\n",
    "\n",
    "Minimize the *intra-cluster* variance and maximize the *inter-cluster* variance of features."
   ]
  },
  {
   "cell_type": "markdown",
   "metadata": {
    "slideshow": {
     "slide_type": "subslide"
    }
   },
   "source": [
    "### Some intuition\n",
    "\n",
    "![](imgs/clustering.png)"
   ]
  },
  {
   "cell_type": "markdown",
   "metadata": {
    "slideshow": {
     "slide_type": "slide"
    }
   },
   "source": [
    "### K-Means clustering\n",
    "\n",
    "- Simple but robust clustering algorithm\n",
    "- Widely used\n",
    "- **Important:** user must specify the number of clusters\n",
    "- **Cannot** be used to find density-based clusters"
   ]
  },
  {
   "cell_type": "markdown",
   "metadata": {
    "slideshow": {
     "slide_type": "slide"
    }
   },
   "source": [
    "### This is just one of several clustering methods\n",
    "\n",
    "[https://scikit-learn.org/stable/modules/clustering.html#overview-of-clustering-methods](https://scikit-learn.org/stable/modules/clustering.html#overview-of-clustering-methods)"
   ]
  },
  {
   "cell_type": "markdown",
   "metadata": {
    "slideshow": {
     "slide_type": "subslide"
    }
   },
   "source": [
    "\n",
    "### A good introduction\n",
    "\n",
    "Check out [Andrew Ng's Coursera lecture](https://www.youtube.com/watch?v=0D4LnsJr85Y) on unsupervised clustering.\n"
   ]
  },
  {
   "cell_type": "markdown",
   "metadata": {
    "slideshow": {
     "slide_type": "slide"
    }
   },
   "source": [
    "### How does it work?\n",
    "\n",
    "**Minimizes the intra-cluster variance**: minimizes the sum of the squared distances between all points in a cluster and the cluster centroid"
   ]
  },
  {
   "cell_type": "markdown",
   "metadata": {
    "slideshow": {
     "slide_type": "slide"
    }
   },
   "source": [
    "### K-means in action\n",
    "\n",
    "![](imgs/K-means_convergence.gif)"
   ]
  },
  {
   "cell_type": "markdown",
   "metadata": {
    "slideshow": {
     "slide_type": "slide"
    }
   },
   "source": [
    "### Example: Clustering countries by health and income\n",
    "\n",
    "- Health expectancy in years vs. GDP per capita and population for 187 countries (as of 2015)\n",
    "- Data from [Gapminder](https://www.gapminder.org/data/)"
   ]
  },
  {
   "cell_type": "code",
   "execution_count": 56,
   "metadata": {
    "slideshow": {
     "slide_type": "subslide"
    }
   },
   "outputs": [],
   "source": [
    "import altair as alt\n",
    "from vega_datasets import data as vega_data"
   ]
  },
  {
   "cell_type": "markdown",
   "metadata": {
    "slideshow": {
     "slide_type": "subslide"
    }
   },
   "source": [
    "Read the data from a URL:"
   ]
  },
  {
   "cell_type": "code",
   "execution_count": 57,
   "metadata": {
    "slideshow": {
     "slide_type": "subslide"
    }
   },
   "outputs": [
    {
     "data": {
      "text/html": [
       "<div>\n",
       "<style scoped>\n",
       "    .dataframe tbody tr th:only-of-type {\n",
       "        vertical-align: middle;\n",
       "    }\n",
       "\n",
       "    .dataframe tbody tr th {\n",
       "        vertical-align: top;\n",
       "    }\n",
       "\n",
       "    .dataframe thead th {\n",
       "        text-align: right;\n",
       "    }\n",
       "</style>\n",
       "<table border=\"1\" class=\"dataframe\">\n",
       "  <thead>\n",
       "    <tr style=\"text-align: right;\">\n",
       "      <th></th>\n",
       "      <th>country</th>\n",
       "      <th>income</th>\n",
       "      <th>health</th>\n",
       "      <th>population</th>\n",
       "    </tr>\n",
       "  </thead>\n",
       "  <tbody>\n",
       "    <tr>\n",
       "      <th>0</th>\n",
       "      <td>Afghanistan</td>\n",
       "      <td>1925</td>\n",
       "      <td>57.63</td>\n",
       "      <td>32526562</td>\n",
       "    </tr>\n",
       "    <tr>\n",
       "      <th>1</th>\n",
       "      <td>Albania</td>\n",
       "      <td>10620</td>\n",
       "      <td>76.00</td>\n",
       "      <td>2896679</td>\n",
       "    </tr>\n",
       "    <tr>\n",
       "      <th>2</th>\n",
       "      <td>Algeria</td>\n",
       "      <td>13434</td>\n",
       "      <td>76.50</td>\n",
       "      <td>39666519</td>\n",
       "    </tr>\n",
       "    <tr>\n",
       "      <th>3</th>\n",
       "      <td>Andorra</td>\n",
       "      <td>46577</td>\n",
       "      <td>84.10</td>\n",
       "      <td>70473</td>\n",
       "    </tr>\n",
       "    <tr>\n",
       "      <th>4</th>\n",
       "      <td>Angola</td>\n",
       "      <td>7615</td>\n",
       "      <td>61.00</td>\n",
       "      <td>25021974</td>\n",
       "    </tr>\n",
       "  </tbody>\n",
       "</table>\n",
       "</div>"
      ],
      "text/plain": [
       "       country  income  health  population\n",
       "0  Afghanistan    1925   57.63    32526562\n",
       "1      Albania   10620   76.00     2896679\n",
       "2      Algeria   13434   76.50    39666519\n",
       "3      Andorra   46577   84.10       70473\n",
       "4       Angola    7615   61.00    25021974"
      ]
     },
     "execution_count": 57,
     "metadata": {},
     "output_type": "execute_result"
    }
   ],
   "source": [
    "gapminder = pd.read_csv(vega_data.gapminder_health_income.url)\n",
    "gapminder.head()"
   ]
  },
  {
   "cell_type": "markdown",
   "metadata": {
    "slideshow": {
     "slide_type": "slide"
    }
   },
   "source": [
    "Plot it with altair:"
   ]
  },
  {
   "cell_type": "code",
   "execution_count": 58,
   "metadata": {
    "slideshow": {
     "slide_type": "subslide"
    }
   },
   "outputs": [
    {
     "name": "stderr",
     "output_type": "stream",
     "text": [
      "/Users/delmelle/miniforge3/lib/python3.10/site-packages/altair/utils/core.py:384: FutureWarning: the convert_dtype parameter is deprecated and will be removed in a future version.  Do ``ser.astype(object).apply()`` instead if you want ``convert_dtype=False``.\n",
      "  col = df[col_name].apply(to_list_if_array, convert_dtype=False)\n"
     ]
    },
    {
     "data": {
      "text/html": [
       "\n",
       "<div id=\"altair-viz-d1114454ce7d4d508ef6a5bb988781b1\"></div>\n",
       "<script type=\"text/javascript\">\n",
       "  var VEGA_DEBUG = (typeof VEGA_DEBUG == \"undefined\") ? {} : VEGA_DEBUG;\n",
       "  (function(spec, embedOpt){\n",
       "    let outputDiv = document.currentScript.previousElementSibling;\n",
       "    if (outputDiv.id !== \"altair-viz-d1114454ce7d4d508ef6a5bb988781b1\") {\n",
       "      outputDiv = document.getElementById(\"altair-viz-d1114454ce7d4d508ef6a5bb988781b1\");\n",
       "    }\n",
       "    const paths = {\n",
       "      \"vega\": \"https://cdn.jsdelivr.net/npm//vega@5?noext\",\n",
       "      \"vega-lib\": \"https://cdn.jsdelivr.net/npm//vega-lib?noext\",\n",
       "      \"vega-lite\": \"https://cdn.jsdelivr.net/npm//vega-lite@4.17.0?noext\",\n",
       "      \"vega-embed\": \"https://cdn.jsdelivr.net/npm//vega-embed@6?noext\",\n",
       "    };\n",
       "\n",
       "    function maybeLoadScript(lib, version) {\n",
       "      var key = `${lib.replace(\"-\", \"\")}_version`;\n",
       "      return (VEGA_DEBUG[key] == version) ?\n",
       "        Promise.resolve(paths[lib]) :\n",
       "        new Promise(function(resolve, reject) {\n",
       "          var s = document.createElement('script');\n",
       "          document.getElementsByTagName(\"head\")[0].appendChild(s);\n",
       "          s.async = true;\n",
       "          s.onload = () => {\n",
       "            VEGA_DEBUG[key] = version;\n",
       "            return resolve(paths[lib]);\n",
       "          };\n",
       "          s.onerror = () => reject(`Error loading script: ${paths[lib]}`);\n",
       "          s.src = paths[lib];\n",
       "        });\n",
       "    }\n",
       "\n",
       "    function showError(err) {\n",
       "      outputDiv.innerHTML = `<div class=\"error\" style=\"color:red;\">${err}</div>`;\n",
       "      throw err;\n",
       "    }\n",
       "\n",
       "    function displayChart(vegaEmbed) {\n",
       "      vegaEmbed(outputDiv, spec, embedOpt)\n",
       "        .catch(err => showError(`Javascript Error: ${err.message}<br>This usually means there's a typo in your chart specification. See the javascript console for the full traceback.`));\n",
       "    }\n",
       "\n",
       "    if(typeof define === \"function\" && define.amd) {\n",
       "      requirejs.config({paths});\n",
       "      require([\"vega-embed\"], displayChart, err => showError(`Error loading script: ${err.message}`));\n",
       "    } else {\n",
       "      maybeLoadScript(\"vega\", \"5\")\n",
       "        .then(() => maybeLoadScript(\"vega-lite\", \"4.17.0\"))\n",
       "        .then(() => maybeLoadScript(\"vega-embed\", \"6\"))\n",
       "        .catch(showError)\n",
       "        .then(() => displayChart(vegaEmbed));\n",
       "    }\n",
       "  })({\"config\": {\"view\": {\"continuousWidth\": 400, \"continuousHeight\": 300}}, \"data\": {\"name\": \"data-7e3b7ef5d72a8470b0044710e8a24cca\"}, \"mark\": \"circle\", \"encoding\": {\"size\": {\"field\": \"population\", \"type\": \"quantitative\"}, \"tooltip\": [{\"field\": \"country\", \"type\": \"nominal\"}, {\"field\": \"income\", \"type\": \"quantitative\"}, {\"field\": \"health\", \"type\": \"quantitative\"}, {\"field\": \"population\", \"type\": \"quantitative\"}], \"x\": {\"field\": \"income\", \"scale\": {\"type\": \"log\"}, \"type\": \"quantitative\"}, \"y\": {\"field\": \"health\", \"scale\": {\"zero\": false}, \"type\": \"quantitative\"}}, \"height\": 600, \"selection\": {\"selector005\": {\"type\": \"interval\", \"bind\": \"scales\", \"encodings\": [\"x\", \"y\"]}}, \"width\": 800, \"$schema\": \"https://vega.github.io/schema/vega-lite/v4.17.0.json\", \"datasets\": {\"data-7e3b7ef5d72a8470b0044710e8a24cca\": [{\"country\": \"Afghanistan\", \"income\": 1925, \"health\": 57.63, \"population\": 32526562}, {\"country\": \"Albania\", \"income\": 10620, \"health\": 76.0, \"population\": 2896679}, {\"country\": \"Algeria\", \"income\": 13434, \"health\": 76.5, \"population\": 39666519}, {\"country\": \"Andorra\", \"income\": 46577, \"health\": 84.1, \"population\": 70473}, {\"country\": \"Angola\", \"income\": 7615, \"health\": 61.0, \"population\": 25021974}, {\"country\": \"Antigua and Barbuda\", \"income\": 21049, \"health\": 75.2, \"population\": 91818}, {\"country\": \"Argentina\", \"income\": 17344, \"health\": 76.2, \"population\": 43416755}, {\"country\": \"Armenia\", \"income\": 7763, \"health\": 74.4, \"population\": 3017712}, {\"country\": \"Australia\", \"income\": 44056, \"health\": 81.8, \"population\": 23968973}, {\"country\": \"Austria\", \"income\": 44401, \"health\": 81.0, \"population\": 8544586}, {\"country\": \"Azerbaijan\", \"income\": 16986, \"health\": 72.9, \"population\": 9753968}, {\"country\": \"Bahamas\", \"income\": 22818, \"health\": 72.3, \"population\": 388019}, {\"country\": \"Bahrain\", \"income\": 44138, \"health\": 79.2, \"population\": 1377237}, {\"country\": \"Bangladesh\", \"income\": 3161, \"health\": 70.1, \"population\": 160995642}, {\"country\": \"Barbados\", \"income\": 12984, \"health\": 75.8, \"population\": 284215}, {\"country\": \"Belarus\", \"income\": 17415, \"health\": 70.4, \"population\": 9495826}, {\"country\": \"Belgium\", \"income\": 41240, \"health\": 80.4, \"population\": 11299192}, {\"country\": \"Belize\", \"income\": 8501, \"health\": 70.0, \"population\": 359287}, {\"country\": \"Benin\", \"income\": 1830, \"health\": 65.5, \"population\": 10879829}, {\"country\": \"Bhutan\", \"income\": 7983, \"health\": 70.2, \"population\": 774830}, {\"country\": \"Bolivia\", \"income\": 6295, \"health\": 72.3, \"population\": 10724705}, {\"country\": \"Bosnia and Herzegovina\", \"income\": 9833, \"health\": 77.9, \"population\": 3810416}, {\"country\": \"Botswana\", \"income\": 17196, \"health\": 66.4, \"population\": 2262485}, {\"country\": \"Brazil\", \"income\": 15441, \"health\": 75.6, \"population\": 207847528}, {\"country\": \"Brunei\", \"income\": 73003, \"health\": 78.7, \"population\": 423188}, {\"country\": \"Bulgaria\", \"income\": 16371, \"health\": 74.9, \"population\": 7149787}, {\"country\": \"Burkina Faso\", \"income\": 1654, \"health\": 62.8, \"population\": 18105570}, {\"country\": \"Burundi\", \"income\": 777, \"health\": 60.4, \"population\": 11178921}, {\"country\": \"Cambodia\", \"income\": 3267, \"health\": 68.4, \"population\": 15577899}, {\"country\": \"Cameroon\", \"income\": 2897, \"health\": 59.5, \"population\": 23344179}, {\"country\": \"Canada\", \"income\": 43294, \"health\": 81.7, \"population\": 35939927}, {\"country\": \"Cape Verde\", \"income\": 6514, \"health\": 74.6, \"population\": 520502}, {\"country\": \"Central African Republic\", \"income\": 599, \"health\": 53.8, \"population\": 4900274}, {\"country\": \"Chad\", \"income\": 2191, \"health\": 57.7, \"population\": 14037472}, {\"country\": \"Chile\", \"income\": 22465, \"health\": 79.3, \"population\": 17948141}, {\"country\": \"China\", \"income\": 13334, \"health\": 76.9, \"population\": 1376048943}, {\"country\": \"Colombia\", \"income\": 12761, \"health\": 75.8, \"population\": 48228704}, {\"country\": \"Comoros\", \"income\": 1472, \"health\": 64.1, \"population\": 788474}, {\"country\": \"Congo, Dem. Rep.\", \"income\": 809, \"health\": 58.3, \"population\": 77266814}, {\"country\": \"Congo, Rep.\", \"income\": 6220, \"health\": 61.9, \"population\": 4620330}, {\"country\": \"Costa Rica\", \"income\": 14132, \"health\": 80.0, \"population\": 4807850}, {\"country\": \"Cote d'Ivoire\", \"income\": 3491, \"health\": 60.33, \"population\": 22701556}, {\"country\": \"Croatia\", \"income\": 20260, \"health\": 78.0, \"population\": 4240317}, {\"country\": \"Cuba\", \"income\": 21291, \"health\": 78.5, \"population\": 11389562}, {\"country\": \"Cyprus\", \"income\": 29797, \"health\": 82.6, \"population\": 1165300}, {\"country\": \"Czech Republic\", \"income\": 29437, \"health\": 78.6, \"population\": 10543186}, {\"country\": \"Denmark\", \"income\": 43495, \"health\": 80.1, \"population\": 5669081}, {\"country\": \"Djibouti\", \"income\": 3139, \"health\": 64.63, \"population\": 887861}, {\"country\": \"Dominica\", \"income\": 10503, \"health\": 74.6, \"population\": 72680}, {\"country\": \"Dominican Republic\", \"income\": 12837, \"health\": 73.8, \"population\": 10528391}, {\"country\": \"Ecuador\", \"income\": 10996, \"health\": 75.2, \"population\": 16144363}, {\"country\": \"Egypt\", \"income\": 11031, \"health\": 71.3, \"population\": 91508084}, {\"country\": \"El Salvador\", \"income\": 7776, \"health\": 74.1, \"population\": 6126583}, {\"country\": \"Equatorial Guinea\", \"income\": 31087, \"health\": 60.63, \"population\": 845060}, {\"country\": \"Eritrea\", \"income\": 1129, \"health\": 62.9, \"population\": 5227791}, {\"country\": \"Estonia\", \"income\": 26812, \"health\": 76.8, \"population\": 1312558}, {\"country\": \"Ethiopia\", \"income\": 1520, \"health\": 63.6, \"population\": 99390750}, {\"country\": \"Fiji\", \"income\": 7925, \"health\": 66.3, \"population\": 892145}, {\"country\": \"Finland\", \"income\": 38923, \"health\": 80.8, \"population\": 5503457}, {\"country\": \"France\", \"income\": 37599, \"health\": 81.9, \"population\": 64395345}, {\"country\": \"Gabon\", \"income\": 18627, \"health\": 60.53, \"population\": 1725292}, {\"country\": \"Gambia\", \"income\": 1644, \"health\": 65.1, \"population\": 1990924}, {\"country\": \"Georgia\", \"income\": 7474, \"health\": 73.3, \"population\": 3999812}, {\"country\": \"Germany\", \"income\": 44053, \"health\": 81.1, \"population\": 80688545}, {\"country\": \"Ghana\", \"income\": 4099, \"health\": 65.5, \"population\": 27409893}, {\"country\": \"Greece\", \"income\": 25430, \"health\": 79.8, \"population\": 10954617}, {\"country\": \"Grenada\", \"income\": 11593, \"health\": 71.7, \"population\": 106825}, {\"country\": \"Guatemala\", \"income\": 7279, \"health\": 73.1, \"population\": 16342897}, {\"country\": \"Guinea\", \"income\": 1225, \"health\": 60.8, \"population\": 12608590}, {\"country\": \"Guinea-Bissau\", \"income\": 1386, \"health\": 53.4, \"population\": 1844325}, {\"country\": \"Guyana\", \"income\": 6816, \"health\": 64.4, \"population\": 767085}, {\"country\": \"Haiti\", \"income\": 1710, \"health\": 65.3, \"population\": 10711067}, {\"country\": \"Honduras\", \"income\": 4270, \"health\": 72.4, \"population\": 8075060}, {\"country\": \"Hungary\", \"income\": 24200, \"health\": 76.2, \"population\": 9855023}, {\"country\": \"Iceland\", \"income\": 42182, \"health\": 82.8, \"population\": 329425}, {\"country\": \"India\", \"income\": 5903, \"health\": 66.8, \"population\": 1311050527}, {\"country\": \"Indonesia\", \"income\": 10504, \"health\": 70.9, \"population\": 257563815}, {\"country\": \"Iran\", \"income\": 15573, \"health\": 78.5, \"population\": 79109272}, {\"country\": \"Iraq\", \"income\": 14646, \"health\": 72.1, \"population\": 36423395}, {\"country\": \"Ireland\", \"income\": 47758, \"health\": 80.4, \"population\": 4688465}, {\"country\": \"Israel\", \"income\": 31590, \"health\": 82.4, \"population\": 8064036}, {\"country\": \"Italy\", \"income\": 33297, \"health\": 82.1, \"population\": 59797685}, {\"country\": \"Jamaica\", \"income\": 8606, \"health\": 75.5, \"population\": 2793335}, {\"country\": \"Japan\", \"income\": 36162, \"health\": 83.5, \"population\": 126573481}, {\"country\": \"Jordan\", \"income\": 11752, \"health\": 78.3, \"population\": 7594547}, {\"country\": \"Kazakhstan\", \"income\": 23468, \"health\": 68.2, \"population\": 17625226}, {\"country\": \"Kenya\", \"income\": 2898, \"health\": 66.63, \"population\": 46050302}, {\"country\": \"Kiribati\", \"income\": 1824, \"health\": 62.4, \"population\": 112423}, {\"country\": \"Kuwait\", \"income\": 82633, \"health\": 80.7, \"population\": 3892115}, {\"country\": \"Kyrgyz Republic\", \"income\": 3245, \"health\": 69.0, \"population\": 5939962}, {\"country\": \"Lao\", \"income\": 5212, \"health\": 66.4, \"population\": 6802023}, {\"country\": \"Latvia\", \"income\": 23282, \"health\": 75.7, \"population\": 1970503}, {\"country\": \"Lebanon\", \"income\": 17050, \"health\": 78.5, \"population\": 5850743}, {\"country\": \"Lesotho\", \"income\": 2598, \"health\": 48.5, \"population\": 2135022}, {\"country\": \"Liberia\", \"income\": 958, \"health\": 63.9, \"population\": 4503438}, {\"country\": \"Libya\", \"income\": 17261, \"health\": 76.2, \"population\": 6278438}, {\"country\": \"Lithuania\", \"income\": 26665, \"health\": 75.4, \"population\": 2878405}, {\"country\": \"Luxembourg\", \"income\": 88314, \"health\": 81.1, \"population\": 567110}, {\"country\": \"Macedonia, FYR\", \"income\": 12547, \"health\": 77.0, \"population\": 2078453}, {\"country\": \"Madagascar\", \"income\": 1400, \"health\": 64.7, \"population\": 24235390}, {\"country\": \"Malawi\", \"income\": 799, \"health\": 60.22, \"population\": 17215232}, {\"country\": \"Malaysia\", \"income\": 24320, \"health\": 75.1, \"population\": 30331007}, {\"country\": \"Maldives\", \"income\": 14408, \"health\": 79.5, \"population\": 363657}, {\"country\": \"Mali\", \"income\": 1684, \"health\": 57.6, \"population\": 17599694}, {\"country\": \"Malta\", \"income\": 30265, \"health\": 82.1, \"population\": 418670}, {\"country\": \"Marshall Islands\", \"income\": 3661, \"health\": 65.1, \"population\": 52993}, {\"country\": \"Mauritania\", \"income\": 3877, \"health\": 65.7, \"population\": 4067564}, {\"country\": \"Mauritius\", \"income\": 18350, \"health\": 73.9, \"population\": 1273212}, {\"country\": \"Mexico\", \"income\": 16850, \"health\": 74.5, \"population\": 127017224}, {\"country\": \"Micronesia, Fed. Sts.\", \"income\": 3510, \"health\": 67.0, \"population\": 104460}, {\"country\": \"Moldova\", \"income\": 4896, \"health\": 72.7, \"population\": 4068897}, {\"country\": \"Mongolia\", \"income\": 11819, \"health\": 65.3, \"population\": 2959134}, {\"country\": \"Montenegro\", \"income\": 14833, \"health\": 75.8, \"population\": 625781}, {\"country\": \"Morocco\", \"income\": 7319, \"health\": 74.7, \"population\": 34377511}, {\"country\": \"Mozambique\", \"income\": 1176, \"health\": 56.4, \"population\": 27977863}, {\"country\": \"Myanmar\", \"income\": 4012, \"health\": 67.9, \"population\": 53897154}, {\"country\": \"Namibia\", \"income\": 10040, \"health\": 61.0, \"population\": 2458830}, {\"country\": \"Nepal\", \"income\": 2352, \"health\": 71.2, \"population\": 28513700}, {\"country\": \"Netherlands\", \"income\": 45784, \"health\": 80.6, \"population\": 16924929}, {\"country\": \"New Zealand\", \"income\": 34186, \"health\": 80.6, \"population\": 4528526}, {\"country\": \"Nicaragua\", \"income\": 4712, \"health\": 76.8, \"population\": 6082032}, {\"country\": \"Niger\", \"income\": 943, \"health\": 62.2, \"population\": 19899120}, {\"country\": \"Nigeria\", \"income\": 5727, \"health\": 61.33, \"population\": 182201962}, {\"country\": \"North Korea\", \"income\": 1390, \"health\": 71.4, \"population\": 25155317}, {\"country\": \"Norway\", \"income\": 64304, \"health\": 81.6, \"population\": 5210967}, {\"country\": \"Oman\", \"income\": 48226, \"health\": 75.7, \"population\": 4490541}, {\"country\": \"Pakistan\", \"income\": 4743, \"health\": 66.5, \"population\": 188924874}, {\"country\": \"Panama\", \"income\": 20485, \"health\": 78.2, \"population\": 3929141}, {\"country\": \"Papua New Guinea\", \"income\": 2529, \"health\": 60.6, \"population\": 7619321}, {\"country\": \"Paraguay\", \"income\": 8219, \"health\": 73.9, \"population\": 6639123}, {\"country\": \"Peru\", \"income\": 11903, \"health\": 77.5, \"population\": 31376670}, {\"country\": \"Philippines\", \"income\": 6876, \"health\": 70.2, \"population\": 100699395}, {\"country\": \"Poland\", \"income\": 24787, \"health\": 77.3, \"population\": 38611794}, {\"country\": \"Portugal\", \"income\": 26437, \"health\": 79.8, \"population\": 10349803}, {\"country\": \"Qatar\", \"income\": 132877, \"health\": 82.0, \"population\": 2235355}, {\"country\": \"Romania\", \"income\": 19203, \"health\": 76.8, \"population\": 19511324}, {\"country\": \"Russia\", \"income\": 23038, \"health\": 73.13, \"population\": 143456918}, {\"country\": \"Rwanda\", \"income\": 1549, \"health\": 66.53, \"population\": 11609666}, {\"country\": \"Samoa\", \"income\": 5558, \"health\": 72.2, \"population\": 193228}, {\"country\": \"Sao Tome and Principe\", \"income\": 3003, \"health\": 68.8, \"population\": 190344}, {\"country\": \"Saudi Arabia\", \"income\": 52469, \"health\": 78.1, \"population\": 31540372}, {\"country\": \"Senegal\", \"income\": 2251, \"health\": 66.1, \"population\": 15129273}, {\"country\": \"Serbia\", \"income\": 12908, \"health\": 78.1, \"population\": 8850975}, {\"country\": \"Seychelles\", \"income\": 25684, \"health\": 73.7, \"population\": 96471}, {\"country\": \"Sierra Leone\", \"income\": 2085, \"health\": 58.5, \"population\": 6453184}, {\"country\": \"Singapore\", \"income\": 80794, \"health\": 82.1, \"population\": 5603740}, {\"country\": \"Slovak Republic\", \"income\": 27204, \"health\": 76.4, \"population\": 5426258}, {\"country\": \"Slovenia\", \"income\": 28550, \"health\": 80.2, \"population\": 2067526}, {\"country\": \"Solomon Islands\", \"income\": 2047, \"health\": 64.1, \"population\": 583591}, {\"country\": \"Somalia\", \"income\": 624, \"health\": 58.7, \"population\": 10787104}, {\"country\": \"South Africa\", \"income\": 12509, \"health\": 63.72, \"population\": 54490406}, {\"country\": \"South Korea\", \"income\": 34644, \"health\": 80.7, \"population\": 50293439}, {\"country\": \"South Sudan\", \"income\": 3047, \"health\": 58.0, \"population\": 12339812}, {\"country\": \"Spain\", \"income\": 32979, \"health\": 81.7, \"population\": 46121699}, {\"country\": \"Sri Lanka\", \"income\": 10624, \"health\": 76.5, \"population\": 20715010}, {\"country\": \"St. Lucia\", \"income\": 9997, \"health\": 74.5, \"population\": 184999}, {\"country\": \"St. Vincent and the Grenadines\", \"income\": 10435, \"health\": 72.9, \"population\": 109462}, {\"country\": \"Sudan\", \"income\": 3975, \"health\": 69.5, \"population\": 40234882}, {\"country\": \"Suriname\", \"income\": 17125, \"health\": 70.5, \"population\": 542975}, {\"country\": \"Swaziland\", \"income\": 6095, \"health\": 51.5, \"population\": 1286970}, {\"country\": \"Sweden\", \"income\": 44892, \"health\": 82.0, \"population\": 9779426}, {\"country\": \"Switzerland\", \"income\": 56118, \"health\": 82.9, \"population\": 8298663}, {\"country\": \"Syria\", \"income\": 4637, \"health\": 70.26, \"population\": 18502413}, {\"country\": \"Tajikistan\", \"income\": 2582, \"health\": 71.0, \"population\": 8481855}, {\"country\": \"Tanzania\", \"income\": 2571, \"health\": 63.43, \"population\": 53470420}, {\"country\": \"Thailand\", \"income\": 14512, \"health\": 75.1, \"population\": 67959359}, {\"country\": \"Timor-Leste\", \"income\": 2086, \"health\": 72.4, \"population\": 1184765}, {\"country\": \"Togo\", \"income\": 1433, \"health\": 64.23, \"population\": 7304578}, {\"country\": \"Tonga\", \"income\": 5069, \"health\": 70.5, \"population\": 106170}, {\"country\": \"Trinidad and Tobago\", \"income\": 30113, \"health\": 71.4, \"population\": 1360088}, {\"country\": \"Tunisia\", \"income\": 11126, \"health\": 77.3, \"population\": 11253554}, {\"country\": \"Turkey\", \"income\": 19360, \"health\": 76.5, \"population\": 78665830}, {\"country\": \"Turkmenistan\", \"income\": 15865, \"health\": 67.9, \"population\": 5373502}, {\"country\": \"Uganda\", \"income\": 1680, \"health\": 60.8, \"population\": 39032383}, {\"country\": \"Ukraine\", \"income\": 8449, \"health\": 72.1, \"population\": 44823765}, {\"country\": \"United Arab Emirates\", \"income\": 60749, \"health\": 76.6, \"population\": 9156963}, {\"country\": \"United Kingdom\", \"income\": 38225, \"health\": 81.4, \"population\": 64715810}, {\"country\": \"United States\", \"income\": 53354, \"health\": 79.1, \"population\": 321773631}, {\"country\": \"Uruguay\", \"income\": 20438, \"health\": 77.3, \"population\": 3431555}, {\"country\": \"Uzbekistan\", \"income\": 5598, \"health\": 70.1, \"population\": 29893488}, {\"country\": \"Vanuatu\", \"income\": 2912, \"health\": 65.0, \"population\": 264652}, {\"country\": \"Venezuela\", \"income\": 15753, \"health\": 75.8, \"population\": 31108083}, {\"country\": \"Vietnam\", \"income\": 5623, \"health\": 76.5, \"population\": 93447601}, {\"country\": \"West Bank and Gaza\", \"income\": 4319, \"health\": 75.2, \"population\": 4668466}, {\"country\": \"Yemen\", \"income\": 3887, \"health\": 67.6, \"population\": 26832215}, {\"country\": \"Zambia\", \"income\": 4034, \"health\": 58.96, \"population\": 16211767}, {\"country\": \"Zimbabwe\", \"income\": 1801, \"health\": 60.01, \"population\": 15602751}]}}, {\"mode\": \"vega-lite\"});\n",
       "</script>"
      ],
      "text/plain": [
       "alt.Chart(...)"
      ]
     },
     "execution_count": 58,
     "metadata": {},
     "output_type": "execute_result"
    }
   ],
   "source": [
    "(\n",
    "    alt.Chart(gapminder)\n",
    "    .mark_circle()\n",
    "    .encode(\n",
    "        alt.X(\"income:Q\", scale=alt.Scale(type=\"log\")),\n",
    "        alt.Y(\"health:Q\", scale=alt.Scale(zero=False)),\n",
    "        size=\"population:Q\",\n",
    "        tooltip=list(gapminder.columns),\n",
    "    )\n",
    "    .properties(width=800, height=600)\n",
    "    .interactive()\n",
    ")"
   ]
  },
  {
   "cell_type": "markdown",
   "metadata": {
    "slideshow": {
     "slide_type": "slide"
    }
   },
   "source": [
    "#### K-Means with scikit-learn"
   ]
  },
  {
   "cell_type": "code",
   "execution_count": 59,
   "metadata": {
    "slideshow": {
     "slide_type": "fragment"
    }
   },
   "outputs": [],
   "source": [
    "from sklearn.cluster import KMeans"
   ]
  },
  {
   "cell_type": "markdown",
   "metadata": {
    "slideshow": {
     "slide_type": "slide"
    }
   },
   "source": [
    "Let's start with 5 clusters"
   ]
  },
  {
   "cell_type": "code",
   "execution_count": 6,
   "metadata": {
    "tags": []
   },
   "outputs": [
    {
     "data": {
      "text/plain": [
       "\u001b[0;31mInit signature:\u001b[0m\n",
       "\u001b[0mKMeans\u001b[0m\u001b[0;34m(\u001b[0m\u001b[0;34m\u001b[0m\n",
       "\u001b[0;34m\u001b[0m    \u001b[0mn_clusters\u001b[0m\u001b[0;34m=\u001b[0m\u001b[0;36m8\u001b[0m\u001b[0;34m,\u001b[0m\u001b[0;34m\u001b[0m\n",
       "\u001b[0;34m\u001b[0m    \u001b[0;34m*\u001b[0m\u001b[0;34m,\u001b[0m\u001b[0;34m\u001b[0m\n",
       "\u001b[0;34m\u001b[0m    \u001b[0minit\u001b[0m\u001b[0;34m=\u001b[0m\u001b[0;34m'k-means++'\u001b[0m\u001b[0;34m,\u001b[0m\u001b[0;34m\u001b[0m\n",
       "\u001b[0;34m\u001b[0m    \u001b[0mn_init\u001b[0m\u001b[0;34m=\u001b[0m\u001b[0;34m'warn'\u001b[0m\u001b[0;34m,\u001b[0m\u001b[0;34m\u001b[0m\n",
       "\u001b[0;34m\u001b[0m    \u001b[0mmax_iter\u001b[0m\u001b[0;34m=\u001b[0m\u001b[0;36m300\u001b[0m\u001b[0;34m,\u001b[0m\u001b[0;34m\u001b[0m\n",
       "\u001b[0;34m\u001b[0m    \u001b[0mtol\u001b[0m\u001b[0;34m=\u001b[0m\u001b[0;36m0.0001\u001b[0m\u001b[0;34m,\u001b[0m\u001b[0;34m\u001b[0m\n",
       "\u001b[0;34m\u001b[0m    \u001b[0mverbose\u001b[0m\u001b[0;34m=\u001b[0m\u001b[0;36m0\u001b[0m\u001b[0;34m,\u001b[0m\u001b[0;34m\u001b[0m\n",
       "\u001b[0;34m\u001b[0m    \u001b[0mrandom_state\u001b[0m\u001b[0;34m=\u001b[0m\u001b[0;32mNone\u001b[0m\u001b[0;34m,\u001b[0m\u001b[0;34m\u001b[0m\n",
       "\u001b[0;34m\u001b[0m    \u001b[0mcopy_x\u001b[0m\u001b[0;34m=\u001b[0m\u001b[0;32mTrue\u001b[0m\u001b[0;34m,\u001b[0m\u001b[0;34m\u001b[0m\n",
       "\u001b[0;34m\u001b[0m    \u001b[0malgorithm\u001b[0m\u001b[0;34m=\u001b[0m\u001b[0;34m'lloyd'\u001b[0m\u001b[0;34m,\u001b[0m\u001b[0;34m\u001b[0m\n",
       "\u001b[0;34m\u001b[0m\u001b[0;34m)\u001b[0m\u001b[0;34m\u001b[0m\u001b[0;34m\u001b[0m\u001b[0m\n",
       "\u001b[0;31mDocstring:\u001b[0m     \n",
       "K-Means clustering.\n",
       "\n",
       "Read more in the :ref:`User Guide <k_means>`.\n",
       "\n",
       "Parameters\n",
       "----------\n",
       "\n",
       "n_clusters : int, default=8\n",
       "    The number of clusters to form as well as the number of\n",
       "    centroids to generate.\n",
       "\n",
       "init : {'k-means++', 'random'}, callable or array-like of shape             (n_clusters, n_features), default='k-means++'\n",
       "    Method for initialization:\n",
       "\n",
       "    'k-means++' : selects initial cluster centroids using sampling based on\n",
       "    an empirical probability distribution of the points' contribution to the\n",
       "    overall inertia. This technique speeds up convergence. The algorithm\n",
       "    implemented is \"greedy k-means++\". It differs from the vanilla k-means++\n",
       "    by making several trials at each sampling step and choosing the best centroid\n",
       "    among them.\n",
       "\n",
       "    'random': choose `n_clusters` observations (rows) at random from data\n",
       "    for the initial centroids.\n",
       "\n",
       "    If an array is passed, it should be of shape (n_clusters, n_features)\n",
       "    and gives the initial centers.\n",
       "\n",
       "    If a callable is passed, it should take arguments X, n_clusters and a\n",
       "    random state and return an initialization.\n",
       "\n",
       "n_init : 'auto' or int, default=10\n",
       "    Number of times the k-means algorithm is run with different centroid\n",
       "    seeds. The final results is the best output of `n_init` consecutive runs\n",
       "    in terms of inertia. Several runs are recommended for sparse\n",
       "    high-dimensional problems (see :ref:`kmeans_sparse_high_dim`).\n",
       "\n",
       "    When `n_init='auto'`, the number of runs depends on the value of init:\n",
       "    10 if using `init='random'` or `init` is a callable;\n",
       "    1 if using `init='k-means++'` or `init` is an array-like.\n",
       "\n",
       "    .. versionadded:: 1.2\n",
       "       Added 'auto' option for `n_init`.\n",
       "\n",
       "    .. versionchanged:: 1.4\n",
       "       Default value for `n_init` will change from 10 to `'auto'` in version 1.4.\n",
       "\n",
       "max_iter : int, default=300\n",
       "    Maximum number of iterations of the k-means algorithm for a\n",
       "    single run.\n",
       "\n",
       "tol : float, default=1e-4\n",
       "    Relative tolerance with regards to Frobenius norm of the difference\n",
       "    in the cluster centers of two consecutive iterations to declare\n",
       "    convergence.\n",
       "\n",
       "verbose : int, default=0\n",
       "    Verbosity mode.\n",
       "\n",
       "random_state : int, RandomState instance or None, default=None\n",
       "    Determines random number generation for centroid initialization. Use\n",
       "    an int to make the randomness deterministic.\n",
       "    See :term:`Glossary <random_state>`.\n",
       "\n",
       "copy_x : bool, default=True\n",
       "    When pre-computing distances it is more numerically accurate to center\n",
       "    the data first. If copy_x is True (default), then the original data is\n",
       "    not modified. If False, the original data is modified, and put back\n",
       "    before the function returns, but small numerical differences may be\n",
       "    introduced by subtracting and then adding the data mean. Note that if\n",
       "    the original data is not C-contiguous, a copy will be made even if\n",
       "    copy_x is False. If the original data is sparse, but not in CSR format,\n",
       "    a copy will be made even if copy_x is False.\n",
       "\n",
       "algorithm : {\"lloyd\", \"elkan\", \"auto\", \"full\"}, default=\"lloyd\"\n",
       "    K-means algorithm to use. The classical EM-style algorithm is `\"lloyd\"`.\n",
       "    The `\"elkan\"` variation can be more efficient on some datasets with\n",
       "    well-defined clusters, by using the triangle inequality. However it's\n",
       "    more memory intensive due to the allocation of an extra array of shape\n",
       "    `(n_samples, n_clusters)`.\n",
       "\n",
       "    `\"auto\"` and `\"full\"` are deprecated and they will be removed in\n",
       "    Scikit-Learn 1.3. They are both aliases for `\"lloyd\"`.\n",
       "\n",
       "    .. versionchanged:: 0.18\n",
       "        Added Elkan algorithm\n",
       "\n",
       "    .. versionchanged:: 1.1\n",
       "        Renamed \"full\" to \"lloyd\", and deprecated \"auto\" and \"full\".\n",
       "        Changed \"auto\" to use \"lloyd\" instead of \"elkan\".\n",
       "\n",
       "Attributes\n",
       "----------\n",
       "cluster_centers_ : ndarray of shape (n_clusters, n_features)\n",
       "    Coordinates of cluster centers. If the algorithm stops before fully\n",
       "    converging (see ``tol`` and ``max_iter``), these will not be\n",
       "    consistent with ``labels_``.\n",
       "\n",
       "labels_ : ndarray of shape (n_samples,)\n",
       "    Labels of each point\n",
       "\n",
       "inertia_ : float\n",
       "    Sum of squared distances of samples to their closest cluster center,\n",
       "    weighted by the sample weights if provided.\n",
       "\n",
       "n_iter_ : int\n",
       "    Number of iterations run.\n",
       "\n",
       "n_features_in_ : int\n",
       "    Number of features seen during :term:`fit`.\n",
       "\n",
       "    .. versionadded:: 0.24\n",
       "\n",
       "feature_names_in_ : ndarray of shape (`n_features_in_`,)\n",
       "    Names of features seen during :term:`fit`. Defined only when `X`\n",
       "    has feature names that are all strings.\n",
       "\n",
       "    .. versionadded:: 1.0\n",
       "\n",
       "See Also\n",
       "--------\n",
       "MiniBatchKMeans : Alternative online implementation that does incremental\n",
       "    updates of the centers positions using mini-batches.\n",
       "    For large scale learning (say n_samples > 10k) MiniBatchKMeans is\n",
       "    probably much faster than the default batch implementation.\n",
       "\n",
       "Notes\n",
       "-----\n",
       "The k-means problem is solved using either Lloyd's or Elkan's algorithm.\n",
       "\n",
       "The average complexity is given by O(k n T), where n is the number of\n",
       "samples and T is the number of iteration.\n",
       "\n",
       "The worst case complexity is given by O(n^(k+2/p)) with\n",
       "n = n_samples, p = n_features.\n",
       "Refer to :doi:`\"How slow is the k-means method?\" D. Arthur and S. Vassilvitskii -\n",
       "SoCG2006.<10.1145/1137856.1137880>` for more details.\n",
       "\n",
       "In practice, the k-means algorithm is very fast (one of the fastest\n",
       "clustering algorithms available), but it falls in local minima. That's why\n",
       "it can be useful to restart it several times.\n",
       "\n",
       "If the algorithm stops before fully converging (because of ``tol`` or\n",
       "``max_iter``), ``labels_`` and ``cluster_centers_`` will not be consistent,\n",
       "i.e. the ``cluster_centers_`` will not be the means of the points in each\n",
       "cluster. Also, the estimator will reassign ``labels_`` after the last\n",
       "iteration to make ``labels_`` consistent with ``predict`` on the training\n",
       "set.\n",
       "\n",
       "Examples\n",
       "--------\n",
       "\n",
       ">>> from sklearn.cluster import KMeans\n",
       ">>> import numpy as np\n",
       ">>> X = np.array([[1, 2], [1, 4], [1, 0],\n",
       "...               [10, 2], [10, 4], [10, 0]])\n",
       ">>> kmeans = KMeans(n_clusters=2, random_state=0, n_init=\"auto\").fit(X)\n",
       ">>> kmeans.labels_\n",
       "array([1, 1, 1, 0, 0, 0], dtype=int32)\n",
       ">>> kmeans.predict([[0, 0], [12, 3]])\n",
       "array([1, 0], dtype=int32)\n",
       ">>> kmeans.cluster_centers_\n",
       "array([[10.,  2.],\n",
       "       [ 1.,  2.]])\n",
       "\u001b[0;31mFile:\u001b[0m           ~/mambaforge/envs/musa-550-fall-2023/lib/python3.10/site-packages/sklearn/cluster/_kmeans.py\n",
       "\u001b[0;31mType:\u001b[0m           ABCMeta\n",
       "\u001b[0;31mSubclasses:\u001b[0m     "
      ]
     },
     "metadata": {},
     "output_type": "display_data"
    }
   ],
   "source": [
    "KMeans?"
   ]
  },
  {
   "cell_type": "code",
   "execution_count": 60,
   "metadata": {
    "slideshow": {
     "slide_type": "subslide"
    }
   },
   "outputs": [],
   "source": [
    "kmeans = KMeans(n_clusters=5, n_init=10)"
   ]
  },
  {
   "cell_type": "markdown",
   "metadata": {
    "slideshow": {
     "slide_type": "subslide"
    }
   },
   "source": [
    "Lot's of optional parameters, but `n_clusters` is the most important:"
   ]
  },
  {
   "cell_type": "markdown",
   "metadata": {
    "slideshow": {
     "slide_type": "slide"
    }
   },
   "source": [
    "#### Let's fit just income first\n",
    "\n",
    "Use the `fit()` function"
   ]
  },
  {
   "cell_type": "code",
   "execution_count": 61,
   "metadata": {
    "slideshow": {
     "slide_type": "fragment"
    }
   },
   "outputs": [],
   "source": [
    "kmeans.fit(gapminder[['income']]);"
   ]
  },
  {
   "cell_type": "markdown",
   "metadata": {
    "slideshow": {
     "slide_type": "slide"
    }
   },
   "source": [
    "#### Extract the cluster labels\n",
    "\n",
    "Use the `labels_` attribute"
   ]
  },
  {
   "cell_type": "code",
   "execution_count": 62,
   "metadata": {
    "slideshow": {
     "slide_type": "fragment"
    }
   },
   "outputs": [],
   "source": [
    "gapminder['label'] = kmeans.labels_"
   ]
  },
  {
   "cell_type": "markdown",
   "metadata": {
    "slideshow": {
     "slide_type": "slide"
    }
   },
   "source": [
    "#### How big are our clusters?"
   ]
  },
  {
   "cell_type": "code",
   "execution_count": 63,
   "metadata": {
    "slideshow": {
     "slide_type": "fragment"
    }
   },
   "outputs": [
    {
     "data": {
      "text/plain": [
       "label\n",
       "0    106\n",
       "1      6\n",
       "2     50\n",
       "3      1\n",
       "4     24\n",
       "dtype: int64"
      ]
     },
     "execution_count": 63,
     "metadata": {},
     "output_type": "execute_result"
    }
   ],
   "source": [
    "gapminder.groupby('label').size()"
   ]
  },
  {
   "cell_type": "markdown",
   "metadata": {
    "slideshow": {
     "slide_type": "slide"
    }
   },
   "source": [
    "#### Plot it again, coloring by our labels"
   ]
  },
  {
   "cell_type": "code",
   "execution_count": 64,
   "metadata": {
    "slideshow": {
     "slide_type": "subslide"
    }
   },
   "outputs": [
    {
     "name": "stderr",
     "output_type": "stream",
     "text": [
      "/Users/delmelle/miniforge3/lib/python3.10/site-packages/altair/utils/core.py:384: FutureWarning: the convert_dtype parameter is deprecated and will be removed in a future version.  Do ``ser.astype(object).apply()`` instead if you want ``convert_dtype=False``.\n",
      "  col = df[col_name].apply(to_list_if_array, convert_dtype=False)\n"
     ]
    },
    {
     "data": {
      "text/html": [
       "\n",
       "<div id=\"altair-viz-a40dc73fb4ab487d86ddb714eab48f10\"></div>\n",
       "<script type=\"text/javascript\">\n",
       "  var VEGA_DEBUG = (typeof VEGA_DEBUG == \"undefined\") ? {} : VEGA_DEBUG;\n",
       "  (function(spec, embedOpt){\n",
       "    let outputDiv = document.currentScript.previousElementSibling;\n",
       "    if (outputDiv.id !== \"altair-viz-a40dc73fb4ab487d86ddb714eab48f10\") {\n",
       "      outputDiv = document.getElementById(\"altair-viz-a40dc73fb4ab487d86ddb714eab48f10\");\n",
       "    }\n",
       "    const paths = {\n",
       "      \"vega\": \"https://cdn.jsdelivr.net/npm//vega@5?noext\",\n",
       "      \"vega-lib\": \"https://cdn.jsdelivr.net/npm//vega-lib?noext\",\n",
       "      \"vega-lite\": \"https://cdn.jsdelivr.net/npm//vega-lite@4.17.0?noext\",\n",
       "      \"vega-embed\": \"https://cdn.jsdelivr.net/npm//vega-embed@6?noext\",\n",
       "    };\n",
       "\n",
       "    function maybeLoadScript(lib, version) {\n",
       "      var key = `${lib.replace(\"-\", \"\")}_version`;\n",
       "      return (VEGA_DEBUG[key] == version) ?\n",
       "        Promise.resolve(paths[lib]) :\n",
       "        new Promise(function(resolve, reject) {\n",
       "          var s = document.createElement('script');\n",
       "          document.getElementsByTagName(\"head\")[0].appendChild(s);\n",
       "          s.async = true;\n",
       "          s.onload = () => {\n",
       "            VEGA_DEBUG[key] = version;\n",
       "            return resolve(paths[lib]);\n",
       "          };\n",
       "          s.onerror = () => reject(`Error loading script: ${paths[lib]}`);\n",
       "          s.src = paths[lib];\n",
       "        });\n",
       "    }\n",
       "\n",
       "    function showError(err) {\n",
       "      outputDiv.innerHTML = `<div class=\"error\" style=\"color:red;\">${err}</div>`;\n",
       "      throw err;\n",
       "    }\n",
       "\n",
       "    function displayChart(vegaEmbed) {\n",
       "      vegaEmbed(outputDiv, spec, embedOpt)\n",
       "        .catch(err => showError(`Javascript Error: ${err.message}<br>This usually means there's a typo in your chart specification. See the javascript console for the full traceback.`));\n",
       "    }\n",
       "\n",
       "    if(typeof define === \"function\" && define.amd) {\n",
       "      requirejs.config({paths});\n",
       "      require([\"vega-embed\"], displayChart, err => showError(`Error loading script: ${err.message}`));\n",
       "    } else {\n",
       "      maybeLoadScript(\"vega\", \"5\")\n",
       "        .then(() => maybeLoadScript(\"vega-lite\", \"4.17.0\"))\n",
       "        .then(() => maybeLoadScript(\"vega-embed\", \"6\"))\n",
       "        .catch(showError)\n",
       "        .then(() => displayChart(vegaEmbed));\n",
       "    }\n",
       "  })({\"config\": {\"view\": {\"continuousWidth\": 400, \"continuousHeight\": 300}}, \"data\": {\"name\": \"data-d9e6fabb9055911832784c2d26798428\"}, \"mark\": \"circle\", \"encoding\": {\"color\": {\"field\": \"label\", \"scale\": {\"scheme\": \"dark2\"}, \"type\": \"nominal\"}, \"size\": {\"field\": \"population\", \"type\": \"quantitative\"}, \"tooltip\": [{\"field\": \"country\", \"type\": \"nominal\"}, {\"field\": \"income\", \"type\": \"quantitative\"}, {\"field\": \"health\", \"type\": \"quantitative\"}, {\"field\": \"population\", \"type\": \"quantitative\"}, {\"field\": \"label\", \"type\": \"quantitative\"}], \"x\": {\"field\": \"income\", \"scale\": {\"type\": \"log\"}, \"type\": \"quantitative\"}, \"y\": {\"field\": \"health\", \"scale\": {\"zero\": false}, \"type\": \"quantitative\"}}, \"height\": 600, \"selection\": {\"selector006\": {\"type\": \"interval\", \"bind\": \"scales\", \"encodings\": [\"x\", \"y\"]}}, \"width\": 800, \"$schema\": \"https://vega.github.io/schema/vega-lite/v4.17.0.json\", \"datasets\": {\"data-d9e6fabb9055911832784c2d26798428\": [{\"country\": \"Afghanistan\", \"income\": 1925, \"health\": 57.63, \"population\": 32526562, \"label\": 0}, {\"country\": \"Albania\", \"income\": 10620, \"health\": 76.0, \"population\": 2896679, \"label\": 0}, {\"country\": \"Algeria\", \"income\": 13434, \"health\": 76.5, \"population\": 39666519, \"label\": 2}, {\"country\": \"Andorra\", \"income\": 46577, \"health\": 84.1, \"population\": 70473, \"label\": 4}, {\"country\": \"Angola\", \"income\": 7615, \"health\": 61.0, \"population\": 25021974, \"label\": 0}, {\"country\": \"Antigua and Barbuda\", \"income\": 21049, \"health\": 75.2, \"population\": 91818, \"label\": 2}, {\"country\": \"Argentina\", \"income\": 17344, \"health\": 76.2, \"population\": 43416755, \"label\": 2}, {\"country\": \"Armenia\", \"income\": 7763, \"health\": 74.4, \"population\": 3017712, \"label\": 0}, {\"country\": \"Australia\", \"income\": 44056, \"health\": 81.8, \"population\": 23968973, \"label\": 4}, {\"country\": \"Austria\", \"income\": 44401, \"health\": 81.0, \"population\": 8544586, \"label\": 4}, {\"country\": \"Azerbaijan\", \"income\": 16986, \"health\": 72.9, \"population\": 9753968, \"label\": 2}, {\"country\": \"Bahamas\", \"income\": 22818, \"health\": 72.3, \"population\": 388019, \"label\": 2}, {\"country\": \"Bahrain\", \"income\": 44138, \"health\": 79.2, \"population\": 1377237, \"label\": 4}, {\"country\": \"Bangladesh\", \"income\": 3161, \"health\": 70.1, \"population\": 160995642, \"label\": 0}, {\"country\": \"Barbados\", \"income\": 12984, \"health\": 75.8, \"population\": 284215, \"label\": 0}, {\"country\": \"Belarus\", \"income\": 17415, \"health\": 70.4, \"population\": 9495826, \"label\": 2}, {\"country\": \"Belgium\", \"income\": 41240, \"health\": 80.4, \"population\": 11299192, \"label\": 4}, {\"country\": \"Belize\", \"income\": 8501, \"health\": 70.0, \"population\": 359287, \"label\": 0}, {\"country\": \"Benin\", \"income\": 1830, \"health\": 65.5, \"population\": 10879829, \"label\": 0}, {\"country\": \"Bhutan\", \"income\": 7983, \"health\": 70.2, \"population\": 774830, \"label\": 0}, {\"country\": \"Bolivia\", \"income\": 6295, \"health\": 72.3, \"population\": 10724705, \"label\": 0}, {\"country\": \"Bosnia and Herzegovina\", \"income\": 9833, \"health\": 77.9, \"population\": 3810416, \"label\": 0}, {\"country\": \"Botswana\", \"income\": 17196, \"health\": 66.4, \"population\": 2262485, \"label\": 2}, {\"country\": \"Brazil\", \"income\": 15441, \"health\": 75.6, \"population\": 207847528, \"label\": 2}, {\"country\": \"Brunei\", \"income\": 73003, \"health\": 78.7, \"population\": 423188, \"label\": 1}, {\"country\": \"Bulgaria\", \"income\": 16371, \"health\": 74.9, \"population\": 7149787, \"label\": 2}, {\"country\": \"Burkina Faso\", \"income\": 1654, \"health\": 62.8, \"population\": 18105570, \"label\": 0}, {\"country\": \"Burundi\", \"income\": 777, \"health\": 60.4, \"population\": 11178921, \"label\": 0}, {\"country\": \"Cambodia\", \"income\": 3267, \"health\": 68.4, \"population\": 15577899, \"label\": 0}, {\"country\": \"Cameroon\", \"income\": 2897, \"health\": 59.5, \"population\": 23344179, \"label\": 0}, {\"country\": \"Canada\", \"income\": 43294, \"health\": 81.7, \"population\": 35939927, \"label\": 4}, {\"country\": \"Cape Verde\", \"income\": 6514, \"health\": 74.6, \"population\": 520502, \"label\": 0}, {\"country\": \"Central African Republic\", \"income\": 599, \"health\": 53.8, \"population\": 4900274, \"label\": 0}, {\"country\": \"Chad\", \"income\": 2191, \"health\": 57.7, \"population\": 14037472, \"label\": 0}, {\"country\": \"Chile\", \"income\": 22465, \"health\": 79.3, \"population\": 17948141, \"label\": 2}, {\"country\": \"China\", \"income\": 13334, \"health\": 76.9, \"population\": 1376048943, \"label\": 2}, {\"country\": \"Colombia\", \"income\": 12761, \"health\": 75.8, \"population\": 48228704, \"label\": 0}, {\"country\": \"Comoros\", \"income\": 1472, \"health\": 64.1, \"population\": 788474, \"label\": 0}, {\"country\": \"Congo, Dem. Rep.\", \"income\": 809, \"health\": 58.3, \"population\": 77266814, \"label\": 0}, {\"country\": \"Congo, Rep.\", \"income\": 6220, \"health\": 61.9, \"population\": 4620330, \"label\": 0}, {\"country\": \"Costa Rica\", \"income\": 14132, \"health\": 80.0, \"population\": 4807850, \"label\": 2}, {\"country\": \"Cote d'Ivoire\", \"income\": 3491, \"health\": 60.33, \"population\": 22701556, \"label\": 0}, {\"country\": \"Croatia\", \"income\": 20260, \"health\": 78.0, \"population\": 4240317, \"label\": 2}, {\"country\": \"Cuba\", \"income\": 21291, \"health\": 78.5, \"population\": 11389562, \"label\": 2}, {\"country\": \"Cyprus\", \"income\": 29797, \"health\": 82.6, \"population\": 1165300, \"label\": 2}, {\"country\": \"Czech Republic\", \"income\": 29437, \"health\": 78.6, \"population\": 10543186, \"label\": 2}, {\"country\": \"Denmark\", \"income\": 43495, \"health\": 80.1, \"population\": 5669081, \"label\": 4}, {\"country\": \"Djibouti\", \"income\": 3139, \"health\": 64.63, \"population\": 887861, \"label\": 0}, {\"country\": \"Dominica\", \"income\": 10503, \"health\": 74.6, \"population\": 72680, \"label\": 0}, {\"country\": \"Dominican Republic\", \"income\": 12837, \"health\": 73.8, \"population\": 10528391, \"label\": 0}, {\"country\": \"Ecuador\", \"income\": 10996, \"health\": 75.2, \"population\": 16144363, \"label\": 0}, {\"country\": \"Egypt\", \"income\": 11031, \"health\": 71.3, \"population\": 91508084, \"label\": 0}, {\"country\": \"El Salvador\", \"income\": 7776, \"health\": 74.1, \"population\": 6126583, \"label\": 0}, {\"country\": \"Equatorial Guinea\", \"income\": 31087, \"health\": 60.63, \"population\": 845060, \"label\": 2}, {\"country\": \"Eritrea\", \"income\": 1129, \"health\": 62.9, \"population\": 5227791, \"label\": 0}, {\"country\": \"Estonia\", \"income\": 26812, \"health\": 76.8, \"population\": 1312558, \"label\": 2}, {\"country\": \"Ethiopia\", \"income\": 1520, \"health\": 63.6, \"population\": 99390750, \"label\": 0}, {\"country\": \"Fiji\", \"income\": 7925, \"health\": 66.3, \"population\": 892145, \"label\": 0}, {\"country\": \"Finland\", \"income\": 38923, \"health\": 80.8, \"population\": 5503457, \"label\": 4}, {\"country\": \"France\", \"income\": 37599, \"health\": 81.9, \"population\": 64395345, \"label\": 4}, {\"country\": \"Gabon\", \"income\": 18627, \"health\": 60.53, \"population\": 1725292, \"label\": 2}, {\"country\": \"Gambia\", \"income\": 1644, \"health\": 65.1, \"population\": 1990924, \"label\": 0}, {\"country\": \"Georgia\", \"income\": 7474, \"health\": 73.3, \"population\": 3999812, \"label\": 0}, {\"country\": \"Germany\", \"income\": 44053, \"health\": 81.1, \"population\": 80688545, \"label\": 4}, {\"country\": \"Ghana\", \"income\": 4099, \"health\": 65.5, \"population\": 27409893, \"label\": 0}, {\"country\": \"Greece\", \"income\": 25430, \"health\": 79.8, \"population\": 10954617, \"label\": 2}, {\"country\": \"Grenada\", \"income\": 11593, \"health\": 71.7, \"population\": 106825, \"label\": 0}, {\"country\": \"Guatemala\", \"income\": 7279, \"health\": 73.1, \"population\": 16342897, \"label\": 0}, {\"country\": \"Guinea\", \"income\": 1225, \"health\": 60.8, \"population\": 12608590, \"label\": 0}, {\"country\": \"Guinea-Bissau\", \"income\": 1386, \"health\": 53.4, \"population\": 1844325, \"label\": 0}, {\"country\": \"Guyana\", \"income\": 6816, \"health\": 64.4, \"population\": 767085, \"label\": 0}, {\"country\": \"Haiti\", \"income\": 1710, \"health\": 65.3, \"population\": 10711067, \"label\": 0}, {\"country\": \"Honduras\", \"income\": 4270, \"health\": 72.4, \"population\": 8075060, \"label\": 0}, {\"country\": \"Hungary\", \"income\": 24200, \"health\": 76.2, \"population\": 9855023, \"label\": 2}, {\"country\": \"Iceland\", \"income\": 42182, \"health\": 82.8, \"population\": 329425, \"label\": 4}, {\"country\": \"India\", \"income\": 5903, \"health\": 66.8, \"population\": 1311050527, \"label\": 0}, {\"country\": \"Indonesia\", \"income\": 10504, \"health\": 70.9, \"population\": 257563815, \"label\": 0}, {\"country\": \"Iran\", \"income\": 15573, \"health\": 78.5, \"population\": 79109272, \"label\": 2}, {\"country\": \"Iraq\", \"income\": 14646, \"health\": 72.1, \"population\": 36423395, \"label\": 2}, {\"country\": \"Ireland\", \"income\": 47758, \"health\": 80.4, \"population\": 4688465, \"label\": 4}, {\"country\": \"Israel\", \"income\": 31590, \"health\": 82.4, \"population\": 8064036, \"label\": 2}, {\"country\": \"Italy\", \"income\": 33297, \"health\": 82.1, \"population\": 59797685, \"label\": 4}, {\"country\": \"Jamaica\", \"income\": 8606, \"health\": 75.5, \"population\": 2793335, \"label\": 0}, {\"country\": \"Japan\", \"income\": 36162, \"health\": 83.5, \"population\": 126573481, \"label\": 4}, {\"country\": \"Jordan\", \"income\": 11752, \"health\": 78.3, \"population\": 7594547, \"label\": 0}, {\"country\": \"Kazakhstan\", \"income\": 23468, \"health\": 68.2, \"population\": 17625226, \"label\": 2}, {\"country\": \"Kenya\", \"income\": 2898, \"health\": 66.63, \"population\": 46050302, \"label\": 0}, {\"country\": \"Kiribati\", \"income\": 1824, \"health\": 62.4, \"population\": 112423, \"label\": 0}, {\"country\": \"Kuwait\", \"income\": 82633, \"health\": 80.7, \"population\": 3892115, \"label\": 1}, {\"country\": \"Kyrgyz Republic\", \"income\": 3245, \"health\": 69.0, \"population\": 5939962, \"label\": 0}, {\"country\": \"Lao\", \"income\": 5212, \"health\": 66.4, \"population\": 6802023, \"label\": 0}, {\"country\": \"Latvia\", \"income\": 23282, \"health\": 75.7, \"population\": 1970503, \"label\": 2}, {\"country\": \"Lebanon\", \"income\": 17050, \"health\": 78.5, \"population\": 5850743, \"label\": 2}, {\"country\": \"Lesotho\", \"income\": 2598, \"health\": 48.5, \"population\": 2135022, \"label\": 0}, {\"country\": \"Liberia\", \"income\": 958, \"health\": 63.9, \"population\": 4503438, \"label\": 0}, {\"country\": \"Libya\", \"income\": 17261, \"health\": 76.2, \"population\": 6278438, \"label\": 2}, {\"country\": \"Lithuania\", \"income\": 26665, \"health\": 75.4, \"population\": 2878405, \"label\": 2}, {\"country\": \"Luxembourg\", \"income\": 88314, \"health\": 81.1, \"population\": 567110, \"label\": 1}, {\"country\": \"Macedonia, FYR\", \"income\": 12547, \"health\": 77.0, \"population\": 2078453, \"label\": 0}, {\"country\": \"Madagascar\", \"income\": 1400, \"health\": 64.7, \"population\": 24235390, \"label\": 0}, {\"country\": \"Malawi\", \"income\": 799, \"health\": 60.22, \"population\": 17215232, \"label\": 0}, {\"country\": \"Malaysia\", \"income\": 24320, \"health\": 75.1, \"population\": 30331007, \"label\": 2}, {\"country\": \"Maldives\", \"income\": 14408, \"health\": 79.5, \"population\": 363657, \"label\": 2}, {\"country\": \"Mali\", \"income\": 1684, \"health\": 57.6, \"population\": 17599694, \"label\": 0}, {\"country\": \"Malta\", \"income\": 30265, \"health\": 82.1, \"population\": 418670, \"label\": 2}, {\"country\": \"Marshall Islands\", \"income\": 3661, \"health\": 65.1, \"population\": 52993, \"label\": 0}, {\"country\": \"Mauritania\", \"income\": 3877, \"health\": 65.7, \"population\": 4067564, \"label\": 0}, {\"country\": \"Mauritius\", \"income\": 18350, \"health\": 73.9, \"population\": 1273212, \"label\": 2}, {\"country\": \"Mexico\", \"income\": 16850, \"health\": 74.5, \"population\": 127017224, \"label\": 2}, {\"country\": \"Micronesia, Fed. Sts.\", \"income\": 3510, \"health\": 67.0, \"population\": 104460, \"label\": 0}, {\"country\": \"Moldova\", \"income\": 4896, \"health\": 72.7, \"population\": 4068897, \"label\": 0}, {\"country\": \"Mongolia\", \"income\": 11819, \"health\": 65.3, \"population\": 2959134, \"label\": 0}, {\"country\": \"Montenegro\", \"income\": 14833, \"health\": 75.8, \"population\": 625781, \"label\": 2}, {\"country\": \"Morocco\", \"income\": 7319, \"health\": 74.7, \"population\": 34377511, \"label\": 0}, {\"country\": \"Mozambique\", \"income\": 1176, \"health\": 56.4, \"population\": 27977863, \"label\": 0}, {\"country\": \"Myanmar\", \"income\": 4012, \"health\": 67.9, \"population\": 53897154, \"label\": 0}, {\"country\": \"Namibia\", \"income\": 10040, \"health\": 61.0, \"population\": 2458830, \"label\": 0}, {\"country\": \"Nepal\", \"income\": 2352, \"health\": 71.2, \"population\": 28513700, \"label\": 0}, {\"country\": \"Netherlands\", \"income\": 45784, \"health\": 80.6, \"population\": 16924929, \"label\": 4}, {\"country\": \"New Zealand\", \"income\": 34186, \"health\": 80.6, \"population\": 4528526, \"label\": 4}, {\"country\": \"Nicaragua\", \"income\": 4712, \"health\": 76.8, \"population\": 6082032, \"label\": 0}, {\"country\": \"Niger\", \"income\": 943, \"health\": 62.2, \"population\": 19899120, \"label\": 0}, {\"country\": \"Nigeria\", \"income\": 5727, \"health\": 61.33, \"population\": 182201962, \"label\": 0}, {\"country\": \"North Korea\", \"income\": 1390, \"health\": 71.4, \"population\": 25155317, \"label\": 0}, {\"country\": \"Norway\", \"income\": 64304, \"health\": 81.6, \"population\": 5210967, \"label\": 1}, {\"country\": \"Oman\", \"income\": 48226, \"health\": 75.7, \"population\": 4490541, \"label\": 4}, {\"country\": \"Pakistan\", \"income\": 4743, \"health\": 66.5, \"population\": 188924874, \"label\": 0}, {\"country\": \"Panama\", \"income\": 20485, \"health\": 78.2, \"population\": 3929141, \"label\": 2}, {\"country\": \"Papua New Guinea\", \"income\": 2529, \"health\": 60.6, \"population\": 7619321, \"label\": 0}, {\"country\": \"Paraguay\", \"income\": 8219, \"health\": 73.9, \"population\": 6639123, \"label\": 0}, {\"country\": \"Peru\", \"income\": 11903, \"health\": 77.5, \"population\": 31376670, \"label\": 0}, {\"country\": \"Philippines\", \"income\": 6876, \"health\": 70.2, \"population\": 100699395, \"label\": 0}, {\"country\": \"Poland\", \"income\": 24787, \"health\": 77.3, \"population\": 38611794, \"label\": 2}, {\"country\": \"Portugal\", \"income\": 26437, \"health\": 79.8, \"population\": 10349803, \"label\": 2}, {\"country\": \"Qatar\", \"income\": 132877, \"health\": 82.0, \"population\": 2235355, \"label\": 3}, {\"country\": \"Romania\", \"income\": 19203, \"health\": 76.8, \"population\": 19511324, \"label\": 2}, {\"country\": \"Russia\", \"income\": 23038, \"health\": 73.13, \"population\": 143456918, \"label\": 2}, {\"country\": \"Rwanda\", \"income\": 1549, \"health\": 66.53, \"population\": 11609666, \"label\": 0}, {\"country\": \"Samoa\", \"income\": 5558, \"health\": 72.2, \"population\": 193228, \"label\": 0}, {\"country\": \"Sao Tome and Principe\", \"income\": 3003, \"health\": 68.8, \"population\": 190344, \"label\": 0}, {\"country\": \"Saudi Arabia\", \"income\": 52469, \"health\": 78.1, \"population\": 31540372, \"label\": 4}, {\"country\": \"Senegal\", \"income\": 2251, \"health\": 66.1, \"population\": 15129273, \"label\": 0}, {\"country\": \"Serbia\", \"income\": 12908, \"health\": 78.1, \"population\": 8850975, \"label\": 0}, {\"country\": \"Seychelles\", \"income\": 25684, \"health\": 73.7, \"population\": 96471, \"label\": 2}, {\"country\": \"Sierra Leone\", \"income\": 2085, \"health\": 58.5, \"population\": 6453184, \"label\": 0}, {\"country\": \"Singapore\", \"income\": 80794, \"health\": 82.1, \"population\": 5603740, \"label\": 1}, {\"country\": \"Slovak Republic\", \"income\": 27204, \"health\": 76.4, \"population\": 5426258, \"label\": 2}, {\"country\": \"Slovenia\", \"income\": 28550, \"health\": 80.2, \"population\": 2067526, \"label\": 2}, {\"country\": \"Solomon Islands\", \"income\": 2047, \"health\": 64.1, \"population\": 583591, \"label\": 0}, {\"country\": \"Somalia\", \"income\": 624, \"health\": 58.7, \"population\": 10787104, \"label\": 0}, {\"country\": \"South Africa\", \"income\": 12509, \"health\": 63.72, \"population\": 54490406, \"label\": 0}, {\"country\": \"South Korea\", \"income\": 34644, \"health\": 80.7, \"population\": 50293439, \"label\": 4}, {\"country\": \"South Sudan\", \"income\": 3047, \"health\": 58.0, \"population\": 12339812, \"label\": 0}, {\"country\": \"Spain\", \"income\": 32979, \"health\": 81.7, \"population\": 46121699, \"label\": 4}, {\"country\": \"Sri Lanka\", \"income\": 10624, \"health\": 76.5, \"population\": 20715010, \"label\": 0}, {\"country\": \"St. Lucia\", \"income\": 9997, \"health\": 74.5, \"population\": 184999, \"label\": 0}, {\"country\": \"St. Vincent and the Grenadines\", \"income\": 10435, \"health\": 72.9, \"population\": 109462, \"label\": 0}, {\"country\": \"Sudan\", \"income\": 3975, \"health\": 69.5, \"population\": 40234882, \"label\": 0}, {\"country\": \"Suriname\", \"income\": 17125, \"health\": 70.5, \"population\": 542975, \"label\": 2}, {\"country\": \"Swaziland\", \"income\": 6095, \"health\": 51.5, \"population\": 1286970, \"label\": 0}, {\"country\": \"Sweden\", \"income\": 44892, \"health\": 82.0, \"population\": 9779426, \"label\": 4}, {\"country\": \"Switzerland\", \"income\": 56118, \"health\": 82.9, \"population\": 8298663, \"label\": 4}, {\"country\": \"Syria\", \"income\": 4637, \"health\": 70.26, \"population\": 18502413, \"label\": 0}, {\"country\": \"Tajikistan\", \"income\": 2582, \"health\": 71.0, \"population\": 8481855, \"label\": 0}, {\"country\": \"Tanzania\", \"income\": 2571, \"health\": 63.43, \"population\": 53470420, \"label\": 0}, {\"country\": \"Thailand\", \"income\": 14512, \"health\": 75.1, \"population\": 67959359, \"label\": 2}, {\"country\": \"Timor-Leste\", \"income\": 2086, \"health\": 72.4, \"population\": 1184765, \"label\": 0}, {\"country\": \"Togo\", \"income\": 1433, \"health\": 64.23, \"population\": 7304578, \"label\": 0}, {\"country\": \"Tonga\", \"income\": 5069, \"health\": 70.5, \"population\": 106170, \"label\": 0}, {\"country\": \"Trinidad and Tobago\", \"income\": 30113, \"health\": 71.4, \"population\": 1360088, \"label\": 2}, {\"country\": \"Tunisia\", \"income\": 11126, \"health\": 77.3, \"population\": 11253554, \"label\": 0}, {\"country\": \"Turkey\", \"income\": 19360, \"health\": 76.5, \"population\": 78665830, \"label\": 2}, {\"country\": \"Turkmenistan\", \"income\": 15865, \"health\": 67.9, \"population\": 5373502, \"label\": 2}, {\"country\": \"Uganda\", \"income\": 1680, \"health\": 60.8, \"population\": 39032383, \"label\": 0}, {\"country\": \"Ukraine\", \"income\": 8449, \"health\": 72.1, \"population\": 44823765, \"label\": 0}, {\"country\": \"United Arab Emirates\", \"income\": 60749, \"health\": 76.6, \"population\": 9156963, \"label\": 1}, {\"country\": \"United Kingdom\", \"income\": 38225, \"health\": 81.4, \"population\": 64715810, \"label\": 4}, {\"country\": \"United States\", \"income\": 53354, \"health\": 79.1, \"population\": 321773631, \"label\": 4}, {\"country\": \"Uruguay\", \"income\": 20438, \"health\": 77.3, \"population\": 3431555, \"label\": 2}, {\"country\": \"Uzbekistan\", \"income\": 5598, \"health\": 70.1, \"population\": 29893488, \"label\": 0}, {\"country\": \"Vanuatu\", \"income\": 2912, \"health\": 65.0, \"population\": 264652, \"label\": 0}, {\"country\": \"Venezuela\", \"income\": 15753, \"health\": 75.8, \"population\": 31108083, \"label\": 2}, {\"country\": \"Vietnam\", \"income\": 5623, \"health\": 76.5, \"population\": 93447601, \"label\": 0}, {\"country\": \"West Bank and Gaza\", \"income\": 4319, \"health\": 75.2, \"population\": 4668466, \"label\": 0}, {\"country\": \"Yemen\", \"income\": 3887, \"health\": 67.6, \"population\": 26832215, \"label\": 0}, {\"country\": \"Zambia\", \"income\": 4034, \"health\": 58.96, \"population\": 16211767, \"label\": 0}, {\"country\": \"Zimbabwe\", \"income\": 1801, \"health\": 60.01, \"population\": 15602751, \"label\": 0}]}}, {\"mode\": \"vega-lite\"});\n",
       "</script>"
      ],
      "text/plain": [
       "alt.Chart(...)"
      ]
     },
     "execution_count": 64,
     "metadata": {},
     "output_type": "execute_result"
    }
   ],
   "source": [
    "(\n",
    "    alt.Chart(gapminder)\n",
    "    .mark_circle()\n",
    "    .encode(\n",
    "        alt.X(\"income:Q\", scale=alt.Scale(type=\"log\")),\n",
    "        alt.Y(\"health:Q\", scale=alt.Scale(zero=False)),\n",
    "        size=\"population:Q\",\n",
    "        color=alt.Color(\"label:N\", scale=alt.Scale(scheme=\"dark2\")),\n",
    "        tooltip=list(gapminder.columns),\n",
    "    )\n",
    "    .properties(width=800, height=600)\n",
    "    .interactive()\n",
    ")"
   ]
  },
  {
   "cell_type": "markdown",
   "metadata": {
    "slideshow": {
     "slide_type": "slide"
    }
   },
   "source": [
    "#### Calculate average income by group"
   ]
  },
  {
   "cell_type": "code",
   "execution_count": 65,
   "metadata": {
    "slideshow": {
     "slide_type": "subslide"
    }
   },
   "outputs": [
    {
     "data": {
      "text/plain": [
       "label\n",
       "0      5279.830189\n",
       "2     21040.820000\n",
       "4     42835.500000\n",
       "1     74966.166667\n",
       "3    132877.000000\n",
       "Name: income, dtype: float64"
      ]
     },
     "execution_count": 65,
     "metadata": {},
     "output_type": "execute_result"
    }
   ],
   "source": [
    "gapminder.groupby(\"label\")['income'].mean().sort_values()"
   ]
  },
  {
   "cell_type": "markdown",
   "metadata": {
    "slideshow": {
     "slide_type": "subslide"
    }
   },
   "source": [
    "Data is nicely partitioned into income levels"
   ]
  },
  {
   "cell_type": "markdown",
   "metadata": {
    "slideshow": {
     "slide_type": "slide"
    }
   },
   "source": [
    "#### How about health, income, and population?"
   ]
  },
  {
   "cell_type": "code",
   "execution_count": 66,
   "metadata": {
    "slideshow": {
     "slide_type": "fragment"
    }
   },
   "outputs": [],
   "source": [
    "# Fit all three columns\n",
    "kmeans.fit(gapminder[['income', 'health', 'population']])\n",
    "\n",
    "# Extract the labels\n",
    "gapminder['label'] = kmeans.labels_"
   ]
  },
  {
   "cell_type": "code",
   "execution_count": 14,
   "metadata": {},
   "outputs": [
    {
     "data": {
      "text/html": [
       "<div>\n",
       "<style scoped>\n",
       "    .dataframe tbody tr th:only-of-type {\n",
       "        vertical-align: middle;\n",
       "    }\n",
       "\n",
       "    .dataframe tbody tr th {\n",
       "        vertical-align: top;\n",
       "    }\n",
       "\n",
       "    .dataframe thead th {\n",
       "        text-align: right;\n",
       "    }\n",
       "</style>\n",
       "<table border=\"1\" class=\"dataframe\">\n",
       "  <thead>\n",
       "    <tr style=\"text-align: right;\">\n",
       "      <th></th>\n",
       "      <th>country</th>\n",
       "      <th>income</th>\n",
       "      <th>health</th>\n",
       "      <th>population</th>\n",
       "      <th>label</th>\n",
       "    </tr>\n",
       "  </thead>\n",
       "  <tbody>\n",
       "    <tr>\n",
       "      <th>0</th>\n",
       "      <td>Afghanistan</td>\n",
       "      <td>1925</td>\n",
       "      <td>57.63</td>\n",
       "      <td>32526562</td>\n",
       "      <td>2</td>\n",
       "    </tr>\n",
       "    <tr>\n",
       "      <th>1</th>\n",
       "      <td>Albania</td>\n",
       "      <td>10620</td>\n",
       "      <td>76.00</td>\n",
       "      <td>2896679</td>\n",
       "      <td>2</td>\n",
       "    </tr>\n",
       "    <tr>\n",
       "      <th>2</th>\n",
       "      <td>Algeria</td>\n",
       "      <td>13434</td>\n",
       "      <td>76.50</td>\n",
       "      <td>39666519</td>\n",
       "      <td>0</td>\n",
       "    </tr>\n",
       "    <tr>\n",
       "      <th>3</th>\n",
       "      <td>Andorra</td>\n",
       "      <td>46577</td>\n",
       "      <td>84.10</td>\n",
       "      <td>70473</td>\n",
       "      <td>2</td>\n",
       "    </tr>\n",
       "    <tr>\n",
       "      <th>4</th>\n",
       "      <td>Angola</td>\n",
       "      <td>7615</td>\n",
       "      <td>61.00</td>\n",
       "      <td>25021974</td>\n",
       "      <td>2</td>\n",
       "    </tr>\n",
       "    <tr>\n",
       "      <th>...</th>\n",
       "      <td>...</td>\n",
       "      <td>...</td>\n",
       "      <td>...</td>\n",
       "      <td>...</td>\n",
       "      <td>...</td>\n",
       "    </tr>\n",
       "    <tr>\n",
       "      <th>182</th>\n",
       "      <td>Vietnam</td>\n",
       "      <td>5623</td>\n",
       "      <td>76.50</td>\n",
       "      <td>93447601</td>\n",
       "      <td>0</td>\n",
       "    </tr>\n",
       "    <tr>\n",
       "      <th>183</th>\n",
       "      <td>West Bank and Gaza</td>\n",
       "      <td>4319</td>\n",
       "      <td>75.20</td>\n",
       "      <td>4668466</td>\n",
       "      <td>2</td>\n",
       "    </tr>\n",
       "    <tr>\n",
       "      <th>184</th>\n",
       "      <td>Yemen</td>\n",
       "      <td>3887</td>\n",
       "      <td>67.60</td>\n",
       "      <td>26832215</td>\n",
       "      <td>2</td>\n",
       "    </tr>\n",
       "    <tr>\n",
       "      <th>185</th>\n",
       "      <td>Zambia</td>\n",
       "      <td>4034</td>\n",
       "      <td>58.96</td>\n",
       "      <td>16211767</td>\n",
       "      <td>2</td>\n",
       "    </tr>\n",
       "    <tr>\n",
       "      <th>186</th>\n",
       "      <td>Zimbabwe</td>\n",
       "      <td>1801</td>\n",
       "      <td>60.01</td>\n",
       "      <td>15602751</td>\n",
       "      <td>2</td>\n",
       "    </tr>\n",
       "  </tbody>\n",
       "</table>\n",
       "<p>187 rows × 5 columns</p>\n",
       "</div>"
      ],
      "text/plain": [
       "                country  income  health  population  label\n",
       "0           Afghanistan    1925   57.63    32526562      2\n",
       "1               Albania   10620   76.00     2896679      2\n",
       "2               Algeria   13434   76.50    39666519      0\n",
       "3               Andorra   46577   84.10       70473      2\n",
       "4                Angola    7615   61.00    25021974      2\n",
       "..                  ...     ...     ...         ...    ...\n",
       "182             Vietnam    5623   76.50    93447601      0\n",
       "183  West Bank and Gaza    4319   75.20     4668466      2\n",
       "184               Yemen    3887   67.60    26832215      2\n",
       "185              Zambia    4034   58.96    16211767      2\n",
       "186            Zimbabwe    1801   60.01    15602751      2\n",
       "\n",
       "[187 rows x 5 columns]"
      ]
     },
     "execution_count": 14,
     "metadata": {},
     "output_type": "execute_result"
    }
   ],
   "source": [
    "gapminder"
   ]
  },
  {
   "cell_type": "code",
   "execution_count": 67,
   "metadata": {
    "slideshow": {
     "slide_type": "subslide"
    }
   },
   "outputs": [
    {
     "name": "stderr",
     "output_type": "stream",
     "text": [
      "/Users/delmelle/miniforge3/lib/python3.10/site-packages/altair/utils/core.py:384: FutureWarning: the convert_dtype parameter is deprecated and will be removed in a future version.  Do ``ser.astype(object).apply()`` instead if you want ``convert_dtype=False``.\n",
      "  col = df[col_name].apply(to_list_if_array, convert_dtype=False)\n"
     ]
    },
    {
     "data": {
      "text/html": [
       "\n",
       "<div id=\"altair-viz-2b9a4ccd0d8245f7b678db9166d3ee38\"></div>\n",
       "<script type=\"text/javascript\">\n",
       "  var VEGA_DEBUG = (typeof VEGA_DEBUG == \"undefined\") ? {} : VEGA_DEBUG;\n",
       "  (function(spec, embedOpt){\n",
       "    let outputDiv = document.currentScript.previousElementSibling;\n",
       "    if (outputDiv.id !== \"altair-viz-2b9a4ccd0d8245f7b678db9166d3ee38\") {\n",
       "      outputDiv = document.getElementById(\"altair-viz-2b9a4ccd0d8245f7b678db9166d3ee38\");\n",
       "    }\n",
       "    const paths = {\n",
       "      \"vega\": \"https://cdn.jsdelivr.net/npm//vega@5?noext\",\n",
       "      \"vega-lib\": \"https://cdn.jsdelivr.net/npm//vega-lib?noext\",\n",
       "      \"vega-lite\": \"https://cdn.jsdelivr.net/npm//vega-lite@4.17.0?noext\",\n",
       "      \"vega-embed\": \"https://cdn.jsdelivr.net/npm//vega-embed@6?noext\",\n",
       "    };\n",
       "\n",
       "    function maybeLoadScript(lib, version) {\n",
       "      var key = `${lib.replace(\"-\", \"\")}_version`;\n",
       "      return (VEGA_DEBUG[key] == version) ?\n",
       "        Promise.resolve(paths[lib]) :\n",
       "        new Promise(function(resolve, reject) {\n",
       "          var s = document.createElement('script');\n",
       "          document.getElementsByTagName(\"head\")[0].appendChild(s);\n",
       "          s.async = true;\n",
       "          s.onload = () => {\n",
       "            VEGA_DEBUG[key] = version;\n",
       "            return resolve(paths[lib]);\n",
       "          };\n",
       "          s.onerror = () => reject(`Error loading script: ${paths[lib]}`);\n",
       "          s.src = paths[lib];\n",
       "        });\n",
       "    }\n",
       "\n",
       "    function showError(err) {\n",
       "      outputDiv.innerHTML = `<div class=\"error\" style=\"color:red;\">${err}</div>`;\n",
       "      throw err;\n",
       "    }\n",
       "\n",
       "    function displayChart(vegaEmbed) {\n",
       "      vegaEmbed(outputDiv, spec, embedOpt)\n",
       "        .catch(err => showError(`Javascript Error: ${err.message}<br>This usually means there's a typo in your chart specification. See the javascript console for the full traceback.`));\n",
       "    }\n",
       "\n",
       "    if(typeof define === \"function\" && define.amd) {\n",
       "      requirejs.config({paths});\n",
       "      require([\"vega-embed\"], displayChart, err => showError(`Error loading script: ${err.message}`));\n",
       "    } else {\n",
       "      maybeLoadScript(\"vega\", \"5\")\n",
       "        .then(() => maybeLoadScript(\"vega-lite\", \"4.17.0\"))\n",
       "        .then(() => maybeLoadScript(\"vega-embed\", \"6\"))\n",
       "        .catch(showError)\n",
       "        .then(() => displayChart(vegaEmbed));\n",
       "    }\n",
       "  })({\"config\": {\"view\": {\"continuousWidth\": 400, \"continuousHeight\": 300}}, \"data\": {\"name\": \"data-9bdcb01d9ae7af8ba89f000028eeb5f1\"}, \"mark\": \"circle\", \"encoding\": {\"color\": {\"field\": \"label\", \"scale\": {\"scheme\": \"dark2\"}, \"type\": \"nominal\"}, \"size\": {\"field\": \"population\", \"type\": \"quantitative\"}, \"tooltip\": [{\"field\": \"country\", \"type\": \"nominal\"}, {\"field\": \"income\", \"type\": \"quantitative\"}, {\"field\": \"health\", \"type\": \"quantitative\"}, {\"field\": \"population\", \"type\": \"quantitative\"}, {\"field\": \"label\", \"type\": \"quantitative\"}], \"x\": {\"field\": \"income\", \"scale\": {\"type\": \"log\"}, \"type\": \"quantitative\"}, \"y\": {\"field\": \"health\", \"scale\": {\"zero\": false}, \"type\": \"quantitative\"}}, \"height\": 600, \"selection\": {\"selector007\": {\"type\": \"interval\", \"bind\": \"scales\", \"encodings\": [\"x\", \"y\"]}}, \"width\": 800, \"$schema\": \"https://vega.github.io/schema/vega-lite/v4.17.0.json\", \"datasets\": {\"data-9bdcb01d9ae7af8ba89f000028eeb5f1\": [{\"country\": \"Afghanistan\", \"income\": 1925, \"health\": 57.63, \"population\": 32526562, \"label\": 2}, {\"country\": \"Albania\", \"income\": 10620, \"health\": 76.0, \"population\": 2896679, \"label\": 2}, {\"country\": \"Algeria\", \"income\": 13434, \"health\": 76.5, \"population\": 39666519, \"label\": 0}, {\"country\": \"Andorra\", \"income\": 46577, \"health\": 84.1, \"population\": 70473, \"label\": 2}, {\"country\": \"Angola\", \"income\": 7615, \"health\": 61.0, \"population\": 25021974, \"label\": 2}, {\"country\": \"Antigua and Barbuda\", \"income\": 21049, \"health\": 75.2, \"population\": 91818, \"label\": 2}, {\"country\": \"Argentina\", \"income\": 17344, \"health\": 76.2, \"population\": 43416755, \"label\": 0}, {\"country\": \"Armenia\", \"income\": 7763, \"health\": 74.4, \"population\": 3017712, \"label\": 2}, {\"country\": \"Australia\", \"income\": 44056, \"health\": 81.8, \"population\": 23968973, \"label\": 2}, {\"country\": \"Austria\", \"income\": 44401, \"health\": 81.0, \"population\": 8544586, \"label\": 2}, {\"country\": \"Azerbaijan\", \"income\": 16986, \"health\": 72.9, \"population\": 9753968, \"label\": 2}, {\"country\": \"Bahamas\", \"income\": 22818, \"health\": 72.3, \"population\": 388019, \"label\": 2}, {\"country\": \"Bahrain\", \"income\": 44138, \"health\": 79.2, \"population\": 1377237, \"label\": 2}, {\"country\": \"Bangladesh\", \"income\": 3161, \"health\": 70.1, \"population\": 160995642, \"label\": 4}, {\"country\": \"Barbados\", \"income\": 12984, \"health\": 75.8, \"population\": 284215, \"label\": 2}, {\"country\": \"Belarus\", \"income\": 17415, \"health\": 70.4, \"population\": 9495826, \"label\": 2}, {\"country\": \"Belgium\", \"income\": 41240, \"health\": 80.4, \"population\": 11299192, \"label\": 2}, {\"country\": \"Belize\", \"income\": 8501, \"health\": 70.0, \"population\": 359287, \"label\": 2}, {\"country\": \"Benin\", \"income\": 1830, \"health\": 65.5, \"population\": 10879829, \"label\": 2}, {\"country\": \"Bhutan\", \"income\": 7983, \"health\": 70.2, \"population\": 774830, \"label\": 2}, {\"country\": \"Bolivia\", \"income\": 6295, \"health\": 72.3, \"population\": 10724705, \"label\": 2}, {\"country\": \"Bosnia and Herzegovina\", \"income\": 9833, \"health\": 77.9, \"population\": 3810416, \"label\": 2}, {\"country\": \"Botswana\", \"income\": 17196, \"health\": 66.4, \"population\": 2262485, \"label\": 2}, {\"country\": \"Brazil\", \"income\": 15441, \"health\": 75.6, \"population\": 207847528, \"label\": 4}, {\"country\": \"Brunei\", \"income\": 73003, \"health\": 78.7, \"population\": 423188, \"label\": 2}, {\"country\": \"Bulgaria\", \"income\": 16371, \"health\": 74.9, \"population\": 7149787, \"label\": 2}, {\"country\": \"Burkina Faso\", \"income\": 1654, \"health\": 62.8, \"population\": 18105570, \"label\": 2}, {\"country\": \"Burundi\", \"income\": 777, \"health\": 60.4, \"population\": 11178921, \"label\": 2}, {\"country\": \"Cambodia\", \"income\": 3267, \"health\": 68.4, \"population\": 15577899, \"label\": 2}, {\"country\": \"Cameroon\", \"income\": 2897, \"health\": 59.5, \"population\": 23344179, \"label\": 2}, {\"country\": \"Canada\", \"income\": 43294, \"health\": 81.7, \"population\": 35939927, \"label\": 0}, {\"country\": \"Cape Verde\", \"income\": 6514, \"health\": 74.6, \"population\": 520502, \"label\": 2}, {\"country\": \"Central African Republic\", \"income\": 599, \"health\": 53.8, \"population\": 4900274, \"label\": 2}, {\"country\": \"Chad\", \"income\": 2191, \"health\": 57.7, \"population\": 14037472, \"label\": 2}, {\"country\": \"Chile\", \"income\": 22465, \"health\": 79.3, \"population\": 17948141, \"label\": 2}, {\"country\": \"China\", \"income\": 13334, \"health\": 76.9, \"population\": 1376048943, \"label\": 1}, {\"country\": \"Colombia\", \"income\": 12761, \"health\": 75.8, \"population\": 48228704, \"label\": 0}, {\"country\": \"Comoros\", \"income\": 1472, \"health\": 64.1, \"population\": 788474, \"label\": 2}, {\"country\": \"Congo, Dem. Rep.\", \"income\": 809, \"health\": 58.3, \"population\": 77266814, \"label\": 0}, {\"country\": \"Congo, Rep.\", \"income\": 6220, \"health\": 61.9, \"population\": 4620330, \"label\": 2}, {\"country\": \"Costa Rica\", \"income\": 14132, \"health\": 80.0, \"population\": 4807850, \"label\": 2}, {\"country\": \"Cote d'Ivoire\", \"income\": 3491, \"health\": 60.33, \"population\": 22701556, \"label\": 2}, {\"country\": \"Croatia\", \"income\": 20260, \"health\": 78.0, \"population\": 4240317, \"label\": 2}, {\"country\": \"Cuba\", \"income\": 21291, \"health\": 78.5, \"population\": 11389562, \"label\": 2}, {\"country\": \"Cyprus\", \"income\": 29797, \"health\": 82.6, \"population\": 1165300, \"label\": 2}, {\"country\": \"Czech Republic\", \"income\": 29437, \"health\": 78.6, \"population\": 10543186, \"label\": 2}, {\"country\": \"Denmark\", \"income\": 43495, \"health\": 80.1, \"population\": 5669081, \"label\": 2}, {\"country\": \"Djibouti\", \"income\": 3139, \"health\": 64.63, \"population\": 887861, \"label\": 2}, {\"country\": \"Dominica\", \"income\": 10503, \"health\": 74.6, \"population\": 72680, \"label\": 2}, {\"country\": \"Dominican Republic\", \"income\": 12837, \"health\": 73.8, \"population\": 10528391, \"label\": 2}, {\"country\": \"Ecuador\", \"income\": 10996, \"health\": 75.2, \"population\": 16144363, \"label\": 2}, {\"country\": \"Egypt\", \"income\": 11031, \"health\": 71.3, \"population\": 91508084, \"label\": 0}, {\"country\": \"El Salvador\", \"income\": 7776, \"health\": 74.1, \"population\": 6126583, \"label\": 2}, {\"country\": \"Equatorial Guinea\", \"income\": 31087, \"health\": 60.63, \"population\": 845060, \"label\": 2}, {\"country\": \"Eritrea\", \"income\": 1129, \"health\": 62.9, \"population\": 5227791, \"label\": 2}, {\"country\": \"Estonia\", \"income\": 26812, \"health\": 76.8, \"population\": 1312558, \"label\": 2}, {\"country\": \"Ethiopia\", \"income\": 1520, \"health\": 63.6, \"population\": 99390750, \"label\": 0}, {\"country\": \"Fiji\", \"income\": 7925, \"health\": 66.3, \"population\": 892145, \"label\": 2}, {\"country\": \"Finland\", \"income\": 38923, \"health\": 80.8, \"population\": 5503457, \"label\": 2}, {\"country\": \"France\", \"income\": 37599, \"health\": 81.9, \"population\": 64395345, \"label\": 0}, {\"country\": \"Gabon\", \"income\": 18627, \"health\": 60.53, \"population\": 1725292, \"label\": 2}, {\"country\": \"Gambia\", \"income\": 1644, \"health\": 65.1, \"population\": 1990924, \"label\": 2}, {\"country\": \"Georgia\", \"income\": 7474, \"health\": 73.3, \"population\": 3999812, \"label\": 2}, {\"country\": \"Germany\", \"income\": 44053, \"health\": 81.1, \"population\": 80688545, \"label\": 0}, {\"country\": \"Ghana\", \"income\": 4099, \"health\": 65.5, \"population\": 27409893, \"label\": 2}, {\"country\": \"Greece\", \"income\": 25430, \"health\": 79.8, \"population\": 10954617, \"label\": 2}, {\"country\": \"Grenada\", \"income\": 11593, \"health\": 71.7, \"population\": 106825, \"label\": 2}, {\"country\": \"Guatemala\", \"income\": 7279, \"health\": 73.1, \"population\": 16342897, \"label\": 2}, {\"country\": \"Guinea\", \"income\": 1225, \"health\": 60.8, \"population\": 12608590, \"label\": 2}, {\"country\": \"Guinea-Bissau\", \"income\": 1386, \"health\": 53.4, \"population\": 1844325, \"label\": 2}, {\"country\": \"Guyana\", \"income\": 6816, \"health\": 64.4, \"population\": 767085, \"label\": 2}, {\"country\": \"Haiti\", \"income\": 1710, \"health\": 65.3, \"population\": 10711067, \"label\": 2}, {\"country\": \"Honduras\", \"income\": 4270, \"health\": 72.4, \"population\": 8075060, \"label\": 2}, {\"country\": \"Hungary\", \"income\": 24200, \"health\": 76.2, \"population\": 9855023, \"label\": 2}, {\"country\": \"Iceland\", \"income\": 42182, \"health\": 82.8, \"population\": 329425, \"label\": 2}, {\"country\": \"India\", \"income\": 5903, \"health\": 66.8, \"population\": 1311050527, \"label\": 1}, {\"country\": \"Indonesia\", \"income\": 10504, \"health\": 70.9, \"population\": 257563815, \"label\": 3}, {\"country\": \"Iran\", \"income\": 15573, \"health\": 78.5, \"population\": 79109272, \"label\": 0}, {\"country\": \"Iraq\", \"income\": 14646, \"health\": 72.1, \"population\": 36423395, \"label\": 0}, {\"country\": \"Ireland\", \"income\": 47758, \"health\": 80.4, \"population\": 4688465, \"label\": 2}, {\"country\": \"Israel\", \"income\": 31590, \"health\": 82.4, \"population\": 8064036, \"label\": 2}, {\"country\": \"Italy\", \"income\": 33297, \"health\": 82.1, \"population\": 59797685, \"label\": 0}, {\"country\": \"Jamaica\", \"income\": 8606, \"health\": 75.5, \"population\": 2793335, \"label\": 2}, {\"country\": \"Japan\", \"income\": 36162, \"health\": 83.5, \"population\": 126573481, \"label\": 4}, {\"country\": \"Jordan\", \"income\": 11752, \"health\": 78.3, \"population\": 7594547, \"label\": 2}, {\"country\": \"Kazakhstan\", \"income\": 23468, \"health\": 68.2, \"population\": 17625226, \"label\": 2}, {\"country\": \"Kenya\", \"income\": 2898, \"health\": 66.63, \"population\": 46050302, \"label\": 0}, {\"country\": \"Kiribati\", \"income\": 1824, \"health\": 62.4, \"population\": 112423, \"label\": 2}, {\"country\": \"Kuwait\", \"income\": 82633, \"health\": 80.7, \"population\": 3892115, \"label\": 2}, {\"country\": \"Kyrgyz Republic\", \"income\": 3245, \"health\": 69.0, \"population\": 5939962, \"label\": 2}, {\"country\": \"Lao\", \"income\": 5212, \"health\": 66.4, \"population\": 6802023, \"label\": 2}, {\"country\": \"Latvia\", \"income\": 23282, \"health\": 75.7, \"population\": 1970503, \"label\": 2}, {\"country\": \"Lebanon\", \"income\": 17050, \"health\": 78.5, \"population\": 5850743, \"label\": 2}, {\"country\": \"Lesotho\", \"income\": 2598, \"health\": 48.5, \"population\": 2135022, \"label\": 2}, {\"country\": \"Liberia\", \"income\": 958, \"health\": 63.9, \"population\": 4503438, \"label\": 2}, {\"country\": \"Libya\", \"income\": 17261, \"health\": 76.2, \"population\": 6278438, \"label\": 2}, {\"country\": \"Lithuania\", \"income\": 26665, \"health\": 75.4, \"population\": 2878405, \"label\": 2}, {\"country\": \"Luxembourg\", \"income\": 88314, \"health\": 81.1, \"population\": 567110, \"label\": 2}, {\"country\": \"Macedonia, FYR\", \"income\": 12547, \"health\": 77.0, \"population\": 2078453, \"label\": 2}, {\"country\": \"Madagascar\", \"income\": 1400, \"health\": 64.7, \"population\": 24235390, \"label\": 2}, {\"country\": \"Malawi\", \"income\": 799, \"health\": 60.22, \"population\": 17215232, \"label\": 2}, {\"country\": \"Malaysia\", \"income\": 24320, \"health\": 75.1, \"population\": 30331007, \"label\": 2}, {\"country\": \"Maldives\", \"income\": 14408, \"health\": 79.5, \"population\": 363657, \"label\": 2}, {\"country\": \"Mali\", \"income\": 1684, \"health\": 57.6, \"population\": 17599694, \"label\": 2}, {\"country\": \"Malta\", \"income\": 30265, \"health\": 82.1, \"population\": 418670, \"label\": 2}, {\"country\": \"Marshall Islands\", \"income\": 3661, \"health\": 65.1, \"population\": 52993, \"label\": 2}, {\"country\": \"Mauritania\", \"income\": 3877, \"health\": 65.7, \"population\": 4067564, \"label\": 2}, {\"country\": \"Mauritius\", \"income\": 18350, \"health\": 73.9, \"population\": 1273212, \"label\": 2}, {\"country\": \"Mexico\", \"income\": 16850, \"health\": 74.5, \"population\": 127017224, \"label\": 4}, {\"country\": \"Micronesia, Fed. Sts.\", \"income\": 3510, \"health\": 67.0, \"population\": 104460, \"label\": 2}, {\"country\": \"Moldova\", \"income\": 4896, \"health\": 72.7, \"population\": 4068897, \"label\": 2}, {\"country\": \"Mongolia\", \"income\": 11819, \"health\": 65.3, \"population\": 2959134, \"label\": 2}, {\"country\": \"Montenegro\", \"income\": 14833, \"health\": 75.8, \"population\": 625781, \"label\": 2}, {\"country\": \"Morocco\", \"income\": 7319, \"health\": 74.7, \"population\": 34377511, \"label\": 2}, {\"country\": \"Mozambique\", \"income\": 1176, \"health\": 56.4, \"population\": 27977863, \"label\": 2}, {\"country\": \"Myanmar\", \"income\": 4012, \"health\": 67.9, \"population\": 53897154, \"label\": 0}, {\"country\": \"Namibia\", \"income\": 10040, \"health\": 61.0, \"population\": 2458830, \"label\": 2}, {\"country\": \"Nepal\", \"income\": 2352, \"health\": 71.2, \"population\": 28513700, \"label\": 2}, {\"country\": \"Netherlands\", \"income\": 45784, \"health\": 80.6, \"population\": 16924929, \"label\": 2}, {\"country\": \"New Zealand\", \"income\": 34186, \"health\": 80.6, \"population\": 4528526, \"label\": 2}, {\"country\": \"Nicaragua\", \"income\": 4712, \"health\": 76.8, \"population\": 6082032, \"label\": 2}, {\"country\": \"Niger\", \"income\": 943, \"health\": 62.2, \"population\": 19899120, \"label\": 2}, {\"country\": \"Nigeria\", \"income\": 5727, \"health\": 61.33, \"population\": 182201962, \"label\": 4}, {\"country\": \"North Korea\", \"income\": 1390, \"health\": 71.4, \"population\": 25155317, \"label\": 2}, {\"country\": \"Norway\", \"income\": 64304, \"health\": 81.6, \"population\": 5210967, \"label\": 2}, {\"country\": \"Oman\", \"income\": 48226, \"health\": 75.7, \"population\": 4490541, \"label\": 2}, {\"country\": \"Pakistan\", \"income\": 4743, \"health\": 66.5, \"population\": 188924874, \"label\": 4}, {\"country\": \"Panama\", \"income\": 20485, \"health\": 78.2, \"population\": 3929141, \"label\": 2}, {\"country\": \"Papua New Guinea\", \"income\": 2529, \"health\": 60.6, \"population\": 7619321, \"label\": 2}, {\"country\": \"Paraguay\", \"income\": 8219, \"health\": 73.9, \"population\": 6639123, \"label\": 2}, {\"country\": \"Peru\", \"income\": 11903, \"health\": 77.5, \"population\": 31376670, \"label\": 2}, {\"country\": \"Philippines\", \"income\": 6876, \"health\": 70.2, \"population\": 100699395, \"label\": 0}, {\"country\": \"Poland\", \"income\": 24787, \"health\": 77.3, \"population\": 38611794, \"label\": 0}, {\"country\": \"Portugal\", \"income\": 26437, \"health\": 79.8, \"population\": 10349803, \"label\": 2}, {\"country\": \"Qatar\", \"income\": 132877, \"health\": 82.0, \"population\": 2235355, \"label\": 2}, {\"country\": \"Romania\", \"income\": 19203, \"health\": 76.8, \"population\": 19511324, \"label\": 2}, {\"country\": \"Russia\", \"income\": 23038, \"health\": 73.13, \"population\": 143456918, \"label\": 4}, {\"country\": \"Rwanda\", \"income\": 1549, \"health\": 66.53, \"population\": 11609666, \"label\": 2}, {\"country\": \"Samoa\", \"income\": 5558, \"health\": 72.2, \"population\": 193228, \"label\": 2}, {\"country\": \"Sao Tome and Principe\", \"income\": 3003, \"health\": 68.8, \"population\": 190344, \"label\": 2}, {\"country\": \"Saudi Arabia\", \"income\": 52469, \"health\": 78.1, \"population\": 31540372, \"label\": 2}, {\"country\": \"Senegal\", \"income\": 2251, \"health\": 66.1, \"population\": 15129273, \"label\": 2}, {\"country\": \"Serbia\", \"income\": 12908, \"health\": 78.1, \"population\": 8850975, \"label\": 2}, {\"country\": \"Seychelles\", \"income\": 25684, \"health\": 73.7, \"population\": 96471, \"label\": 2}, {\"country\": \"Sierra Leone\", \"income\": 2085, \"health\": 58.5, \"population\": 6453184, \"label\": 2}, {\"country\": \"Singapore\", \"income\": 80794, \"health\": 82.1, \"population\": 5603740, \"label\": 2}, {\"country\": \"Slovak Republic\", \"income\": 27204, \"health\": 76.4, \"population\": 5426258, \"label\": 2}, {\"country\": \"Slovenia\", \"income\": 28550, \"health\": 80.2, \"population\": 2067526, \"label\": 2}, {\"country\": \"Solomon Islands\", \"income\": 2047, \"health\": 64.1, \"population\": 583591, \"label\": 2}, {\"country\": \"Somalia\", \"income\": 624, \"health\": 58.7, \"population\": 10787104, \"label\": 2}, {\"country\": \"South Africa\", \"income\": 12509, \"health\": 63.72, \"population\": 54490406, \"label\": 0}, {\"country\": \"South Korea\", \"income\": 34644, \"health\": 80.7, \"population\": 50293439, \"label\": 0}, {\"country\": \"South Sudan\", \"income\": 3047, \"health\": 58.0, \"population\": 12339812, \"label\": 2}, {\"country\": \"Spain\", \"income\": 32979, \"health\": 81.7, \"population\": 46121699, \"label\": 0}, {\"country\": \"Sri Lanka\", \"income\": 10624, \"health\": 76.5, \"population\": 20715010, \"label\": 2}, {\"country\": \"St. Lucia\", \"income\": 9997, \"health\": 74.5, \"population\": 184999, \"label\": 2}, {\"country\": \"St. Vincent and the Grenadines\", \"income\": 10435, \"health\": 72.9, \"population\": 109462, \"label\": 2}, {\"country\": \"Sudan\", \"income\": 3975, \"health\": 69.5, \"population\": 40234882, \"label\": 0}, {\"country\": \"Suriname\", \"income\": 17125, \"health\": 70.5, \"population\": 542975, \"label\": 2}, {\"country\": \"Swaziland\", \"income\": 6095, \"health\": 51.5, \"population\": 1286970, \"label\": 2}, {\"country\": \"Sweden\", \"income\": 44892, \"health\": 82.0, \"population\": 9779426, \"label\": 2}, {\"country\": \"Switzerland\", \"income\": 56118, \"health\": 82.9, \"population\": 8298663, \"label\": 2}, {\"country\": \"Syria\", \"income\": 4637, \"health\": 70.26, \"population\": 18502413, \"label\": 2}, {\"country\": \"Tajikistan\", \"income\": 2582, \"health\": 71.0, \"population\": 8481855, \"label\": 2}, {\"country\": \"Tanzania\", \"income\": 2571, \"health\": 63.43, \"population\": 53470420, \"label\": 0}, {\"country\": \"Thailand\", \"income\": 14512, \"health\": 75.1, \"population\": 67959359, \"label\": 0}, {\"country\": \"Timor-Leste\", \"income\": 2086, \"health\": 72.4, \"population\": 1184765, \"label\": 2}, {\"country\": \"Togo\", \"income\": 1433, \"health\": 64.23, \"population\": 7304578, \"label\": 2}, {\"country\": \"Tonga\", \"income\": 5069, \"health\": 70.5, \"population\": 106170, \"label\": 2}, {\"country\": \"Trinidad and Tobago\", \"income\": 30113, \"health\": 71.4, \"population\": 1360088, \"label\": 2}, {\"country\": \"Tunisia\", \"income\": 11126, \"health\": 77.3, \"population\": 11253554, \"label\": 2}, {\"country\": \"Turkey\", \"income\": 19360, \"health\": 76.5, \"population\": 78665830, \"label\": 0}, {\"country\": \"Turkmenistan\", \"income\": 15865, \"health\": 67.9, \"population\": 5373502, \"label\": 2}, {\"country\": \"Uganda\", \"income\": 1680, \"health\": 60.8, \"population\": 39032383, \"label\": 0}, {\"country\": \"Ukraine\", \"income\": 8449, \"health\": 72.1, \"population\": 44823765, \"label\": 0}, {\"country\": \"United Arab Emirates\", \"income\": 60749, \"health\": 76.6, \"population\": 9156963, \"label\": 2}, {\"country\": \"United Kingdom\", \"income\": 38225, \"health\": 81.4, \"population\": 64715810, \"label\": 0}, {\"country\": \"United States\", \"income\": 53354, \"health\": 79.1, \"population\": 321773631, \"label\": 3}, {\"country\": \"Uruguay\", \"income\": 20438, \"health\": 77.3, \"population\": 3431555, \"label\": 2}, {\"country\": \"Uzbekistan\", \"income\": 5598, \"health\": 70.1, \"population\": 29893488, \"label\": 2}, {\"country\": \"Vanuatu\", \"income\": 2912, \"health\": 65.0, \"population\": 264652, \"label\": 2}, {\"country\": \"Venezuela\", \"income\": 15753, \"health\": 75.8, \"population\": 31108083, \"label\": 2}, {\"country\": \"Vietnam\", \"income\": 5623, \"health\": 76.5, \"population\": 93447601, \"label\": 0}, {\"country\": \"West Bank and Gaza\", \"income\": 4319, \"health\": 75.2, \"population\": 4668466, \"label\": 2}, {\"country\": \"Yemen\", \"income\": 3887, \"health\": 67.6, \"population\": 26832215, \"label\": 2}, {\"country\": \"Zambia\", \"income\": 4034, \"health\": 58.96, \"population\": 16211767, \"label\": 2}, {\"country\": \"Zimbabwe\", \"income\": 1801, \"health\": 60.01, \"population\": 15602751, \"label\": 2}]}}, {\"mode\": \"vega-lite\"});\n",
       "</script>"
      ],
      "text/plain": [
       "alt.Chart(...)"
      ]
     },
     "execution_count": 67,
     "metadata": {},
     "output_type": "execute_result"
    }
   ],
   "source": [
    "(\n",
    "    alt.Chart(gapminder)\n",
    "    .mark_circle()\n",
    "    .encode(\n",
    "        alt.X(\"income:Q\", scale=alt.Scale(type=\"log\")),\n",
    "        alt.Y(\"health:Q\", scale=alt.Scale(zero=False)),\n",
    "        size=\"population:Q\",\n",
    "        color=alt.Color(\"label:N\", scale=alt.Scale(scheme=\"dark2\")),\n",
    "        tooltip=list(gapminder.columns),\n",
    "    )\n",
    "    .properties(width=800, height=600)\n",
    "    .interactive()\n",
    ")"
   ]
  },
  {
   "cell_type": "markdown",
   "metadata": {
    "slideshow": {
     "slide_type": "slide"
    }
   },
   "source": [
    "#### It....didn't work that well\n",
    "\n",
    "What's wrong?"
   ]
  },
  {
   "cell_type": "markdown",
   "metadata": {
    "slideshow": {
     "slide_type": "subslide"
    }
   },
   "source": [
    "**K-means is distance-based, but our features have wildly different distance scales**"
   ]
  },
  {
   "cell_type": "markdown",
   "metadata": {
    "slideshow": {
     "slide_type": "slide"
    }
   },
   "source": [
    "#### scikit-learn to the rescue: pre-processing\n",
    "\n",
    "* Scikit-learn has a utility to normalize features with an average of zero and a variance of 1\n",
    "* Use the [`StandardScaler`](https://scikit-learn.org/stable/modules/generated/sklearn.preprocessing.StandardScaler.html) class"
   ]
  },
  {
   "cell_type": "code",
   "execution_count": 68,
   "metadata": {},
   "outputs": [],
   "source": [
    "from sklearn.preprocessing import MinMaxScaler, RobustScaler"
   ]
  },
  {
   "cell_type": "code",
   "execution_count": 69,
   "metadata": {
    "slideshow": {
     "slide_type": "fragment"
    }
   },
   "outputs": [],
   "source": [
    "from sklearn.preprocessing import StandardScaler"
   ]
  },
  {
   "cell_type": "code",
   "execution_count": 70,
   "metadata": {
    "slideshow": {
     "slide_type": "fragment"
    }
   },
   "outputs": [],
   "source": [
    "scaler = StandardScaler()"
   ]
  },
  {
   "cell_type": "markdown",
   "metadata": {
    "slideshow": {
     "slide_type": "slide"
    }
   },
   "source": [
    "#### Use the `fit_transform()` function to scale your features"
   ]
  },
  {
   "cell_type": "code",
   "execution_count": 71,
   "metadata": {
    "slideshow": {
     "slide_type": "fragment"
    }
   },
   "outputs": [],
   "source": [
    "gapminder_scaled = scaler.fit_transform(gapminder[['income', 'health', 'population']])"
   ]
  },
  {
   "cell_type": "markdown",
   "metadata": {
    "slideshow": {
     "slide_type": "slide"
    }
   },
   "source": [
    "**Important**: The `fit_transform()` function converts the DataFrame to a numpy array:"
   ]
  },
  {
   "cell_type": "code",
   "execution_count": 72,
   "metadata": {
    "slideshow": {
     "slide_type": "fragment"
    }
   },
   "outputs": [
    {
     "data": {
      "text/plain": [
       "array([[-0.79481258, -1.8171424 , -0.04592039],\n",
       "       [-0.34333373,  0.55986273, -0.25325837],\n",
       "       [-0.1972197 ,  0.62456075,  0.00404216],\n",
       "       [ 1.52369617,  1.6079706 , -0.27303503],\n",
       "       [-0.49936524, -1.38107777, -0.09843447]])"
      ]
     },
     "execution_count": 72,
     "metadata": {},
     "output_type": "execute_result"
    }
   ],
   "source": [
    "# fit_transform() converts the data into a numpy array\n",
    "gapminder_scaled[:5]"
   ]
  },
  {
   "cell_type": "code",
   "execution_count": 73,
   "metadata": {
    "slideshow": {
     "slide_type": "subslide"
    }
   },
   "outputs": [
    {
     "data": {
      "text/plain": [
       "array([ 8.07434927e-17, -1.70511258e-15, -1.89984689e-17])"
      ]
     },
     "execution_count": 73,
     "metadata": {},
     "output_type": "execute_result"
    }
   ],
   "source": [
    "# mean of zero\n",
    "gapminder_scaled.mean(axis=0)"
   ]
  },
  {
   "cell_type": "code",
   "execution_count": 74,
   "metadata": {
    "slideshow": {
     "slide_type": "subslide"
    }
   },
   "outputs": [
    {
     "data": {
      "text/plain": [
       "array([1., 1., 1.])"
      ]
     },
     "execution_count": 74,
     "metadata": {},
     "output_type": "execute_result"
    }
   ],
   "source": [
    "# variance of one\n",
    "gapminder_scaled.std(axis=0)"
   ]
  },
  {
   "cell_type": "markdown",
   "metadata": {
    "slideshow": {
     "slide_type": "slide"
    }
   },
   "source": [
    "#### Now fit the scaled features"
   ]
  },
  {
   "cell_type": "code",
   "execution_count": 75,
   "metadata": {
    "slideshow": {
     "slide_type": "fragment"
    }
   },
   "outputs": [],
   "source": [
    "# Perform the fit\n",
    "kmeans.fit(gapminder_scaled)\n",
    "\n",
    "# Extract the labels\n",
    "gapminder['label'] = kmeans.labels_"
   ]
  },
  {
   "cell_type": "code",
   "execution_count": 76,
   "metadata": {
    "slideshow": {
     "slide_type": "subslide"
    }
   },
   "outputs": [
    {
     "name": "stderr",
     "output_type": "stream",
     "text": [
      "/Users/delmelle/miniforge3/lib/python3.10/site-packages/altair/utils/core.py:384: FutureWarning: the convert_dtype parameter is deprecated and will be removed in a future version.  Do ``ser.astype(object).apply()`` instead if you want ``convert_dtype=False``.\n",
      "  col = df[col_name].apply(to_list_if_array, convert_dtype=False)\n"
     ]
    },
    {
     "data": {
      "text/html": [
       "\n",
       "<div id=\"altair-viz-90721aed416840a780513f6dab56cdcd\"></div>\n",
       "<script type=\"text/javascript\">\n",
       "  var VEGA_DEBUG = (typeof VEGA_DEBUG == \"undefined\") ? {} : VEGA_DEBUG;\n",
       "  (function(spec, embedOpt){\n",
       "    let outputDiv = document.currentScript.previousElementSibling;\n",
       "    if (outputDiv.id !== \"altair-viz-90721aed416840a780513f6dab56cdcd\") {\n",
       "      outputDiv = document.getElementById(\"altair-viz-90721aed416840a780513f6dab56cdcd\");\n",
       "    }\n",
       "    const paths = {\n",
       "      \"vega\": \"https://cdn.jsdelivr.net/npm//vega@5?noext\",\n",
       "      \"vega-lib\": \"https://cdn.jsdelivr.net/npm//vega-lib?noext\",\n",
       "      \"vega-lite\": \"https://cdn.jsdelivr.net/npm//vega-lite@4.17.0?noext\",\n",
       "      \"vega-embed\": \"https://cdn.jsdelivr.net/npm//vega-embed@6?noext\",\n",
       "    };\n",
       "\n",
       "    function maybeLoadScript(lib, version) {\n",
       "      var key = `${lib.replace(\"-\", \"\")}_version`;\n",
       "      return (VEGA_DEBUG[key] == version) ?\n",
       "        Promise.resolve(paths[lib]) :\n",
       "        new Promise(function(resolve, reject) {\n",
       "          var s = document.createElement('script');\n",
       "          document.getElementsByTagName(\"head\")[0].appendChild(s);\n",
       "          s.async = true;\n",
       "          s.onload = () => {\n",
       "            VEGA_DEBUG[key] = version;\n",
       "            return resolve(paths[lib]);\n",
       "          };\n",
       "          s.onerror = () => reject(`Error loading script: ${paths[lib]}`);\n",
       "          s.src = paths[lib];\n",
       "        });\n",
       "    }\n",
       "\n",
       "    function showError(err) {\n",
       "      outputDiv.innerHTML = `<div class=\"error\" style=\"color:red;\">${err}</div>`;\n",
       "      throw err;\n",
       "    }\n",
       "\n",
       "    function displayChart(vegaEmbed) {\n",
       "      vegaEmbed(outputDiv, spec, embedOpt)\n",
       "        .catch(err => showError(`Javascript Error: ${err.message}<br>This usually means there's a typo in your chart specification. See the javascript console for the full traceback.`));\n",
       "    }\n",
       "\n",
       "    if(typeof define === \"function\" && define.amd) {\n",
       "      requirejs.config({paths});\n",
       "      require([\"vega-embed\"], displayChart, err => showError(`Error loading script: ${err.message}`));\n",
       "    } else {\n",
       "      maybeLoadScript(\"vega\", \"5\")\n",
       "        .then(() => maybeLoadScript(\"vega-lite\", \"4.17.0\"))\n",
       "        .then(() => maybeLoadScript(\"vega-embed\", \"6\"))\n",
       "        .catch(showError)\n",
       "        .then(() => displayChart(vegaEmbed));\n",
       "    }\n",
       "  })({\"config\": {\"view\": {\"continuousWidth\": 400, \"continuousHeight\": 300}}, \"data\": {\"name\": \"data-c92387706a33a28cc7b11ad841f4502b\"}, \"mark\": \"circle\", \"encoding\": {\"color\": {\"field\": \"label\", \"scale\": {\"scheme\": \"dark2\"}, \"type\": \"nominal\"}, \"size\": {\"field\": \"population\", \"type\": \"quantitative\"}, \"tooltip\": [{\"field\": \"country\", \"type\": \"nominal\"}, {\"field\": \"income\", \"type\": \"quantitative\"}, {\"field\": \"health\", \"type\": \"quantitative\"}, {\"field\": \"population\", \"type\": \"quantitative\"}, {\"field\": \"label\", \"type\": \"quantitative\"}], \"x\": {\"field\": \"income\", \"scale\": {\"type\": \"log\"}, \"type\": \"quantitative\"}, \"y\": {\"field\": \"health\", \"scale\": {\"zero\": false}, \"type\": \"quantitative\"}}, \"height\": 600, \"selection\": {\"selector008\": {\"type\": \"interval\", \"bind\": \"scales\", \"encodings\": [\"x\", \"y\"]}}, \"width\": 800, \"$schema\": \"https://vega.github.io/schema/vega-lite/v4.17.0.json\", \"datasets\": {\"data-c92387706a33a28cc7b11ad841f4502b\": [{\"country\": \"Afghanistan\", \"income\": 1925, \"health\": 57.63, \"population\": 32526562, \"label\": 0}, {\"country\": \"Albania\", \"income\": 10620, \"health\": 76.0, \"population\": 2896679, \"label\": 1}, {\"country\": \"Algeria\", \"income\": 13434, \"health\": 76.5, \"population\": 39666519, \"label\": 1}, {\"country\": \"Andorra\", \"income\": 46577, \"health\": 84.1, \"population\": 70473, \"label\": 4}, {\"country\": \"Angola\", \"income\": 7615, \"health\": 61.0, \"population\": 25021974, \"label\": 0}, {\"country\": \"Antigua and Barbuda\", \"income\": 21049, \"health\": 75.2, \"population\": 91818, \"label\": 1}, {\"country\": \"Argentina\", \"income\": 17344, \"health\": 76.2, \"population\": 43416755, \"label\": 1}, {\"country\": \"Armenia\", \"income\": 7763, \"health\": 74.4, \"population\": 3017712, \"label\": 1}, {\"country\": \"Australia\", \"income\": 44056, \"health\": 81.8, \"population\": 23968973, \"label\": 4}, {\"country\": \"Austria\", \"income\": 44401, \"health\": 81.0, \"population\": 8544586, \"label\": 4}, {\"country\": \"Azerbaijan\", \"income\": 16986, \"health\": 72.9, \"population\": 9753968, \"label\": 1}, {\"country\": \"Bahamas\", \"income\": 22818, \"health\": 72.3, \"population\": 388019, \"label\": 1}, {\"country\": \"Bahrain\", \"income\": 44138, \"health\": 79.2, \"population\": 1377237, \"label\": 4}, {\"country\": \"Bangladesh\", \"income\": 3161, \"health\": 70.1, \"population\": 160995642, \"label\": 1}, {\"country\": \"Barbados\", \"income\": 12984, \"health\": 75.8, \"population\": 284215, \"label\": 1}, {\"country\": \"Belarus\", \"income\": 17415, \"health\": 70.4, \"population\": 9495826, \"label\": 1}, {\"country\": \"Belgium\", \"income\": 41240, \"health\": 80.4, \"population\": 11299192, \"label\": 4}, {\"country\": \"Belize\", \"income\": 8501, \"health\": 70.0, \"population\": 359287, \"label\": 1}, {\"country\": \"Benin\", \"income\": 1830, \"health\": 65.5, \"population\": 10879829, \"label\": 0}, {\"country\": \"Bhutan\", \"income\": 7983, \"health\": 70.2, \"population\": 774830, \"label\": 1}, {\"country\": \"Bolivia\", \"income\": 6295, \"health\": 72.3, \"population\": 10724705, \"label\": 1}, {\"country\": \"Bosnia and Herzegovina\", \"income\": 9833, \"health\": 77.9, \"population\": 3810416, \"label\": 1}, {\"country\": \"Botswana\", \"income\": 17196, \"health\": 66.4, \"population\": 2262485, \"label\": 0}, {\"country\": \"Brazil\", \"income\": 15441, \"health\": 75.6, \"population\": 207847528, \"label\": 1}, {\"country\": \"Brunei\", \"income\": 73003, \"health\": 78.7, \"population\": 423188, \"label\": 2}, {\"country\": \"Bulgaria\", \"income\": 16371, \"health\": 74.9, \"population\": 7149787, \"label\": 1}, {\"country\": \"Burkina Faso\", \"income\": 1654, \"health\": 62.8, \"population\": 18105570, \"label\": 0}, {\"country\": \"Burundi\", \"income\": 777, \"health\": 60.4, \"population\": 11178921, \"label\": 0}, {\"country\": \"Cambodia\", \"income\": 3267, \"health\": 68.4, \"population\": 15577899, \"label\": 0}, {\"country\": \"Cameroon\", \"income\": 2897, \"health\": 59.5, \"population\": 23344179, \"label\": 0}, {\"country\": \"Canada\", \"income\": 43294, \"health\": 81.7, \"population\": 35939927, \"label\": 4}, {\"country\": \"Cape Verde\", \"income\": 6514, \"health\": 74.6, \"population\": 520502, \"label\": 1}, {\"country\": \"Central African Republic\", \"income\": 599, \"health\": 53.8, \"population\": 4900274, \"label\": 0}, {\"country\": \"Chad\", \"income\": 2191, \"health\": 57.7, \"population\": 14037472, \"label\": 0}, {\"country\": \"Chile\", \"income\": 22465, \"health\": 79.3, \"population\": 17948141, \"label\": 1}, {\"country\": \"China\", \"income\": 13334, \"health\": 76.9, \"population\": 1376048943, \"label\": 3}, {\"country\": \"Colombia\", \"income\": 12761, \"health\": 75.8, \"population\": 48228704, \"label\": 1}, {\"country\": \"Comoros\", \"income\": 1472, \"health\": 64.1, \"population\": 788474, \"label\": 0}, {\"country\": \"Congo, Dem. Rep.\", \"income\": 809, \"health\": 58.3, \"population\": 77266814, \"label\": 0}, {\"country\": \"Congo, Rep.\", \"income\": 6220, \"health\": 61.9, \"population\": 4620330, \"label\": 0}, {\"country\": \"Costa Rica\", \"income\": 14132, \"health\": 80.0, \"population\": 4807850, \"label\": 1}, {\"country\": \"Cote d'Ivoire\", \"income\": 3491, \"health\": 60.33, \"population\": 22701556, \"label\": 0}, {\"country\": \"Croatia\", \"income\": 20260, \"health\": 78.0, \"population\": 4240317, \"label\": 1}, {\"country\": \"Cuba\", \"income\": 21291, \"health\": 78.5, \"population\": 11389562, \"label\": 1}, {\"country\": \"Cyprus\", \"income\": 29797, \"health\": 82.6, \"population\": 1165300, \"label\": 4}, {\"country\": \"Czech Republic\", \"income\": 29437, \"health\": 78.6, \"population\": 10543186, \"label\": 4}, {\"country\": \"Denmark\", \"income\": 43495, \"health\": 80.1, \"population\": 5669081, \"label\": 4}, {\"country\": \"Djibouti\", \"income\": 3139, \"health\": 64.63, \"population\": 887861, \"label\": 0}, {\"country\": \"Dominica\", \"income\": 10503, \"health\": 74.6, \"population\": 72680, \"label\": 1}, {\"country\": \"Dominican Republic\", \"income\": 12837, \"health\": 73.8, \"population\": 10528391, \"label\": 1}, {\"country\": \"Ecuador\", \"income\": 10996, \"health\": 75.2, \"population\": 16144363, \"label\": 1}, {\"country\": \"Egypt\", \"income\": 11031, \"health\": 71.3, \"population\": 91508084, \"label\": 1}, {\"country\": \"El Salvador\", \"income\": 7776, \"health\": 74.1, \"population\": 6126583, \"label\": 1}, {\"country\": \"Equatorial Guinea\", \"income\": 31087, \"health\": 60.63, \"population\": 845060, \"label\": 0}, {\"country\": \"Eritrea\", \"income\": 1129, \"health\": 62.9, \"population\": 5227791, \"label\": 0}, {\"country\": \"Estonia\", \"income\": 26812, \"health\": 76.8, \"population\": 1312558, \"label\": 1}, {\"country\": \"Ethiopia\", \"income\": 1520, \"health\": 63.6, \"population\": 99390750, \"label\": 0}, {\"country\": \"Fiji\", \"income\": 7925, \"health\": 66.3, \"population\": 892145, \"label\": 0}, {\"country\": \"Finland\", \"income\": 38923, \"health\": 80.8, \"population\": 5503457, \"label\": 4}, {\"country\": \"France\", \"income\": 37599, \"health\": 81.9, \"population\": 64395345, \"label\": 4}, {\"country\": \"Gabon\", \"income\": 18627, \"health\": 60.53, \"population\": 1725292, \"label\": 0}, {\"country\": \"Gambia\", \"income\": 1644, \"health\": 65.1, \"population\": 1990924, \"label\": 0}, {\"country\": \"Georgia\", \"income\": 7474, \"health\": 73.3, \"population\": 3999812, \"label\": 1}, {\"country\": \"Germany\", \"income\": 44053, \"health\": 81.1, \"population\": 80688545, \"label\": 4}, {\"country\": \"Ghana\", \"income\": 4099, \"health\": 65.5, \"population\": 27409893, \"label\": 0}, {\"country\": \"Greece\", \"income\": 25430, \"health\": 79.8, \"population\": 10954617, \"label\": 4}, {\"country\": \"Grenada\", \"income\": 11593, \"health\": 71.7, \"population\": 106825, \"label\": 1}, {\"country\": \"Guatemala\", \"income\": 7279, \"health\": 73.1, \"population\": 16342897, \"label\": 1}, {\"country\": \"Guinea\", \"income\": 1225, \"health\": 60.8, \"population\": 12608590, \"label\": 0}, {\"country\": \"Guinea-Bissau\", \"income\": 1386, \"health\": 53.4, \"population\": 1844325, \"label\": 0}, {\"country\": \"Guyana\", \"income\": 6816, \"health\": 64.4, \"population\": 767085, \"label\": 0}, {\"country\": \"Haiti\", \"income\": 1710, \"health\": 65.3, \"population\": 10711067, \"label\": 0}, {\"country\": \"Honduras\", \"income\": 4270, \"health\": 72.4, \"population\": 8075060, \"label\": 1}, {\"country\": \"Hungary\", \"income\": 24200, \"health\": 76.2, \"population\": 9855023, \"label\": 1}, {\"country\": \"Iceland\", \"income\": 42182, \"health\": 82.8, \"population\": 329425, \"label\": 4}, {\"country\": \"India\", \"income\": 5903, \"health\": 66.8, \"population\": 1311050527, \"label\": 3}, {\"country\": \"Indonesia\", \"income\": 10504, \"health\": 70.9, \"population\": 257563815, \"label\": 1}, {\"country\": \"Iran\", \"income\": 15573, \"health\": 78.5, \"population\": 79109272, \"label\": 1}, {\"country\": \"Iraq\", \"income\": 14646, \"health\": 72.1, \"population\": 36423395, \"label\": 1}, {\"country\": \"Ireland\", \"income\": 47758, \"health\": 80.4, \"population\": 4688465, \"label\": 4}, {\"country\": \"Israel\", \"income\": 31590, \"health\": 82.4, \"population\": 8064036, \"label\": 4}, {\"country\": \"Italy\", \"income\": 33297, \"health\": 82.1, \"population\": 59797685, \"label\": 4}, {\"country\": \"Jamaica\", \"income\": 8606, \"health\": 75.5, \"population\": 2793335, \"label\": 1}, {\"country\": \"Japan\", \"income\": 36162, \"health\": 83.5, \"population\": 126573481, \"label\": 4}, {\"country\": \"Jordan\", \"income\": 11752, \"health\": 78.3, \"population\": 7594547, \"label\": 1}, {\"country\": \"Kazakhstan\", \"income\": 23468, \"health\": 68.2, \"population\": 17625226, \"label\": 1}, {\"country\": \"Kenya\", \"income\": 2898, \"health\": 66.63, \"population\": 46050302, \"label\": 0}, {\"country\": \"Kiribati\", \"income\": 1824, \"health\": 62.4, \"population\": 112423, \"label\": 0}, {\"country\": \"Kuwait\", \"income\": 82633, \"health\": 80.7, \"population\": 3892115, \"label\": 2}, {\"country\": \"Kyrgyz Republic\", \"income\": 3245, \"health\": 69.0, \"population\": 5939962, \"label\": 0}, {\"country\": \"Lao\", \"income\": 5212, \"health\": 66.4, \"population\": 6802023, \"label\": 0}, {\"country\": \"Latvia\", \"income\": 23282, \"health\": 75.7, \"population\": 1970503, \"label\": 1}, {\"country\": \"Lebanon\", \"income\": 17050, \"health\": 78.5, \"population\": 5850743, \"label\": 1}, {\"country\": \"Lesotho\", \"income\": 2598, \"health\": 48.5, \"population\": 2135022, \"label\": 0}, {\"country\": \"Liberia\", \"income\": 958, \"health\": 63.9, \"population\": 4503438, \"label\": 0}, {\"country\": \"Libya\", \"income\": 17261, \"health\": 76.2, \"population\": 6278438, \"label\": 1}, {\"country\": \"Lithuania\", \"income\": 26665, \"health\": 75.4, \"population\": 2878405, \"label\": 1}, {\"country\": \"Luxembourg\", \"income\": 88314, \"health\": 81.1, \"population\": 567110, \"label\": 2}, {\"country\": \"Macedonia, FYR\", \"income\": 12547, \"health\": 77.0, \"population\": 2078453, \"label\": 1}, {\"country\": \"Madagascar\", \"income\": 1400, \"health\": 64.7, \"population\": 24235390, \"label\": 0}, {\"country\": \"Malawi\", \"income\": 799, \"health\": 60.22, \"population\": 17215232, \"label\": 0}, {\"country\": \"Malaysia\", \"income\": 24320, \"health\": 75.1, \"population\": 30331007, \"label\": 1}, {\"country\": \"Maldives\", \"income\": 14408, \"health\": 79.5, \"population\": 363657, \"label\": 1}, {\"country\": \"Mali\", \"income\": 1684, \"health\": 57.6, \"population\": 17599694, \"label\": 0}, {\"country\": \"Malta\", \"income\": 30265, \"health\": 82.1, \"population\": 418670, \"label\": 4}, {\"country\": \"Marshall Islands\", \"income\": 3661, \"health\": 65.1, \"population\": 52993, \"label\": 0}, {\"country\": \"Mauritania\", \"income\": 3877, \"health\": 65.7, \"population\": 4067564, \"label\": 0}, {\"country\": \"Mauritius\", \"income\": 18350, \"health\": 73.9, \"population\": 1273212, \"label\": 1}, {\"country\": \"Mexico\", \"income\": 16850, \"health\": 74.5, \"population\": 127017224, \"label\": 1}, {\"country\": \"Micronesia, Fed. Sts.\", \"income\": 3510, \"health\": 67.0, \"population\": 104460, \"label\": 0}, {\"country\": \"Moldova\", \"income\": 4896, \"health\": 72.7, \"population\": 4068897, \"label\": 1}, {\"country\": \"Mongolia\", \"income\": 11819, \"health\": 65.3, \"population\": 2959134, \"label\": 0}, {\"country\": \"Montenegro\", \"income\": 14833, \"health\": 75.8, \"population\": 625781, \"label\": 1}, {\"country\": \"Morocco\", \"income\": 7319, \"health\": 74.7, \"population\": 34377511, \"label\": 1}, {\"country\": \"Mozambique\", \"income\": 1176, \"health\": 56.4, \"population\": 27977863, \"label\": 0}, {\"country\": \"Myanmar\", \"income\": 4012, \"health\": 67.9, \"population\": 53897154, \"label\": 0}, {\"country\": \"Namibia\", \"income\": 10040, \"health\": 61.0, \"population\": 2458830, \"label\": 0}, {\"country\": \"Nepal\", \"income\": 2352, \"health\": 71.2, \"population\": 28513700, \"label\": 1}, {\"country\": \"Netherlands\", \"income\": 45784, \"health\": 80.6, \"population\": 16924929, \"label\": 4}, {\"country\": \"New Zealand\", \"income\": 34186, \"health\": 80.6, \"population\": 4528526, \"label\": 4}, {\"country\": \"Nicaragua\", \"income\": 4712, \"health\": 76.8, \"population\": 6082032, \"label\": 1}, {\"country\": \"Niger\", \"income\": 943, \"health\": 62.2, \"population\": 19899120, \"label\": 0}, {\"country\": \"Nigeria\", \"income\": 5727, \"health\": 61.33, \"population\": 182201962, \"label\": 0}, {\"country\": \"North Korea\", \"income\": 1390, \"health\": 71.4, \"population\": 25155317, \"label\": 1}, {\"country\": \"Norway\", \"income\": 64304, \"health\": 81.6, \"population\": 5210967, \"label\": 4}, {\"country\": \"Oman\", \"income\": 48226, \"health\": 75.7, \"population\": 4490541, \"label\": 4}, {\"country\": \"Pakistan\", \"income\": 4743, \"health\": 66.5, \"population\": 188924874, \"label\": 0}, {\"country\": \"Panama\", \"income\": 20485, \"health\": 78.2, \"population\": 3929141, \"label\": 1}, {\"country\": \"Papua New Guinea\", \"income\": 2529, \"health\": 60.6, \"population\": 7619321, \"label\": 0}, {\"country\": \"Paraguay\", \"income\": 8219, \"health\": 73.9, \"population\": 6639123, \"label\": 1}, {\"country\": \"Peru\", \"income\": 11903, \"health\": 77.5, \"population\": 31376670, \"label\": 1}, {\"country\": \"Philippines\", \"income\": 6876, \"health\": 70.2, \"population\": 100699395, \"label\": 1}, {\"country\": \"Poland\", \"income\": 24787, \"health\": 77.3, \"population\": 38611794, \"label\": 1}, {\"country\": \"Portugal\", \"income\": 26437, \"health\": 79.8, \"population\": 10349803, \"label\": 4}, {\"country\": \"Qatar\", \"income\": 132877, \"health\": 82.0, \"population\": 2235355, \"label\": 2}, {\"country\": \"Romania\", \"income\": 19203, \"health\": 76.8, \"population\": 19511324, \"label\": 1}, {\"country\": \"Russia\", \"income\": 23038, \"health\": 73.13, \"population\": 143456918, \"label\": 1}, {\"country\": \"Rwanda\", \"income\": 1549, \"health\": 66.53, \"population\": 11609666, \"label\": 0}, {\"country\": \"Samoa\", \"income\": 5558, \"health\": 72.2, \"population\": 193228, \"label\": 1}, {\"country\": \"Sao Tome and Principe\", \"income\": 3003, \"health\": 68.8, \"population\": 190344, \"label\": 0}, {\"country\": \"Saudi Arabia\", \"income\": 52469, \"health\": 78.1, \"population\": 31540372, \"label\": 4}, {\"country\": \"Senegal\", \"income\": 2251, \"health\": 66.1, \"population\": 15129273, \"label\": 0}, {\"country\": \"Serbia\", \"income\": 12908, \"health\": 78.1, \"population\": 8850975, \"label\": 1}, {\"country\": \"Seychelles\", \"income\": 25684, \"health\": 73.7, \"population\": 96471, \"label\": 1}, {\"country\": \"Sierra Leone\", \"income\": 2085, \"health\": 58.5, \"population\": 6453184, \"label\": 0}, {\"country\": \"Singapore\", \"income\": 80794, \"health\": 82.1, \"population\": 5603740, \"label\": 2}, {\"country\": \"Slovak Republic\", \"income\": 27204, \"health\": 76.4, \"population\": 5426258, \"label\": 1}, {\"country\": \"Slovenia\", \"income\": 28550, \"health\": 80.2, \"population\": 2067526, \"label\": 4}, {\"country\": \"Solomon Islands\", \"income\": 2047, \"health\": 64.1, \"population\": 583591, \"label\": 0}, {\"country\": \"Somalia\", \"income\": 624, \"health\": 58.7, \"population\": 10787104, \"label\": 0}, {\"country\": \"South Africa\", \"income\": 12509, \"health\": 63.72, \"population\": 54490406, \"label\": 0}, {\"country\": \"South Korea\", \"income\": 34644, \"health\": 80.7, \"population\": 50293439, \"label\": 4}, {\"country\": \"South Sudan\", \"income\": 3047, \"health\": 58.0, \"population\": 12339812, \"label\": 0}, {\"country\": \"Spain\", \"income\": 32979, \"health\": 81.7, \"population\": 46121699, \"label\": 4}, {\"country\": \"Sri Lanka\", \"income\": 10624, \"health\": 76.5, \"population\": 20715010, \"label\": 1}, {\"country\": \"St. Lucia\", \"income\": 9997, \"health\": 74.5, \"population\": 184999, \"label\": 1}, {\"country\": \"St. Vincent and the Grenadines\", \"income\": 10435, \"health\": 72.9, \"population\": 109462, \"label\": 1}, {\"country\": \"Sudan\", \"income\": 3975, \"health\": 69.5, \"population\": 40234882, \"label\": 1}, {\"country\": \"Suriname\", \"income\": 17125, \"health\": 70.5, \"population\": 542975, \"label\": 1}, {\"country\": \"Swaziland\", \"income\": 6095, \"health\": 51.5, \"population\": 1286970, \"label\": 0}, {\"country\": \"Sweden\", \"income\": 44892, \"health\": 82.0, \"population\": 9779426, \"label\": 4}, {\"country\": \"Switzerland\", \"income\": 56118, \"health\": 82.9, \"population\": 8298663, \"label\": 4}, {\"country\": \"Syria\", \"income\": 4637, \"health\": 70.26, \"population\": 18502413, \"label\": 1}, {\"country\": \"Tajikistan\", \"income\": 2582, \"health\": 71.0, \"population\": 8481855, \"label\": 1}, {\"country\": \"Tanzania\", \"income\": 2571, \"health\": 63.43, \"population\": 53470420, \"label\": 0}, {\"country\": \"Thailand\", \"income\": 14512, \"health\": 75.1, \"population\": 67959359, \"label\": 1}, {\"country\": \"Timor-Leste\", \"income\": 2086, \"health\": 72.4, \"population\": 1184765, \"label\": 1}, {\"country\": \"Togo\", \"income\": 1433, \"health\": 64.23, \"population\": 7304578, \"label\": 0}, {\"country\": \"Tonga\", \"income\": 5069, \"health\": 70.5, \"population\": 106170, \"label\": 1}, {\"country\": \"Trinidad and Tobago\", \"income\": 30113, \"health\": 71.4, \"population\": 1360088, \"label\": 1}, {\"country\": \"Tunisia\", \"income\": 11126, \"health\": 77.3, \"population\": 11253554, \"label\": 1}, {\"country\": \"Turkey\", \"income\": 19360, \"health\": 76.5, \"population\": 78665830, \"label\": 1}, {\"country\": \"Turkmenistan\", \"income\": 15865, \"health\": 67.9, \"population\": 5373502, \"label\": 1}, {\"country\": \"Uganda\", \"income\": 1680, \"health\": 60.8, \"population\": 39032383, \"label\": 0}, {\"country\": \"Ukraine\", \"income\": 8449, \"health\": 72.1, \"population\": 44823765, \"label\": 1}, {\"country\": \"United Arab Emirates\", \"income\": 60749, \"health\": 76.6, \"population\": 9156963, \"label\": 4}, {\"country\": \"United Kingdom\", \"income\": 38225, \"health\": 81.4, \"population\": 64715810, \"label\": 4}, {\"country\": \"United States\", \"income\": 53354, \"health\": 79.1, \"population\": 321773631, \"label\": 4}, {\"country\": \"Uruguay\", \"income\": 20438, \"health\": 77.3, \"population\": 3431555, \"label\": 1}, {\"country\": \"Uzbekistan\", \"income\": 5598, \"health\": 70.1, \"population\": 29893488, \"label\": 1}, {\"country\": \"Vanuatu\", \"income\": 2912, \"health\": 65.0, \"population\": 264652, \"label\": 0}, {\"country\": \"Venezuela\", \"income\": 15753, \"health\": 75.8, \"population\": 31108083, \"label\": 1}, {\"country\": \"Vietnam\", \"income\": 5623, \"health\": 76.5, \"population\": 93447601, \"label\": 1}, {\"country\": \"West Bank and Gaza\", \"income\": 4319, \"health\": 75.2, \"population\": 4668466, \"label\": 1}, {\"country\": \"Yemen\", \"income\": 3887, \"health\": 67.6, \"population\": 26832215, \"label\": 0}, {\"country\": \"Zambia\", \"income\": 4034, \"health\": 58.96, \"population\": 16211767, \"label\": 0}, {\"country\": \"Zimbabwe\", \"income\": 1801, \"health\": 60.01, \"population\": 15602751, \"label\": 0}]}}, {\"mode\": \"vega-lite\"});\n",
       "</script>"
      ],
      "text/plain": [
       "alt.Chart(...)"
      ]
     },
     "execution_count": 76,
     "metadata": {},
     "output_type": "execute_result"
    }
   ],
   "source": [
    "(\n",
    "    alt.Chart(gapminder)\n",
    "    .mark_circle()\n",
    "    .encode(\n",
    "        alt.X(\"income:Q\", scale=alt.Scale(type=\"log\")),\n",
    "        alt.Y(\"health:Q\", scale=alt.Scale(zero=False)),\n",
    "        size=\"population:Q\",\n",
    "        color=alt.Color(\"label:N\", scale=alt.Scale(scheme=\"dark2\")),\n",
    "        tooltip=list(gapminder.columns),\n",
    "    )\n",
    "    .properties(width=800, height=600)\n",
    "    .interactive()\n",
    ")"
   ]
  },
  {
   "cell_type": "code",
   "execution_count": 77,
   "metadata": {
    "slideshow": {
     "slide_type": "subslide"
    }
   },
   "outputs": [
    {
     "data": {
      "text/plain": [
       "label\n",
       "0    62\n",
       "1    85\n",
       "2     5\n",
       "3     2\n",
       "4    33\n",
       "dtype: int64"
      ]
     },
     "execution_count": 77,
     "metadata": {},
     "output_type": "execute_result"
    }
   ],
   "source": [
    "# Number of countries per cluster\n",
    "gapminder.groupby(\"label\").size()"
   ]
  },
  {
   "cell_type": "code",
   "execution_count": 78,
   "metadata": {
    "slideshow": {
     "slide_type": "subslide"
    }
   },
   "outputs": [
    {
     "data": {
      "text/plain": [
       "label\n",
       "2       2.544302\n",
       "0      21.191274\n",
       "1      26.478761\n",
       "4      31.674060\n",
       "3    1343.549735\n",
       "Name: population, dtype: float64"
      ]
     },
     "execution_count": 78,
     "metadata": {},
     "output_type": "execute_result"
    }
   ],
   "source": [
    "# Average population per cluster\n",
    "gapminder.groupby(\"label\")['population'].mean().sort_values() / 1e6"
   ]
  },
  {
   "cell_type": "code",
   "execution_count": 79,
   "metadata": {
    "slideshow": {
     "slide_type": "subslide"
    }
   },
   "outputs": [
    {
     "data": {
      "text/plain": [
       "label\n",
       "0    62.342097\n",
       "3    71.850000\n",
       "1    74.376353\n",
       "4    80.830303\n",
       "2    80.920000\n",
       "Name: health, dtype: float64"
      ]
     },
     "execution_count": 79,
     "metadata": {},
     "output_type": "execute_result"
    }
   ],
   "source": [
    "# Average life expectancy per cluster\n",
    "gapminder.groupby(\"label\")['health'].mean().sort_values()"
   ]
  },
  {
   "cell_type": "code",
   "execution_count": 80,
   "metadata": {
    "slideshow": {
     "slide_type": "subslide"
    }
   },
   "outputs": [
    {
     "data": {
      "text/plain": [
       "label\n",
       "0     4.136016\n",
       "3     9.618500\n",
       "1    13.347376\n",
       "4    41.048818\n",
       "2    91.524200\n",
       "Name: income, dtype: float64"
      ]
     },
     "execution_count": 80,
     "metadata": {},
     "output_type": "execute_result"
    }
   ],
   "source": [
    "# Average income per cluster\n",
    "gapminder.groupby(\"label\")['income'].mean().sort_values() / 1e3"
   ]
  },
  {
   "cell_type": "code",
   "execution_count": 81,
   "metadata": {
    "slideshow": {
     "slide_type": "subslide"
    }
   },
   "outputs": [
    {
     "data": {
      "text/html": [
       "<div>\n",
       "<style scoped>\n",
       "    .dataframe tbody tr th:only-of-type {\n",
       "        vertical-align: middle;\n",
       "    }\n",
       "\n",
       "    .dataframe tbody tr th {\n",
       "        vertical-align: top;\n",
       "    }\n",
       "\n",
       "    .dataframe thead th {\n",
       "        text-align: right;\n",
       "    }\n",
       "</style>\n",
       "<table border=\"1\" class=\"dataframe\">\n",
       "  <thead>\n",
       "    <tr style=\"text-align: right;\">\n",
       "      <th></th>\n",
       "      <th>country</th>\n",
       "      <th>income</th>\n",
       "      <th>health</th>\n",
       "      <th>population</th>\n",
       "      <th>label</th>\n",
       "    </tr>\n",
       "  </thead>\n",
       "  <tbody>\n",
       "    <tr>\n",
       "      <th>3</th>\n",
       "      <td>Andorra</td>\n",
       "      <td>46577</td>\n",
       "      <td>84.1</td>\n",
       "      <td>70473</td>\n",
       "      <td>4</td>\n",
       "    </tr>\n",
       "    <tr>\n",
       "      <th>8</th>\n",
       "      <td>Australia</td>\n",
       "      <td>44056</td>\n",
       "      <td>81.8</td>\n",
       "      <td>23968973</td>\n",
       "      <td>4</td>\n",
       "    </tr>\n",
       "    <tr>\n",
       "      <th>9</th>\n",
       "      <td>Austria</td>\n",
       "      <td>44401</td>\n",
       "      <td>81.0</td>\n",
       "      <td>8544586</td>\n",
       "      <td>4</td>\n",
       "    </tr>\n",
       "    <tr>\n",
       "      <th>12</th>\n",
       "      <td>Bahrain</td>\n",
       "      <td>44138</td>\n",
       "      <td>79.2</td>\n",
       "      <td>1377237</td>\n",
       "      <td>4</td>\n",
       "    </tr>\n",
       "    <tr>\n",
       "      <th>16</th>\n",
       "      <td>Belgium</td>\n",
       "      <td>41240</td>\n",
       "      <td>80.4</td>\n",
       "      <td>11299192</td>\n",
       "      <td>4</td>\n",
       "    </tr>\n",
       "    <tr>\n",
       "      <th>30</th>\n",
       "      <td>Canada</td>\n",
       "      <td>43294</td>\n",
       "      <td>81.7</td>\n",
       "      <td>35939927</td>\n",
       "      <td>4</td>\n",
       "    </tr>\n",
       "    <tr>\n",
       "      <th>44</th>\n",
       "      <td>Cyprus</td>\n",
       "      <td>29797</td>\n",
       "      <td>82.6</td>\n",
       "      <td>1165300</td>\n",
       "      <td>4</td>\n",
       "    </tr>\n",
       "    <tr>\n",
       "      <th>45</th>\n",
       "      <td>Czech Republic</td>\n",
       "      <td>29437</td>\n",
       "      <td>78.6</td>\n",
       "      <td>10543186</td>\n",
       "      <td>4</td>\n",
       "    </tr>\n",
       "    <tr>\n",
       "      <th>46</th>\n",
       "      <td>Denmark</td>\n",
       "      <td>43495</td>\n",
       "      <td>80.1</td>\n",
       "      <td>5669081</td>\n",
       "      <td>4</td>\n",
       "    </tr>\n",
       "    <tr>\n",
       "      <th>58</th>\n",
       "      <td>Finland</td>\n",
       "      <td>38923</td>\n",
       "      <td>80.8</td>\n",
       "      <td>5503457</td>\n",
       "      <td>4</td>\n",
       "    </tr>\n",
       "    <tr>\n",
       "      <th>59</th>\n",
       "      <td>France</td>\n",
       "      <td>37599</td>\n",
       "      <td>81.9</td>\n",
       "      <td>64395345</td>\n",
       "      <td>4</td>\n",
       "    </tr>\n",
       "    <tr>\n",
       "      <th>63</th>\n",
       "      <td>Germany</td>\n",
       "      <td>44053</td>\n",
       "      <td>81.1</td>\n",
       "      <td>80688545</td>\n",
       "      <td>4</td>\n",
       "    </tr>\n",
       "    <tr>\n",
       "      <th>65</th>\n",
       "      <td>Greece</td>\n",
       "      <td>25430</td>\n",
       "      <td>79.8</td>\n",
       "      <td>10954617</td>\n",
       "      <td>4</td>\n",
       "    </tr>\n",
       "    <tr>\n",
       "      <th>74</th>\n",
       "      <td>Iceland</td>\n",
       "      <td>42182</td>\n",
       "      <td>82.8</td>\n",
       "      <td>329425</td>\n",
       "      <td>4</td>\n",
       "    </tr>\n",
       "    <tr>\n",
       "      <th>79</th>\n",
       "      <td>Ireland</td>\n",
       "      <td>47758</td>\n",
       "      <td>80.4</td>\n",
       "      <td>4688465</td>\n",
       "      <td>4</td>\n",
       "    </tr>\n",
       "    <tr>\n",
       "      <th>80</th>\n",
       "      <td>Israel</td>\n",
       "      <td>31590</td>\n",
       "      <td>82.4</td>\n",
       "      <td>8064036</td>\n",
       "      <td>4</td>\n",
       "    </tr>\n",
       "    <tr>\n",
       "      <th>81</th>\n",
       "      <td>Italy</td>\n",
       "      <td>33297</td>\n",
       "      <td>82.1</td>\n",
       "      <td>59797685</td>\n",
       "      <td>4</td>\n",
       "    </tr>\n",
       "    <tr>\n",
       "      <th>83</th>\n",
       "      <td>Japan</td>\n",
       "      <td>36162</td>\n",
       "      <td>83.5</td>\n",
       "      <td>126573481</td>\n",
       "      <td>4</td>\n",
       "    </tr>\n",
       "    <tr>\n",
       "      <th>104</th>\n",
       "      <td>Malta</td>\n",
       "      <td>30265</td>\n",
       "      <td>82.1</td>\n",
       "      <td>418670</td>\n",
       "      <td>4</td>\n",
       "    </tr>\n",
       "    <tr>\n",
       "      <th>118</th>\n",
       "      <td>Netherlands</td>\n",
       "      <td>45784</td>\n",
       "      <td>80.6</td>\n",
       "      <td>16924929</td>\n",
       "      <td>4</td>\n",
       "    </tr>\n",
       "    <tr>\n",
       "      <th>119</th>\n",
       "      <td>New Zealand</td>\n",
       "      <td>34186</td>\n",
       "      <td>80.6</td>\n",
       "      <td>4528526</td>\n",
       "      <td>4</td>\n",
       "    </tr>\n",
       "    <tr>\n",
       "      <th>124</th>\n",
       "      <td>Norway</td>\n",
       "      <td>64304</td>\n",
       "      <td>81.6</td>\n",
       "      <td>5210967</td>\n",
       "      <td>4</td>\n",
       "    </tr>\n",
       "    <tr>\n",
       "      <th>125</th>\n",
       "      <td>Oman</td>\n",
       "      <td>48226</td>\n",
       "      <td>75.7</td>\n",
       "      <td>4490541</td>\n",
       "      <td>4</td>\n",
       "    </tr>\n",
       "    <tr>\n",
       "      <th>133</th>\n",
       "      <td>Portugal</td>\n",
       "      <td>26437</td>\n",
       "      <td>79.8</td>\n",
       "      <td>10349803</td>\n",
       "      <td>4</td>\n",
       "    </tr>\n",
       "    <tr>\n",
       "      <th>140</th>\n",
       "      <td>Saudi Arabia</td>\n",
       "      <td>52469</td>\n",
       "      <td>78.1</td>\n",
       "      <td>31540372</td>\n",
       "      <td>4</td>\n",
       "    </tr>\n",
       "    <tr>\n",
       "      <th>147</th>\n",
       "      <td>Slovenia</td>\n",
       "      <td>28550</td>\n",
       "      <td>80.2</td>\n",
       "      <td>2067526</td>\n",
       "      <td>4</td>\n",
       "    </tr>\n",
       "    <tr>\n",
       "      <th>151</th>\n",
       "      <td>South Korea</td>\n",
       "      <td>34644</td>\n",
       "      <td>80.7</td>\n",
       "      <td>50293439</td>\n",
       "      <td>4</td>\n",
       "    </tr>\n",
       "    <tr>\n",
       "      <th>153</th>\n",
       "      <td>Spain</td>\n",
       "      <td>32979</td>\n",
       "      <td>81.7</td>\n",
       "      <td>46121699</td>\n",
       "      <td>4</td>\n",
       "    </tr>\n",
       "    <tr>\n",
       "      <th>160</th>\n",
       "      <td>Sweden</td>\n",
       "      <td>44892</td>\n",
       "      <td>82.0</td>\n",
       "      <td>9779426</td>\n",
       "      <td>4</td>\n",
       "    </tr>\n",
       "    <tr>\n",
       "      <th>161</th>\n",
       "      <td>Switzerland</td>\n",
       "      <td>56118</td>\n",
       "      <td>82.9</td>\n",
       "      <td>8298663</td>\n",
       "      <td>4</td>\n",
       "    </tr>\n",
       "    <tr>\n",
       "      <th>175</th>\n",
       "      <td>United Arab Emirates</td>\n",
       "      <td>60749</td>\n",
       "      <td>76.6</td>\n",
       "      <td>9156963</td>\n",
       "      <td>4</td>\n",
       "    </tr>\n",
       "    <tr>\n",
       "      <th>176</th>\n",
       "      <td>United Kingdom</td>\n",
       "      <td>38225</td>\n",
       "      <td>81.4</td>\n",
       "      <td>64715810</td>\n",
       "      <td>4</td>\n",
       "    </tr>\n",
       "    <tr>\n",
       "      <th>177</th>\n",
       "      <td>United States</td>\n",
       "      <td>53354</td>\n",
       "      <td>79.1</td>\n",
       "      <td>321773631</td>\n",
       "      <td>4</td>\n",
       "    </tr>\n",
       "  </tbody>\n",
       "</table>\n",
       "</div>"
      ],
      "text/plain": [
       "                  country  income  health  population  label\n",
       "3                 Andorra   46577    84.1       70473      4\n",
       "8               Australia   44056    81.8    23968973      4\n",
       "9                 Austria   44401    81.0     8544586      4\n",
       "12                Bahrain   44138    79.2     1377237      4\n",
       "16                Belgium   41240    80.4    11299192      4\n",
       "30                 Canada   43294    81.7    35939927      4\n",
       "44                 Cyprus   29797    82.6     1165300      4\n",
       "45         Czech Republic   29437    78.6    10543186      4\n",
       "46                Denmark   43495    80.1     5669081      4\n",
       "58                Finland   38923    80.8     5503457      4\n",
       "59                 France   37599    81.9    64395345      4\n",
       "63                Germany   44053    81.1    80688545      4\n",
       "65                 Greece   25430    79.8    10954617      4\n",
       "74                Iceland   42182    82.8      329425      4\n",
       "79                Ireland   47758    80.4     4688465      4\n",
       "80                 Israel   31590    82.4     8064036      4\n",
       "81                  Italy   33297    82.1    59797685      4\n",
       "83                  Japan   36162    83.5   126573481      4\n",
       "104                 Malta   30265    82.1      418670      4\n",
       "118           Netherlands   45784    80.6    16924929      4\n",
       "119           New Zealand   34186    80.6     4528526      4\n",
       "124                Norway   64304    81.6     5210967      4\n",
       "125                  Oman   48226    75.7     4490541      4\n",
       "133              Portugal   26437    79.8    10349803      4\n",
       "140          Saudi Arabia   52469    78.1    31540372      4\n",
       "147              Slovenia   28550    80.2     2067526      4\n",
       "151           South Korea   34644    80.7    50293439      4\n",
       "153                 Spain   32979    81.7    46121699      4\n",
       "160                Sweden   44892    82.0     9779426      4\n",
       "161           Switzerland   56118    82.9     8298663      4\n",
       "175  United Arab Emirates   60749    76.6     9156963      4\n",
       "176        United Kingdom   38225    81.4    64715810      4\n",
       "177         United States   53354    79.1   321773631      4"
      ]
     },
     "execution_count": 81,
     "metadata": {},
     "output_type": "execute_result"
    }
   ],
   "source": [
    "gapminder.loc[gapminder['label']==4]"
   ]
  },
  {
   "cell_type": "code",
   "execution_count": 82,
   "metadata": {},
   "outputs": [
    {
     "data": {
      "text/plain": [
       "80.72009578392846"
      ]
     },
     "execution_count": 82,
     "metadata": {},
     "output_type": "execute_result"
    }
   ],
   "source": [
    "kmeans.inertia_"
   ]
  },
  {
   "cell_type": "code",
   "execution_count": 83,
   "metadata": {
    "slideshow": {
     "slide_type": "subslide"
    }
   },
   "outputs": [
    {
     "data": {
      "text/html": [
       "<div>\n",
       "<style scoped>\n",
       "    .dataframe tbody tr th:only-of-type {\n",
       "        vertical-align: middle;\n",
       "    }\n",
       "\n",
       "    .dataframe tbody tr th {\n",
       "        vertical-align: top;\n",
       "    }\n",
       "\n",
       "    .dataframe thead th {\n",
       "        text-align: right;\n",
       "    }\n",
       "</style>\n",
       "<table border=\"1\" class=\"dataframe\">\n",
       "  <thead>\n",
       "    <tr style=\"text-align: right;\">\n",
       "      <th></th>\n",
       "      <th>country</th>\n",
       "      <th>income</th>\n",
       "      <th>health</th>\n",
       "      <th>population</th>\n",
       "      <th>label</th>\n",
       "    </tr>\n",
       "  </thead>\n",
       "  <tbody>\n",
       "    <tr>\n",
       "      <th>3</th>\n",
       "      <td>Andorra</td>\n",
       "      <td>46577</td>\n",
       "      <td>84.1</td>\n",
       "      <td>70473</td>\n",
       "      <td>4</td>\n",
       "    </tr>\n",
       "    <tr>\n",
       "      <th>8</th>\n",
       "      <td>Australia</td>\n",
       "      <td>44056</td>\n",
       "      <td>81.8</td>\n",
       "      <td>23968973</td>\n",
       "      <td>4</td>\n",
       "    </tr>\n",
       "    <tr>\n",
       "      <th>9</th>\n",
       "      <td>Austria</td>\n",
       "      <td>44401</td>\n",
       "      <td>81.0</td>\n",
       "      <td>8544586</td>\n",
       "      <td>4</td>\n",
       "    </tr>\n",
       "    <tr>\n",
       "      <th>12</th>\n",
       "      <td>Bahrain</td>\n",
       "      <td>44138</td>\n",
       "      <td>79.2</td>\n",
       "      <td>1377237</td>\n",
       "      <td>4</td>\n",
       "    </tr>\n",
       "    <tr>\n",
       "      <th>16</th>\n",
       "      <td>Belgium</td>\n",
       "      <td>41240</td>\n",
       "      <td>80.4</td>\n",
       "      <td>11299192</td>\n",
       "      <td>4</td>\n",
       "    </tr>\n",
       "    <tr>\n",
       "      <th>30</th>\n",
       "      <td>Canada</td>\n",
       "      <td>43294</td>\n",
       "      <td>81.7</td>\n",
       "      <td>35939927</td>\n",
       "      <td>4</td>\n",
       "    </tr>\n",
       "    <tr>\n",
       "      <th>44</th>\n",
       "      <td>Cyprus</td>\n",
       "      <td>29797</td>\n",
       "      <td>82.6</td>\n",
       "      <td>1165300</td>\n",
       "      <td>4</td>\n",
       "    </tr>\n",
       "    <tr>\n",
       "      <th>45</th>\n",
       "      <td>Czech Republic</td>\n",
       "      <td>29437</td>\n",
       "      <td>78.6</td>\n",
       "      <td>10543186</td>\n",
       "      <td>4</td>\n",
       "    </tr>\n",
       "    <tr>\n",
       "      <th>46</th>\n",
       "      <td>Denmark</td>\n",
       "      <td>43495</td>\n",
       "      <td>80.1</td>\n",
       "      <td>5669081</td>\n",
       "      <td>4</td>\n",
       "    </tr>\n",
       "    <tr>\n",
       "      <th>58</th>\n",
       "      <td>Finland</td>\n",
       "      <td>38923</td>\n",
       "      <td>80.8</td>\n",
       "      <td>5503457</td>\n",
       "      <td>4</td>\n",
       "    </tr>\n",
       "    <tr>\n",
       "      <th>59</th>\n",
       "      <td>France</td>\n",
       "      <td>37599</td>\n",
       "      <td>81.9</td>\n",
       "      <td>64395345</td>\n",
       "      <td>4</td>\n",
       "    </tr>\n",
       "    <tr>\n",
       "      <th>63</th>\n",
       "      <td>Germany</td>\n",
       "      <td>44053</td>\n",
       "      <td>81.1</td>\n",
       "      <td>80688545</td>\n",
       "      <td>4</td>\n",
       "    </tr>\n",
       "    <tr>\n",
       "      <th>65</th>\n",
       "      <td>Greece</td>\n",
       "      <td>25430</td>\n",
       "      <td>79.8</td>\n",
       "      <td>10954617</td>\n",
       "      <td>4</td>\n",
       "    </tr>\n",
       "    <tr>\n",
       "      <th>74</th>\n",
       "      <td>Iceland</td>\n",
       "      <td>42182</td>\n",
       "      <td>82.8</td>\n",
       "      <td>329425</td>\n",
       "      <td>4</td>\n",
       "    </tr>\n",
       "    <tr>\n",
       "      <th>79</th>\n",
       "      <td>Ireland</td>\n",
       "      <td>47758</td>\n",
       "      <td>80.4</td>\n",
       "      <td>4688465</td>\n",
       "      <td>4</td>\n",
       "    </tr>\n",
       "    <tr>\n",
       "      <th>80</th>\n",
       "      <td>Israel</td>\n",
       "      <td>31590</td>\n",
       "      <td>82.4</td>\n",
       "      <td>8064036</td>\n",
       "      <td>4</td>\n",
       "    </tr>\n",
       "    <tr>\n",
       "      <th>81</th>\n",
       "      <td>Italy</td>\n",
       "      <td>33297</td>\n",
       "      <td>82.1</td>\n",
       "      <td>59797685</td>\n",
       "      <td>4</td>\n",
       "    </tr>\n",
       "    <tr>\n",
       "      <th>83</th>\n",
       "      <td>Japan</td>\n",
       "      <td>36162</td>\n",
       "      <td>83.5</td>\n",
       "      <td>126573481</td>\n",
       "      <td>4</td>\n",
       "    </tr>\n",
       "    <tr>\n",
       "      <th>104</th>\n",
       "      <td>Malta</td>\n",
       "      <td>30265</td>\n",
       "      <td>82.1</td>\n",
       "      <td>418670</td>\n",
       "      <td>4</td>\n",
       "    </tr>\n",
       "    <tr>\n",
       "      <th>118</th>\n",
       "      <td>Netherlands</td>\n",
       "      <td>45784</td>\n",
       "      <td>80.6</td>\n",
       "      <td>16924929</td>\n",
       "      <td>4</td>\n",
       "    </tr>\n",
       "    <tr>\n",
       "      <th>119</th>\n",
       "      <td>New Zealand</td>\n",
       "      <td>34186</td>\n",
       "      <td>80.6</td>\n",
       "      <td>4528526</td>\n",
       "      <td>4</td>\n",
       "    </tr>\n",
       "    <tr>\n",
       "      <th>124</th>\n",
       "      <td>Norway</td>\n",
       "      <td>64304</td>\n",
       "      <td>81.6</td>\n",
       "      <td>5210967</td>\n",
       "      <td>4</td>\n",
       "    </tr>\n",
       "    <tr>\n",
       "      <th>125</th>\n",
       "      <td>Oman</td>\n",
       "      <td>48226</td>\n",
       "      <td>75.7</td>\n",
       "      <td>4490541</td>\n",
       "      <td>4</td>\n",
       "    </tr>\n",
       "    <tr>\n",
       "      <th>133</th>\n",
       "      <td>Portugal</td>\n",
       "      <td>26437</td>\n",
       "      <td>79.8</td>\n",
       "      <td>10349803</td>\n",
       "      <td>4</td>\n",
       "    </tr>\n",
       "    <tr>\n",
       "      <th>140</th>\n",
       "      <td>Saudi Arabia</td>\n",
       "      <td>52469</td>\n",
       "      <td>78.1</td>\n",
       "      <td>31540372</td>\n",
       "      <td>4</td>\n",
       "    </tr>\n",
       "    <tr>\n",
       "      <th>147</th>\n",
       "      <td>Slovenia</td>\n",
       "      <td>28550</td>\n",
       "      <td>80.2</td>\n",
       "      <td>2067526</td>\n",
       "      <td>4</td>\n",
       "    </tr>\n",
       "    <tr>\n",
       "      <th>151</th>\n",
       "      <td>South Korea</td>\n",
       "      <td>34644</td>\n",
       "      <td>80.7</td>\n",
       "      <td>50293439</td>\n",
       "      <td>4</td>\n",
       "    </tr>\n",
       "    <tr>\n",
       "      <th>153</th>\n",
       "      <td>Spain</td>\n",
       "      <td>32979</td>\n",
       "      <td>81.7</td>\n",
       "      <td>46121699</td>\n",
       "      <td>4</td>\n",
       "    </tr>\n",
       "    <tr>\n",
       "      <th>160</th>\n",
       "      <td>Sweden</td>\n",
       "      <td>44892</td>\n",
       "      <td>82.0</td>\n",
       "      <td>9779426</td>\n",
       "      <td>4</td>\n",
       "    </tr>\n",
       "    <tr>\n",
       "      <th>161</th>\n",
       "      <td>Switzerland</td>\n",
       "      <td>56118</td>\n",
       "      <td>82.9</td>\n",
       "      <td>8298663</td>\n",
       "      <td>4</td>\n",
       "    </tr>\n",
       "    <tr>\n",
       "      <th>175</th>\n",
       "      <td>United Arab Emirates</td>\n",
       "      <td>60749</td>\n",
       "      <td>76.6</td>\n",
       "      <td>9156963</td>\n",
       "      <td>4</td>\n",
       "    </tr>\n",
       "    <tr>\n",
       "      <th>176</th>\n",
       "      <td>United Kingdom</td>\n",
       "      <td>38225</td>\n",
       "      <td>81.4</td>\n",
       "      <td>64715810</td>\n",
       "      <td>4</td>\n",
       "    </tr>\n",
       "    <tr>\n",
       "      <th>177</th>\n",
       "      <td>United States</td>\n",
       "      <td>53354</td>\n",
       "      <td>79.1</td>\n",
       "      <td>321773631</td>\n",
       "      <td>4</td>\n",
       "    </tr>\n",
       "  </tbody>\n",
       "</table>\n",
       "</div>"
      ],
      "text/plain": [
       "                  country  income  health  population  label\n",
       "3                 Andorra   46577    84.1       70473      4\n",
       "8               Australia   44056    81.8    23968973      4\n",
       "9                 Austria   44401    81.0     8544586      4\n",
       "12                Bahrain   44138    79.2     1377237      4\n",
       "16                Belgium   41240    80.4    11299192      4\n",
       "30                 Canada   43294    81.7    35939927      4\n",
       "44                 Cyprus   29797    82.6     1165300      4\n",
       "45         Czech Republic   29437    78.6    10543186      4\n",
       "46                Denmark   43495    80.1     5669081      4\n",
       "58                Finland   38923    80.8     5503457      4\n",
       "59                 France   37599    81.9    64395345      4\n",
       "63                Germany   44053    81.1    80688545      4\n",
       "65                 Greece   25430    79.8    10954617      4\n",
       "74                Iceland   42182    82.8      329425      4\n",
       "79                Ireland   47758    80.4     4688465      4\n",
       "80                 Israel   31590    82.4     8064036      4\n",
       "81                  Italy   33297    82.1    59797685      4\n",
       "83                  Japan   36162    83.5   126573481      4\n",
       "104                 Malta   30265    82.1      418670      4\n",
       "118           Netherlands   45784    80.6    16924929      4\n",
       "119           New Zealand   34186    80.6     4528526      4\n",
       "124                Norway   64304    81.6     5210967      4\n",
       "125                  Oman   48226    75.7     4490541      4\n",
       "133              Portugal   26437    79.8    10349803      4\n",
       "140          Saudi Arabia   52469    78.1    31540372      4\n",
       "147              Slovenia   28550    80.2     2067526      4\n",
       "151           South Korea   34644    80.7    50293439      4\n",
       "153                 Spain   32979    81.7    46121699      4\n",
       "160                Sweden   44892    82.0     9779426      4\n",
       "161           Switzerland   56118    82.9     8298663      4\n",
       "175  United Arab Emirates   60749    76.6     9156963      4\n",
       "176        United Kingdom   38225    81.4    64715810      4\n",
       "177         United States   53354    79.1   321773631      4"
      ]
     },
     "execution_count": 83,
     "metadata": {},
     "output_type": "execute_result"
    }
   ],
   "source": [
    "gapminder.loc[gapminder['label']==4]"
   ]
  },
  {
   "cell_type": "markdown",
   "metadata": {
    "slideshow": {
     "slide_type": "slide"
    }
   },
   "source": [
    "## Exercise: Clustering neighborhoods by Airbnb stats\n",
    "\n",
    "I've extracted neighborhood Airbnb statistics for Philadelphia neighborhoods from [Tom Slee's website](http://tomslee.net/airbnb-data).\n",
    "\n",
    "The data includes average price per person, overall satisfaction, and number of listings."
   ]
  },
  {
   "cell_type": "markdown",
   "metadata": {},
   "source": [
    "### Two good references for Airbnb data\n",
    "\n",
    "- [Tom Slee's website](http://tomslee.net/airbnb-data)\n",
    "- [Inside Airbnb](http://insideairbnb.com/get-the-data.html)\n",
    "\n",
    "Original research study: [How Airbnb's Data Hid the Facts in New York City](http://insideairbnb.com/reports/how-airbnbs-data-hid-the-facts-in-new-york-city.pdf)"
   ]
  },
  {
   "cell_type": "markdown",
   "metadata": {
    "slideshow": {
     "slide_type": "slide"
    }
   },
   "source": [
    "#### Step 1: Load the data with pandas\n",
    "\n",
    "The data is available in CSV format (\"philly_airbnb_by_neighborhoods.csv\") in the \"data/\" folder of the repository."
   ]
  },
  {
   "cell_type": "code",
   "execution_count": 85,
   "metadata": {
    "hide_input": false,
    "slideshow": {
     "slide_type": "subslide"
    },
    "tags": []
   },
   "outputs": [
    {
     "data": {
      "text/html": [
       "<div>\n",
       "<style scoped>\n",
       "    .dataframe tbody tr th:only-of-type {\n",
       "        vertical-align: middle;\n",
       "    }\n",
       "\n",
       "    .dataframe tbody tr th {\n",
       "        vertical-align: top;\n",
       "    }\n",
       "\n",
       "    .dataframe thead th {\n",
       "        text-align: right;\n",
       "    }\n",
       "</style>\n",
       "<table border=\"1\" class=\"dataframe\">\n",
       "  <thead>\n",
       "    <tr style=\"text-align: right;\">\n",
       "      <th></th>\n",
       "      <th>neighborhood</th>\n",
       "      <th>price_per_person</th>\n",
       "      <th>overall_satisfaction</th>\n",
       "      <th>N</th>\n",
       "    </tr>\n",
       "  </thead>\n",
       "  <tbody>\n",
       "    <tr>\n",
       "      <th>0</th>\n",
       "      <td>ALLEGHENY_WEST</td>\n",
       "      <td>120.791667</td>\n",
       "      <td>4.666667</td>\n",
       "      <td>23</td>\n",
       "    </tr>\n",
       "    <tr>\n",
       "      <th>1</th>\n",
       "      <td>BELLA_VISTA</td>\n",
       "      <td>87.407920</td>\n",
       "      <td>3.158333</td>\n",
       "      <td>204</td>\n",
       "    </tr>\n",
       "    <tr>\n",
       "      <th>2</th>\n",
       "      <td>BELMONT</td>\n",
       "      <td>69.425000</td>\n",
       "      <td>3.250000</td>\n",
       "      <td>11</td>\n",
       "    </tr>\n",
       "    <tr>\n",
       "      <th>3</th>\n",
       "      <td>BREWERYTOWN</td>\n",
       "      <td>71.788188</td>\n",
       "      <td>1.943182</td>\n",
       "      <td>142</td>\n",
       "    </tr>\n",
       "    <tr>\n",
       "      <th>4</th>\n",
       "      <td>BUSTLETON</td>\n",
       "      <td>55.833333</td>\n",
       "      <td>1.250000</td>\n",
       "      <td>19</td>\n",
       "    </tr>\n",
       "  </tbody>\n",
       "</table>\n",
       "</div>"
      ],
      "text/plain": [
       "     neighborhood  price_per_person  overall_satisfaction    N\n",
       "0  ALLEGHENY_WEST        120.791667              4.666667   23\n",
       "1     BELLA_VISTA         87.407920              3.158333  204\n",
       "2         BELMONT         69.425000              3.250000   11\n",
       "3     BREWERYTOWN         71.788188              1.943182  142\n",
       "4       BUSTLETON         55.833333              1.250000   19"
      ]
     },
     "execution_count": 85,
     "metadata": {},
     "output_type": "execute_result"
    }
   ],
   "source": [
    "airbnb = pd.read_csv(\"data/philly_airbnb_by_neighborhoods.csv\")\n",
    "airbnb.head()"
   ]
  },
  {
   "cell_type": "markdown",
   "metadata": {
    "hide_input": true,
    "slideshow": {
     "slide_type": "slide"
    }
   },
   "source": [
    "#### Step 2: Perform the K-Means fit\n",
    "\n",
    "- Use our three features: `price_per_person`, `overall_satisfaction`, `N`\n",
    "- I used 5 clusters, but you are welcome to experiment with different values! We will discuss what the *optimal* number is after we go through the solutions!\n",
    "- Scaling the features is recommended, but if the scales aren't too different, so probably isn't necessary in this case"
   ]
  },
  {
   "cell_type": "code",
   "execution_count": 86,
   "metadata": {
    "hide_input": false,
    "slideshow": {
     "slide_type": "subslide"
    },
    "tags": []
   },
   "outputs": [],
   "source": [
    "# Initialize the Kmeans object\n",
    "kmeans = KMeans(n_clusters=5, random_state=42, n_init=10)"
   ]
  },
  {
   "cell_type": "markdown",
   "metadata": {},
   "source": [
    "Pre-process the data:"
   ]
  },
  {
   "cell_type": "code",
   "execution_count": 87,
   "metadata": {},
   "outputs": [],
   "source": [
    "# Scale the data features we want\n",
    "scaler = StandardScaler()\n",
    "scaled_airbnb_data = scaler.fit_transform(airbnb[['price_per_person', 'overall_satisfaction', 'N']])"
   ]
  },
  {
   "cell_type": "code",
   "execution_count": 88,
   "metadata": {
    "tags": []
   },
   "outputs": [
    {
     "data": {
      "text/plain": [
       "array([[ 0.79001045,  1.74917003, -0.52348653],\n",
       "       [ 0.0714296 ,  0.41880366,  0.40700931],\n",
       "       [-0.31565045,  0.49965466, -0.58517687],\n",
       "       [-0.26478314, -0.65297315,  0.08827593],\n",
       "       [-0.60820933, -1.26436704, -0.54404998]])"
      ]
     },
     "execution_count": 88,
     "metadata": {},
     "output_type": "execute_result"
    }
   ],
   "source": [
    "scaled_airbnb_data[:5]"
   ]
  },
  {
   "cell_type": "code",
   "execution_count": 89,
   "metadata": {
    "hide_input": false,
    "slideshow": {
     "slide_type": "subslide"
    },
    "tags": []
   },
   "outputs": [],
   "source": [
    "# Run the fit! This adds the \".labels_\" attribute\n",
    "kmeans.fit(scaled_airbnb_data);"
   ]
  },
  {
   "cell_type": "code",
   "execution_count": 90,
   "metadata": {
    "tags": []
   },
   "outputs": [
    {
     "data": {
      "text/plain": [
       "array([0, 0, 0, 0, 1, 0, 0, 0, 0, 0, 0, 0, 0, 0, 0, 0, 4, 0, 0, 4, 4, 0,\n",
       "       1, 4, 0, 0, 0, 0, 0, 0, 0, 0, 0, 0, 0, 4, 0, 0, 1, 0, 0, 0, 0, 1,\n",
       "       0, 1, 0, 4, 0, 0, 0, 0, 1, 0, 0, 0, 0, 4, 0, 0, 4, 0, 0, 1, 1, 1,\n",
       "       0, 0, 0, 1, 4, 0, 4, 1, 0, 3, 0, 0, 2, 4, 1, 0, 4, 4, 0, 1, 1, 0,\n",
       "       4, 0, 0, 4, 0, 1, 0, 0, 0, 0, 0, 1, 1, 0, 0, 1, 1], dtype=int32)"
      ]
     },
     "execution_count": 90,
     "metadata": {},
     "output_type": "execute_result"
    }
   ],
   "source": [
    "kmeans.labels_"
   ]
  },
  {
   "cell_type": "code",
   "execution_count": 91,
   "metadata": {},
   "outputs": [],
   "source": [
    "# Save the cluster labels\n",
    "airbnb[\"label\"] = kmeans.labels_"
   ]
  },
  {
   "cell_type": "code",
   "execution_count": 92,
   "metadata": {
    "slideshow": {
     "slide_type": "subslide"
    },
    "tags": []
   },
   "outputs": [
    {
     "data": {
      "text/html": [
       "<div>\n",
       "<style scoped>\n",
       "    .dataframe tbody tr th:only-of-type {\n",
       "        vertical-align: middle;\n",
       "    }\n",
       "\n",
       "    .dataframe tbody tr th {\n",
       "        vertical-align: top;\n",
       "    }\n",
       "\n",
       "    .dataframe thead th {\n",
       "        text-align: right;\n",
       "    }\n",
       "</style>\n",
       "<table border=\"1\" class=\"dataframe\">\n",
       "  <thead>\n",
       "    <tr style=\"text-align: right;\">\n",
       "      <th></th>\n",
       "      <th>neighborhood</th>\n",
       "      <th>price_per_person</th>\n",
       "      <th>overall_satisfaction</th>\n",
       "      <th>N</th>\n",
       "      <th>label</th>\n",
       "    </tr>\n",
       "  </thead>\n",
       "  <tbody>\n",
       "    <tr>\n",
       "      <th>0</th>\n",
       "      <td>ALLEGHENY_WEST</td>\n",
       "      <td>120.791667</td>\n",
       "      <td>4.666667</td>\n",
       "      <td>23</td>\n",
       "      <td>0</td>\n",
       "    </tr>\n",
       "    <tr>\n",
       "      <th>1</th>\n",
       "      <td>BELLA_VISTA</td>\n",
       "      <td>87.407920</td>\n",
       "      <td>3.158333</td>\n",
       "      <td>204</td>\n",
       "      <td>0</td>\n",
       "    </tr>\n",
       "    <tr>\n",
       "      <th>2</th>\n",
       "      <td>BELMONT</td>\n",
       "      <td>69.425000</td>\n",
       "      <td>3.250000</td>\n",
       "      <td>11</td>\n",
       "      <td>0</td>\n",
       "    </tr>\n",
       "    <tr>\n",
       "      <th>3</th>\n",
       "      <td>BREWERYTOWN</td>\n",
       "      <td>71.788188</td>\n",
       "      <td>1.943182</td>\n",
       "      <td>142</td>\n",
       "      <td>0</td>\n",
       "    </tr>\n",
       "    <tr>\n",
       "      <th>4</th>\n",
       "      <td>BUSTLETON</td>\n",
       "      <td>55.833333</td>\n",
       "      <td>1.250000</td>\n",
       "      <td>19</td>\n",
       "      <td>1</td>\n",
       "    </tr>\n",
       "  </tbody>\n",
       "</table>\n",
       "</div>"
      ],
      "text/plain": [
       "     neighborhood  price_per_person  overall_satisfaction    N  label\n",
       "0  ALLEGHENY_WEST        120.791667              4.666667   23      0\n",
       "1     BELLA_VISTA         87.407920              3.158333  204      0\n",
       "2         BELMONT         69.425000              3.250000   11      0\n",
       "3     BREWERYTOWN         71.788188              1.943182  142      0\n",
       "4       BUSTLETON         55.833333              1.250000   19      1"
      ]
     },
     "execution_count": 92,
     "metadata": {},
     "output_type": "execute_result"
    }
   ],
   "source": [
    "# New column \"label\"!\n",
    "airbnb.head()"
   ]
  },
  {
   "cell_type": "markdown",
   "metadata": {
    "slideshow": {
     "slide_type": "slide"
    }
   },
   "source": [
    "#### Step 3: Calculate average features per cluster\n",
    "\n",
    "To gain some insight into our clusters, after calculating the K-Means labels:\n",
    "- group by the `label` column\n",
    "- calculate the `mean()` of each of our features\n",
    "- calculate the number of neighborhoods per cluster"
   ]
  },
  {
   "cell_type": "code",
   "execution_count": 93,
   "metadata": {
    "hide_input": false,
    "slideshow": {
     "slide_type": "subslide"
    },
    "tags": []
   },
   "outputs": [
    {
     "data": {
      "text/html": [
       "<div>\n",
       "<style scoped>\n",
       "    .dataframe tbody tr th:only-of-type {\n",
       "        vertical-align: middle;\n",
       "    }\n",
       "\n",
       "    .dataframe tbody tr th {\n",
       "        vertical-align: top;\n",
       "    }\n",
       "\n",
       "    .dataframe thead th {\n",
       "        text-align: right;\n",
       "    }\n",
       "</style>\n",
       "<table border=\"1\" class=\"dataframe\">\n",
       "  <thead>\n",
       "    <tr style=\"text-align: right;\">\n",
       "      <th></th>\n",
       "      <th>label</th>\n",
       "      <th>size</th>\n",
       "    </tr>\n",
       "  </thead>\n",
       "  <tbody>\n",
       "    <tr>\n",
       "      <th>0</th>\n",
       "      <td>0</td>\n",
       "      <td>69</td>\n",
       "    </tr>\n",
       "    <tr>\n",
       "      <th>1</th>\n",
       "      <td>1</td>\n",
       "      <td>19</td>\n",
       "    </tr>\n",
       "    <tr>\n",
       "      <th>2</th>\n",
       "      <td>2</td>\n",
       "      <td>1</td>\n",
       "    </tr>\n",
       "    <tr>\n",
       "      <th>3</th>\n",
       "      <td>3</td>\n",
       "      <td>1</td>\n",
       "    </tr>\n",
       "    <tr>\n",
       "      <th>4</th>\n",
       "      <td>4</td>\n",
       "      <td>15</td>\n",
       "    </tr>\n",
       "  </tbody>\n",
       "</table>\n",
       "</div>"
      ],
      "text/plain": [
       "   label  size\n",
       "0      0    69\n",
       "1      1    19\n",
       "2      2     1\n",
       "3      3     1\n",
       "4      4    15"
      ]
     },
     "execution_count": 93,
     "metadata": {},
     "output_type": "execute_result"
    }
   ],
   "source": [
    "airbnb.groupby('label', as_index=False).size()"
   ]
  },
  {
   "cell_type": "code",
   "execution_count": 94,
   "metadata": {
    "slideshow": {
     "slide_type": "subslide"
    },
    "tags": []
   },
   "outputs": [
    {
     "data": {
      "text/html": [
       "<div>\n",
       "<style scoped>\n",
       "    .dataframe tbody tr th:only-of-type {\n",
       "        vertical-align: middle;\n",
       "    }\n",
       "\n",
       "    .dataframe tbody tr th {\n",
       "        vertical-align: top;\n",
       "    }\n",
       "\n",
       "    .dataframe thead th {\n",
       "        text-align: right;\n",
       "    }\n",
       "</style>\n",
       "<table border=\"1\" class=\"dataframe\">\n",
       "  <thead>\n",
       "    <tr style=\"text-align: right;\">\n",
       "      <th></th>\n",
       "      <th>label</th>\n",
       "      <th>price_per_person</th>\n",
       "      <th>overall_satisfaction</th>\n",
       "      <th>N</th>\n",
       "    </tr>\n",
       "  </thead>\n",
       "  <tbody>\n",
       "    <tr>\n",
       "      <th>0</th>\n",
       "      <td>0</td>\n",
       "      <td>73.199020</td>\n",
       "      <td>3.137213</td>\n",
       "      <td>76.550725</td>\n",
       "    </tr>\n",
       "    <tr>\n",
       "      <th>1</th>\n",
       "      <td>1</td>\n",
       "      <td>79.250011</td>\n",
       "      <td>0.697461</td>\n",
       "      <td>23.473684</td>\n",
       "    </tr>\n",
       "    <tr>\n",
       "      <th>4</th>\n",
       "      <td>4</td>\n",
       "      <td>116.601261</td>\n",
       "      <td>2.936508</td>\n",
       "      <td>389.933333</td>\n",
       "    </tr>\n",
       "    <tr>\n",
       "      <th>3</th>\n",
       "      <td>3</td>\n",
       "      <td>136.263996</td>\n",
       "      <td>3.000924</td>\n",
       "      <td>1499.000000</td>\n",
       "    </tr>\n",
       "    <tr>\n",
       "      <th>2</th>\n",
       "      <td>2</td>\n",
       "      <td>387.626984</td>\n",
       "      <td>5.000000</td>\n",
       "      <td>31.000000</td>\n",
       "    </tr>\n",
       "  </tbody>\n",
       "</table>\n",
       "</div>"
      ],
      "text/plain": [
       "   label  price_per_person  overall_satisfaction            N\n",
       "0      0         73.199020              3.137213    76.550725\n",
       "1      1         79.250011              0.697461    23.473684\n",
       "4      4        116.601261              2.936508   389.933333\n",
       "3      3        136.263996              3.000924  1499.000000\n",
       "2      2        387.626984              5.000000    31.000000"
      ]
     },
     "execution_count": 94,
     "metadata": {},
     "output_type": "execute_result"
    }
   ],
   "source": [
    "airbnb.groupby(\"label\", as_index=False)[\n",
    "    [\"price_per_person\", \"overall_satisfaction\", \"N\"]\n",
    "].mean().sort_values(by=\"price_per_person\")"
   ]
  },
  {
   "cell_type": "code",
   "execution_count": 95,
   "metadata": {
    "slideshow": {
     "slide_type": "subslide"
    },
    "tags": []
   },
   "outputs": [
    {
     "data": {
      "text/html": [
       "<div>\n",
       "<style scoped>\n",
       "    .dataframe tbody tr th:only-of-type {\n",
       "        vertical-align: middle;\n",
       "    }\n",
       "\n",
       "    .dataframe tbody tr th {\n",
       "        vertical-align: top;\n",
       "    }\n",
       "\n",
       "    .dataframe thead th {\n",
       "        text-align: right;\n",
       "    }\n",
       "</style>\n",
       "<table border=\"1\" class=\"dataframe\">\n",
       "  <thead>\n",
       "    <tr style=\"text-align: right;\">\n",
       "      <th></th>\n",
       "      <th>neighborhood</th>\n",
       "      <th>price_per_person</th>\n",
       "      <th>overall_satisfaction</th>\n",
       "      <th>N</th>\n",
       "      <th>label</th>\n",
       "    </tr>\n",
       "  </thead>\n",
       "  <tbody>\n",
       "    <tr>\n",
       "      <th>78</th>\n",
       "      <td>SHARSWOOD</td>\n",
       "      <td>387.626984</td>\n",
       "      <td>5.0</td>\n",
       "      <td>31</td>\n",
       "      <td>2</td>\n",
       "    </tr>\n",
       "  </tbody>\n",
       "</table>\n",
       "</div>"
      ],
      "text/plain": [
       "   neighborhood  price_per_person  overall_satisfaction   N  label\n",
       "78    SHARSWOOD        387.626984                   5.0  31      2"
      ]
     },
     "execution_count": 95,
     "metadata": {},
     "output_type": "execute_result"
    }
   ],
   "source": [
    "airbnb.loc[airbnb['label'] == 2]"
   ]
  },
  {
   "cell_type": "code",
   "execution_count": 96,
   "metadata": {
    "slideshow": {
     "slide_type": "subslide"
    },
    "tags": []
   },
   "outputs": [
    {
     "data": {
      "text/html": [
       "<div>\n",
       "<style scoped>\n",
       "    .dataframe tbody tr th:only-of-type {\n",
       "        vertical-align: middle;\n",
       "    }\n",
       "\n",
       "    .dataframe tbody tr th {\n",
       "        vertical-align: top;\n",
       "    }\n",
       "\n",
       "    .dataframe thead th {\n",
       "        text-align: right;\n",
       "    }\n",
       "</style>\n",
       "<table border=\"1\" class=\"dataframe\">\n",
       "  <thead>\n",
       "    <tr style=\"text-align: right;\">\n",
       "      <th></th>\n",
       "      <th>neighborhood</th>\n",
       "      <th>price_per_person</th>\n",
       "      <th>overall_satisfaction</th>\n",
       "      <th>N</th>\n",
       "      <th>label</th>\n",
       "    </tr>\n",
       "  </thead>\n",
       "  <tbody>\n",
       "    <tr>\n",
       "      <th>75</th>\n",
       "      <td>RITTENHOUSE</td>\n",
       "      <td>136.263996</td>\n",
       "      <td>3.000924</td>\n",
       "      <td>1499</td>\n",
       "      <td>3</td>\n",
       "    </tr>\n",
       "  </tbody>\n",
       "</table>\n",
       "</div>"
      ],
      "text/plain": [
       "   neighborhood  price_per_person  overall_satisfaction     N  label\n",
       "75  RITTENHOUSE        136.263996              3.000924  1499      3"
      ]
     },
     "execution_count": 96,
     "metadata": {},
     "output_type": "execute_result"
    }
   ],
   "source": [
    "airbnb.loc[airbnb['label'] == 3]"
   ]
  },
  {
   "cell_type": "code",
   "execution_count": 98,
   "metadata": {
    "hide_input": false,
    "slideshow": {
     "slide_type": "subslide"
    },
    "tags": []
   },
   "outputs": [
    {
     "data": {
      "text/html": [
       "<div>\n",
       "<style scoped>\n",
       "    .dataframe tbody tr th:only-of-type {\n",
       "        vertical-align: middle;\n",
       "    }\n",
       "\n",
       "    .dataframe tbody tr th {\n",
       "        vertical-align: top;\n",
       "    }\n",
       "\n",
       "    .dataframe thead th {\n",
       "        text-align: right;\n",
       "    }\n",
       "</style>\n",
       "<table border=\"1\" class=\"dataframe\">\n",
       "  <thead>\n",
       "    <tr style=\"text-align: right;\">\n",
       "      <th></th>\n",
       "      <th>neighborhood</th>\n",
       "      <th>price_per_person</th>\n",
       "      <th>overall_satisfaction</th>\n",
       "      <th>N</th>\n",
       "      <th>label</th>\n",
       "    </tr>\n",
       "  </thead>\n",
       "  <tbody>\n",
       "    <tr>\n",
       "      <th>16</th>\n",
       "      <td>EAST_PARK</td>\n",
       "      <td>193.388889</td>\n",
       "      <td>2.714286</td>\n",
       "      <td>42</td>\n",
       "      <td>4</td>\n",
       "    </tr>\n",
       "    <tr>\n",
       "      <th>19</th>\n",
       "      <td>FAIRMOUNT</td>\n",
       "      <td>144.764110</td>\n",
       "      <td>2.903614</td>\n",
       "      <td>463</td>\n",
       "      <td>4</td>\n",
       "    </tr>\n",
       "    <tr>\n",
       "      <th>20</th>\n",
       "      <td>FISHTOWN</td>\n",
       "      <td>59.283468</td>\n",
       "      <td>2.963816</td>\n",
       "      <td>477</td>\n",
       "      <td>4</td>\n",
       "    </tr>\n",
       "    <tr>\n",
       "      <th>23</th>\n",
       "      <td>FRANCISVILLE</td>\n",
       "      <td>124.795795</td>\n",
       "      <td>3.164062</td>\n",
       "      <td>300</td>\n",
       "      <td>4</td>\n",
       "    </tr>\n",
       "    <tr>\n",
       "      <th>35</th>\n",
       "      <td>GRADUATE_HOSPITAL</td>\n",
       "      <td>106.420417</td>\n",
       "      <td>3.180791</td>\n",
       "      <td>649</td>\n",
       "      <td>4</td>\n",
       "    </tr>\n",
       "    <tr>\n",
       "      <th>47</th>\n",
       "      <td>LOGAN_SQUARE</td>\n",
       "      <td>145.439414</td>\n",
       "      <td>3.139241</td>\n",
       "      <td>510</td>\n",
       "      <td>4</td>\n",
       "    </tr>\n",
       "    <tr>\n",
       "      <th>57</th>\n",
       "      <td>NORTHERN_LIBERTIES</td>\n",
       "      <td>145.004866</td>\n",
       "      <td>3.095506</td>\n",
       "      <td>367</td>\n",
       "      <td>4</td>\n",
       "    </tr>\n",
       "    <tr>\n",
       "      <th>60</th>\n",
       "      <td>OLD_CITY</td>\n",
       "      <td>111.708084</td>\n",
       "      <td>2.756637</td>\n",
       "      <td>352</td>\n",
       "      <td>4</td>\n",
       "    </tr>\n",
       "    <tr>\n",
       "      <th>70</th>\n",
       "      <td>POINT_BREEZE</td>\n",
       "      <td>63.801072</td>\n",
       "      <td>2.759542</td>\n",
       "      <td>435</td>\n",
       "      <td>4</td>\n",
       "    </tr>\n",
       "    <tr>\n",
       "      <th>72</th>\n",
       "      <td>QUEEN_VILLAGE</td>\n",
       "      <td>106.405744</td>\n",
       "      <td>3.125000</td>\n",
       "      <td>248</td>\n",
       "      <td>4</td>\n",
       "    </tr>\n",
       "    <tr>\n",
       "      <th>79</th>\n",
       "      <td>SOCIETY_HILL</td>\n",
       "      <td>133.598667</td>\n",
       "      <td>3.118421</td>\n",
       "      <td>165</td>\n",
       "      <td>4</td>\n",
       "    </tr>\n",
       "    <tr>\n",
       "      <th>82</th>\n",
       "      <td>SPRING_GARDEN</td>\n",
       "      <td>157.125692</td>\n",
       "      <td>3.454023</td>\n",
       "      <td>413</td>\n",
       "      <td>4</td>\n",
       "    </tr>\n",
       "    <tr>\n",
       "      <th>83</th>\n",
       "      <td>SPRUCE_HILL</td>\n",
       "      <td>48.095512</td>\n",
       "      <td>2.377358</td>\n",
       "      <td>399</td>\n",
       "      <td>4</td>\n",
       "    </tr>\n",
       "    <tr>\n",
       "      <th>88</th>\n",
       "      <td>UNIVERSITY_CITY</td>\n",
       "      <td>82.228062</td>\n",
       "      <td>2.231579</td>\n",
       "      <td>326</td>\n",
       "      <td>4</td>\n",
       "    </tr>\n",
       "    <tr>\n",
       "      <th>91</th>\n",
       "      <td>WASHINGTON_SQUARE</td>\n",
       "      <td>126.959118</td>\n",
       "      <td>3.063745</td>\n",
       "      <td>703</td>\n",
       "      <td>4</td>\n",
       "    </tr>\n",
       "  </tbody>\n",
       "</table>\n",
       "</div>"
      ],
      "text/plain": [
       "          neighborhood  price_per_person  overall_satisfaction    N  label\n",
       "16           EAST_PARK        193.388889              2.714286   42      4\n",
       "19           FAIRMOUNT        144.764110              2.903614  463      4\n",
       "20            FISHTOWN         59.283468              2.963816  477      4\n",
       "23        FRANCISVILLE        124.795795              3.164062  300      4\n",
       "35   GRADUATE_HOSPITAL        106.420417              3.180791  649      4\n",
       "47        LOGAN_SQUARE        145.439414              3.139241  510      4\n",
       "57  NORTHERN_LIBERTIES        145.004866              3.095506  367      4\n",
       "60            OLD_CITY        111.708084              2.756637  352      4\n",
       "70        POINT_BREEZE         63.801072              2.759542  435      4\n",
       "72       QUEEN_VILLAGE        106.405744              3.125000  248      4\n",
       "79        SOCIETY_HILL        133.598667              3.118421  165      4\n",
       "82       SPRING_GARDEN        157.125692              3.454023  413      4\n",
       "83         SPRUCE_HILL         48.095512              2.377358  399      4\n",
       "88     UNIVERSITY_CITY         82.228062              2.231579  326      4\n",
       "91   WASHINGTON_SQUARE        126.959118              3.063745  703      4"
      ]
     },
     "execution_count": 98,
     "metadata": {},
     "output_type": "execute_result"
    }
   ],
   "source": [
    "airbnb.loc[airbnb['label'] == 4]"
   ]
  },
  {
   "cell_type": "markdown",
   "metadata": {
    "slideshow": {
     "slide_type": "slide"
    }
   },
   "source": [
    "#### Step 4: Plot a choropleth, coloring neighborhoods by their cluster label\n",
    "\n",
    "- Part 1: Load the Philadelphia neighborhoods available in the data directory:  \n",
    "    - `./data/philly_neighborhoods.geojson`\n",
    "- Part 2: Merge the Airbnb data (with labels) and the neighborhood polygons\n",
    "- Part 3: Use geopandas to plot the neighborhoods\n",
    "    - The `categorical=True` and `legend=True` keywords will be useful here"
   ]
  },
  {
   "cell_type": "code",
   "execution_count": 99,
   "metadata": {
    "hide_input": false,
    "slideshow": {
     "slide_type": "subslide"
    },
    "tags": []
   },
   "outputs": [
    {
     "data": {
      "text/html": [
       "<div>\n",
       "<style scoped>\n",
       "    .dataframe tbody tr th:only-of-type {\n",
       "        vertical-align: middle;\n",
       "    }\n",
       "\n",
       "    .dataframe tbody tr th {\n",
       "        vertical-align: top;\n",
       "    }\n",
       "\n",
       "    .dataframe thead th {\n",
       "        text-align: right;\n",
       "    }\n",
       "</style>\n",
       "<table border=\"1\" class=\"dataframe\">\n",
       "  <thead>\n",
       "    <tr style=\"text-align: right;\">\n",
       "      <th></th>\n",
       "      <th>Name</th>\n",
       "      <th>geometry</th>\n",
       "    </tr>\n",
       "  </thead>\n",
       "  <tbody>\n",
       "    <tr>\n",
       "      <th>0</th>\n",
       "      <td>LAWNDALE</td>\n",
       "      <td>POLYGON ((-75.08616 40.05013, -75.08893 40.044...</td>\n",
       "    </tr>\n",
       "    <tr>\n",
       "      <th>1</th>\n",
       "      <td>ASTON_WOODBRIDGE</td>\n",
       "      <td>POLYGON ((-75.00860 40.05369, -75.00861 40.053...</td>\n",
       "    </tr>\n",
       "    <tr>\n",
       "      <th>2</th>\n",
       "      <td>CARROLL_PARK</td>\n",
       "      <td>POLYGON ((-75.22673 39.97720, -75.22022 39.974...</td>\n",
       "    </tr>\n",
       "    <tr>\n",
       "      <th>3</th>\n",
       "      <td>CHESTNUT_HILL</td>\n",
       "      <td>POLYGON ((-75.21278 40.08637, -75.21272 40.086...</td>\n",
       "    </tr>\n",
       "    <tr>\n",
       "      <th>4</th>\n",
       "      <td>BURNHOLME</td>\n",
       "      <td>POLYGON ((-75.08768 40.06861, -75.08758 40.068...</td>\n",
       "    </tr>\n",
       "  </tbody>\n",
       "</table>\n",
       "</div>"
      ],
      "text/plain": [
       "               Name                                           geometry\n",
       "0          LAWNDALE  POLYGON ((-75.08616 40.05013, -75.08893 40.044...\n",
       "1  ASTON_WOODBRIDGE  POLYGON ((-75.00860 40.05369, -75.00861 40.053...\n",
       "2      CARROLL_PARK  POLYGON ((-75.22673 39.97720, -75.22022 39.974...\n",
       "3     CHESTNUT_HILL  POLYGON ((-75.21278 40.08637, -75.21272 40.086...\n",
       "4         BURNHOLME  POLYGON ((-75.08768 40.06861, -75.08758 40.068..."
      ]
     },
     "execution_count": 99,
     "metadata": {},
     "output_type": "execute_result"
    }
   ],
   "source": [
    "hoods = gpd.read_file(\"./data/philly_neighborhoods.geojson\")\n",
    "hoods.head()"
   ]
  },
  {
   "cell_type": "code",
   "execution_count": 100,
   "metadata": {
    "hide_input": false,
    "slideshow": {
     "slide_type": "subslide"
    },
    "tags": []
   },
   "outputs": [
    {
     "data": {
      "text/html": [
       "<div>\n",
       "<style scoped>\n",
       "    .dataframe tbody tr th:only-of-type {\n",
       "        vertical-align: middle;\n",
       "    }\n",
       "\n",
       "    .dataframe tbody tr th {\n",
       "        vertical-align: top;\n",
       "    }\n",
       "\n",
       "    .dataframe thead th {\n",
       "        text-align: right;\n",
       "    }\n",
       "</style>\n",
       "<table border=\"1\" class=\"dataframe\">\n",
       "  <thead>\n",
       "    <tr style=\"text-align: right;\">\n",
       "      <th></th>\n",
       "      <th>neighborhood</th>\n",
       "      <th>price_per_person</th>\n",
       "      <th>overall_satisfaction</th>\n",
       "      <th>N</th>\n",
       "      <th>label</th>\n",
       "    </tr>\n",
       "  </thead>\n",
       "  <tbody>\n",
       "    <tr>\n",
       "      <th>0</th>\n",
       "      <td>ALLEGHENY_WEST</td>\n",
       "      <td>120.791667</td>\n",
       "      <td>4.666667</td>\n",
       "      <td>23</td>\n",
       "      <td>0</td>\n",
       "    </tr>\n",
       "    <tr>\n",
       "      <th>1</th>\n",
       "      <td>BELLA_VISTA</td>\n",
       "      <td>87.407920</td>\n",
       "      <td>3.158333</td>\n",
       "      <td>204</td>\n",
       "      <td>0</td>\n",
       "    </tr>\n",
       "    <tr>\n",
       "      <th>2</th>\n",
       "      <td>BELMONT</td>\n",
       "      <td>69.425000</td>\n",
       "      <td>3.250000</td>\n",
       "      <td>11</td>\n",
       "      <td>0</td>\n",
       "    </tr>\n",
       "    <tr>\n",
       "      <th>3</th>\n",
       "      <td>BREWERYTOWN</td>\n",
       "      <td>71.788188</td>\n",
       "      <td>1.943182</td>\n",
       "      <td>142</td>\n",
       "      <td>0</td>\n",
       "    </tr>\n",
       "    <tr>\n",
       "      <th>4</th>\n",
       "      <td>BUSTLETON</td>\n",
       "      <td>55.833333</td>\n",
       "      <td>1.250000</td>\n",
       "      <td>19</td>\n",
       "      <td>1</td>\n",
       "    </tr>\n",
       "  </tbody>\n",
       "</table>\n",
       "</div>"
      ],
      "text/plain": [
       "     neighborhood  price_per_person  overall_satisfaction    N  label\n",
       "0  ALLEGHENY_WEST        120.791667              4.666667   23      0\n",
       "1     BELLA_VISTA         87.407920              3.158333  204      0\n",
       "2         BELMONT         69.425000              3.250000   11      0\n",
       "3     BREWERYTOWN         71.788188              1.943182  142      0\n",
       "4       BUSTLETON         55.833333              1.250000   19      1"
      ]
     },
     "execution_count": 100,
     "metadata": {},
     "output_type": "execute_result"
    }
   ],
   "source": [
    "airbnb.head()"
   ]
  },
  {
   "cell_type": "code",
   "execution_count": 103,
   "metadata": {
    "hide_input": false,
    "slideshow": {
     "slide_type": "subslide"
    },
    "tags": []
   },
   "outputs": [],
   "source": [
    "# Do the merge\n",
    "# Note: how='left' will keep ALL of the geometries, even if they don't have any AirBnB data\n",
    "airbnb2 = hoods.merge(airbnb, left_on='Name', right_on='neighborhood', how='left')\n",
    "\n",
    "# Some neigborhoods don't have listings and get assigned the NaN label\n",
    "# Assign -1 to the neighborhoods without any listings instead\n",
    "airbnb2['label'] = airbnb2['label'].fillna(-1)"
   ]
  },
  {
   "cell_type": "code",
   "execution_count": 104,
   "metadata": {
    "hide_input": false,
    "slideshow": {
     "slide_type": "subslide"
    },
    "tags": []
   },
   "outputs": [
    {
     "data": {
      "image/png": "[encoded data removed]",
      "text/plain": [
       "<Figure size 1000x800 with 1 Axes>"
      ]
     },
     "metadata": {},
     "output_type": "display_data"
    }
   ],
   "source": [
    "# plot the data\n",
    "airbnb2 = airbnb2.to_crs(epsg=3857)\n",
    "\n",
    "# setup the figure\n",
    "f, ax = plt.subplots(figsize=(10, 8))\n",
    "\n",
    "# plot, coloring by label column\n",
    "# specify categorical data and add legend\n",
    "airbnb2.plot(\n",
    "    column=\"label\",\n",
    "    cmap=\"Dark2\",\n",
    "    categorical=True,\n",
    "    legend=True,\n",
    "    edgecolor=\"k\",\n",
    "    lw=0.5,\n",
    "    ax=ax,\n",
    ")\n",
    "\n",
    "\n",
    "ax.set_axis_off()\n",
    "plt.axis(\"equal\");"
   ]
  },
  {
   "cell_type": "markdown",
   "metadata": {
    "slideshow": {
     "slide_type": "slide"
    }
   },
   "source": [
    "#### Step 5: Plot an interactive map\n",
    "\n",
    "Use hvplot / geopandas to plot the clustering results with a tooltip for neighborhood name and tooltip."
   ]
  },
  {
   "cell_type": "code",
   "execution_count": 105,
   "metadata": {
    "tags": []
   },
   "outputs": [
    {
     "data": {
      "text/html": [
       "<div style=\"width:100%;\"><div style=\"position:relative;width:100%;height:0;padding-bottom:60%;\"><span style=\"color:#565656\">Make this Notebook Trusted to load map: File -> Trust Notebook</span><iframe srcdoc=\"&lt;!DOCTYPE html&gt;\n",
       "&lt;html&gt;\n",
       "&lt;head&gt;\n",
       "    \n",
       "    &lt;meta http-equiv=&quot;content-type&quot; content=&quot;text/html; charset=UTF-8&quot; /&gt;\n",
       "    \n",
       "        &lt;script&gt;\n",
       "            L_NO_TOUCH = false;\n",
       "            L_DISABLE_3D = false;\n",
       "        &lt;/script&gt;\n",
       "    \n",
       "    &lt;style&gt;html, body {width: 100%;height: 100%;margin: 0;padding: 0;}&lt;/style&gt;\n",
       "    &lt;style&gt;#map {position:absolute;top:0;bottom:0;right:0;left:0;}&lt;/style&gt;\n",
       "    &lt;script src=&quot;https://cdn.jsdelivr.net/npm/leaflet@1.9.3/dist/leaflet.js&quot;&gt;&lt;/script&gt;\n",
       "    &lt;script src=&quot;https://code.jquery.com/jquery-3.7.1.min.js&quot;&gt;&lt;/script&gt;\n",
       "    &lt;script src=&quot;https://cdn.jsdelivr.net/npm/bootstrap@5.2.2/dist/js/bootstrap.bundle.min.js&quot;&gt;&lt;/script&gt;\n",
       "    &lt;script src=&quot;https://cdnjs.cloudflare.com/ajax/libs/Leaflet.awesome-markers/2.0.2/leaflet.awesome-markers.js&quot;&gt;&lt;/script&gt;\n",
       "    &lt;link rel=&quot;stylesheet&quot; href=&quot;https://cdn.jsdelivr.net/npm/leaflet@1.9.3/dist/leaflet.css&quot;/&gt;\n",
       "    &lt;link rel=&quot;stylesheet&quot; href=&quot;https://cdn.jsdelivr.net/npm/bootstrap@5.2.2/dist/css/bootstrap.min.css&quot;/&gt;\n",
       "    &lt;link rel=&quot;stylesheet&quot; href=&quot;https://netdna.bootstrapcdn.com/bootstrap/3.0.0/css/bootstrap.min.css&quot;/&gt;\n",
       "    &lt;link rel=&quot;stylesheet&quot; href=&quot;https://cdn.jsdelivr.net/npm/@fortawesome/fontawesome-free@6.2.0/css/all.min.css&quot;/&gt;\n",
       "    &lt;link rel=&quot;stylesheet&quot; href=&quot;https://cdnjs.cloudflare.com/ajax/libs/Leaflet.awesome-markers/2.0.2/leaflet.awesome-markers.css&quot;/&gt;\n",
       "    &lt;link rel=&quot;stylesheet&quot; href=&quot;https://cdn.jsdelivr.net/gh/python-visualization/folium/folium/templates/leaflet.awesome.rotate.min.css&quot;/&gt;\n",
       "    \n",
       "            &lt;meta name=&quot;viewport&quot; content=&quot;width=device-width,\n",
       "                initial-scale=1.0, maximum-scale=1.0, user-scalable=no&quot; /&gt;\n",
       "            &lt;style&gt;\n",
       "                #map_444041e9ad5eb3c139fc188fb9b65bf8 {\n",
       "                    position: relative;\n",
       "                    width: 100.0%;\n",
       "                    height: 100.0%;\n",
       "                    left: 0.0%;\n",
       "                    top: 0.0%;\n",
       "                }\n",
       "                .leaflet-container { font-size: 1rem; }\n",
       "            &lt;/style&gt;\n",
       "        \n",
       "    \n",
       "                    &lt;style&gt;\n",
       "                        .foliumtooltip {\n",
       "                            \n",
       "                        }\n",
       "                       .foliumtooltip table{\n",
       "                            margin: auto;\n",
       "                        }\n",
       "                        .foliumtooltip tr{\n",
       "                            text-align: left;\n",
       "                        }\n",
       "                        .foliumtooltip th{\n",
       "                            padding: 2px; padding-right: 8px;\n",
       "                        }\n",
       "                    &lt;/style&gt;\n",
       "            \n",
       "    \n",
       "    &lt;script src=&quot;https://code.jquery.com/ui/1.12.1/jquery-ui.js&quot;&gt;&lt;/script&gt;\n",
       "    &lt;script&gt;$( function() {\n",
       "        $( &quot;.maplegend&quot; ).draggable({\n",
       "            start: function (event, ui) {\n",
       "                $(this).css({\n",
       "                    right: &quot;auto&quot;,\n",
       "                    top: &quot;auto&quot;,\n",
       "                    bottom: &quot;auto&quot;\n",
       "                });\n",
       "            }\n",
       "        });\n",
       "    });\n",
       "    &lt;/script&gt;\n",
       "    &lt;style type=&#x27;text/css&#x27;&gt;\n",
       "      .maplegend {\n",
       "        position: absolute;\n",
       "        z-index:9999;\n",
       "        background-color: rgba(255, 255, 255, .8);\n",
       "        border-radius: 5px;\n",
       "        box-shadow: 0 0 15px rgba(0,0,0,0.2);\n",
       "        padding: 10px;\n",
       "        font: 12px/14px Arial, Helvetica, sans-serif;\n",
       "        right: 10px;\n",
       "        bottom: 20px;\n",
       "      }\n",
       "      .maplegend .legend-title {\n",
       "        text-align: left;\n",
       "        margin-bottom: 5px;\n",
       "        font-weight: bold;\n",
       "        }\n",
       "      .maplegend .legend-scale ul {\n",
       "        margin: 0;\n",
       "        margin-bottom: 0px;\n",
       "        padding: 0;\n",
       "        float: left;\n",
       "        list-style: none;\n",
       "        }\n",
       "      .maplegend .legend-scale ul li {\n",
       "        list-style: none;\n",
       "        margin-left: 0;\n",
       "        line-height: 16px;\n",
       "        margin-bottom: 2px;\n",
       "        }\n",
       "      .maplegend ul.legend-labels li span {\n",
       "        display: block;\n",
       "        float: left;\n",
       "        height: 14px;\n",
       "        width: 14px;\n",
       "        margin-right: 5px;\n",
       "        margin-left: 0;\n",
       "        border: 0px solid #ccc;\n",
       "        }\n",
       "      .maplegend .legend-source {\n",
       "        color: #777;\n",
       "        clear: both;\n",
       "        }\n",
       "      .maplegend a {\n",
       "        color: #777;\n",
       "        }\n",
       "    &lt;/style&gt;\n",
       "    \n",
       "&lt;/head&gt;\n",
       "&lt;body&gt;\n",
       "    \n",
       "    \n",
       "    &lt;div id=&#x27;maplegend label&#x27; class=&#x27;maplegend&#x27;&gt;\n",
       "        &lt;div class=&#x27;legend-title&#x27;&gt;label&lt;/div&gt;\n",
       "        &lt;div class=&#x27;legend-scale&#x27;&gt;\n",
       "            &lt;ul class=&#x27;legend-labels&#x27;&gt;\n",
       "                &lt;li&gt;&lt;span style=&#x27;background:#1b9e77&#x27;&gt;&lt;/span&gt;-1.0&lt;/li&gt;\n",
       "                &lt;li&gt;&lt;span style=&#x27;background:#d95f02&#x27;&gt;&lt;/span&gt;0.0&lt;/li&gt;\n",
       "                &lt;li&gt;&lt;span style=&#x27;background:#e7298a&#x27;&gt;&lt;/span&gt;1.0&lt;/li&gt;\n",
       "                &lt;li&gt;&lt;span style=&#x27;background:#66a61e&#x27;&gt;&lt;/span&gt;2.0&lt;/li&gt;\n",
       "                &lt;li&gt;&lt;span style=&#x27;background:#a6761d&#x27;&gt;&lt;/span&gt;3.0&lt;/li&gt;\n",
       "                &lt;li&gt;&lt;span style=&#x27;background:#666666&#x27;&gt;&lt;/span&gt;4.0&lt;/li&gt;\n",
       "            &lt;/ul&gt;\n",
       "        &lt;/div&gt;\n",
       "    &lt;/div&gt;\n",
       "    \n",
       "    \n",
       "            &lt;div class=&quot;folium-map&quot; id=&quot;map_444041e9ad5eb3c139fc188fb9b65bf8&quot; &gt;&lt;/div&gt;\n",
       "        \n",
       "&lt;/body&gt;\n",
       "&lt;script&gt;\n",
       "    \n",
       "    \n",
       "            var map_444041e9ad5eb3c139fc188fb9b65bf8 = L.map(\n",
       "                &quot;map_444041e9ad5eb3c139fc188fb9b65bf8&quot;,\n",
       "                {\n",
       "                    center: [40.002498, -75.11801475299998],\n",
       "                    crs: L.CRS.EPSG3857,\n",
       "                    zoom: 10,\n",
       "                    zoomControl: true,\n",
       "                    preferCanvas: false,\n",
       "                }\n",
       "            );\n",
       "            L.control.scale().addTo(map_444041e9ad5eb3c139fc188fb9b65bf8);\n",
       "\n",
       "            \n",
       "\n",
       "        \n",
       "    \n",
       "            var tile_layer_cdac2316956fb53b8c0d770179c2d613 = L.tileLayer(\n",
       "                &quot;https://a.basemaps.cartocdn.com/light_all/{z}/{x}/{y}{r}.png&quot;,\n",
       "                {&quot;attribution&quot;: &quot;\\u0026copy; \\u003ca href=\\&quot;https://www.openstreetmap.org/copyright\\&quot;\\u003eOpenStreetMap\\u003c/a\\u003e contributors \\u0026copy; \\u003ca href=\\&quot;https://carto.com/attributions\\&quot;\\u003eCARTO\\u003c/a\\u003e&quot;, &quot;detectRetina&quot;: false, &quot;maxNativeZoom&quot;: 20, &quot;maxZoom&quot;: 20, &quot;minZoom&quot;: 0, &quot;noWrap&quot;: false, &quot;opacity&quot;: 1, &quot;subdomains&quot;: &quot;abc&quot;, &quot;tms&quot;: false}\n",
       "            );\n",
       "        \n",
       "    \n",
       "            tile_layer_cdac2316956fb53b8c0d770179c2d613.addTo(map_444041e9ad5eb3c139fc188fb9b65bf8);\n",
       "        \n",
       "    \n",
       "            map_444041e9ad5eb3c139fc188fb9b65bf8.fitBounds(\n",
       "                [[39.86700400000001, -75.280266], [40.137992, -74.95576350599998]],\n",
       "                {}\n",
       "            );\n",
       "        \n",
       "    \n",
       "        function geo_json_a186f6ed29797c8b22ba9c1a2dcf0d0d_styler(feature) {\n",
       "            switch(feature.id) {\n",
       "                case &quot;0&quot;: case &quot;11&quot;: case &quot;14&quot;: case &quot;17&quot;: case &quot;24&quot;: case &quot;26&quot;: case &quot;39&quot;: case &quot;42&quot;: case &quot;46&quot;: case &quot;48&quot;: case &quot;54&quot;: case &quot;60&quot;: case &quot;83&quot;: case &quot;87&quot;: case &quot;95&quot;: case &quot;96&quot;: case &quot;97&quot;: case &quot;117&quot;: case &quot;125&quot;: \n",
       "                    return {&quot;color&quot;: &quot;#e7298a&quot;, &quot;fillColor&quot;: &quot;#e7298a&quot;, &quot;fillOpacity&quot;: 0.5, &quot;weight&quot;: 2};\n",
       "                case &quot;1&quot;: case &quot;2&quot;: case &quot;4&quot;: case &quot;5&quot;: case &quot;6&quot;: case &quot;7&quot;: case &quot;8&quot;: case &quot;9&quot;: case &quot;10&quot;: case &quot;13&quot;: case &quot;15&quot;: case &quot;19&quot;: case &quot;20&quot;: case &quot;23&quot;: case &quot;27&quot;: case &quot;28&quot;: case &quot;29&quot;: case &quot;30&quot;: case &quot;31&quot;: case &quot;33&quot;: case &quot;34&quot;: case &quot;35&quot;: case &quot;44&quot;: case &quot;47&quot;: case &quot;53&quot;: case &quot;56&quot;: case &quot;58&quot;: case &quot;68&quot;: case &quot;71&quot;: case &quot;82&quot;: case &quot;88&quot;: case &quot;89&quot;: case &quot;90&quot;: case &quot;92&quot;: case &quot;99&quot;: case &quot;102&quot;: case &quot;109&quot;: case &quot;110&quot;: case &quot;112&quot;: case &quot;113&quot;: case &quot;115&quot;: case &quot;116&quot;: case &quot;118&quot;: case &quot;119&quot;: case &quot;120&quot;: case &quot;124&quot;: case &quot;126&quot;: case &quot;128&quot;: case &quot;129&quot;: case &quot;130&quot;: case &quot;139&quot;: case &quot;141&quot;: case &quot;143&quot;: case &quot;144&quot;: case &quot;155&quot;: case &quot;156&quot;: \n",
       "                    return {&quot;color&quot;: &quot;#1b9e77&quot;, &quot;fillColor&quot;: &quot;#1b9e77&quot;, &quot;fillOpacity&quot;: 0.5, &quot;weight&quot;: 2};\n",
       "                case &quot;22&quot;: case &quot;41&quot;: case &quot;43&quot;: case &quot;51&quot;: case &quot;69&quot;: case &quot;78&quot;: case &quot;84&quot;: case &quot;94&quot;: case &quot;100&quot;: case &quot;114&quot;: case &quot;121&quot;: case &quot;127&quot;: case &quot;135&quot;: case &quot;142&quot;: case &quot;151&quot;: \n",
       "                    return {&quot;color&quot;: &quot;#666666&quot;, &quot;fillColor&quot;: &quot;#666666&quot;, &quot;fillOpacity&quot;: 0.5, &quot;weight&quot;: 2};\n",
       "                case &quot;132&quot;: \n",
       "                    return {&quot;color&quot;: &quot;#66a61e&quot;, &quot;fillColor&quot;: &quot;#66a61e&quot;, &quot;fillOpacity&quot;: 0.5, &quot;weight&quot;: 2};\n",
       "                case &quot;150&quot;: \n",
       "                    return {&quot;color&quot;: &quot;#a6761d&quot;, &quot;fillColor&quot;: &quot;#a6761d&quot;, &quot;fillOpacity&quot;: 0.5, &quot;weight&quot;: 2};\n",
       "                default:\n",
       "                    return {&quot;color&quot;: &quot;#d95f02&quot;, &quot;fillColor&quot;: &quot;#d95f02&quot;, &quot;fillOpacity&quot;: 0.5, &quot;weight&quot;: 2};\n",
       "            }\n",
       "        }\n",
       "        function geo_json_a186f6ed29797c8b22ba9c1a2dcf0d0d_highlighter(feature) {\n",
       "            switch(feature.id) {\n",
       "                default:\n",
       "                    return {&quot;fillOpacity&quot;: 0.75};\n",
       "            }\n",
       "        }\n",
       "        function geo_json_a186f6ed29797c8b22ba9c1a2dcf0d0d_pointToLayer(feature, latlng) {\n",
       "            var opts = {&quot;bubblingMouseEvents&quot;: true, &quot;color&quot;: &quot;#3388ff&quot;, &quot;dashArray&quot;: null, &quot;dashOffset&quot;: null, &quot;fill&quot;: true, &quot;fillColor&quot;: &quot;#3388ff&quot;, &quot;fillOpacity&quot;: 0.2, &quot;fillRule&quot;: &quot;evenodd&quot;, &quot;lineCap&quot;: &quot;round&quot;, &quot;lineJoin&quot;: &quot;round&quot;, &quot;opacity&quot;: 1.0, &quot;radius&quot;: 2, &quot;stroke&quot;: true, &quot;weight&quot;: 3};\n",
       "            \n",
       "            let style = geo_json_a186f6ed29797c8b22ba9c1a2dcf0d0d_styler(feature)\n",
       "            Object.assign(opts, style)\n",
       "            \n",
       "            return new L.CircleMarker(latlng, opts)\n",
       "        }\n",
       "\n",
       "        function geo_json_a186f6ed29797c8b22ba9c1a2dcf0d0d_onEachFeature(feature, layer) {\n",
       "            layer.on({\n",
       "                mouseout: function(e) {\n",
       "                    if(typeof e.target.setStyle === &quot;function&quot;){\n",
       "                            geo_json_a186f6ed29797c8b22ba9c1a2dcf0d0d.resetStyle(e.target);\n",
       "                    }\n",
       "                },\n",
       "                mouseover: function(e) {\n",
       "                    if(typeof e.target.setStyle === &quot;function&quot;){\n",
       "                        const highlightStyle = geo_json_a186f6ed29797c8b22ba9c1a2dcf0d0d_highlighter(e.target.feature)\n",
       "                        e.target.setStyle(highlightStyle);\n",
       "                    }\n",
       "                },\n",
       "            });\n",
       "        };\n",
       "        var geo_json_a186f6ed29797c8b22ba9c1a2dcf0d0d = L.geoJson(null, {\n",
       "                onEachFeature: geo_json_a186f6ed29797c8b22ba9c1a2dcf0d0d_onEachFeature,\n",
       "            \n",
       "                style: geo_json_a186f6ed29797c8b22ba9c1a2dcf0d0d_styler,\n",
       "                pointToLayer: geo_json_a186f6ed29797c8b22ba9c1a2dcf0d0d_pointToLayer,\n",
       "        });\n",
       "\n",
       "        function geo_json_a186f6ed29797c8b22ba9c1a2dcf0d0d_add (data) {\n",
       "            geo_json_a186f6ed29797c8b22ba9c1a2dcf0d0d\n",
       "                .addData(data);\n",
       "        }\n",
       "            geo_json_a186f6ed29797c8b22ba9c1a2dcf0d0d_add({&quot;bbox&quot;: [-75.280266, 39.86700400000001, -74.95576350599998, 40.137992], &quot;features&quot;: [{&quot;bbox&quot;: [-75.11459564899997, 40.02731986200006, -75.08613134699992, 40.05718799999999], &quot;geometry&quot;: {&quot;coordinates&quot;: [[[-75.08616108999995, 40.05013294500003], [-75.08892721299998, 40.04442223800003], [-75.09303178399995, 40.04617709100006], [-75.09547073099999, 40.04388686000004], [-75.09698763799997, 40.042221237000035], [-75.09817736799994, 40.04120996600006], [-75.09912915199997, 40.040644844000035], [-75.10225219499995, 40.037848977000074], [-75.10463165599998, 40.035380286000084], [-75.10115169399995, 40.03335774500005], [-75.10269834399998, 40.03184083800005], [-75.10385833099997, 40.03068085100005], [-75.10433422299997, 40.03017521600003], [-75.10421524999998, 40.029699323000045], [-75.10489934499998, 40.02958035000006], [-75.10885519899995, 40.028212160000066], [-75.11200798499993, 40.02737934900006], [-75.11264490199994, 40.02732396400006], [-75.11269207999997, 40.02731986200006], [-75.11268241599997, 40.02737301100006], [-75.11257310699995, 40.02797421400004], [-75.11168080899995, 40.02800395700007], [-75.11105620099994, 40.028836769000065], [-75.11090748399992, 40.02958035000006], [-75.11120491699995, 40.03053213500004], [-75.11096697099998, 40.03264390600004], [-75.11078851099995, 40.03344697400007], [-75.11111568699994, 40.03427978600008], [-75.11215670099995, 40.03514234000005], [-75.11248387699999, 40.036004895000076], [-75.11319771599995, 40.03654027400006], [-75.11370335099996, 40.03719462600003], [-75.11459564899997, 40.03981203300004], [-75.11429821599994, 40.04025818200005], [-75.11364386499997, 40.040942277000056], [-75.11334643199994, 40.041596628000036], [-75.11281105299997, 40.04207252100008], [-75.11251956899996, 40.04257458700004], [-75.11235300699995, 40.04334791200005], [-75.11106809799996, 40.044632821000036], [-75.11131794099997, 40.046417416000054], [-75.11099090099998, 40.04677217200003], [-75.11098511399996, 40.04676880300007], [-75.11093710099993, 40.046740819000036], [-75.11086999999999, 40.046702], [-75.11073099999999, 40.046622], [-75.109431, 40.045874], [-75.109406, 40.04584], [-75.10932704799995, 40.045882143000036], [-75.109258, 40.045919], [-75.10926169699997, 40.045929691000026], [-75.109295, 40.046026], [-75.109022, 40.046641], [-75.10891, 40.046826], [-75.10876, 40.047063], [-75.10860499999998, 40.047298], [-75.108443, 40.04753000000001], [-75.108275, 40.047759], [-75.108092, 40.047982000000005], [-75.10789, 40.04819499999999], [-75.10767499999999, 40.048399], [-75.10745, 40.04859900000001], [-75.107226, 40.048798], [-75.107033, 40.04897], [-75.107002, 40.048997], [-75.106773, 40.049194], [-75.106531, 40.04938], [-75.10626999999998, 40.049547999999994], [-75.10599399999998, 40.049706], [-75.10572299999998, 40.049866], [-75.105453, 40.050029], [-75.10518527299996, 40.05019245900008], [-75.10505305999999, 40.05027135900007], [-75.10491400000001, 40.05035500000001], [-75.104801, 40.050422000000005], [-75.104644, 40.050515999999995], [-75.10451950299995, 40.05058850900008], [-75.10437159799993, 40.05067600700004], [-75.10409799999998, 40.05083400000001], [-75.103823, 40.050991999999994], [-75.103549, 40.051148999999995], [-75.103274, 40.05130599999999], [-75.103248, 40.051321], [-75.102999, 40.051462], [-75.10272199999999, 40.051617], [-75.10244551799997, 40.051773970000056], [-75.10241299999998, 40.05179199999999], [-75.102171, 40.051931], [-75.101899, 40.052091], [-75.101631, 40.052255], [-75.101367, 40.05242299999999], [-75.101105, 40.05259100000001], [-75.100935, 40.052699], [-75.10084, 40.052758999999995], [-75.100801, 40.052782], [-75.100573, 40.052924], [-75.10030299999998, 40.053085], [-75.10024999999999, 40.053114], [-75.100028, 40.05324099999999], [-75.09982999999998, 40.053352], [-75.09975, 40.053396], [-75.09950903799995, 40.05352948300004], [-75.09947208099999, 40.05355014500004], [-75.09919445899999, 40.05370382400002], [-75.09891648099995, 40.05385986100004], [-75.09864071499999, 40.05401527600004], [-75.09836468299994, 40.05417021900008], [-75.09808599999998, 40.054323999999994], [-75.09781063899999, 40.05448114000006], [-75.09753511199995, 40.05463620000007], [-75.09753004799995, 40.05463908600006], [-75.097525, 40.054642], [-75.09725999999999, 40.054793], [-75.096985, 40.054951], [-75.09671099999998, 40.055108999999995], [-75.09644, 40.055268], [-75.096169, 40.055429], [-75.09600874299997, 40.05552670300005], [-75.0959, 40.055592999999995], [-75.095633, 40.055759], [-75.09537, 40.055926], [-75.09523199999998, 40.056013], [-75.095107, 40.056094], [-75.094844, 40.056263], [-75.09468, 40.056369], [-75.094581, 40.056433], [-75.094318, 40.05660199999999], [-75.0942, 40.05667900000001], [-75.09405599999998, 40.056771], [-75.09403597799997, 40.056785011000045], [-75.093684, 40.057030000000005], [-75.09345499999999, 40.05718799999999], [-75.09127693099998, 40.05673594900003], [-75.08668815299994, 40.054033356000055], [-75.08642877899995, 40.05388059600006], [-75.08693441499997, 40.05322624400002], [-75.08699390099997, 40.05289906800004], [-75.08613134699992, 40.051025243000026], [-75.08616108999995, 40.05013294500003]]], &quot;type&quot;: &quot;Polygon&quot;}, &quot;id&quot;: &quot;0&quot;, &quot;properties&quot;: {&quot;N&quot;: 19.0, &quot;Name&quot;: &quot;LAWNDALE&quot;, &quot;__folium_color&quot;: &quot;#e7298a&quot;, &quot;label&quot;: 1.0, &quot;neighborhood&quot;: &quot;LAWNDALE&quot;, &quot;overall_satisfaction&quot;: 0.5, &quot;price_per_person&quot;: 42.344444444444434}, &quot;type&quot;: &quot;Feature&quot;}, {&quot;bbox&quot;: [-75.02211185799996, 40.053584871000055, -75.00723359099999, 40.07210340100005], &quot;geometry&quot;: {&quot;coordinates&quot;: [[[-75.00859651999997, 40.05368637200007], [-75.00860592499998, 40.053584871000055], [-75.01026214199999, 40.054780924000056], [-75.01316508499997, 40.05658931500005], [-75.02101730599998, 40.061253058000034], [-75.02208833699996, 40.06325542100006], [-75.02211185799996, 40.06329939500006], [-75.02030346799995, 40.06453671500003], [-75.01873302399997, 40.06629751600007], [-75.01302231699998, 40.07210340100005], [-75.00811057899995, 40.06967758300004], [-75.00810602699994, 40.069675335000056], [-75.00723359099999, 40.06924517300006], [-75.00807303799996, 40.068676977000045], [-75.00869169799995, 40.06786796000006], [-75.00940553599997, 40.06582162300003], [-75.00945312599998, 40.060919934000026], [-75.00907241199995, 40.05920672200005], [-75.00864410899997, 40.057779045000075], [-75.00859651999997, 40.05368637200007]]], &quot;type&quot;: &quot;Polygon&quot;}, &quot;id&quot;: &quot;1&quot;, &quot;properties&quot;: {&quot;N&quot;: null, &quot;Name&quot;: &quot;ASTON_WOODBRIDGE&quot;, &quot;__folium_color&quot;: &quot;#1b9e77&quot;, &quot;label&quot;: -1.0, &quot;neighborhood&quot;: null, &quot;overall_satisfaction&quot;: null, &quot;price_per_person&quot;: null}, &quot;type&quot;: &quot;Feature&quot;}, {&quot;bbox&quot;: [-75.24539922499997, 39.96988493200007, -75.21847000499997, 39.977416537000074], &quot;geometry&quot;: {&quot;coordinates&quot;: [[[-75.22673235299999, 39.97720238600005], [-75.22022187199997, 39.97419770500005], [-75.21847000499997, 39.973008099000026], [-75.22584334899994, 39.97143158200003], [-75.23913858699996, 39.96988493200007], [-75.24175599399994, 39.97134235200007], [-75.24478980699995, 39.97181824400009], [-75.24539922499997, 39.97541779000006], [-75.23790392299998, 39.97613162800007], [-75.22890955999998, 39.97713100200008], [-75.22719634799994, 39.977416537000074], [-75.22719495999996, 39.97740155000002], [-75.22673235299999, 39.97720238600005]]], &quot;type&quot;: &quot;Polygon&quot;}, &quot;id&quot;: &quot;2&quot;, &quot;properties&quot;: {&quot;N&quot;: null, &quot;Name&quot;: &quot;CARROLL_PARK&quot;, &quot;__folium_color&quot;: &quot;#1b9e77&quot;, &quot;label&quot;: -1.0, &quot;neighborhood&quot;: null, &quot;overall_satisfaction&quot;: null, &quot;price_per_person&quot;: null}, &quot;type&quot;: &quot;Feature&quot;}, {&quot;bbox&quot;: [-75.2305, 40.04797945300004, -75.18926205599996, 40.092889], &quot;geometry&quot;: {&quot;coordinates&quot;: [[[-75.21277899999998, 40.086366000000005], [-75.212724, 40.086292], [-75.212573, 40.08611299999999], [-75.21239599999998, 40.085981], [-75.212176, 40.08589699999999], [-75.212082, 40.08591899999999], [-75.21185699999998, 40.085969000000006], [-75.211249, 40.08567299999999], [-75.210494, 40.085374], [-75.210351, 40.085313], [-75.20996999999998, 40.085168], [-75.20977799999999, 40.085088999999996], [-75.209635, 40.08502099999999], [-75.209481, 40.084942], [-75.209283, 40.084833], [-75.20915499999998, 40.08475399999999], [-75.20903466899995, 40.08466595300007], [-75.208909, 40.08457400000001], [-75.20873122899997, 40.084432906000075], [-75.208434, 40.084197], [-75.20793311399994, 40.08386142300003], [-75.20782799999999, 40.083791000000005], [-75.20762939099994, 40.08368252400004], [-75.20632299999998, 40.082969], [-75.20629099999998, 40.082951], [-75.20472299999999, 40.082053], [-75.204145, 40.08172100000001], [-75.202673, 40.080878], [-75.20095799999999, 40.079895], [-75.200452, 40.079606], [-75.198509, 40.078493], [-75.19772899999998, 40.07804599999999], [-75.19760127899995, 40.077972819000024], [-75.196434, 40.077304000000005], [-75.196068, 40.077093999999995], [-75.19595999999999, 40.077032], [-75.19500199999999, 40.07648799999999], [-75.19499788599995, 40.07648565900006], [-75.19083099999999, 40.074113999999994], [-75.18987795199995, 40.07357138900005], [-75.18987199999998, 40.073568], [-75.18967699999999, 40.073459], [-75.18926808299994, 40.07320201600003], [-75.18926205599996, 40.07319822800008], [-75.19331119299993, 40.069001476000025], [-75.19530994099995, 40.06732395600005], [-75.19648777399993, 40.06657442500005], [-75.19688038499999, 40.06636027400003], [-75.19720161199994, 40.06589627900007], [-75.19798683399993, 40.065432284000046], [-75.19837944499994, 40.06464706200006], [-75.19880774799998, 40.06439721900006], [-75.19966435399992, 40.06411168300008], [-75.20012834899995, 40.06371907200002], [-75.20034250099997, 40.06354061300004], [-75.20112772299996, 40.06404029900005], [-75.20255539899995, 40.06261262300006], [-75.20194863699997, 40.061934476000026], [-75.20187725299995, 40.06125633000005], [-75.20202002099995, 40.06097079500006], [-75.20248401599997, 40.06047110800006], [-75.20255539899995, 40.060114189000046], [-75.20187725299995, 40.058757896000024], [-75.20152033399994, 40.058579436000066], [-75.20123479899996, 40.05772283000005], [-75.20191294499995, 40.056366538000084], [-75.20280524299994, 40.055402856000065], [-75.20455414699995, 40.05458194200002], [-75.20530367699996, 40.053189957000036], [-75.20908701999998, 40.05240473500004], [-75.20873010099996, 40.05133397800006], [-75.20990793399994, 40.05040598800008], [-75.21015777699995, 40.049834917000055], [-75.21019346899999, 40.04926384700007], [-75.20972947399996, 40.048728468000036], [-75.21052822399997, 40.04797945300004], [-75.21181313299996, 40.04869329200005], [-75.21313373299996, 40.04876467500004], [-75.21341926899998, 40.049335746000054], [-75.21377618799994, 40.04919297800006], [-75.21452571799993, 40.05083480600006], [-75.21552509199995, 40.05172710400007], [-75.21709553599997, 40.052655094000045], [-75.21730968799993, 40.05326185700006], [-75.21777368199997, 40.055367680000074], [-75.21730968799993, 40.055510447000074], [-75.21652446499996, 40.05611721000003], [-75.21581062699993, 40.056224286000024], [-75.21477556199993, 40.05615290200007], [-75.21473987, 40.05665258900007], [-75.21563216799994, 40.05700950800007], [-75.21613185399997, 40.05683104800005], [-75.21659584899997, 40.05718796700007], [-75.21656015699995, 40.05843718400008], [-75.21748814699998, 40.05929379000003], [-75.21798783399997, 40.05840149200003], [-75.21977242999998, 40.060685775000024], [-75.21941551099997, 40.06104269400004], [-75.22134287399996, 40.06418358300005], [-75.21823767699993, 40.06675340100003], [-75.21656015699995, 40.067645698000035], [-75.21591770299995, 40.067288779000066], [-75.21477556199993, 40.06846661200006], [-75.21616754599994, 40.06921614300006], [-75.21734537899992, 40.06853799600004], [-75.21813060199997, 40.06803830900002], [-75.21912997499997, 40.067824158000064], [-75.21940747699993, 40.06811427400004], [-75.22065675899994, 40.06942034200006], [-75.21998658099994, 40.06996567300006], [-75.22062903599993, 40.070322592000025], [-75.22084318699996, 40.070179824000036], [-75.22127148999994, 40.07071520300008], [-75.221664101, 40.07050105200005], [-75.22252070699993, 40.07128627400004], [-75.22144994999996, 40.07274964200008], [-75.21566785899995, 40.07282102600005], [-75.21531093999992, 40.07335640500002], [-75.21713122799997, 40.075105309000044], [-75.21506109699999, 40.07713974800004], [-75.21573924299996, 40.07713974800004], [-75.21627462199996, 40.076961288000064], [-75.21677430899996, 40.07688990400004], [-75.21720261199994, 40.076961288000064], [-75.21855890499995, 40.07571207100005], [-75.22341300499994, 40.079209879000075], [-75.22398407599997, 40.08006648500003], [-75.22366284799993, 40.08038771200007], [-75.22455514599993, 40.081565545000046], [-75.22840987299996, 40.08477781800008], [-75.2305, 40.086022], [-75.229612, 40.086922], [-75.22958099999998, 40.086953], [-75.22908587299997, 40.087444318000045], [-75.22906099999999, 40.087469], [-75.22890555099997, 40.08762403000002], [-75.22886766099997, 40.087661817000026], [-75.22869, 40.087839], [-75.22827699999999, 40.08825100000001], [-75.22812179499992, 40.08840280100003], [-75.22805317699994, 40.088469915000076], [-75.22781932199995, 40.08869863600006], [-75.22781584999994, 40.088702021000074], [-75.227741, 40.088775000000005], [-75.22766, 40.08885538700007], [-75.226948, 40.089562], [-75.22569600000001, 40.090829], [-75.22558968499999, 40.09093652600006], [-75.22542136199996, 40.09110676700005], [-75.22490599999999, 40.091628], [-75.224314, 40.092217], [-75.223721, 40.092804], [-75.22367003499993, 40.09284085200005], [-75.22366301799997, 40.092845926000045], [-75.223656, 40.092850999999996], [-75.223606, 40.092889], [-75.22339099999999, 40.092769], [-75.222433, 40.09222799999999], [-75.222369, 40.092192], [-75.22180940699997, 40.09188122600006], [-75.221657, 40.091795000000005], [-75.2214625299999, 40.09168375100006], [-75.22122959, 40.091550495000035], [-75.22120437999996, 40.09153608900005], [-75.22120008299999, 40.09153367000005], [-75.22030394199997, 40.09102936000004], [-75.22023400000002, 40.09099], [-75.220056, 40.090889000000004], [-75.21965, 40.090653999999994], [-75.21964458399998, 40.09065090400002], [-75.217988, 40.089704], [-75.217951, 40.089683], [-75.21679299999998, 40.089025], [-75.21674744199997, 40.08899801900003], [-75.21669, 40.088964], [-75.21520128599997, 40.088089129000025], [-75.21517289199994, 40.088072443000044], [-75.215133, 40.088049000000005], [-75.21451201399998, 40.08767690100007], [-75.21437699999998, 40.08759599999999], [-75.21358199999999, 40.087152999999994], [-75.213309, 40.086974], [-75.213132, 40.086806], [-75.212966, 40.08662], [-75.21277899999998, 40.086366000000005]]], &quot;type&quot;: &quot;Polygon&quot;}, &quot;id&quot;: &quot;3&quot;, &quot;properties&quot;: {&quot;N&quot;: 74.0, &quot;Name&quot;: &quot;CHESTNUT_HILL&quot;, &quot;__folium_color&quot;: &quot;#d95f02&quot;, &quot;label&quot;: 0.0, &quot;neighborhood&quot;: &quot;CHESTNUT_HILL&quot;, &quot;overall_satisfaction&quot;: 3.4444444444444446, &quot;price_per_person&quot;: 69.12347756410257}, &quot;type&quot;: &quot;Feature&quot;}, {&quot;bbox&quot;: [-75.096738, 40.05388059600006, -75.08339496699995, 40.07176584400002], &quot;geometry&quot;: {&quot;coordinates&quot;: [[[-75.08767785699996, 40.06861021000003], [-75.08758470199996, 40.06856116800003], [-75.08404931799998, 40.06669994200007], [-75.08339496699995, 40.06548046800004], [-75.08357342599999, 40.06137589800005], [-75.08580417099994, 40.05750927400005], [-75.08592314399993, 40.055129813000065], [-75.08589340099996, 40.054475461000045], [-75.08640330199995, 40.053886681000044], [-75.08642877899995, 40.05388059600006], [-75.08668815299994, 40.054033356000055], [-75.09127693099998, 40.05673594900003], [-75.09345499999999, 40.05718799999999], [-75.09345761099995, 40.05719178500004], [-75.09353532599994, 40.05730447300004], [-75.093615, 40.05742], [-75.09277199999998, 40.058214], [-75.0927655, 40.058222], [-75.09275899999999, 40.05823], [-75.092324, 40.058698], [-75.09207499999998, 40.05896499999999], [-75.091487, 40.059553999999984], [-75.091187, 40.059854], [-75.09114804499995, 40.059893044000034], [-75.09113936599994, 40.059901797000066], [-75.091095, 40.059947], [-75.090638, 40.060405], [-75.090608, 40.06043699999999], [-75.089762, 40.06128499999999], [-75.08901922099994, 40.06202847200006], [-75.08869, 40.062358], [-75.08827896799993, 40.06276903200007], [-75.08808712399997, 40.062960876000034], [-75.08805319999992, 40.06299480000007], [-75.08791796799994, 40.06313003200006], [-75.087464, 40.063584], [-75.08750072199994, 40.06360528700002], [-75.08786223099997, 40.063814845000024], [-75.08789699999998, 40.063835], [-75.08808239399995, 40.063943323000046], [-75.08876444899994, 40.06434022900003], [-75.08891744299994, 40.06442923900004], [-75.08927814099997, 40.06463875900004], [-75.08953722899996, 40.06478960700008], [-75.08974717499996, 40.06491169900004], [-75.09037032499997, 40.06527444100004], [-75.09178636099995, 40.066098381000074], [-75.09333025899996, 40.06699655600005], [-75.09513017099994, 40.06804370600003], [-75.09661641199995, 40.06890827800004], [-75.09663926999997, 40.068921573000075], [-75.096738, 40.068979], [-75.09670734399998, 40.06900839900004], [-75.09665340699996, 40.06906012600007], [-75.09583531299995, 40.06984468700006], [-75.095201, 40.070453], [-75.09467937699996, 40.07090010600006], [-75.09367499999999, 40.071761], [-75.09367195699997, 40.07176584400002], [-75.09331686099995, 40.071578901000066], [-75.08767785699996, 40.06861021000003]]], &quot;type&quot;: &quot;Polygon&quot;}, &quot;id&quot;: &quot;4&quot;, &quot;properties&quot;: {&quot;N&quot;: null, &quot;Name&quot;: &quot;BURNHOLME&quot;, &quot;__folium_color&quot;: &quot;#1b9e77&quot;, &quot;label&quot;: -1.0, &quot;neighborhood&quot;: null, &quot;overall_satisfaction&quot;: null, &quot;price_per_person&quot;: null}, &quot;type&quot;: &quot;Feature&quot;}, {&quot;bbox&quot;: [-74.98238550599996, 40.06478729100008, -74.974873, 40.074959487000065], &quot;geometry&quot;: {&quot;coordinates&quot;: [[[-74.980682, 40.06506399999999], [-74.98238550599996, 40.06478729100008], [-74.98227843099994, 40.06639342700004], [-74.98199289499995, 40.06757126000007], [-74.98156459199997, 40.069391548000056], [-74.98113884999998, 40.071913247000055], [-74.98110059699997, 40.072139825000086], [-74.97967292099997, 40.074959487000065], [-74.97849508799997, 40.07396011300005], [-74.97731725399994, 40.07263951200009], [-74.97599665399999, 40.07153306300006], [-74.974873, 40.070460000000004], [-74.97489674999997, 40.07030760300006], [-74.97489823199999, 40.070298094000066], [-74.974909, 40.07022899999999], [-74.97500799999999, 40.070092], [-74.97509442899997, 40.07003614300004], [-74.97509799999999, 40.070034], [-74.975173, 40.069985], [-74.975237, 40.069943], [-74.975266, 40.06992999999999], [-74.97540579099994, 40.06986751300008], [-74.975483, 40.069833], [-74.975995, 40.069603], [-74.976142, 40.069481999999994], [-74.97620199999999, 40.06943199999999], [-74.97621959099996, 40.06941072800004], [-74.976288, 40.06932799999999], [-74.97638667999995, 40.06921013200008], [-74.97639135699995, 40.069204545000055], [-74.976396, 40.069199], [-74.97643134799995, 40.06915658300005], [-74.976481, 40.069097], [-74.97648764799999, 40.06909055400007], [-74.97649429699997, 40.06908410800003], [-74.976645, 40.06893800000001], [-74.97668499999999, 40.06886699999999], [-74.97683013799997, 40.068606392000056], [-74.97686599999999, 40.068542], [-74.97687252199995, 40.06853347200007], [-74.976879, 40.068525], [-74.977002, 40.068366], [-74.97700550399998, 40.06836249600008], [-74.97700899999998, 40.068359], [-74.977152, 40.068222999999996], [-74.97738799999999, 40.06809700000001], [-74.97766611499998, 40.067949538000036], [-74.977752, 40.067904], [-74.97853091099994, 40.067488640000086], [-74.97856786699997, 40.06746893300004], [-74.97862399999998, 40.06743899999999], [-74.97916, 40.067109], [-74.979325, 40.066988], [-74.97957460699996, 40.06669658400005], [-74.979725, 40.066521], [-74.97991700000001, 40.066356000000006], [-74.98019101199996, 40.06620489600004], [-74.98029599999998, 40.066147], [-74.98038199999999, 40.066053999999994], [-74.98052500000001, 40.065702], [-74.98052893399995, 40.06565942700007], [-74.98053281199998, 40.06561746600005], [-74.980553, 40.06539899999999], [-74.980588, 40.06530899999999], [-74.98061915099997, 40.065227808000024], [-74.980682, 40.06506399999999]]], &quot;type&quot;: &quot;Polygon&quot;}, &quot;id&quot;: &quot;5&quot;, &quot;properties&quot;: {&quot;N&quot;: null, &quot;Name&quot;: &quot;CRESTMONT_FARMS&quot;, &quot;__folium_color&quot;: &quot;#1b9e77&quot;, &quot;label&quot;: -1.0, &quot;neighborhood&quot;: null, &quot;overall_satisfaction&quot;: null, &quot;price_per_person&quot;: null}, &quot;type&quot;: &quot;Feature&quot;}, {&quot;bbox&quot;: [-75.14476846499997, 40.037113526000034, -75.13462051599998, 40.047514943000074], &quot;geometry&quot;: {&quot;coordinates&quot;: [[[-75.13473811399994, 40.04602410800004], [-75.13480334399998, 40.03880889200007], [-75.13521974899999, 40.03854120200003], [-75.13605256099997, 40.037113526000034], [-75.14476846499997, 40.03909379400005], [-75.1428666199999, 40.047514943000074], [-75.13679899399995, 40.046771361000026], [-75.13599592599996, 40.04620623900008], [-75.13462051599998, 40.04616926600005], [-75.13473811399994, 40.04602410800004]]], &quot;type&quot;: &quot;Polygon&quot;}, &quot;id&quot;: &quot;6&quot;, &quot;properties&quot;: {&quot;N&quot;: null, &quot;Name&quot;: &quot;FERN_ROCK&quot;, &quot;__folium_color&quot;: &quot;#1b9e77&quot;, &quot;label&quot;: -1.0, &quot;neighborhood&quot;: null, &quot;overall_satisfaction&quot;: null, &quot;price_per_person&quot;: null}, &quot;type&quot;: &quot;Feature&quot;}, {&quot;bbox&quot;: [-75.22641112599995, 39.97413288100006, -75.19154012499995, 40.01144800000001], &quot;geometry&quot;: {&quot;coordinates&quot;: [[[-75.19154012499995, 40.003685787000045], [-75.19200411999998, 39.999795368000036], [-75.19400286699992, 39.99526249500007], [-75.19842866399995, 39.99069392900004], [-75.20328276499997, 39.98623244000004], [-75.20428213899999, 39.98516168300006], [-75.20421075499996, 39.983162935000045], [-75.20214062399998, 39.98073588500006], [-75.19728652299995, 39.978130375000035], [-75.19407425099998, 39.97655993100005], [-75.19336041299994, 39.975667633000064], [-75.19318195299995, 39.97523933000008], [-75.19930629799994, 39.97460436500007], [-75.20385383599995, 39.97413288100006], [-75.21334637199998, 39.977649021000055], [-75.21343556999994, 39.97768206100005], [-75.22405309899993, 39.98161491100006], [-75.22409115099998, 39.981628183000055], [-75.22516190899995, 39.98152110700005], [-75.22641112599995, 39.98252048100005], [-75.22559021199999, 39.986517975000034], [-75.22509052499998, 39.98762442500003], [-75.22045057599996, 39.99022993500005], [-75.21998658099994, 39.990301318000036], [-75.21870167199994, 39.99265698500005], [-75.21863028799999, 39.993228055000024], [-75.21773799099998, 39.99415604500006], [-75.21673861699996, 39.99551233800002], [-75.21531093999992, 39.996476020000046], [-75.21256266299996, 39.99722555000005], [-75.20999284499999, 39.997760929000044], [-75.21024268799994, 39.998367691000055], [-75.20760148699998, 39.99808215600005], [-75.20553135599994, 40.00093750900004], [-75.20410367899996, 40.00043782200003], [-75.20103417399996, 40.00418547300006], [-75.20738733499995, 40.006398372000035], [-75.20381814399997, 40.008111584000055], [-75.20442490599997, 40.00871834700007], [-75.20797900000001, 40.009848000000005], [-75.20773599999998, 40.009963], [-75.20756660899997, 40.010049606000045], [-75.20746999999999, 40.01009899999999], [-75.207391, 40.010139], [-75.20724099999998, 40.010216], [-75.20724793499993, 40.01028060800007], [-75.20725999999999, 40.01039299999999], [-75.207272, 40.01075399999999], [-75.207288, 40.010915], [-75.207293, 40.01110500000001], [-75.20692487999997, 40.01140707200005], [-75.20691943999998, 40.011411536000026], [-75.20691391099997, 40.011415882000044], [-75.206871, 40.01144800000001], [-75.20353260799999, 40.00968202800004], [-75.19871419999998, 40.00832573600007], [-75.19318195299995, 40.00675529100005], [-75.19261088199993, 40.00646975600006], [-75.19154012499995, 40.003685787000045]]], &quot;type&quot;: &quot;Polygon&quot;}, &quot;id&quot;: &quot;7&quot;, &quot;properties&quot;: {&quot;N&quot;: null, &quot;Name&quot;: &quot;WEST_PARK&quot;, &quot;__folium_color&quot;: &quot;#1b9e77&quot;, &quot;label&quot;: -1.0, &quot;neighborhood&quot;: null, &quot;overall_satisfaction&quot;: null, &quot;price_per_person&quot;: null}, &quot;type&quot;: &quot;Feature&quot;}, {&quot;bbox&quot;: [-75.17475853899997, 40.02831558800006, -75.15463543699995, 40.038404264000064], &quot;geometry&quot;: {&quot;coordinates&quot;: [[[-75.17209592199998, 40.038404264000064], [-75.17196743099998, 40.03799023800008], [-75.17176755699994, 40.03766187300005], [-75.17142491399993, 40.03731923000004], [-75.17072535299997, 40.03707652500003], [-75.16981163999998, 40.036933757000035], [-75.16497181599993, 40.03653400800005], [-75.16203080199995, 40.03623419600007], [-75.15881852999995, 40.03592010700003], [-75.15847588699994, 40.03620564200003], [-75.15834739599995, 40.03670532900003], [-75.15723380899992, 40.036733883000075], [-75.15614877399997, 40.03664822200006], [-75.15576330199995, 40.03641979400004], [-75.15536355199998, 40.035991491000054], [-75.15534927599998, 40.035420420000044], [-75.15554914999996, 40.03473513600005], [-75.15577757899995, 40.033807146000065], [-75.15580613199994, 40.033007647000034], [-75.15562053399998, 40.032393746000025], [-75.15522078499998, 40.03186550600004], [-75.15463543699995, 40.03139437200007], [-75.15560625699999, 40.03133726500004], [-75.15650569399996, 40.03119449800005], [-75.15706248799994, 40.03103745300006], [-75.15744795999996, 40.030966069000044], [-75.15829028899998, 40.030709087000055], [-75.15918972599997, 40.03026650800007], [-75.16071733999996, 40.02943845500005], [-75.16202937399999, 40.02831558800006], [-75.16359846199998, 40.02923858100007], [-75.16655986799998, 40.030980584000076], [-75.17064682999994, 40.033156363000046], [-75.17377820099995, 40.03502186100007], [-75.17475853899997, 40.03584039500003], [-75.17209592199998, 40.038404264000064]]], &quot;type&quot;: &quot;Polygon&quot;}, &quot;id&quot;: &quot;8&quot;, &quot;properties&quot;: {&quot;N&quot;: null, &quot;Name&quot;: &quot;WISTER&quot;, &quot;__folium_color&quot;: &quot;#1b9e77&quot;, &quot;label&quot;: -1.0, &quot;neighborhood&quot;: null, &quot;overall_satisfaction&quot;: null, &quot;price_per_person&quot;: null}, &quot;type&quot;: &quot;Feature&quot;}, {&quot;bbox&quot;: [-75.00265003699995, 40.099160342000054, -74.96794671399994, 40.123895581000056], &quot;geometry&quot;: {&quot;coordinates&quot;: [[[-74.98747272199994, 40.12359931000003], [-74.98739460399997, 40.123479472000035], [-74.98735847399996, 40.12342083500005], [-74.98732899999999, 40.123373], [-74.98728660999994, 40.12333485600004], [-74.98725, 40.123302], [-74.98719300000002, 40.12328600000001], [-74.987059, 40.123247], [-74.98699647699993, 40.12322886400004], [-74.98692799999999, 40.12320900000001], [-74.98684336999997, 40.123201111000064], [-74.98669015999998, 40.12318738800008], [-74.98632700000002, 40.12326399999999], [-74.985076, 40.123874], [-74.98501360899996, 40.12388875900006], [-74.98499009299996, 40.12389432200006], [-74.98498477299995, 40.123895581000056], [-74.98475399999998, 40.123874], [-74.98446, 40.123807], [-74.98437930299995, 40.123788742000045], [-74.984102, 40.12372599999999], [-74.98382074499993, 40.12372161900003], [-74.983781, 40.123721], [-74.983523, 40.12367100000001], [-74.98345430699999, 40.12363223500006], [-74.983282, 40.123535], [-74.983001, 40.123377], [-74.98295799999998, 40.123353], [-74.98267799999999, 40.12300700000001], [-74.98263608999997, 40.122938162000025], [-74.982471, 40.122667], [-74.982392, 40.122464], [-74.98224899999998, 40.122195], [-74.98221299999999, 40.122057000000005], [-74.982291, 40.121739], [-74.982448, 40.12144200000001], [-74.98251445299996, 40.121355539000035], [-74.982541, 40.121321], [-74.98257953599995, 40.121237207000036], [-74.98262699999998, 40.12113399999999], [-74.98264704599994, 40.121114461000055], [-74.982706, 40.12105699999999], [-74.98274799999999, 40.120887], [-74.98271299999999, 40.120732999999994], [-74.98268728599999, 40.120674429000076], [-74.98267699999998, 40.12065100000001], [-74.98238661499992, 40.12042031400005], [-74.98228299999998, 40.120338], [-74.98194699999999, 40.120245], [-74.98172834799993, 40.12021137600004], [-74.98124644199999, 40.12013726900005], [-74.98101129799993, 40.12010110900007], [-74.980809, 40.12007], [-74.98043112399995, 40.12003501100002], [-74.98021499999999, 40.120014999999995], [-74.980112, 40.11993300000001], [-74.98007599999998, 40.119903], [-74.980058, 40.119883], [-74.98004, 40.119862], [-74.97993999999998, 40.119742], [-74.979843, 40.11962499999999], [-74.97969241599998, 40.11958819100004], [-74.979528, 40.119548], [-74.97929199999999, 40.119526], [-74.978956, 40.119565], [-74.978813, 40.11960299999999], [-74.977854, 40.120042999999995], [-74.977561, 40.120137], [-74.97753185299996, 40.12014009800003], [-74.97741870599998, 40.12015212300002], [-74.97735399999999, 40.120159], [-74.97733106399994, 40.12015416100007], [-74.977117, 40.120109], [-74.97701899999998, 40.120087999999996], [-74.976889, 40.120059999999995], [-74.97681699999998, 40.120065000000004], [-74.97638471399995, 40.12017636000008], [-74.976324, 40.12019200000001], [-74.97617999999999, 40.12020899999999], [-74.97589878399997, 40.120187368000074], [-74.975816, 40.12018100000001], [-74.97527071799992, 40.120081235000036], [-74.9751, 40.12005], [-74.974657, 40.119994999999996], [-74.97402, 40.119984], [-74.97348277099996, 40.119921625000075], [-74.97343856099995, 40.11991649200008], [-74.97321899999999, 40.119891], [-74.97306172399993, 40.119837356000055], [-74.97296099999998, 40.119803000000005], [-74.97275900699998, 40.11970809500007], [-74.97266900499994, 40.11966580900001], [-74.972646, 40.119655], [-74.97205199999999, 40.11926], [-74.971873, 40.119084], [-74.97142199999999, 40.11857299999999], [-74.97117199999998, 40.11825999999999], [-74.97114523799996, 40.118203675000075], [-74.97111833999998, 40.118147063000045], [-74.971086, 40.118078999999994], [-74.97095, 40.117909], [-74.97082517599993, 40.11779952300003], [-74.97071646099992, 40.11770417500003], [-74.970706, 40.117695], [-74.97058083199994, 40.117547302000055], [-74.970506, 40.117459], [-74.97026299999999, 40.117277], [-74.970146, 40.117214999999995], [-74.970119, 40.11720100000001], [-74.969833, 40.11711799999999], [-74.969547, 40.11708500000001], [-74.969311, 40.117097], [-74.96857399999999, 40.117251], [-74.96820149399996, 40.117388902000066], [-74.96811733599996, 40.11742005700006], [-74.96794671399994, 40.11748322100004], [-74.97146957999996, 40.114807678000034], [-74.96987058199993, 40.11343710800003], [-74.97780846399996, 40.107155331000065], [-74.98032117499997, 40.105327905000024], [-74.98226281499994, 40.104471299000075], [-74.98340495599994, 40.10361469300006], [-74.98209149399996, 40.10264387300003], [-74.98660295199994, 40.099160342000054], [-74.99665379499999, 40.10812615100007], [-74.99551165399997, 40.109039864000074], [-74.99985179099997, 40.11081018300007], [-75.00059418299996, 40.114522142000055], [-75.00167921699995, 40.115150320000055], [-75.00265003699995, 40.11686353200002], [-74.99699643799993, 40.12137499000005], [-74.99357001399994, 40.11869095800005], [-74.99020069699998, 40.121774739000045], [-74.98747272199994, 40.12359931000003]]], &quot;type&quot;: &quot;Polygon&quot;}, &quot;id&quot;: &quot;9&quot;, &quot;properties&quot;: {&quot;N&quot;: null, &quot;Name&quot;: &quot;BYBERRY&quot;, &quot;__folium_color&quot;: &quot;#1b9e77&quot;, &quot;label&quot;: -1.0, &quot;neighborhood&quot;: null, &quot;overall_satisfaction&quot;: null, &quot;price_per_person&quot;: null}, &quot;type&quot;: &quot;Feature&quot;}, {&quot;bbox&quot;: [-75.10463165599998, 40.02678280200008, -75.08821623099993, 40.04617709100006], &quot;geometry&quot;: {&quot;coordinates&quot;: [[[-75.10421524999998, 40.029699323000045], [-75.10433422299997, 40.03017521600003], [-75.10385833099997, 40.03068085100005], [-75.10269834399998, 40.03184083800005], [-75.10115169399995, 40.03335774500005], [-75.10463165599998, 40.035380286000084], [-75.10225219499995, 40.037848977000074], [-75.09912915199997, 40.040644844000035], [-75.09817736799994, 40.04120996600006], [-75.09698763799997, 40.042221237000035], [-75.09547073099999, 40.04388686000004], [-75.09303178399995, 40.04617709100006], [-75.08892721299998, 40.04442223800003], [-75.08890281799995, 40.044377270000034], [-75.08883489099999, 40.04324867200006], [-75.08821623099993, 40.04144028200005], [-75.08821623099993, 40.04025055100004], [-75.08864453399995, 40.038775286000025], [-75.08869212399998, 40.038061447000075], [-75.09440282999996, 40.03211279500005], [-75.09321309999996, 40.03073270700003], [-75.09559256099999, 40.02835324600005], [-75.09744853999995, 40.02678280200008], [-75.09901898399994, 40.027734587000054], [-75.10220746199995, 40.02949538800005], [-75.10373031699997, 40.02978092300003], [-75.10421524999998, 40.029699323000045]]], &quot;type&quot;: &quot;Polygon&quot;}, &quot;id&quot;: &quot;10&quot;, &quot;properties&quot;: {&quot;N&quot;: null, &quot;Name&quot;: &quot;CRESCENTVILLE&quot;, &quot;__folium_color&quot;: &quot;#1b9e77&quot;, &quot;label&quot;: -1.0, &quot;neighborhood&quot;: null, &quot;overall_satisfaction&quot;: null, &quot;price_per_person&quot;: null}, &quot;type&quot;: &quot;Feature&quot;}, {&quot;bbox&quot;: [-75.06945599999999, 40.06859012600006, -75.01536221099995, 40.11272900000001], &quot;geometry&quot;: {&quot;coordinates&quot;: [[[-75.01536221099995, 40.094776095000036], [-75.02226859599993, 40.08754253300003], [-75.02894298399997, 40.08104660500004], [-75.03497491799999, 40.07476482800006], [-75.03950779099995, 40.06994641900008], [-75.04036439699996, 40.06859012600006], [-75.04111392699998, 40.06901842900004], [-75.04161361399997, 40.069767960000036], [-75.04179207399994, 40.07033903000006], [-75.04122100299999, 40.07112425200007], [-75.03997178599995, 40.07215931800004], [-75.03997178599995, 40.072766080000065], [-75.04145749299992, 40.074870832000045], [-75.04150299399998, 40.07493529100003], [-75.04296990699999, 40.07701341800003], [-75.04364805299997, 40.07740602900003], [-75.04364805299997, 40.077798640000026], [-75.04753847199997, 40.08290258400007], [-75.05107197199997, 40.08029707400004], [-75.05153596699996, 40.08058261000007], [-75.05249964799998, 40.07951185200005], [-75.05492669799997, 40.08097522100008], [-75.05703252099994, 40.08679300300002], [-75.05639006699994, 40.08743545700002], [-75.05635437499994, 40.088577599000075], [-75.05706821299998, 40.08971974000007], [-75.05810327899997, 40.09018373500003], [-75.06381398499998, 40.09046927000003], [-75.06445643999996, 40.09086188100009], [-75.06616965199999, 40.09250370900003], [-75.06591980799999, 40.09253940100006], [-75.06838254999997, 40.09464522400003], [-75.06945599999999, 40.094410999999994], [-75.06932601599993, 40.09454543300006], [-75.06838262399998, 40.095521114000064], [-75.067816076, 40.09610705400008], [-75.067703, 40.096224], [-75.067174, 40.096772], [-75.06683784899995, 40.09711998800003], [-75.06566899999999, 40.09833], [-75.06551350599995, 40.098490987000055], [-75.06540751699998, 40.098600720000036], [-75.064933, 40.09909199999999], [-75.06484703499996, 40.099180855000036], [-75.06445699999999, 40.09958399999999], [-75.06413222799995, 40.09992017500008], [-75.063745, 40.100321], [-75.063603, 40.100466], [-75.06350925599997, 40.10056297700004], [-75.062733, 40.10136599999999], [-75.06181530299995, 40.10231577500008], [-75.061417, 40.102728], [-75.06031499999999, 40.103867], [-75.059513, 40.104695], [-75.059227, 40.104992], [-75.058423, 40.105822], [-75.05836437799996, 40.105863302000046], [-75.058291, 40.10591500000001], [-75.05821699999998, 40.105957], [-75.05818133499996, 40.105977919000054], [-75.058113, 40.106018], [-75.05804499999999, 40.10606000000001], [-75.057971, 40.106099], [-75.057917, 40.106129], [-75.057862, 40.106144], [-75.05751717399993, 40.10636229300008], [-75.05714799999998, 40.10659600000001], [-75.05706699999999, 40.10663199999999], [-75.05708935199995, 40.106644485000054], [-75.057178, 40.106694], [-75.05616318399994, 40.10740420600006], [-75.055339, 40.107981], [-75.054271, 40.108727], [-75.052973, 40.109637], [-75.05292499999999, 40.109669], [-75.050658, 40.111252], [-75.049526, 40.112042], [-75.04939199999998, 40.112135], [-75.04868391599996, 40.112629826000045], [-75.048542, 40.11272900000001], [-75.03879990199994, 40.10706006200007], [-75.03701530599994, 40.10694108900003], [-75.03552814299995, 40.10676263000004], [-75.03517122299996, 40.10652468300003], [-75.02776515099998, 40.10185499100004], [-75.02577235199993, 40.101170896000035], [-75.02190572799998, 40.10021911200004], [-75.01803910399997, 40.09703658300003], [-75.01536221099995, 40.094776095000036]]], &quot;type&quot;: &quot;Polygon&quot;}, &quot;id&quot;: &quot;11&quot;, &quot;properties&quot;: {&quot;N&quot;: 19.0, &quot;Name&quot;: &quot;BUSTLETON&quot;, &quot;__folium_color&quot;: &quot;#e7298a&quot;, &quot;label&quot;: 1.0, &quot;neighborhood&quot;: &quot;BUSTLETON&quot;, &quot;overall_satisfaction&quot;: 1.25, &quot;price_per_person&quot;: 55.83333333333333}, &quot;type&quot;: &quot;Feature&quot;}, {&quot;bbox&quot;: [-75.20759899999999, 40.00646975600006, -75.17262340999997, 40.028955662000044], &quot;geometry&quot;: {&quot;coordinates&quot;: [[[-75.18554388299997, 40.028955662000044], [-75.18361390499994, 40.02728692400006], [-75.17950413599993, 40.023733450000066], [-75.17689682499997, 40.02147906300007], [-75.17685222099993, 40.021440496000025], [-75.17262340999997, 40.01778409300004], [-75.17533599499994, 40.01657056800007], [-75.17835269599993, 40.01459622300007], [-75.18411620699999, 40.010824170000035], [-75.18782816599997, 40.00964633600007], [-75.18905527599998, 40.00916912700007], [-75.19104043799994, 40.00839711900005], [-75.19221827099994, 40.00750482200004], [-75.19261088199993, 40.00646975600006], [-75.19318195299995, 40.00675529100005], [-75.19871419999998, 40.00832573600007], [-75.20353260799999, 40.00968202800004], [-75.206871, 40.01144800000001], [-75.20676481399994, 40.011534219000055], [-75.20647195, 40.01177201500008], [-75.206286, 40.01192300000001], [-75.20640499999999, 40.012001999999995], [-75.20759899999999, 40.01271899999999], [-75.20635226999997, 40.01485735600004], [-75.20610242599999, 40.01478597200003], [-75.20581689099998, 40.01532135100007], [-75.20510305299996, 40.01503581600007], [-75.20224769899994, 40.015749654000054], [-75.20224769899994, 40.01610657300006], [-75.20110555799994, 40.017141639000045], [-75.20028464399996, 40.018747775000065], [-75.19864281599996, 40.02035391100003], [-75.19585884699995, 40.02278096100008], [-75.19410994299994, 40.023744643000036], [-75.19314626099998, 40.02417294600008], [-75.19353887199996, 40.02438709700004], [-75.19321764499995, 40.02495816800007], [-75.18943430199994, 40.02781352100004], [-75.18789954999993, 40.02842028400004], [-75.18747124699996, 40.028027673000054], [-75.18554388299997, 40.028955662000044]]], &quot;type&quot;: &quot;Polygon&quot;}, &quot;id&quot;: &quot;12&quot;, &quot;properties&quot;: {&quot;N&quot;: 156.0, &quot;Name&quot;: &quot;EAST_FALLS&quot;, &quot;__folium_color&quot;: &quot;#d95f02&quot;, &quot;label&quot;: 0.0, &quot;neighborhood&quot;: &quot;EAST_FALLS&quot;, &quot;overall_satisfaction&quot;: 2.5222222222222217, &quot;price_per_person&quot;: 64.49122807017545}, &quot;type&quot;: &quot;Feature&quot;}, {&quot;bbox&quot;: [-74.96843841999997, 40.105775436000044, -74.963419, 40.11029675200006], &quot;geometry&quot;: {&quot;coordinates&quot;: [[[-74.96480799999999, 40.108563], [-74.96529999999998, 40.10808899999999], [-74.96535, 40.10796799999999], [-74.96465, 40.10732099999999], [-74.963928, 40.107173], [-74.96380968499994, 40.107134606000045], [-74.963777, 40.107124], [-74.96372084999996, 40.10707858500007], [-74.963641, 40.107014], [-74.96356299999998, 40.106899], [-74.963491, 40.10674], [-74.96347, 40.106569], [-74.963461, 40.106495], [-74.96345443899997, 40.106442169000054], [-74.963442, 40.106342], [-74.96342463299999, 40.10619853000003], [-74.963419, 40.106152], [-74.96527666099996, 40.105775436000044], [-74.96660459999998, 40.10596514200006], [-74.96750570099994, 40.10592562000005], [-74.96784558999995, 40.10726936700007], [-74.96843841999997, 40.10907947500004], [-74.966770592, 40.10972763600006], [-74.96626471099995, 40.11029675200006], [-74.96537941799994, 40.11026513500008], [-74.96503162399995, 40.10942726800005], [-74.963714, 40.109458], [-74.964, 40.109123], [-74.96438599999999, 40.108804], [-74.96446335999995, 40.108759821000035], [-74.96457699599995, 40.10869492400007], [-74.96466480099997, 40.10864478000008], [-74.96468825199997, 40.10863138700006], [-74.96480799999999, 40.108563]]], &quot;type&quot;: &quot;Polygon&quot;}, &quot;id&quot;: &quot;13&quot;, &quot;properties&quot;: {&quot;N&quot;: null, &quot;Name&quot;: &quot;MECHANICSVILLE&quot;, &quot;__folium_color&quot;: &quot;#1b9e77&quot;, &quot;label&quot;: -1.0, &quot;neighborhood&quot;: null, &quot;overall_satisfaction&quot;: null, &quot;price_per_person&quot;: null}, &quot;type&quot;: &quot;Feature&quot;}, {&quot;bbox&quot;: [-75.07330208599996, 40.04453358100005, -75.04164930599994, 40.07679926700006], &quot;geometry&quot;: {&quot;coordinates&quot;: [[[-75.04164930599994, 40.064842475000034], [-75.04433897099996, 40.05909588300005], [-75.04976414199996, 40.053432765000025], [-75.05085869399994, 40.05205267800005], [-75.05100146099994, 40.05124366100005], [-75.05117904699995, 40.04924510800004], [-75.05157165799994, 40.04713928500007], [-75.05433270699994, 40.04453358100005], [-75.07330208599996, 40.05530678500003], [-75.06301091699997, 40.06610359000006], [-75.06774009599995, 40.068988686000075], [-75.07038724599994, 40.07029739000006], [-75.06925700199997, 40.07157635000004], [-75.06946520499997, 40.07178455300005], [-75.06901905599995, 40.07202249900008], [-75.06549150499994, 40.07023195400006], [-75.06042325299995, 40.07301592400006], [-75.05838881399995, 40.07472913600002], [-75.05639006699994, 40.07294454000004], [-75.05603314799998, 40.07337284300007], [-75.04978706299994, 40.076513731000034], [-75.04889476499994, 40.07679926700006], [-75.04796677499996, 40.07672788300004], [-75.04689601799998, 40.076406656000074], [-75.04425481599998, 40.07294454000004], [-75.04389789699997, 40.07226639400005], [-75.04411204799999, 40.07169532300003], [-75.04511142199992, 40.06998211100006], [-75.04571818399995, 40.06973226800005], [-75.04732432099996, 40.07058887400007], [-75.04796677499996, 40.07001780300005], [-75.04736001199996, 40.068697202000074], [-75.04736001199996, 40.06805474800006], [-75.04746708799995, 40.067697828000064], [-75.04810954299995, 40.06684122200004], [-75.04468311899994, 40.06487816700007], [-75.04318405799995, 40.06523508600004], [-75.04211330099997, 40.065020935000064], [-75.04164930599994, 40.064842475000034]]], &quot;type&quot;: &quot;Polygon&quot;}, &quot;id&quot;: &quot;14&quot;, &quot;properties&quot;: {&quot;N&quot;: 14.0, &quot;Name&quot;: &quot;RHAWNHURST&quot;, &quot;__folium_color&quot;: &quot;#e7298a&quot;, &quot;label&quot;: 1.0, &quot;neighborhood&quot;: &quot;RHAWNHURST&quot;, &quot;overall_satisfaction&quot;: 0.0, &quot;price_per_person&quot;: 50.18055555555557}, &quot;type&quot;: &quot;Feature&quot;}, {&quot;bbox&quot;: [-75.01404423499997, 40.03225165900005, -74.97398099999998, 40.06506399999999], &quot;geometry&quot;: {&quot;coordinates&quot;: [[[-74.98255476399999, 40.053953], [-74.98254899999999, 40.053953], [-74.98242020299995, 40.053897695000046], [-74.98223585399995, 40.05381853700004], [-74.982202, 40.05380400000001], [-74.98202199999999, 40.053727], [-74.98196274799994, 40.05372432500008], [-74.98180486499996, 40.05371719900006], [-74.98070157699992, 40.05366740200003], [-74.98060108299997, 40.053662866000025], [-74.98025505299995, 40.05364724800007], [-74.980028, 40.053637], [-74.97998945699999, 40.05362516100007], [-74.97973499999999, 40.053546999999995], [-74.979715, 40.053473], [-74.97971244299998, 40.05346354000005], [-74.97970988599997, 40.05345408000006], [-74.97969499999999, 40.053399000000006], [-74.979549, 40.05324499999999], [-74.97946599999999, 40.053157000000006], [-74.979094, 40.052860999999986], [-74.97868098699996, 40.05257743900006], [-74.97855799999999, 40.05249299999999], [-74.97841499999998, 40.052415], [-74.97818599999998, 40.05229], [-74.97805413699996, 40.05221078200003], [-74.977923, 40.052132], [-74.97734430699995, 40.05161286800007], [-74.976281, 40.050659], [-74.97615368599998, 40.05054446500002], [-74.97601194399994, 40.05041706200007], [-74.97545884499992, 40.04992101100003], [-74.974996, 40.049505999999994], [-74.97437036199993, 40.04894446600009], [-74.97398099999998, 40.048595], [-74.977846, 40.04537200000001], [-74.97932899999999, 40.044447], [-74.98077899999998, 40.04354299999999], [-74.98226892899999, 40.042217704000045], [-74.98277, 40.041772], [-74.983185, 40.04140399999999], [-74.986573, 40.038957999999994], [-74.987641, 40.038185999999996], [-74.98954593799992, 40.036811372000045], [-74.99019499999999, 40.036342999999995], [-74.99098499999998, 40.035773000000006], [-74.994093, 40.033413], [-74.99574510399998, 40.03225165900005], [-74.99866101999997, 40.03491315800006], [-75.00455018599996, 40.03991002600003], [-75.00569232699996, 40.04040971300003], [-75.01404423499997, 40.047583788000054], [-75.00845942499994, 40.052051635000055], [-75.00797660899997, 40.05243788800004], [-75.00130222099993, 40.05725629700004], [-74.99991023699992, 40.05768460000007], [-74.99316446499995, 40.05943350300004], [-74.99148694499995, 40.059897498000055], [-74.99048757099996, 40.06036149300007], [-74.98756083399995, 40.06221747300003], [-74.98509809199999, 40.06360945800003], [-74.98386962499995, 40.06414287100006], [-74.98238550599996, 40.06478729100008], [-74.980682, 40.06506399999999], [-74.980686, 40.065025], [-74.98068701699997, 40.06501584300003], [-74.98068799999999, 40.065007], [-74.980702, 40.06487799999999], [-74.98070599999998, 40.064838], [-74.980718, 40.064719999999994], [-74.980731, 40.06459199999999], [-74.98080999999999, 40.06438899999999], [-74.98081306799997, 40.06438512400006], [-74.98081613699998, 40.06438124800008], [-74.98088476299995, 40.06429456200005], [-74.980905, 40.064269], [-74.98098780599997, 40.063949807000036], [-74.98102199999998, 40.06381799999999], [-74.98102927499997, 40.06380960600006], [-74.98103654999994, 40.06380121100006], [-74.981139, 40.063683], [-74.98114, 40.06336799999999], [-74.98109229699998, 40.063294720000044], [-74.980905, 40.063007000000006], [-74.980905, 40.06279333300006], [-74.980905, 40.062737], [-74.98094369299996, 40.06269742800003], [-74.98099662999994, 40.06264328800006], [-74.98108099999999, 40.062557], [-74.98108099999999, 40.062422000000005], [-74.98105, 40.062326350000035], [-74.98099721199998, 40.062163473000055], [-74.980964, 40.06206099999999], [-74.980964, 40.06193135700005], [-74.980964, 40.061746], [-74.98089451499997, 40.061665825000034], [-74.980847, 40.061611], [-74.980847, 40.061484250000035], [-74.980847, 40.061159999999994], [-74.98067099999999, 40.060845], [-74.98062449499996, 40.06080198700005], [-74.980378, 40.060574], [-74.980378, 40.06054799999999], [-74.980378, 40.060368], [-74.980378, 40.060348999999995], [-74.98038619199998, 40.06034270700007], [-74.98039438399995, 40.06033641500005], [-74.98042314599996, 40.06031432200007], [-74.98071979699995, 40.060086460000036], [-74.98093264099997, 40.05992297100005], [-74.981551, 40.05944800000001], [-74.981844, 40.059088], [-74.98202196499994, 40.05895149300005], [-74.98216266299994, 40.058843571000075], [-74.98219673399994, 40.05881743700007], [-74.982372, 40.058682999999995], [-74.9829, 40.058367000000004], [-74.98296010899996, 40.058367000000004], [-74.98301699999999, 40.058367000000004], [-74.98319885899997, 40.05825527800005], [-74.98329411599997, 40.058196758000065], [-74.98331, 40.058187], [-74.98370524299996, 40.058018316000066], [-74.98371133999996, 40.05801571400008], [-74.98384718099997, 40.05795773900007], [-74.98387, 40.057948], [-74.984365, 40.05773700000001], [-74.984805, 40.057399000000004], [-74.98485858099995, 40.05733080700003], [-74.98489299999999, 40.05728700000001], [-74.98489299999999, 40.057093500000065], [-74.98489299999999, 40.056976000000006], [-74.98489299999999, 40.05687058200004], [-74.98489299999999, 40.05683599999999], [-74.98469066499996, 40.05656901700007], [-74.98454316599998, 40.05637439000003], [-74.98448299999998, 40.056295], [-74.98434579199994, 40.05595766500005], [-74.984302, 40.05585], [-74.98418999999998, 40.055575], [-74.984203, 40.055516], [-74.98420099699995, 40.055509492000056], [-74.984199, 40.055503], [-74.98418999999998, 40.05547], [-74.98418999999998, 40.05534900000001], [-74.98407299999998, 40.055124], [-74.983997, 40.05506599999999], [-74.98396668199997, 40.05504201200006], [-74.983932, 40.055016], [-74.983904, 40.05499400000001], [-74.98389649899997, 40.054986499000044], [-74.983889, 40.05497899999999], [-74.98383799999999, 40.054912], [-74.98379651799996, 40.05485718000005], [-74.98370655199994, 40.05473828500004], [-74.98364439199997, 40.05465613700005], [-74.98364018699992, 40.054650580000036], [-74.983555, 40.054538], [-74.98348699999998, 40.054448], [-74.98341613099996, 40.054393578000024], [-74.98319399999998, 40.05422299999999], [-74.98273577399993, 40.05398868000004], [-74.98266599999998, 40.053953], [-74.98259582099996, 40.053953], [-74.98258958599996, 40.053953], [-74.98255476399999, 40.053953]]], &quot;type&quot;: &quot;Polygon&quot;}, &quot;id&quot;: &quot;15&quot;, &quot;properties&quot;: {&quot;N&quot;: null, &quot;Name&quot;: &quot;TORRESDALE&quot;, &quot;__folium_color&quot;: &quot;#1b9e77&quot;, &quot;label&quot;: -1.0, &quot;neighborhood&quot;: null, &quot;overall_satisfaction&quot;: null, &quot;price_per_person&quot;: null}, &quot;type&quot;: &quot;Feature&quot;}, {&quot;bbox&quot;: [-75.265134, 39.87626080300003, -75.22478119899995, 39.91114073500006], &quot;geometry&quot;: {&quot;coordinates&quot;: [[[-75.22786497999994, 39.907314561000085], [-75.22620887599999, 39.90405945900006], [-75.22478119899995, 39.90246046100004], [-75.22592333999994, 39.898577181000064], [-75.22946397799996, 39.89463679300007], [-75.23096354799996, 39.89329602900005], [-75.23317593699994, 39.89309490200003], [-75.23797293099994, 39.89166722600004], [-75.24151356899993, 39.88858344400006], [-75.24362652999996, 39.884985699000026], [-75.24591081299997, 39.88161638300005], [-75.24819509499997, 39.87927499300003], [-75.25230680399994, 39.877390460000065], [-75.25758684399995, 39.87626080300003], [-75.25773411799997, 39.87626979900006], [-75.257852, 39.87627700000001], [-75.25837541399994, 39.876308926000036], [-75.259016, 39.87634799999999], [-75.25927299999998, 39.87636299999999], [-75.259723, 39.87639099999999], [-75.259854, 39.876399000000006], [-75.259899, 39.876402], [-75.26124499999999, 39.876484], [-75.26125025099996, 39.876484], [-75.261651, 39.876508], [-75.26221999999999, 39.876542], [-75.262476, 39.876558], [-75.262528, 39.876560999999995], [-75.26253349999996, 39.876569500000066], [-75.262539, 39.876578], [-75.26255899999998, 39.876615], [-75.26351294799997, 39.878307501000045], [-75.26449641299996, 39.88005237300007], [-75.264831, 39.88064599999999], [-75.264866, 39.88071600000001], [-75.26486954499995, 39.88072280900008], [-75.26496699999998, 39.88091000000001], [-75.26497312299995, 39.88092242100004], [-75.26500199999998, 39.88098099999999], [-75.26501384899996, 39.881053603000055], [-75.26505664899997, 39.88131585200006], [-75.265112, 39.881655], [-75.264545, 39.88211199999999], [-75.264296, 39.882241], [-75.26312600000001, 39.882349999999995], [-75.26307999999999, 39.88235399999999], [-75.262261, 39.882569999999994], [-75.262177, 39.88265499999999], [-75.26195199999998, 39.88288000000001], [-75.26194799999999, 39.882883500000055], [-75.261944, 39.88288699999999], [-75.26188499999999, 39.88306699999999], [-75.26196300000001, 39.883239], [-75.26243099999999, 39.883633], [-75.262817, 39.883746], [-75.264133, 39.884131999999994], [-75.264443, 39.88431299999999], [-75.26452244199999, 39.884485502000075], [-75.26454799999999, 39.884541], [-75.26463699999998, 39.884732], [-75.26422699999999, 39.885001], [-75.26358953299994, 39.885177712000036], [-75.26315199999999, 39.885298999999996], [-75.26272799999998, 39.88555300000001], [-75.262616, 39.88580399999999], [-75.262681, 39.88602399999999], [-75.262803, 39.886081999999995], [-75.26368299999999, 39.886144], [-75.26398099999999, 39.88609499999999], [-75.264283, 39.88619200000001], [-75.26444599999999, 39.88627199999999], [-75.26464865599998, 39.88637130700004], [-75.264797, 39.88644399999999], [-75.26485, 39.88653599999999], [-75.264934, 39.88667199999999], [-75.265037, 39.88683199999999], [-75.265104, 39.88698], [-75.265134, 39.887154], [-75.26513077999992, 39.887247917000025], [-75.265128, 39.88732900000001], [-75.265094, 39.887536], [-75.264978, 39.887753], [-75.264877, 39.887919000000004], [-75.26477778299994, 39.88802343900006], [-75.264725, 39.88807899999999], [-75.264596, 39.888216], [-75.26444599999999, 39.888331], [-75.26428349399998, 39.88840176900004], [-75.26426, 39.888412], [-75.263996, 39.888468], [-75.263725, 39.888484], [-75.263375, 39.88846], [-75.26297599999998, 39.888412], [-75.26284379799996, 39.88838671300005], [-75.262678, 39.888355], [-75.262472, 39.888418], [-75.26238068999999, 39.888484825000035], [-75.262293, 39.888549], [-75.262199, 39.88870399999999], [-75.262132, 39.888916], [-75.262096, 39.889152], [-75.26208, 39.889365], [-75.26208599999998, 39.889674], [-75.26209999999999, 39.88990499999999], [-75.26212299999999, 39.890102], [-75.26210899999998, 39.890276], [-75.262101, 39.890473], [-75.262034, 39.890696], [-75.261881, 39.89130599999999], [-75.26187576399995, 39.89133519900002], [-75.26185499999998, 39.891450999999996], [-75.26179, 39.891624], [-75.261733, 39.89178], [-75.261604, 39.89189], [-75.26150299999999, 39.891944], [-75.261312, 39.891989999999986], [-75.261098, 39.892081], [-75.26072999999998, 39.89218], [-75.26014, 39.892301999999994], [-75.259929, 39.89233099999999], [-75.25974499999998, 39.892355], [-75.259541, 39.892357], [-75.25941517099994, 39.892387147000086], [-75.25938277599992, 39.89239490800002], [-75.25934899999999, 39.892402999999995], [-75.259107, 39.892443], [-75.25901255299993, 39.89249715000005], [-75.258957, 39.89252900000001], [-75.258778, 39.892672], [-75.258568, 39.892808], [-75.258387, 39.892984], [-75.258212, 39.89316500000001], [-75.258021, 39.89336399999999], [-75.257829, 39.893567000000004], [-75.25767, 39.89373199999999], [-75.25743299999999, 39.894008], [-75.25690899999998, 39.894542], [-75.256742, 39.89473], [-75.25666399999999, 39.89485199999999], [-75.256661, 39.894936], [-75.25671, 39.89503299999999], [-75.25673971399993, 39.895092056000074], [-75.25679, 39.895192], [-75.25696799999999, 39.895359000000006], [-75.25712399999999, 39.895463], [-75.257273, 39.895562000000005], [-75.25738622799997, 39.89570158300006], [-75.257389, 39.895705], [-75.25736405499997, 39.895834345000026], [-75.257362, 39.895844999999994], [-75.257282, 39.895983999999984], [-75.25727950099997, 39.895989498000056], [-75.25727700000002, 39.895995], [-75.257147, 39.896150000000006], [-75.25702464999993, 39.89627005300009], [-75.256934, 39.89635899999999], [-75.256761, 39.896494999999994], [-75.25644999999999, 39.89684299999999], [-75.25642964299992, 39.896867050000026], [-75.256235, 39.897097], [-75.25609, 39.89728999999999], [-75.25598199999999, 39.897468], [-75.255804, 39.89772200000001], [-75.255618, 39.897943], [-75.25558156999993, 39.898021064000034], [-75.25550600000001, 39.89818300000001], [-75.25533, 39.89842000000001], [-75.25522399999998, 39.89849099999999], [-75.255156, 39.89858499999999], [-75.25509499999998, 39.898666], [-75.255093, 39.898756], [-75.25510900000002, 39.898823], [-75.255117, 39.89885400000001], [-75.25512349999995, 39.89886050000006], [-75.25512999999998, 39.898866999999996], [-75.255166, 39.89889999999999], [-75.25517799999999, 39.898927], [-75.25523399999999, 39.899048], [-75.255338, 39.899162999999994], [-75.25548699999999, 39.899318], [-75.25562, 39.899478], [-75.255665, 39.899517], [-75.25561399999998, 39.899569], [-75.25551899999999, 39.89967200000001], [-75.253712, 39.901658], [-75.253563, 39.901826], [-75.25259342499999, 39.902924633000055], [-75.25179, 39.903835], [-75.251288, 39.904403], [-75.25100119499994, 39.904253519000065], [-75.25043219399998, 39.903956960000066], [-75.24886762599992, 39.90314151900002], [-75.24876616599994, 39.90308863900003], [-75.24463702699995, 39.907844522000055], [-75.24237017499995, 39.910455450000036], [-75.24230450199995, 39.91027925400004], [-75.24002878499992, 39.90417367300006], [-75.23734475299995, 39.904858958000034], [-75.23614550499997, 39.905658457000065], [-75.23483204199994, 39.90668638400006], [-75.23283329499998, 39.90902777300004], [-75.23038674599997, 39.91108509900005], [-75.23032058399997, 39.91114073500006], [-75.22992083499997, 39.91051255700006], [-75.22786497999994, 39.907314561000085]]], &quot;type&quot;: &quot;Polygon&quot;}, &quot;id&quot;: &quot;16&quot;, &quot;properties&quot;: {&quot;N&quot;: 18.0, &quot;Name&quot;: &quot;EASTWICK&quot;, &quot;__folium_color&quot;: &quot;#d95f02&quot;, &quot;label&quot;: 0.0, &quot;neighborhood&quot;: &quot;EASTWICK&quot;, &quot;overall_satisfaction&quot;: 2.142857142857143, &quot;price_per_person&quot;: 63.56666666666667}, &quot;type&quot;: &quot;Feature&quot;}, {&quot;bbox&quot;: [-75.09367195699997, 40.05530678500003, -75.06238630899996, 40.08778642800007], &quot;geometry&quot;: {&quot;coordinates&quot;: [[[-75.06901905599995, 40.07202249900008], [-75.06946520499997, 40.07178455300005], [-75.06925700199997, 40.07157635000004], [-75.07038724599994, 40.07029739000006], [-75.06774009599995, 40.068988686000075], [-75.06301091699997, 40.06610359000006], [-75.07330208599996, 40.05530678500003], [-75.08357342599999, 40.06137589800005], [-75.08339496699995, 40.06548046800004], [-75.08404931799998, 40.06669994200007], [-75.08758470199996, 40.06856116800003], [-75.08767785699996, 40.06861021000003], [-75.09331686099995, 40.071578901000066], [-75.09367195699997, 40.07176584400002], [-75.093555, 40.07195200000001], [-75.09353439299997, 40.071973652000054], [-75.093417, 40.07209699999999], [-75.09325500000001, 40.072265], [-75.09317, 40.072348999999996], [-75.09257499999998, 40.072928], [-75.09155692299998, 40.073904279000025], [-75.091552, 40.07390899999999], [-75.091443273, 40.074016727000064], [-75.09143536099997, 40.07402456700004], [-75.090356, 40.07509400000001], [-75.09030840299992, 40.07514308500003], [-75.08993999999998, 40.07552299999999], [-75.089109, 40.076378999999996], [-75.087937, 40.077597], [-75.08697499999998, 40.078629], [-75.086946, 40.078659], [-75.08691616899995, 40.07863684000005], [-75.086876, 40.078607], [-75.084453, 40.080948], [-75.083415, 40.081953], [-75.082456, 40.082884], [-75.08205449599996, 40.08327441200004], [-75.08203836299997, 40.083290099000074], [-75.08161897299993, 40.083697905000065], [-75.08121778599997, 40.08408801000007], [-75.081189, 40.08411599999999], [-75.07881, 40.085277], [-75.07783241899995, 40.08575368000004], [-75.07780099999998, 40.085769], [-75.07639299999998, 40.087228], [-75.07638999999999, 40.08723150000003], [-75.076387, 40.087235], [-75.07637199999999, 40.087251], [-75.07635670199994, 40.08726647200007], [-75.076284, 40.08734], [-75.07624432199998, 40.087381286000046], [-75.07431335699992, 40.08778642800007], [-75.07389695099994, 40.08778642800007], [-75.07428361399995, 40.08737002200007], [-75.07261799099996, 40.08701310300006], [-75.07139851699998, 40.08659669700006], [-75.06842419099996, 40.08528799400005], [-75.06726420399997, 40.084782358000034], [-75.06310014699994, 40.084871588000055], [-75.06250528199996, 40.084722872000036], [-75.06238630899996, 40.08454441200008], [-75.06842419099996, 40.08023163900003], [-75.06744266299994, 40.07874447600005], [-75.06714523099997, 40.07823884100004], [-75.06616370299997, 40.07782243500003], [-75.06736082299994, 40.07539078600008], [-75.06742958199999, 40.07525111900002], [-75.06901905599995, 40.07202249900008]]], &quot;type&quot;: &quot;Polygon&quot;}, &quot;id&quot;: &quot;17&quot;, &quot;properties&quot;: {&quot;N&quot;: 16.0, &quot;Name&quot;: &quot;FOX_CHASE&quot;, &quot;__folium_color&quot;: &quot;#e7298a&quot;, &quot;label&quot;: 1.0, &quot;neighborhood&quot;: &quot;FOX_CHASE&quot;, &quot;overall_satisfaction&quot;: 1.0, &quot;price_per_person&quot;: 57.05494505494505}, &quot;type&quot;: &quot;Feature&quot;}, {&quot;bbox&quot;: [-75.09509128699995, 39.998904893000024, -75.06892055399999, 40.026270070000066], &quot;geometry&quot;: {&quot;coordinates&quot;: [[[-75.08653308699996, 39.99890965200007], [-75.08654260499998, 39.998904893000024], [-75.08745321799995, 40.00032160900002], [-75.08745321799995, 40.00101165300003], [-75.08759598499995, 40.001939643000064], [-75.08792910999993, 40.00272486500006], [-75.08828763499997, 40.003234349000024], [-75.08830030599995, 40.00325235500003], [-75.08838120699994, 40.00336732000005], [-75.08865743099993, 40.00348725900005], [-75.08871327699994, 40.00351150800003], [-75.09018959799994, 40.00415254200004], [-75.09027837999999, 40.004184448000046], [-75.09171245299996, 40.00469981800006], [-75.09245008599997, 40.005342272000064], [-75.09275941599998, 40.00574678100003], [-75.09290218299996, 40.006222673000025], [-75.09256905899997, 40.006579592000044], [-75.09211696099997, 40.00719825200007], [-75.0921645499999, 40.00750758200007], [-75.09347325399995, 40.00867351800008], [-75.09449642199995, 40.00922079400004], [-75.09504369799998, 40.00969668600004], [-75.09509128699995, 40.010315346000034], [-75.09344945899994, 40.01281378000004], [-75.09354463799997, 40.01338485000007], [-75.09440799199994, 40.014690949000055], [-75.09447262799993, 40.014788732000056], [-75.09442461499998, 40.014799812000035], [-75.09230731799994, 40.01528841900005], [-75.08785772599998, 40.01999975200005], [-75.08652522799997, 40.021237072000076], [-75.08459786399999, 40.023140640000065], [-75.08276567899998, 40.025091799000045], [-75.08146744199996, 40.026270070000066], [-75.07680846799997, 40.02338466900005], [-75.07491679599997, 40.021528690000025], [-75.07338204399996, 40.01956563400007], [-75.07252543799994, 40.01881610400006], [-75.0718116, 40.017138584000065], [-75.07045530699997, 40.013212473000074], [-75.06892055399999, 40.00878667600005], [-75.07191867499995, 40.00789437800005], [-75.07388173099996, 40.00671654500007], [-75.07641585699996, 40.00464641400004], [-75.07823614399996, 40.00364704000003], [-75.08080596199993, 40.002005212000036], [-75.08469638099994, 39.99982800500003], [-75.08653308699996, 39.99890965200007]]], &quot;type&quot;: &quot;Polygon&quot;}, &quot;id&quot;: &quot;18&quot;, &quot;properties&quot;: {&quot;N&quot;: 19.0, &quot;Name&quot;: &quot;FRANKFORD&quot;, &quot;__folium_color&quot;: &quot;#d95f02&quot;, &quot;label&quot;: 0.0, &quot;neighborhood&quot;: &quot;FRANKFORD&quot;, &quot;overall_satisfaction&quot;: 3.583333333333333, &quot;price_per_person&quot;: 28.500000000000004}, &quot;type&quot;: &quot;Feature&quot;}, {&quot;bbox&quot;: [-75.15130025999997, 40.00361002500005, -75.11217105899993, 40.023839930000065], &quot;geometry&quot;: {&quot;coordinates&quot;: [[[-75.11217105899993, 40.01208090600005], [-75.11285634299996, 40.00901616000005], [-75.11407462699998, 40.00361002500005], [-75.12784341999998, 40.00516926200004], [-75.13197773399996, 40.00513951800008], [-75.13168030099996, 40.00662668200005], [-75.13171004399999, 40.00671591100008], [-75.15130025999997, 40.00933890200002], [-75.15008085399994, 40.01513325500008], [-75.14969424899994, 40.016970318000055], [-75.14908510699996, 40.01961627800006], [-75.14681962199995, 40.01938654100008], [-75.14455913399996, 40.01944602800006], [-75.14271505099998, 40.02001115000007], [-75.14003815799998, 40.02120088000003], [-75.13551718199994, 40.023342395000036], [-75.13331144599994, 40.023839930000065], [-75.13405144099993, 40.02031933700004], [-75.13406038899994, 40.02027676800003], [-75.13516026299999, 40.01504402500006], [-75.12404954699997, 40.01361194500004], [-75.11217105899993, 40.01208090600005]]], &quot;type&quot;: &quot;Polygon&quot;}, &quot;id&quot;: &quot;19&quot;, &quot;properties&quot;: {&quot;N&quot;: null, &quot;Name&quot;: &quot;HUNTING_PARK&quot;, &quot;__folium_color&quot;: &quot;#1b9e77&quot;, &quot;label&quot;: -1.0, &quot;neighborhood&quot;: null, &quot;overall_satisfaction&quot;: null, &quot;price_per_person&quot;: null}, &quot;type&quot;: &quot;Feature&quot;}, {&quot;bbox&quot;: [-75.05117904699995, 40.047995891000035, -75.03811580599995, 40.064842475000034], &quot;geometry&quot;: {&quot;coordinates&quot;: [[[-75.04132382399996, 40.06465348600005], [-75.04115161399993, 40.064553493000055], [-75.04054285699993, 40.064200021000026], [-75.03947209899995, 40.06302218800004], [-75.03811580599995, 40.06113051600005], [-75.03811580599995, 40.05973853100004], [-75.03861549299994, 40.05784686000004], [-75.03879395299998, 40.05638349100008], [-75.04000747799995, 40.05431336000004], [-75.03990040199994, 40.05338537000006], [-75.04161361399997, 40.051707850000064], [-75.04150653799996, 40.05074416900005], [-75.04211330099997, 40.05003033000003], [-75.04764554799992, 40.047995891000035], [-75.04843076999998, 40.04821004300005], [-75.05057228499997, 40.049280800000076], [-75.05082212799994, 40.04903095700006], [-75.05117904699995, 40.04924510800004], [-75.05100146099994, 40.05124366100005], [-75.05085869399994, 40.05205267800005], [-75.04976414199996, 40.053432765000025], [-75.04433897099996, 40.05909588300005], [-75.04164930599994, 40.064842475000034], [-75.04132382399996, 40.06465348600005]]], &quot;type&quot;: &quot;Polygon&quot;}, &quot;id&quot;: &quot;20&quot;, &quot;properties&quot;: {&quot;N&quot;: null, &quot;Name&quot;: &quot;LEXINGTON_PARK&quot;, &quot;__folium_color&quot;: &quot;#1b9e77&quot;, &quot;label&quot;: -1.0, &quot;neighborhood&quot;: null, &quot;overall_satisfaction&quot;: null, &quot;price_per_person&quot;: null}, &quot;type&quot;: &quot;Feature&quot;}, {&quot;bbox&quot;: [-75.23501799999998, 40.02166054000002, -75.21747074599993, 40.03529208800006], &quot;geometry&quot;: {&quot;coordinates&quot;: [[[-75.23100249000001, 40.03312083000002], [-75.22722509599998, 40.03529208800006], [-75.22467436499994, 40.03192081200007], [-75.22511741099997, 40.03169928900008], [-75.22184994699994, 40.02728728900007], [-75.22124075899994, 40.02758265300002], [-75.21915474999997, 40.02555202500002], [-75.22050234899996, 40.024998218000064], [-75.21865632299995, 40.023502937000046], [-75.21747074599993, 40.02268173100003], [-75.21761583099999, 40.02259762400007], [-75.21865408299993, 40.021995739000026], [-75.21909362499999, 40.02166054000002], [-75.219389, 40.021854], [-75.219556, 40.021905], [-75.219669, 40.021938000000006], [-75.219777, 40.02197099999999], [-75.22056199999999, 40.022206000000004], [-75.22116499099995, 40.022316895000074], [-75.22125799999999, 40.022334], [-75.22222199999999, 40.022639], [-75.22288295299995, 40.02311867200006], [-75.223046, 40.023237], [-75.22366999999998, 40.023633], [-75.22394499999999, 40.023809], [-75.225191, 40.02445899999999], [-75.226308, 40.025091999999994], [-75.226513, 40.025197], [-75.226652, 40.02526699999999], [-75.227952, 40.02593399999999], [-75.228006, 40.02596100000001], [-75.22813299999999, 40.02602499999999], [-75.22817799999999, 40.026045999999994], [-75.228216, 40.026066], [-75.228249, 40.026082], [-75.22967800000002, 40.026793], [-75.230745, 40.027312], [-75.230949, 40.02741600000001], [-75.23104099999999, 40.027462], [-75.231249, 40.027568], [-75.231336, 40.027613], [-75.23152885399996, 40.02771153500004], [-75.231702, 40.02779999999999], [-75.23184294499998, 40.02789410300005], [-75.23230661599996, 40.02820367800007], [-75.23237299999998, 40.028248], [-75.232407, 40.028271], [-75.23243799999999, 40.02829200000001], [-75.23247299999998, 40.028313999999995], [-75.232502, 40.028335000000006], [-75.23258500000001, 40.028389], [-75.232906, 40.02860400000001], [-75.233923, 40.02949000000001], [-75.234814, 40.030097], [-75.23501799999998, 40.030235], [-75.23463116799996, 40.030771112000025], [-75.23326297799996, 40.03163366700006], [-75.23269785599994, 40.032317762000055], [-75.23100249000001, 40.03312083000002]]], &quot;type&quot;: &quot;Polygon&quot;}, &quot;id&quot;: &quot;21&quot;, &quot;properties&quot;: {&quot;N&quot;: 148.0, &quot;Name&quot;: &quot;MANAYUNK&quot;, &quot;__folium_color&quot;: &quot;#d95f02&quot;, &quot;label&quot;: 0.0, &quot;neighborhood&quot;: &quot;MANAYUNK&quot;, &quot;overall_satisfaction&quot;: 2.7931034482758617, &quot;price_per_person&quot;: 111.48459595959596}, &quot;type&quot;: &quot;Feature&quot;}, {&quot;bbox&quot;: [-75.17132426299996, 39.96706554300005, -75.15928684699998, 39.973363601000074], &quot;geometry&quot;: {&quot;coordinates&quot;: [[[-75.17132426299996, 39.96724838700004], [-75.17032488899997, 39.97305427100008], [-75.16725538499998, 39.973363601000074], [-75.16658913599997, 39.97236422800006], [-75.15928684699998, 39.97147653000008], [-75.16035760499994, 39.96707452700008], [-75.160395017, 39.96706554300005], [-75.17132426299996, 39.96724838700004]]], &quot;type&quot;: &quot;Polygon&quot;}, &quot;id&quot;: &quot;22&quot;, &quot;properties&quot;: {&quot;N&quot;: 300.0, &quot;Name&quot;: &quot;FRANCISVILLE&quot;, &quot;__folium_color&quot;: &quot;#666666&quot;, &quot;label&quot;: 4.0, &quot;neighborhood&quot;: &quot;FRANCISVILLE&quot;, &quot;overall_satisfaction&quot;: 3.1640625, &quot;price_per_person&quot;: 124.79579483534704}, &quot;type&quot;: &quot;Feature&quot;}, {&quot;bbox&quot;: [-75.13516026299999, 40.01208090600005, -75.11049591799996, 40.027314217000026], &quot;geometry&quot;: {&quot;coordinates&quot;: [[[-75.11125734599995, 40.02317871200006], [-75.11415076999997, 40.02034239400007], [-75.11049591799996, 40.019828431000064], [-75.11151109099997, 40.01513325500008], [-75.11217105899993, 40.01208090600005], [-75.12404954699997, 40.01361194500004], [-75.13516026299999, 40.01504402500006], [-75.13406038899994, 40.02027676800003], [-75.13405144099993, 40.02031933700004], [-75.13331144599994, 40.023839930000065], [-75.13328590899994, 40.02384569000002], [-75.13156132799998, 40.02423469300004], [-75.12724855499992, 40.02509724800007], [-75.11270882899997, 40.027314217000026], [-75.11285634299996, 40.02698584900003], [-75.11253273699998, 40.02595792200003], [-75.11224720099995, 40.02584370800003], [-75.11175227299998, 40.025748530000044], [-75.11133348799996, 40.02550106600007], [-75.11156191699997, 40.02462542400007], [-75.11125734599995, 40.02317871200006]]], &quot;type&quot;: &quot;Polygon&quot;}, &quot;id&quot;: &quot;23&quot;, &quot;properties&quot;: {&quot;N&quot;: null, &quot;Name&quot;: &quot;FELTONVILLE&quot;, &quot;__folium_color&quot;: &quot;#1b9e77&quot;, &quot;label&quot;: -1.0, &quot;neighborhood&quot;: null, &quot;overall_satisfaction&quot;: null, &quot;price_per_person&quot;: null}, &quot;type&quot;: &quot;Feature&quot;}, {&quot;bbox&quot;: [-75.24754073999998, 39.95995724200002, -75.22426695599995, 39.97541779000006], &quot;geometry&quot;: {&quot;coordinates&quot;: [[[-75.22584334899994, 39.97143158200003], [-75.22458489799999, 39.964854397000074], [-75.22426695599995, 39.963192698000064], [-75.22488232199998, 39.95995724200002], [-75.24668944999996, 39.96266871100005], [-75.24672060899996, 39.96270798200003], [-75.24643428999995, 39.964246220000064], [-75.24743366399997, 39.96438898800005], [-75.24654136599997, 39.96902893700008], [-75.24754073999998, 39.96906462900006], [-75.24686259299995, 39.97209844200006], [-75.24739797199999, 39.975167946000056], [-75.24539922499997, 39.97541779000006], [-75.24478980699995, 39.97181824400009], [-75.24175599399994, 39.97134235200007], [-75.23913858699996, 39.96988493200007], [-75.22584334899994, 39.97143158200003]]], &quot;type&quot;: &quot;Polygon&quot;}, &quot;id&quot;: &quot;24&quot;, &quot;properties&quot;: {&quot;N&quot;: 12.0, &quot;Name&quot;: &quot;HADDINGTON&quot;, &quot;__folium_color&quot;: &quot;#e7298a&quot;, &quot;label&quot;: 1.0, &quot;neighborhood&quot;: &quot;HADDINGTON&quot;, &quot;overall_satisfaction&quot;: 1.125, &quot;price_per_person&quot;: 58.5}, &quot;type&quot;: &quot;Feature&quot;}, {&quot;bbox&quot;: [-75.14003815799998, 40.02120088000003, -75.11078851099995, 40.04616926600005], &quot;geometry&quot;: {&quot;coordinates&quot;: [[[-75.13551718199994, 40.023342395000036], [-75.14003815799998, 40.02120088000003], [-75.13905662999998, 40.024710585000044], [-75.13739100699995, 40.032592550000054], [-75.13896739999996, 40.03288998200003], [-75.13971098199994, 40.03393099700003], [-75.13878894099996, 40.03443663200006], [-75.13765869699995, 40.03520995700006], [-75.13655819599995, 40.03622122800005], [-75.13605256099997, 40.037113526000034], [-75.13521974899999, 40.03854120200003], [-75.13480334399998, 40.03880889200007], [-75.13473811399994, 40.04602410800004], [-75.13462051599998, 40.04616926600005], [-75.13046367999993, 40.04605752300005], [-75.12362272899998, 40.045105738000075], [-75.11932482799995, 40.04449005300006], [-75.11545820399992, 40.04393088000006], [-75.11389965699993, 40.04363344700005], [-75.11370929999997, 40.04335980900004], [-75.11361412099994, 40.04293150600006], [-75.11336427799995, 40.04283632800008], [-75.11251956899996, 40.04257458700004], [-75.11281105299997, 40.04207252100008], [-75.11334643199994, 40.041596628000036], [-75.11364386499997, 40.040942277000056], [-75.11429821599994, 40.04025818200005], [-75.11459564899997, 40.03981203300004], [-75.11370335099996, 40.03719462600003], [-75.11319771599995, 40.03654027400006], [-75.11248387699999, 40.036004895000076], [-75.11215670099995, 40.03514234000005], [-75.11111568699994, 40.03427978600008], [-75.11078851099995, 40.03344697400007], [-75.11096697099998, 40.03264390600004], [-75.11120491699995, 40.03053213500004], [-75.11090748399992, 40.02958035000006], [-75.11105620099994, 40.028836769000065], [-75.11168080899995, 40.02800395700007], [-75.11257310699995, 40.02797421400004], [-75.11268241599997, 40.02737301100006], [-75.11270882899997, 40.027314217000026], [-75.12724855499992, 40.02509724800007], [-75.13156132799998, 40.02423469300004], [-75.13328590899994, 40.02384569000002], [-75.13331144599994, 40.023839930000065], [-75.13551718199994, 40.023342395000036]]], &quot;type&quot;: &quot;Polygon&quot;}, &quot;id&quot;: &quot;25&quot;, &quot;properties&quot;: {&quot;N&quot;: 22.0, &quot;Name&quot;: &quot;OLNEY&quot;, &quot;__folium_color&quot;: &quot;#d95f02&quot;, &quot;label&quot;: 0.0, &quot;neighborhood&quot;: &quot;OLNEY&quot;, &quot;overall_satisfaction&quot;: 2.4166666666666665, &quot;price_per_person&quot;: 66.59147869674185}, &quot;type&quot;: &quot;Feature&quot;}, {&quot;bbox&quot;: [-75.08892721299998, 40.03173208100003, -75.05433270699994, 40.06137589800005], &quot;geometry&quot;: {&quot;coordinates&quot;: [[[-75.08890281799995, 40.044377270000034], [-75.08892721299998, 40.04442223800003], [-75.08616108999995, 40.05013294500003], [-75.08613134699992, 40.051025243000026], [-75.08699390099997, 40.05289906800004], [-75.08693441499997, 40.05322624400002], [-75.08642877899995, 40.05388059600006], [-75.08640330199995, 40.053886681000044], [-75.08589340099996, 40.054475461000045], [-75.08592314399993, 40.055129813000065], [-75.08580417099994, 40.05750927400005], [-75.08357342599999, 40.06137589800005], [-75.07330208599996, 40.05530678500003], [-75.05433270699994, 40.04453358100005], [-75.06199457099994, 40.03753796600006], [-75.06285117699996, 40.036966895000035], [-75.06408849699994, 40.036728949000064], [-75.08502775399994, 40.03173208100003], [-75.08521811099996, 40.03311216800006], [-75.08564641399994, 40.03358806100004], [-75.08678855499994, 40.034444667000066], [-75.08745480399995, 40.035444040000066], [-75.08812105299995, 40.03653859200005], [-75.08869212399998, 40.038061447000075], [-75.08864453399995, 40.038775286000025], [-75.08821623099993, 40.04025055100004], [-75.08821623099993, 40.04144028200005], [-75.08883489099999, 40.04324867200006], [-75.08890281799995, 40.044377270000034]]], &quot;type&quot;: &quot;Polygon&quot;}, &quot;id&quot;: &quot;26&quot;, &quot;properties&quot;: {&quot;N&quot;: 16.0, &quot;Name&quot;: &quot;OXFORD_CIRCLE&quot;, &quot;__folium_color&quot;: &quot;#e7298a&quot;, &quot;label&quot;: 1.0, &quot;neighborhood&quot;: &quot;OXFORD_CIRCLE&quot;, &quot;overall_satisfaction&quot;: 0.0, &quot;price_per_person&quot;: 58.74999999999999}, &quot;type&quot;: &quot;Feature&quot;}, {&quot;bbox&quot;: [-75.02844122399995, 40.044285065000054, -75.00845942499994, 40.06325542100006], &quot;geometry&quot;: {&quot;coordinates&quot;: [[[-75.01316508499997, 40.05658931500005], [-75.01026214199999, 40.054780924000056], [-75.00860592499998, 40.053584871000055], [-75.00859651999997, 40.05368637200007], [-75.00845942499994, 40.052051635000055], [-75.01404423499997, 40.047583788000054], [-75.01490712199995, 40.04689541700002], [-75.01722081499996, 40.04504966200005], [-75.01832273499997, 40.044285065000054], [-75.01937755099992, 40.04510484600007], [-75.01802125799998, 40.04642544700005], [-75.01869940499995, 40.04703221000005], [-75.01730741999995, 40.04828142700007], [-75.01691480899994, 40.049494952000025], [-75.01709326799994, 40.05124385600004], [-75.01809264199993, 40.05242168900003], [-75.01998431399994, 40.053421062000034], [-75.02355350499992, 40.05545550200003], [-75.02439614099995, 40.05644654700007], [-75.02468167599994, 40.05644654700007], [-75.02844122399995, 40.05654172600003], [-75.02838738299992, 40.056605961000066], [-75.02739426199997, 40.057826634000044], [-75.02568104999995, 40.05958743600006], [-75.02258774999996, 40.06225243200003], [-75.02208833699996, 40.06325542100006], [-75.02101730599998, 40.061253058000034], [-75.01316508499997, 40.05658931500005]]], &quot;type&quot;: &quot;Polygon&quot;}, &quot;id&quot;: &quot;27&quot;, &quot;properties&quot;: {&quot;N&quot;: null, &quot;Name&quot;: &quot;PENNYPACK_WOODS&quot;, &quot;__folium_color&quot;: &quot;#1b9e77&quot;, &quot;label&quot;: -1.0, &quot;neighborhood&quot;: null, &quot;overall_satisfaction&quot;: null, &quot;price_per_person&quot;: null}, &quot;type&quot;: &quot;Feature&quot;}, {&quot;bbox&quot;: [-75.11817539699996, 39.967743999999996, -75.09402602999995, 39.982410351000055], &quot;geometry&quot;: {&quot;coordinates&quot;: [[[-75.114286, 39.967743999999996], [-75.11817539699996, 39.97420121000005], [-75.11346406399997, 39.97702087200003], [-75.11153670099998, 39.97809162900006], [-75.10925241899997, 39.979126695000055], [-75.10653983299993, 39.979911917000045], [-75.10393432299996, 39.980768523000044], [-75.10100758599998, 39.982410351000055], [-75.09725993499995, 39.97823439700006], [-75.09402602999995, 39.974305935000075], [-75.09403723499996, 39.97430438300006], [-75.096372, 39.973981], [-75.102287, 39.972376999999994], [-75.10604000000001, 39.971104], [-75.10735, 39.970611000000005], [-75.107557, 39.97053300000001], [-75.108089, 39.970332], [-75.111945, 39.968720999999995], [-75.112041, 39.968682], [-75.11230499999999, 39.968571], [-75.114286, 39.967743999999996]]], &quot;type&quot;: &quot;Polygon&quot;}, &quot;id&quot;: &quot;28&quot;, &quot;properties&quot;: {&quot;N&quot;: null, &quot;Name&quot;: &quot;PORT_RICHMOND&quot;, &quot;__folium_color&quot;: &quot;#1b9e77&quot;, &quot;label&quot;: -1.0, &quot;neighborhood&quot;: null, &quot;overall_satisfaction&quot;: null, &quot;price_per_person&quot;: null}, &quot;type&quot;: &quot;Feature&quot;}, {&quot;bbox&quot;: [-75.16189612499993, 40.01224946700006, -75.14908510699996, 40.02060613400005], &quot;geometry&quot;: {&quot;coordinates&quot;: [[[-75.14969424899994, 40.016970318000055], [-75.15121710399995, 40.017141639000045], [-75.16189612499993, 40.01224946700006], [-75.16185805299995, 40.01672285400007], [-75.16187708899997, 40.01929267200006], [-75.16166769599994, 40.01995892100007], [-75.16081108999997, 40.02013024200004], [-75.15921209299995, 40.02054902700007], [-75.15666130999993, 40.02060613400005], [-75.15475774199994, 40.02049192000003], [-75.15152167499997, 40.02003506300007], [-75.14908510699996, 40.01961627800006], [-75.14969424899994, 40.016970318000055]]], &quot;type&quot;: &quot;Polygon&quot;}, &quot;id&quot;: &quot;29&quot;, &quot;properties&quot;: {&quot;N&quot;: null, &quot;Name&quot;: &quot;NICETOWN&quot;, &quot;__folium_color&quot;: &quot;#1b9e77&quot;, &quot;label&quot;: -1.0, &quot;neighborhood&quot;: null, &quot;overall_satisfaction&quot;: null, &quot;price_per_person&quot;: null}, &quot;type&quot;: &quot;Feature&quot;}, {&quot;bbox&quot;: [-75.08726619899994, 39.98325455800005, -75.05455451899996, 40.00878667600005], &quot;geometry&quot;: {&quot;coordinates&quot;: [[[-75.05455451899996, 40.00273949900003], [-75.0567, 39.999331], [-75.058089, 39.997404], [-75.058502, 39.994801], [-75.05913499999998, 39.993332], [-75.059913, 39.99152899999999], [-75.05994699999998, 39.991451], [-75.062064, 39.98864999999999], [-75.06417499999999, 39.986027], [-75.064627, 39.985631], [-75.06509594099998, 39.98521793300006], [-75.06533075599997, 39.98501172400006], [-75.06539094099996, 39.984957933000025], [-75.06541593499998, 39.98493592700004], [-75.06543265499994, 39.98492093100003], [-75.06543700000002, 39.98491699999999], [-75.06544999999998, 39.98490499999999], [-75.06548636099994, 39.984873598000036], [-75.06551591299996, 39.98484790200007], [-75.06556397599996, 39.98480519000003], [-75.065581, 39.98479], [-75.065643, 39.98473499999999], [-75.06564823599996, 39.984730927000044], [-75.06565193499995, 39.98472792700005], [-75.06570294399995, 39.98468293700006], [-75.065748, 39.984643], [-75.067069, 39.983483], [-75.06738694099994, 39.98325455800005], [-75.06920608999995, 39.98448048200004], [-75.07381034699995, 39.98758567800007], [-75.07866444699992, 39.99111917800008], [-75.08055611899994, 39.993117925000035], [-75.08291178499995, 39.99483113700006], [-75.08362562299999, 39.995901895000024], [-75.08551729499999, 39.99743664700002], [-75.08726619899994, 39.99854309600004], [-75.08654260499998, 39.998904893000024], [-75.08653308699996, 39.99890965200007], [-75.08469638099994, 39.99982800500003], [-75.08080596199993, 40.002005212000036], [-75.07823614399996, 40.00364704000003], [-75.07641585699996, 40.00464641400004], [-75.07388173099996, 40.00671654500007], [-75.07191867499995, 40.00789437800005], [-75.06892055399999, 40.00878667600005], [-75.06767133699998, 40.00557440400007], [-75.06552982299996, 40.00603839900003], [-75.06274585299997, 40.00600270700005], [-75.06171078799996, 40.00682362100008], [-75.05803451999998, 40.00511040900006], [-75.05455451899996, 40.00273949900003]]], &quot;type&quot;: &quot;Polygon&quot;}, &quot;id&quot;: &quot;30&quot;, &quot;properties&quot;: {&quot;N&quot;: null, &quot;Name&quot;: &quot;BRIDESBURG&quot;, &quot;__folium_color&quot;: &quot;#1b9e77&quot;, &quot;label&quot;: -1.0, &quot;neighborhood&quot;: null, &quot;overall_satisfaction&quot;: null, &quot;price_per_person&quot;: null}, &quot;type&quot;: &quot;Feature&quot;}, {&quot;bbox&quot;: [-75.00731161099998, 40.06414666000006, -74.99460528899992, 40.074197326000046], &quot;geometry&quot;: {&quot;coordinates&quot;: [[[-74.99850760499999, 40.06434635800008], [-74.99840391799995, 40.06414666000006], [-75.00731161099998, 40.06929563700004], [-75.00685772799993, 40.06957020800007], [-75.00623401199994, 40.06994751700005], [-75.00591594399998, 40.07013992900005], [-75.00435636999998, 40.07108337500005], [-75.00432314399995, 40.07110347500003], [-75.00345688399995, 40.07162750800006], [-75.00283822399994, 40.072341347000076], [-75.00225171799997, 40.074014737000034], [-75.00236233199995, 40.074197326000046], [-74.99898349699998, 40.07224616800004], [-74.99926903299995, 40.07205581100004], [-74.99460528899992, 40.06934322600006], [-74.99622332199992, 40.066820997000036], [-74.9982220699999, 40.06629751600007], [-74.99874555099996, 40.065678856000034], [-74.9982220699999, 40.06472707100006], [-74.99850760499999, 40.06434635800008]]], &quot;type&quot;: &quot;Polygon&quot;}, &quot;id&quot;: &quot;31&quot;, &quot;properties&quot;: {&quot;N&quot;: null, &quot;Name&quot;: &quot;WEST_TORRESDALE&quot;, &quot;__folium_color&quot;: &quot;#1b9e77&quot;, &quot;label&quot;: -1.0, &quot;neighborhood&quot;: null, &quot;overall_satisfaction&quot;: null, &quot;price_per_person&quot;: null}, &quot;type&quot;: &quot;Feature&quot;}, {&quot;bbox&quot;: [-75.14286661999999, 40.045105738000075, -75.122121, 40.063385], &quot;geometry&quot;: {&quot;coordinates&quot;: [[[-75.122121, 40.05315900000001], [-75.12362272899998, 40.045105738000075], [-75.13046367999993, 40.04605752300005], [-75.13462051599998, 40.04616926600005], [-75.13599592599996, 40.04620623900008], [-75.13679899399995, 40.046771361000026], [-75.14286661999999, 40.047514943000074], [-75.139414, 40.063385], [-75.13932976899997, 40.06333075900006], [-75.13687499999999, 40.06175], [-75.13521299999998, 40.06089399999999], [-75.13416, 40.06024699999999], [-75.133457, 40.059815], [-75.132599, 40.059263], [-75.13174199999999, 40.058711], [-75.131194, 40.058398], [-75.130575, 40.058035], [-75.130428, 40.05794], [-75.13016799999998, 40.057772], [-75.13007999999999, 40.057714999999995], [-75.12985199999999, 40.057568], [-75.129487, 40.05733200000001], [-75.129044, 40.057032], [-75.128517, 40.05671799999999], [-75.127119, 40.055882000000004], [-75.12634699999998, 40.05541600000001], [-75.12537757499994, 40.054861274000075], [-75.12508699999998, 40.054695], [-75.12464199999998, 40.054439], [-75.123769, 40.05398799999999], [-75.123445, 40.053816999999995], [-75.123365, 40.053775], [-75.122356, 40.053234], [-75.12230499999998, 40.053202], [-75.122121, 40.05315900000001]]], &quot;type&quot;: &quot;Polygon&quot;}, &quot;id&quot;: &quot;32&quot;, &quot;properties&quot;: {&quot;N&quot;: 20.0, &quot;Name&quot;: &quot;EAST_OAK_LANE&quot;, &quot;__folium_color&quot;: &quot;#d95f02&quot;, &quot;label&quot;: 0.0, &quot;neighborhood&quot;: &quot;EAST_OAK_LANE&quot;, &quot;overall_satisfaction&quot;: 4.8, &quot;price_per_person&quot;: 113.24358974358977}, &quot;type&quot;: &quot;Feature&quot;}, {&quot;bbox&quot;: [-75.24487673599998, 39.91108509900005, -75.21764979599999, 39.929193705000046], &quot;geometry&quot;: {&quot;coordinates&quot;: [[[-75.21764979599999, 39.927279810000066], [-75.22725092099995, 39.913217196000055], [-75.23032058399997, 39.91114073500006], [-75.23038674599997, 39.91108509900005], [-75.23371115799995, 39.91410949400005], [-75.23624528299995, 39.913752575000046], [-75.23763726799996, 39.914966100000065], [-75.23963601499997, 39.91357411500007], [-75.24334099499997, 39.91325369600002], [-75.24425470799996, 39.91468137300007], [-75.24481167799995, 39.91535769400008], [-75.24487673599998, 39.91546774000004], [-75.24249152699997, 39.91695137800008], [-75.23956478999997, 39.91891443400004], [-75.23967186599997, 39.91909289300003], [-75.22525233199995, 39.929193705000046], [-75.22332480999994, 39.927279810000066], [-75.22236112899996, 39.92645889600004], [-75.22089775999996, 39.925816442000034], [-75.21943439099994, 39.92795795700005], [-75.21764979599999, 39.927279810000066]]], &quot;type&quot;: &quot;Polygon&quot;}, &quot;id&quot;: &quot;33&quot;, &quot;properties&quot;: {&quot;N&quot;: null, &quot;Name&quot;: &quot;ELMWOOD&quot;, &quot;__folium_color&quot;: &quot;#1b9e77&quot;, &quot;label&quot;: -1.0, &quot;neighborhood&quot;: null, &quot;overall_satisfaction&quot;: null, &quot;price_per_person&quot;: null}, &quot;type&quot;: &quot;Feature&quot;}, {&quot;bbox&quot;: [-74.97967292099997, 40.070460000000004, -74.96460194699995, 40.08723977400007], &quot;geometry&quot;: {&quot;coordinates&quot;: [[[-74.97599665399999, 40.07153306300006], [-74.97731725399994, 40.07263951200009], [-74.97849508799997, 40.07396011300005], [-74.97967292099997, 40.074959487000065], [-74.97813816799999, 40.078528678000055], [-74.97731725399994, 40.080420350000054], [-74.97567542599997, 40.08199079400004], [-74.97367667899994, 40.08452492000004], [-74.97213632099994, 40.08649929300003], [-74.97155861599998, 40.08723977400007], [-74.97116780599998, 40.08693078600004], [-74.97029993499994, 40.08624461900006], [-74.96675300299995, 40.082437879000054], [-74.96597358099996, 40.08101458800007], [-74.96460194699995, 40.077233584000055], [-74.964883, 40.077273000000005], [-74.964937, 40.07728], [-74.964975, 40.077286], [-74.965007, 40.077291], [-74.965082, 40.077301], [-74.965346, 40.07731199999999], [-74.96594699999999, 40.077245], [-74.966247, 40.077146], [-74.96648384299993, 40.07703126000006], [-74.96663299999999, 40.076959], [-74.96696024999994, 40.076822646000046], [-74.96715379999993, 40.076742], [-74.96730499999998, 40.07667899999999], [-74.96756199999999, 40.076601999999994], [-74.96765301599999, 40.07659298000005], [-74.967784, 40.07657999999999], [-74.96812699999998, 40.076575], [-74.969314, 40.076728], [-74.96938499999999, 40.07674999999999], [-74.96955699999998, 40.07676099999999], [-74.969764, 40.076728], [-74.96987188899999, 40.07666139000001], [-74.96987899999999, 40.076657000000004], [-74.96988421099996, 40.07665210500005], [-74.97010326499996, 40.07644632700004], [-74.970143, 40.076409], [-74.970537, 40.076280999999994], [-74.970735, 40.07621700000001], [-74.97073898699993, 40.07621462800006], [-74.97078006299994, 40.076190190000034], [-74.97089299999999, 40.076123], [-74.97094975699996, 40.07606330000004], [-74.97102408799996, 40.075985114000055], [-74.97102701499993, 40.07598203600002], [-74.97118499999999, 40.07566800000001], [-74.97125700000001, 40.075359999999996], [-74.97124211799996, 40.07519034200005], [-74.97122780999996, 40.07502722600004], [-74.97121982999994, 40.07493625900002], [-74.971192, 40.074619], [-74.971135, 40.07447], [-74.971156, 40.073992], [-74.97116984799999, 40.07396133600003], [-74.97124047499995, 40.07380494900009], [-74.971268, 40.07374399999999], [-74.97129299999999, 40.07369], [-74.971543, 40.073437999999996], [-74.97173728699994, 40.073316495000036], [-74.97186188899997, 40.07323857100004], [-74.971866, 40.073236], [-74.97196499999998, 40.07317400000001], [-74.97203300000001, 40.07310900000001], [-74.97208599999999, 40.073057999999996], [-74.972263, 40.072799], [-74.97229262599996, 40.07275575400007], [-74.97230178999999, 40.07274025100002], [-74.972437, 40.072498], [-74.972546, 40.072302], [-74.972608, 40.072191], [-74.97277959299997, 40.07197388300005], [-74.97289385399995, 40.07182930700003], [-74.97295099999998, 40.071757], [-74.97306998299996, 40.071649982000054], [-74.973121, 40.07160400000001], [-74.973172, 40.071557999999996], [-74.973251, 40.071487], [-74.97329399199998, 40.07146598400004], [-74.97330367499995, 40.07146120000004], [-74.973423, 40.071402], [-74.97343150899995, 40.07139783800005], [-74.97344001699997, 40.07139367700006], [-74.97374399999998, 40.071245], [-74.97386599999999, 40.07118500000001], [-74.973888, 40.071175], [-74.97389447799998, 40.071172448000034], [-74.97390093599994, 40.07116984900006], [-74.973989, 40.07113199999999], [-74.97413799999998, 40.071068], [-74.97419700000002, 40.071043], [-74.97422747399997, 40.071029906000035], [-74.974325, 40.07098799999999], [-74.97438399999999, 40.070963], [-74.974416, 40.07094899999999], [-74.974637, 40.070811], [-74.974873, 40.070460000000004], [-74.97599665399999, 40.07153306300006]]], &quot;type&quot;: &quot;Polygon&quot;}, &quot;id&quot;: &quot;34&quot;, &quot;properties&quot;: {&quot;N&quot;: null, &quot;Name&quot;: &quot;MILLBROOK&quot;, &quot;__folium_color&quot;: &quot;#1b9e77&quot;, &quot;label&quot;: -1.0, &quot;neighborhood&quot;: null, &quot;overall_satisfaction&quot;: null, &quot;price_per_person&quot;: null}, &quot;type&quot;: &quot;Feature&quot;}, {&quot;bbox&quot;: [-75.00236233199995, 40.06036149300007, -74.98113884999998, 40.08171829600008], &quot;geometry&quot;: {&quot;coordinates&quot;: [[[-74.99438247399996, 40.08171829600008], [-74.99441493199998, 40.08166883400003], [-74.99041743799994, 40.078289999000056], [-74.98832351199995, 40.07638643000007], [-74.98775244099993, 40.07576777000003], [-74.98499226599995, 40.07448286200003], [-74.98113884999998, 40.071913247000055], [-74.98156459199997, 40.069391548000056], [-74.98199289499995, 40.06757126000007], [-74.98227843099994, 40.06639342700004], [-74.98238550599996, 40.06478729100008], [-74.98386962499995, 40.06414287100006], [-74.98509809199999, 40.06360945800003], [-74.98756083399995, 40.06221747300003], [-74.99048757099996, 40.06036149300007], [-74.99042451999996, 40.060408738000035], [-74.99151198999992, 40.06120546900007], [-74.99455769999999, 40.06191930700004], [-74.99850760499999, 40.06434635800008], [-74.9982220699999, 40.06472707100006], [-74.99874555099996, 40.065678856000034], [-74.9982220699999, 40.06629751600007], [-74.99622332199992, 40.066820997000036], [-74.99460528899992, 40.06934322600006], [-74.99926903299995, 40.07205581100004], [-74.99898349699998, 40.07224616800004], [-75.00236233199995, 40.074197326000046], [-75.00221956399997, 40.07467321800004], [-75.00150572599993, 40.075244289000075], [-75.00079188799997, 40.076148484000036], [-74.99893590799996, 40.07843276700004], [-74.99728501999994, 40.08011539200004], [-74.99438247399996, 40.08171829600008]]], &quot;type&quot;: &quot;Polygon&quot;}, &quot;id&quot;: &quot;35&quot;, &quot;properties&quot;: {&quot;N&quot;: null, &quot;Name&quot;: &quot;MORRELL_PARK&quot;, &quot;__folium_color&quot;: &quot;#1b9e77&quot;, &quot;label&quot;: -1.0, &quot;neighborhood&quot;: null, &quot;overall_satisfaction&quot;: null, &quot;price_per_person&quot;: null}, &quot;type&quot;: &quot;Feature&quot;}, {&quot;bbox&quot;: [-75.21052822399997, 40.030990102000025, -75.18228239199993, 40.06657442500005], &quot;geometry&quot;: {&quot;coordinates&quot;: [[[-75.18228239199993, 40.045944499000015], [-75.19292370399995, 40.03552930400008], [-75.18911307499997, 40.031989475000046], [-75.19068351899993, 40.030990102000025], [-75.19178996799997, 40.032025167000036], [-75.19303918499996, 40.03195378300006], [-75.19689391199995, 40.03331007600008], [-75.19750067499996, 40.033738379000056], [-75.19874989199997, 40.03777156500007], [-75.19989203299995, 40.037164803000046], [-75.20285446199993, 40.039484777000034], [-75.20321138099995, 40.037628798000064], [-75.20535289599997, 40.03909216600004], [-75.20553135599994, 40.03955616100006], [-75.20588827499995, 40.040484151000044], [-75.20556704699999, 40.04116229700003], [-75.20499597699995, 40.04184044400005], [-75.20488890099995, 40.04258997400006], [-75.20588827499995, 40.04291120100003], [-75.20599534999998, 40.042661358000025], [-75.20674488099996, 40.04201890300005], [-75.20760148699998, 40.041626292000046], [-75.20802978999996, 40.04169767600007], [-75.20835101699998, 40.04230443900008], [-75.20845809299995, 40.04323242900005], [-75.20813686499997, 40.04348227200005], [-75.20995715299995, 40.04451733700006], [-75.21009992099994, 40.04612347400006], [-75.20906485499995, 40.04651608500007], [-75.20970730999994, 40.046980080000026], [-75.21006422899995, 40.047087155000035], [-75.21052822399997, 40.04797945300004], [-75.20972947399996, 40.048728468000036], [-75.21019346899999, 40.04926384700007], [-75.21015777699995, 40.049834917000055], [-75.20990793399994, 40.05040598800008], [-75.20873010099996, 40.05133397800006], [-75.20908701999998, 40.05240473500004], [-75.20530367699996, 40.053189957000036], [-75.20455414699995, 40.05458194200002], [-75.20280524299994, 40.055402856000065], [-75.20191294499995, 40.056366538000084], [-75.20123479899996, 40.05772283000005], [-75.20152033399994, 40.058579436000066], [-75.20187725299995, 40.058757896000024], [-75.20255539899995, 40.060114189000046], [-75.20248401599997, 40.06047110800006], [-75.20202002099995, 40.06097079500006], [-75.20187725299995, 40.06125633000005], [-75.20194863699997, 40.061934476000026], [-75.20255539899995, 40.06261262300006], [-75.20112772299996, 40.06404029900005], [-75.20034250099997, 40.06354061300004], [-75.20012834899995, 40.06371907200002], [-75.19966435399992, 40.06411168300008], [-75.19880774799998, 40.06439721900006], [-75.19837944499994, 40.06464706200006], [-75.19798683399993, 40.065432284000046], [-75.19720161199994, 40.06589627900007], [-75.19688038499999, 40.06636027400003], [-75.19648777399993, 40.06657442500005], [-75.19613085499999, 40.06539659200008], [-75.19406072399993, 40.06439721900006], [-75.19402503199996, 40.06396891600007], [-75.19056291599996, 40.05950742600004], [-75.18845709299995, 40.05740160300007], [-75.18745771899995, 40.05568839100004], [-75.18228239199993, 40.045944499000015]]], &quot;type&quot;: &quot;Polygon&quot;}, &quot;id&quot;: &quot;36&quot;, &quot;properties&quot;: {&quot;N&quot;: 115.0, &quot;Name&quot;: &quot;MOUNT_AIRY_WEST&quot;, &quot;__folium_color&quot;: &quot;#d95f02&quot;, &quot;label&quot;: 0.0, &quot;neighborhood&quot;: &quot;MOUNT_AIRY_WEST&quot;, &quot;overall_satisfaction&quot;: 3.46875, &quot;price_per_person&quot;: 52.79991596638656}, &quot;type&quot;: &quot;Feature&quot;}, {&quot;bbox&quot;: [-75.19875004699998, 39.95732169500007, -75.18703089199994, 39.96264573900004], &quot;geometry&quot;: {&quot;coordinates&quot;: [[[-75.18717960799994, 39.96264573900004], [-75.18703089199994, 39.96166421200007], [-75.18712012099996, 39.960623198000064], [-75.18747703999998, 39.96041499500007], [-75.18726883799995, 39.959314494000076], [-75.18747703999998, 39.95883860200007], [-75.19086777199993, 39.95877911500003], [-75.19122469199992, 39.95732169500007], [-75.19578828299994, 39.95970523000005], [-75.19580265399996, 39.95971273600003], [-75.19872428499995, 39.96125118000004], [-75.19875004699998, 39.961264745000044], [-75.18717960799994, 39.96264573900004]]], &quot;type&quot;: &quot;Polygon&quot;}, &quot;id&quot;: &quot;37&quot;, &quot;properties&quot;: {&quot;N&quot;: 79.0, &quot;Name&quot;: &quot;POWELTON&quot;, &quot;__folium_color&quot;: &quot;#d95f02&quot;, &quot;label&quot;: 0.0, &quot;neighborhood&quot;: &quot;POWELTON&quot;, &quot;overall_satisfaction&quot;: 2.673076923076924, &quot;price_per_person&quot;: 77.6970319634703}, &quot;type&quot;: &quot;Feature&quot;}, {&quot;bbox&quot;: [-75.12552793199995, 39.974305935000075, -75.06738694099994, 39.99854309600004], &quot;geometry&quot;: {&quot;coordinates&quot;: [[[-75.07866444699992, 39.99111917800008], [-75.07381034699995, 39.98758567800007], [-75.06920608999995, 39.98448048200004], [-75.06738694099994, 39.98325455800005], [-75.068593, 39.98238800000001], [-75.06880195599996, 39.98223993800008], [-75.071264, 39.980493], [-75.07150590099997, 39.98035682500006], [-75.075605, 39.978041], [-75.0802, 39.97702], [-75.08303097099996, 39.97605591700005], [-75.085831, 39.975102], [-75.08713999599996, 39.97500894500007], [-75.08965799099997, 39.97482987500007], [-75.090861, 39.974743999999994], [-75.092365, 39.97453600000001], [-75.09402602999995, 39.974305935000075], [-75.09725993499995, 39.97823439700006], [-75.10100758599998, 39.982410351000055], [-75.10393432299996, 39.980768523000044], [-75.10653983299993, 39.979911917000045], [-75.10925241899997, 39.979126695000055], [-75.11153670099998, 39.97809162900006], [-75.11346406399997, 39.97702087200003], [-75.11749725099996, 39.981589437000025], [-75.12020983599996, 39.984730325000044], [-75.12227996799999, 39.987085992000054], [-75.12242273499999, 39.986978916000055], [-75.12549274599996, 39.98983737100008], [-75.12552793199995, 39.989869961000075], [-75.12487755499996, 39.990224886000085], [-75.12480600199996, 39.99026393400004], [-75.11599089399992, 39.99507453900003], [-75.11342837299998, 39.996472965000066], [-75.11289299399992, 39.995830511000065], [-75.10632568099999, 39.98854936000003], [-75.09221459799994, 39.99594843000005], [-75.09217371999995, 39.995969864000074], [-75.08726619899994, 39.99854309600004], [-75.08551729499999, 39.99743664700002], [-75.08362562299999, 39.995901895000024], [-75.08291178499995, 39.99483113700006], [-75.08055611899994, 39.993117925000035], [-75.07866444699992, 39.99111917800008]]], &quot;type&quot;: &quot;Polygon&quot;}, &quot;id&quot;: &quot;38&quot;, &quot;properties&quot;: {&quot;N&quot;: 71.0, &quot;Name&quot;: &quot;RICHMOND&quot;, &quot;__folium_color&quot;: &quot;#d95f02&quot;, &quot;label&quot;: 0.0, &quot;neighborhood&quot;: &quot;RICHMOND&quot;, &quot;overall_satisfaction&quot;: 2.613636363636364, &quot;price_per_person&quot;: 79.4326105442177}, &quot;type&quot;: &quot;Feature&quot;}, {&quot;bbox&quot;: [-75.048542, 40.094776095000036, -74.98747272199994, 40.137992], &quot;geometry&quot;: {&quot;coordinates&quot;: [[[-74.992814, 40.12623800000001], [-74.99245898199996, 40.12619835300006], [-74.99241999999998, 40.126194], [-74.99202566099996, 40.12618312200004], [-74.99184, 40.126178], [-74.99146099999999, 40.1262], [-74.991254, 40.126233], [-74.99122499999999, 40.12624399999999], [-74.991082, 40.126255], [-74.990846, 40.126315999999996], [-74.99033799999998, 40.12637099999999], [-74.9903, 40.126377999999995], [-74.990214, 40.126392], [-74.990157, 40.126392], [-74.989751, 40.12638199999999], [-74.989608, 40.126361], [-74.989365, 40.126295000000006], [-74.98927199999999, 40.126262000000004], [-74.989165, 40.12619599999999], [-74.98901399999998, 40.12606999999999], [-74.98887099999999, 40.125921000000005], [-74.98885704199995, 40.12590015200004], [-74.988713, 40.125685], [-74.98864199999998, 40.12553199999999], [-74.98861299999999, 40.125443999999995], [-74.988577, 40.125213], [-74.988563, 40.12499900000001], [-74.988605, 40.124643], [-74.98861387399994, 40.12456839600002], [-74.988632, 40.124416000000004], [-74.98854334299995, 40.12434269700003], [-74.98845299999999, 40.124268], [-74.98815129799993, 40.124110649000045], [-74.98812716199996, 40.12409806100005], [-74.98778, 40.12391699999999], [-74.98757299999998, 40.123729999999995], [-74.98755587499996, 40.123707681000035], [-74.98747272199994, 40.12359931000003], [-74.99020069699998, 40.121774739000045], [-74.99357001399994, 40.11869095800005], [-74.99699643799993, 40.12137499000005], [-75.00265003699995, 40.11686353200002], [-75.00167921699995, 40.115150320000055], [-75.00059418299996, 40.114522142000055], [-74.99985179099997, 40.11081018300007], [-74.99551165399997, 40.109039864000074], [-74.99665379499999, 40.10812615100007], [-75.00164690099996, 40.10480019600004], [-75.00563616399995, 40.10236062700005], [-75.00917561199996, 40.09980270600004], [-75.01286377699995, 40.09727452900006], [-75.014559143, 40.09554942000005], [-75.01536221099995, 40.094776095000036], [-75.01803910399997, 40.09703658300003], [-75.02190572799998, 40.10021911200004], [-75.02577235199993, 40.101170896000035], [-75.02776515099998, 40.10185499100004], [-75.03517122299996, 40.10652468300003], [-75.03552814299995, 40.10676263000004], [-75.03701530599994, 40.10694108900003], [-75.03879990199994, 40.10706006200007], [-75.048542, 40.11272900000001], [-75.047449, 40.113492], [-75.04421599999999, 40.115747], [-75.04382651299996, 40.11601856000004], [-75.04365579399995, 40.11613758900007], [-75.04230700000001, 40.117078], [-75.04119938199993, 40.11785102500005], [-75.03904299999999, 40.119356], [-75.038709, 40.119599], [-75.038336, 40.11986999999999], [-75.038289, 40.11990199999999], [-75.037908, 40.120166999999995], [-75.03755399999999, 40.120413], [-75.03363299999998, 40.123129999999996], [-75.03165199999998, 40.124503], [-75.02705821099993, 40.12768748500008], [-75.02622800000002, 40.128263], [-75.02578499999998, 40.12856899999999], [-75.025354, 40.128889], [-75.024891, 40.129216], [-75.02487776699996, 40.12922537900004], [-75.02481982499994, 40.129266443000056], [-75.02414107799996, 40.12974748600005], [-75.02371, 40.130053000000004], [-75.02319106299994, 40.130420395000044], [-75.02300799999999, 40.13055], [-75.02277718699997, 40.13071328300003], [-75.020571, 40.132273999999995], [-75.019598, 40.13322899999999], [-75.01899189699998, 40.13382443800004], [-75.01842300599998, 40.13438331700007], [-75.01794999999998, 40.134848], [-75.01777699999998, 40.13502499999999], [-75.01702099999999, 40.135805999999995], [-75.01649, 40.136354], [-75.016322, 40.136527], [-75.015629, 40.137335], [-75.015066, 40.137992], [-75.01494890399992, 40.13792071000006], [-75.01470299999998, 40.137770999999994], [-75.01457499999998, 40.137693], [-75.014388, 40.137578], [-75.01388399999999, 40.137269], [-75.012745, 40.136573], [-75.01258700000001, 40.136477], [-75.012378, 40.136349], [-75.01226999999999, 40.136283999999996], [-75.011899, 40.13605799999999], [-75.011454, 40.13578799999999], [-75.01104699999999, 40.13553], [-75.01062699999999, 40.135276], [-75.009465, 40.13456999999999], [-75.00911700000002, 40.13435499999999], [-75.00866399999998, 40.134075], [-75.00853, 40.133992], [-75.007687, 40.13352799999999], [-75.007412, 40.133377], [-75.006902, 40.13308], [-75.005988, 40.132548], [-75.00594599999998, 40.132524000000004], [-75.00590199999999, 40.132498000000005], [-75.00569199999998, 40.13237600000001], [-75.00409599999999, 40.131447], [-75.003998, 40.13139], [-75.003909, 40.13133899999999], [-75.00385130399997, 40.131310152000026], [-75.003563, 40.13116599999999], [-75.00325499999998, 40.13101199999999], [-75.00253361399996, 40.13054552300008], [-75.00252770399999, 40.13054170100003], [-75.002273, 40.130377], [-75.00216478099999, 40.13031319700008], [-75.00163159499994, 40.12999884500004], [-75.001525, 40.129935999999994], [-75.00095699999999, 40.12961000000001], [-75.00063948599995, 40.129427030000045], [-74.99984135699998, 40.12896710300004], [-74.99974399999999, 40.128910999999995], [-74.999584, 40.128819], [-74.99952478199997, 40.12878509300003], [-74.99946, 40.128747999999995], [-74.99941344399997, 40.128719911000076], [-74.99916922599992, 40.12857256500008], [-74.99913604799997, 40.128552547000034], [-74.99904260799995, 40.128496171000045], [-74.99898100000001, 40.128459], [-74.99897215199996, 40.12845386500005], [-74.99893655299996, 40.12843320600007], [-74.998564, 40.12821699999999], [-74.99852494699996, 40.128194077000046], [-74.99852147299998, 40.12819203800006], [-74.998518, 40.12818999999999], [-74.99840275899997, 40.12812191100005], [-74.997885, 40.127816], [-74.9978, 40.12790199999999], [-74.99768944799996, 40.12800579300005], [-74.99757099999998, 40.128117], [-74.99744799999999, 40.128249], [-74.99418699999998, 40.131516], [-74.99402327999996, 40.131826207000074], [-74.99397799999998, 40.131912], [-74.993764, 40.13231900000001], [-74.993673, 40.132492], [-74.99367, 40.132471], [-74.99367, 40.13246050000003], [-74.99367, 40.132449999999984], [-74.99365797899998, 40.13241146200005], [-74.993636, 40.132341], [-74.99363849999997, 40.13233199999999], [-74.99364099999998, 40.132323], [-74.99355167099996, 40.13221370900005], [-74.993462, 40.13210399999999], [-74.993262, 40.131933], [-74.99293899999999, 40.131593], [-74.99259599999999, 40.131275], [-74.992324, 40.130879], [-74.992302, 40.13083], [-74.992288, 40.130682], [-74.992366, 40.130511], [-74.992416, 40.13044], [-74.992609, 40.130253], [-74.99283100000001, 40.129989], [-74.992945, 40.12979200000001], [-74.993009, 40.129627], [-74.993038, 40.129495], [-74.99306090199995, 40.129225412000046], [-74.993073, 40.129082999999994], [-74.99312261299997, 40.128852160000065], [-74.993145, 40.128747999999995], [-74.99318699999999, 40.128638], [-74.99327075599994, 40.128465412000025], [-74.993352, 40.12829800000001], [-74.993409, 40.128215], [-74.99353, 40.128078], [-74.99368, 40.127852], [-74.993752, 40.127765000000004], [-74.993866, 40.127534], [-74.993909, 40.127292], [-74.99394087199992, 40.12716899500003], [-74.993973, 40.12704500000001], [-74.993973, 40.126963], [-74.993909, 40.12677600000001], [-74.993823, 40.126683], [-74.99376799999999, 40.126643], [-74.99368699999998, 40.126583999999994], [-74.99360299999998, 40.126535], [-74.993479, 40.126463], [-74.99340999999998, 40.126431], [-74.993336, 40.126397], [-74.993143, 40.126326], [-74.992814, 40.12623800000001]]], &quot;type&quot;: &quot;Polygon&quot;}, &quot;id&quot;: &quot;39&quot;, &quot;properties&quot;: {&quot;N&quot;: 16.0, &quot;Name&quot;: &quot;SOMERTON&quot;, &quot;__folium_color&quot;: &quot;#e7298a&quot;, &quot;label&quot;: 1.0, &quot;neighborhood&quot;: &quot;SOMERTON&quot;, &quot;overall_satisfaction&quot;: 0.0, &quot;price_per_person&quot;: 51.95833333333334}, &quot;type&quot;: &quot;Feature&quot;}, {&quot;bbox&quot;: [-75.22722509599998, 40.01854552100008, -75.20324707299994, 40.040127232000025], &quot;geometry&quot;: {&quot;coordinates&quot;: [[[-75.22603536499997, 40.03636284500004], [-75.22567844599996, 40.036719764000054], [-75.22527199399997, 40.03691875600004], [-75.22282801699998, 40.03811528700003], [-75.22063679099995, 40.03729208800007], [-75.22010141199995, 40.037565726000025], [-75.21409741499996, 40.040127232000025], [-75.21027837999996, 40.037664490000054], [-75.20881501199996, 40.03534451500008], [-75.20774425399996, 40.03195378300006], [-75.20753010299994, 40.031703940000064], [-75.20563843099995, 40.03256054600007], [-75.20342553299997, 40.02959811700003], [-75.20545997199997, 40.028634435000065], [-75.20324707299994, 40.025993234000055], [-75.20770856199994, 40.023827924000045], [-75.20825583799996, 40.02297131800003], [-75.20870793599995, 40.02249542600003], [-75.20927900699998, 40.021924355000074], [-75.21001663999994, 40.02044908900007], [-75.21063529899999, 40.019735251000036], [-75.21130154799992, 40.01854552100008], [-75.21306538699997, 40.02086636100005], [-75.21338144199994, 40.021282223000064], [-75.21482273799995, 40.02059610600002], [-75.21677389599995, 40.022137996000026], [-75.21714509199995, 40.02239497800008], [-75.21747074599993, 40.02268173100003], [-75.21865632299995, 40.023502937000046], [-75.22050234899996, 40.024998218000064], [-75.21915474999997, 40.02555202500002], [-75.22124075899994, 40.02758265300002], [-75.22184994699994, 40.02728728900007], [-75.22511741099997, 40.03169928900008], [-75.22467436499994, 40.03192081200007], [-75.22722509599998, 40.03529208800006], [-75.22603536499997, 40.03636284500004]]], &quot;type&quot;: &quot;Polygon&quot;}, &quot;id&quot;: &quot;40&quot;, &quot;properties&quot;: {&quot;N&quot;: 124.0, &quot;Name&quot;: &quot;ROXBOROUGH&quot;, &quot;__folium_color&quot;: &quot;#d95f02&quot;, &quot;label&quot;: 0.0, &quot;neighborhood&quot;: &quot;ROXBOROUGH&quot;, &quot;overall_satisfaction&quot;: 3.270833333333333, &quot;price_per_person&quot;: 88.50464576074332}, &quot;type&quot;: &quot;Feature&quot;}, {&quot;bbox&quot;: [-75.21501680099993, 39.94543597000006, -75.20410102399995, 39.958523006000064], &quot;geometry&quot;: {&quot;coordinates&quot;: [[[-75.20576664699995, 39.94980823000003], [-75.20802713399995, 39.949748744000026], [-75.20921686499997, 39.94954054100003], [-75.20856251299995, 39.94543597000006], [-75.21010916299996, 39.94671493100004], [-75.21137204599994, 39.94579055300005], [-75.21141786599996, 39.945822633000034], [-75.21501680099993, 39.94876721600008], [-75.21469409299993, 39.95054551600004], [-75.21468962499996, 39.95058155500005], [-75.21415178899997, 39.953119066000056], [-75.21415424699995, 39.95313947500006], [-75.21305374599996, 39.958523006000064], [-75.20410102399995, 39.95739276200003], [-75.20442819999994, 39.95587585600003], [-75.20475537599998, 39.95593534200003], [-75.20573690299994, 39.95087898700006], [-75.20576664699995, 39.94980823000003]]], &quot;type&quot;: &quot;Polygon&quot;}, &quot;id&quot;: &quot;41&quot;, &quot;properties&quot;: {&quot;N&quot;: 399.0, &quot;Name&quot;: &quot;SPRUCE_HILL&quot;, &quot;__folium_color&quot;: &quot;#666666&quot;, &quot;label&quot;: 4.0, &quot;neighborhood&quot;: &quot;SPRUCE_HILL&quot;, &quot;overall_satisfaction&quot;: 2.3773584905660377, &quot;price_per_person&quot;: 48.09551206784088}, &quot;type&quot;: &quot;Feature&quot;}, {&quot;bbox&quot;: [-75.22069599999999, 39.99415604500006, -75.20103417399996, 40.009848000000005], &quot;geometry&quot;: {&quot;coordinates&quot;: [[[-75.20103417399996, 40.00418547300006], [-75.20410367899996, 40.00043782200003], [-75.20553135599994, 40.00093750900004], [-75.20760148699998, 39.99808215600005], [-75.21024268799994, 39.998367691000055], [-75.20999284499999, 39.997760929000044], [-75.21256266299996, 39.99722555000005], [-75.21531093999992, 39.996476020000046], [-75.21673861699996, 39.99551233800002], [-75.21773799099998, 39.99415604500006], [-75.21791644999995, 39.994227429000034], [-75.22069599999999, 40.003924], [-75.21953182299994, 40.00447012700005], [-75.21950541599995, 40.004482515000056], [-75.21947260099995, 40.00449790900006], [-75.21940856199996, 40.00452795100006], [-75.219223, 40.00461500000001], [-75.218718, 40.00485299999999], [-75.216012, 40.006124], [-75.21558787399994, 40.006323122000026], [-75.21556881199996, 40.006332071000024], [-75.21556154999996, 40.006335481000065], [-75.21457, 40.006801], [-75.21376090599995, 40.00714350000004], [-75.213755, 40.007146], [-75.213045, 40.00744600000001], [-75.21161506199996, 40.008138934000044], [-75.21152, 40.00818499999998], [-75.21132956099996, 40.008277441000075], [-75.21099155899998, 40.00844151100006], [-75.21098495899996, 40.00844471500006], [-75.21076599999999, 40.008551], [-75.21047894099996, 40.008690151000046], [-75.21047099999998, 40.008694], [-75.21026515599992, 40.00879403900006], [-75.20984467299996, 40.008998391000034], [-75.209757, 40.009041], [-75.20891899999998, 40.009446999999994], [-75.20829799999998, 40.00974099999999], [-75.208158, 40.00977700000001], [-75.208122, 40.009789999999995], [-75.20811149999997, 40.00979350000006], [-75.20810104299994, 40.00979712100008], [-75.20807599999999, 40.009806000000005], [-75.208043, 40.009817999999996], [-75.20797900000001, 40.009848000000005], [-75.20442490599997, 40.00871834700007], [-75.20381814399997, 40.008111584000055], [-75.20738733499995, 40.006398372000035], [-75.20103417399996, 40.00418547300006]]], &quot;type&quot;: &quot;Polygon&quot;}, &quot;id&quot;: &quot;42&quot;, &quot;properties&quot;: {&quot;N&quot;: 47.0, &quot;Name&quot;: &quot;WYNNEFIELD_HEIGHTS&quot;, &quot;__folium_color&quot;: &quot;#e7298a&quot;, &quot;label&quot;: 1.0, &quot;neighborhood&quot;: &quot;WYNNEFIELD_HEIGHTS&quot;, &quot;overall_satisfaction&quot;: 0.4545454545454545, &quot;price_per_person&quot;: 131.92210144927537}, &quot;type&quot;: &quot;Feature&quot;}, {&quot;bbox&quot;: [-75.15395745082564, 39.94085766999552, -75.1423826439638, 39.947675574408265], &quot;geometry&quot;: {&quot;coordinates&quot;: [[[-75.15395745082564, 39.9421550157914], [-75.1535251075976, 39.944166067879735], [-75.15318375228833, 39.9455509949625], [-75.15299844518204, 39.9463117295927], [-75.15138919885243, 39.94613617545418], [-75.15108773099399, 39.947675574408265], [-75.1423826439638, 39.94651686000515], [-75.14239861700251, 39.94643898995747], [-75.14348929301644, 39.941121942973325], [-75.14352165296191, 39.94085766999552], [-75.1440712849618, 39.94092822801536], [-75.14910995202263, 39.94157505496486], [-75.1491669339668, 39.94158231204409], [-75.1522931399964, 39.941983689995304], [-75.15395745082564, 39.9421550157914]]], &quot;type&quot;: &quot;Polygon&quot;}, &quot;id&quot;: &quot;43&quot;, &quot;properties&quot;: {&quot;N&quot;: 165.0, &quot;Name&quot;: &quot;SOCIETY_HILL&quot;, &quot;__folium_color&quot;: &quot;#666666&quot;, &quot;label&quot;: 4.0, &quot;neighborhood&quot;: &quot;SOCIETY_HILL&quot;, &quot;overall_satisfaction&quot;: 3.1184210526315788, &quot;price_per_person&quot;: 133.59866666666667}, &quot;type&quot;: &quot;Feature&quot;}, {&quot;bbox&quot;: [-75.23096354799996, 39.89229540400004, -75.18891780399997, 39.933490204000066], &quot;geometry&quot;: {&quot;coordinates&quot;: [[[-75.19420020799998, 39.92592351800005], [-75.19530665699995, 39.92081957400007], [-75.18891780399997, 39.922033099000025], [-75.19047873099998, 39.914611560000026], [-75.19127822899998, 39.91108995800005], [-75.19213483499992, 39.906673678000054], [-75.19352444099995, 39.900639365000075], [-75.19314372699993, 39.89904036700006], [-75.19190640699998, 39.89766979800004], [-75.19012045999995, 39.89684410800004], [-75.19031708599992, 39.89680686200006], [-75.19243004699996, 39.895893149000074], [-75.19402904499997, 39.89503654300005], [-75.19712139899997, 39.89264946300005], [-75.19723863299998, 39.892558966000024], [-75.19728414799992, 39.89252383200005], [-75.20833436499998, 39.89555050600007], [-75.21233185899996, 39.89766346800007], [-75.22421012799998, 39.89229540400004], [-75.22706548199994, 39.89309490200003], [-75.23066322699998, 39.89332333100003], [-75.23096354799996, 39.89329602900005], [-75.22946397799996, 39.89463679300007], [-75.22592333999994, 39.898577181000064], [-75.22478119899995, 39.90246046100004], [-75.22620887599999, 39.90405945900006], [-75.22786497999994, 39.907314561000085], [-75.22992083499997, 39.91051255700006], [-75.23032058399997, 39.91114073500006], [-75.22725092099995, 39.913217196000055], [-75.21764979599999, 39.927279810000066], [-75.21258154399999, 39.92531675500005], [-75.21176062999994, 39.92831487600006], [-75.20755830499996, 39.93322888500006], [-75.20733483199994, 39.933490204000066], [-75.20732961099998, 39.93348878000006], [-75.20654960999995, 39.93327605200006], [-75.19673433299994, 39.92867179500007], [-75.19420020799998, 39.92592351800005]]], &quot;type&quot;: &quot;Polygon&quot;}, &quot;id&quot;: &quot;44&quot;, &quot;properties&quot;: {&quot;N&quot;: null, &quot;Name&quot;: &quot;INDUSTRIAL&quot;, &quot;__folium_color&quot;: &quot;#1b9e77&quot;, &quot;label&quot;: -1.0, &quot;neighborhood&quot;: null, &quot;overall_satisfaction&quot;: null, &quot;price_per_person&quot;: null}, &quot;type&quot;: &quot;Feature&quot;}, {&quot;bbox&quot;: [-75.16144769199997, 39.93517931100006, -75.15229313999997, 39.94297657600004], &quot;geometry&quot;: {&quot;coordinates&quot;: [[[-75.15864630099998, 39.94276891200008], [-75.15757235399995, 39.94261314800008], [-75.15592521599994, 39.942374250000064], [-75.15552920699997, 39.94231681400004], [-75.15395745099994, 39.94215501600008], [-75.15229313999997, 39.94198369000002], [-75.15229784299997, 39.941963145000045], [-75.15385078399997, 39.93517931100006], [-75.15533884999996, 39.93560673400004], [-75.15967187799997, 39.936731978000076], [-75.15986364099994, 39.93678177700007], [-75.15994217099995, 39.93680217000008], [-75.16144314799998, 39.937191959000074], [-75.16144769199997, 39.937193139000044], [-75.16024810799996, 39.94297657600004], [-75.15864630099998, 39.94276891200008]]], &quot;type&quot;: &quot;Polygon&quot;}, &quot;id&quot;: &quot;45&quot;, &quot;properties&quot;: {&quot;N&quot;: 204.0, &quot;Name&quot;: &quot;BELLA_VISTA&quot;, &quot;__folium_color&quot;: &quot;#d95f02&quot;, &quot;label&quot;: 0.0, &quot;neighborhood&quot;: &quot;BELLA_VISTA&quot;, &quot;overall_satisfaction&quot;: 3.158333333333333, &quot;price_per_person&quot;: 87.40792031098154}, &quot;type&quot;: &quot;Feature&quot;}, {&quot;bbox&quot;: [-75.05782036899994, 40.007217000000004, -75.02575901199998, 40.036840521000045], &quot;geometry&quot;: {&quot;coordinates&quot;: [[[-75.049902, 40.007217000000004], [-75.05614284899997, 40.013962004000064], [-75.04857616299995, 40.01774534700007], [-75.05782036899994, 40.028631381000025], [-75.05610715699999, 40.02948798700004], [-75.05482224799994, 40.030701512000064], [-75.05346595499998, 40.031629502000044], [-75.04950415299999, 40.032771643000046], [-75.04771955699994, 40.03334271400007], [-75.04618480499994, 40.03402086000005], [-75.04418605699993, 40.03509161700004], [-75.04215161799993, 40.036198067000036], [-75.04052763599998, 40.036840521000045], [-75.03695844499998, 40.03248610800006], [-75.03392463199997, 40.028631381000025], [-75.03274679899994, 40.027132320000085], [-75.03035543999992, 40.02413419900006], [-75.02575901199998, 40.01745990500007], [-75.0275, 40.017079], [-75.0298, 40.016419], [-75.03058299999998, 40.016194], [-75.030938, 40.016092], [-75.031371, 40.015976], [-75.03421599999999, 40.01521900000001], [-75.038287, 40.01383100000001], [-75.03838856499992, 40.013791887000025], [-75.04296999999998, 40.01199799999999], [-75.04305, 40.01196399999999], [-75.04322899999998, 40.011889], [-75.04487799999998, 40.011196], [-75.04709, 40.009941], [-75.049902, 40.007217000000004]]], &quot;type&quot;: &quot;Polygon&quot;}, &quot;id&quot;: &quot;46&quot;, &quot;properties&quot;: {&quot;N&quot;: 11.0, &quot;Name&quot;: &quot;TACONY&quot;, &quot;__folium_color&quot;: &quot;#e7298a&quot;, &quot;label&quot;: 1.0, &quot;neighborhood&quot;: &quot;TACONY&quot;, &quot;overall_satisfaction&quot;: 0.6666666666666666, &quot;price_per_person&quot;: 50.78125}, &quot;type&quot;: &quot;Feature&quot;}, {&quot;bbox&quot;: [-74.99441493199998, 40.071913247000055, -74.97155861599998, 40.09377139500003], &quot;geometry&quot;: {&quot;coordinates&quot;: [[[-74.98110059699997, 40.072139825000086], [-74.98113884999998, 40.071913247000055], [-74.98499226599995, 40.07448286200003], [-74.98775244099993, 40.07576777000003], [-74.98832351199995, 40.07638643000007], [-74.99041743799994, 40.078289999000056], [-74.99441493199998, 40.08166883400003], [-74.99222582799995, 40.08295374300007], [-74.98813315499994, 40.08514284700004], [-74.98661029999992, 40.08638016700007], [-74.98499226599995, 40.089235520000045], [-74.98437201399996, 40.08998805200007], [-74.97998190799996, 40.09377139500003], [-74.97155861599998, 40.08723977400007], [-74.97213632099994, 40.08649929300003], [-74.97367667899994, 40.08452492000004], [-74.97567542599997, 40.08199079400004], [-74.97731725399994, 40.080420350000054], [-74.97813816799999, 40.078528678000055], [-74.97967292099997, 40.074959487000065], [-74.98110059699997, 40.072139825000086]]], &quot;type&quot;: &quot;Polygon&quot;}, &quot;id&quot;: &quot;47&quot;, &quot;properties&quot;: {&quot;N&quot;: null, &quot;Name&quot;: &quot;MODENA&quot;, &quot;__folium_color&quot;: &quot;#1b9e77&quot;, &quot;label&quot;: -1.0, &quot;neighborhood&quot;: null, &quot;overall_satisfaction&quot;: null, &quot;price_per_person&quot;: null}, &quot;type&quot;: &quot;Feature&quot;}, {&quot;bbox&quot;: [-75.17534555199995, 39.984680679000064, -75.15453922799998, 39.99607587400005], &quot;geometry&quot;: {&quot;coordinates&quot;: [[[-75.15654780999989, 39.98468983600004], [-75.16529439199995, 39.98583577900008], [-75.17534555199995, 39.98721206400006], [-75.17474085199994, 39.98774776000004], [-75.17369388899992, 39.988604366000054], [-75.17164755199997, 39.98962753500007], [-75.17043402699994, 39.989508562000026], [-75.16931568099994, 39.99026998900007], [-75.16731693299994, 39.99126936300007], [-75.16360497399995, 39.99314913700005], [-75.16312908199995, 39.99336328800006], [-75.15989301499997, 39.99457681300004], [-75.15787253899997, 39.99534826800004], [-75.15596690399995, 39.99607587400005], [-75.15453922799998, 39.994005743000066], [-75.15653969199995, 39.984680679000064], [-75.15654780999989, 39.98468983600004]]], &quot;type&quot;: &quot;Polygon&quot;}, &quot;id&quot;: &quot;48&quot;, &quot;properties&quot;: {&quot;N&quot;: 27.0, &quot;Name&quot;: &quot;STANTON&quot;, &quot;__folium_color&quot;: &quot;#e7298a&quot;, &quot;label&quot;: 1.0, &quot;neighborhood&quot;: &quot;STANTON&quot;, &quot;overall_satisfaction&quot;: 1.25, &quot;price_per_person&quot;: 77.95666666666666}, &quot;type&quot;: &quot;Feature&quot;}, {&quot;bbox&quot;: [-75.18986026399995, 39.97383949400007, -75.17434617799995, 39.98721206400006], &quot;geometry&quot;: {&quot;coordinates&quot;: [[[-75.17434617799995, 39.98702170800004], [-75.17444803199999, 39.98655881100006], [-75.17455562499998, 39.98606982800004], [-75.17598512699993, 39.97957313800004], [-75.17596421199993, 39.97962158400003], [-75.17708255899997, 39.974339180000065], [-75.17789157499999, 39.97424400200003], [-75.17786778099997, 39.97383949400007], [-75.18729146399994, 39.97507625900005], [-75.18814705199996, 39.97664725800008], [-75.18890847999995, 39.977004177000026], [-75.18969370199994, 39.97719453400003], [-75.18986026399995, 39.97795596100008], [-75.18976508599997, 39.97821770200005], [-75.18919401499994, 39.978812567000034], [-75.18719526799997, 39.97964537800004], [-75.18560102899993, 39.98076372500004], [-75.18376884399999, 39.98200104500007], [-75.18160353399996, 39.98340492700003], [-75.17889094899994, 39.98523711200006], [-75.17777260199993, 39.98597474500008], [-75.17596421199993, 39.98687894000006], [-75.17534555199995, 39.98721206400006], [-75.17434617799995, 39.98702170800004]]], &quot;type&quot;: &quot;Polygon&quot;}, &quot;id&quot;: &quot;49&quot;, &quot;properties&quot;: {&quot;N&quot;: 142.0, &quot;Name&quot;: &quot;BREWERYTOWN&quot;, &quot;__folium_color&quot;: &quot;#d95f02&quot;, &quot;label&quot;: 0.0, &quot;neighborhood&quot;: &quot;BREWERYTOWN&quot;, &quot;overall_satisfaction&quot;: 1.943181818181818, &quot;price_per_person&quot;: 71.78818770226538}, &quot;type&quot;: &quot;Feature&quot;}, {&quot;bbox&quot;: [-75.17218339599998, 40.03592010700003, -75.15754895599996, 40.05915050700003], &quot;geometry&quot;: {&quot;coordinates&quot;: [[[-75.15847588699994, 40.03620564200003], [-75.15881852999995, 40.03592010700003], [-75.16203080199995, 40.03623419600007], [-75.16497181599993, 40.03653400800005], [-75.16981163999998, 40.036933757000035], [-75.17072535299997, 40.03707652500003], [-75.17142491399993, 40.03731923000004], [-75.17176755699994, 40.03766187300005], [-75.17196743099998, 40.03799023800008], [-75.17209592199998, 40.038404264000064], [-75.17199598499995, 40.03901816500008], [-75.17145346799998, 40.03974628000004], [-75.17076818299995, 40.04060288600005], [-75.17031132599999, 40.04135955500004], [-75.16995440699998, 40.04237320500004], [-75.16948327399994, 40.043415409000026], [-75.16941188999992, 40.04474314800006], [-75.16951182799994, 40.04608516500007], [-75.16992585399998, 40.04735579700009], [-75.17082528999998, 40.04969718600006], [-75.17142491399993, 40.05101064900003], [-75.17218339599998, 40.05185533500003], [-75.16795398599999, 40.05601038200007], [-75.16707952099993, 40.05686947100002], [-75.16475766099995, 40.05915050700003], [-75.16101108099997, 40.057042857000056], [-75.16081474599997, 40.05693240800009], [-75.16038207799993, 40.05668900900002], [-75.16037484199995, 40.05668493800004], [-75.15776799499997, 40.055218448000055], [-75.15754895599996, 40.05511255500006], [-75.15772112199994, 40.05248127500004], [-75.15817797899996, 40.04507639200006], [-75.15834929999994, 40.04153575400006], [-75.15835256999998, 40.04145020300007], [-75.15837807299994, 40.040782868000065], [-75.15846351399995, 40.03854715100004], [-75.15848856299993, 40.03778315600004], [-75.15834739599995, 40.03670532900003], [-75.15847588699994, 40.03620564200003]]], &quot;type&quot;: &quot;Polygon&quot;}, &quot;id&quot;: &quot;50&quot;, &quot;properties&quot;: {&quot;N&quot;: 12.0, &quot;Name&quot;: &quot;GERMANTOWN_EAST&quot;, &quot;__folium_color&quot;: &quot;#d95f02&quot;, &quot;label&quot;: 0.0, &quot;neighborhood&quot;: &quot;GERMANTOWN_EAST&quot;, &quot;overall_satisfaction&quot;: 3.75, &quot;price_per_person&quot;: 86.875}, &quot;type&quot;: &quot;Feature&quot;}, {&quot;bbox&quot;: [-75.13674114199995, 39.96102784100003, -75.11346406399997, 39.98475670300007], &quot;geometry&quot;: {&quot;coordinates&quot;: [[[-75.11749725099996, 39.981589437000025], [-75.11346406399997, 39.97702087200003], [-75.11817539699996, 39.97420121000005], [-75.114286, 39.967743999999996], [-75.118206, 39.965941], [-75.118903, 39.965552], [-75.118958, 39.965535], [-75.119491, 39.96537200000001], [-75.12330379899998, 39.963058670000066], [-75.12356186599997, 39.96290178100003], [-75.123821, 39.96274400000001], [-75.12390999999998, 39.962701], [-75.125421, 39.96195999999999], [-75.12570099999999, 39.961822999999995], [-75.12689861499996, 39.96104481200007], [-75.12692473299995, 39.96102784100003], [-75.13031659699999, 39.96634898900004], [-75.13183350299992, 39.965813610000055], [-75.13263657199997, 39.96733051700004], [-75.13445091099999, 39.96709257100007], [-75.13674114199995, 39.967300773000034], [-75.13627805699997, 39.96878264400004], [-75.13624432599994, 39.96889058500006], [-75.13436168099996, 39.97491504900005], [-75.13434120299996, 39.97499695700003], [-75.13418322099993, 39.97562888700003], [-75.13320169399998, 39.980120120000045], [-75.13049505699995, 39.97857347000008], [-75.12758021699995, 39.981399080000074], [-75.12481409299994, 39.98249958100006], [-75.12025206099997, 39.98475670300007], [-75.12020983599996, 39.984730325000044], [-75.11749725099996, 39.981589437000025]]], &quot;type&quot;: &quot;Polygon&quot;}, &quot;id&quot;: &quot;51&quot;, &quot;properties&quot;: {&quot;N&quot;: 477.0, &quot;Name&quot;: &quot;FISHTOWN&quot;, &quot;__folium_color&quot;: &quot;#666666&quot;, &quot;label&quot;: 4.0, &quot;neighborhood&quot;: &quot;FISHTOWN&quot;, &quot;overall_satisfaction&quot;: 2.963815789473684, &quot;price_per_person&quot;: 59.28346785041703}, &quot;type&quot;: &quot;Feature&quot;}, {&quot;bbox&quot;: [-75.19047873099998, 39.912301568000025, -75.17022557799999, 39.92428971000004], &quot;geometry&quot;: {&quot;coordinates&quot;: [[[-75.18688217499994, 39.92237336200003], [-75.17632447499994, 39.92428971000004], [-75.17635410199995, 39.92415395000005], [-75.17665882099999, 39.922757645000054], [-75.17022557799999, 39.92189245000003], [-75.17024378199993, 39.92180295400004], [-75.17127107699996, 39.91675248000008], [-75.17225027699999, 39.912301568000025], [-75.18147484999997, 39.91345038300005], [-75.19047873099998, 39.914611560000026], [-75.18891780399997, 39.922033099000025], [-75.18688217499994, 39.92237336200003]]], &quot;type&quot;: &quot;Polygon&quot;}, &quot;id&quot;: &quot;52&quot;, &quot;properties&quot;: {&quot;N&quot;: 78.0, &quot;Name&quot;: &quot;GIRARD_ESTATES&quot;, &quot;__folium_color&quot;: &quot;#d95f02&quot;, &quot;label&quot;: 0.0, &quot;neighborhood&quot;: &quot;GIRARD_ESTATES&quot;, &quot;overall_satisfaction&quot;: 2.875, &quot;price_per_person&quot;: 90.46111111111112}, &quot;type&quot;: &quot;Feature&quot;}, {&quot;bbox&quot;: [-75.247028, 39.92894386200003, -75.21526094199997, 39.947940405000054], &quot;geometry&quot;: {&quot;coordinates&quot;: [[[-75.22732246299995, 39.934690260000025], [-75.23556729599994, 39.92894386200003], [-75.23867249199998, 39.92962200800008], [-75.239172179, 39.92994323600005], [-75.24302690599995, 39.93051430600008], [-75.244274, 39.930486], [-75.244131, 39.93056300000001], [-75.24394899999999, 39.93065300000001], [-75.24381299999999, 39.93073], [-75.243694, 39.93082100000001], [-75.24364299999999, 39.93089700000001], [-75.24363905799997, 39.93090291200007], [-75.243635, 39.93090900000001], [-75.24360399999999, 39.931078], [-75.24355699999998, 39.931194], [-75.243515, 39.931335000000004], [-75.24347399999999, 39.931461], [-75.243434, 39.93156799999999], [-75.243418, 39.931675999999996], [-75.24340199999999, 39.93176899999999], [-75.24340052799992, 39.93179697100004], [-75.243399, 39.93182600000001], [-75.243343, 39.931895], [-75.243279, 39.93196], [-75.24318399999999, 39.932013999999995], [-75.24310299999999, 39.932064], [-75.243048, 39.932152], [-75.24293400000002, 39.932272], [-75.24284299999998, 39.932411], [-75.24272100000002, 39.932577], [-75.242623, 39.93274], [-75.24252899999999, 39.932836999999985], [-75.24245299999998, 39.932919999999996], [-75.24241151299996, 39.93296787000002], [-75.242349, 39.933040000000005], [-75.24228599999998, 39.933137], [-75.242238, 39.933235], [-75.242168, 39.933323], [-75.242124, 39.933369], [-75.242012, 39.933431999999996], [-75.241889, 39.93347200000001], [-75.241845, 39.933477999999994], [-75.241775, 39.93348799999999], [-75.241717, 39.933496], [-75.241557, 39.933511], [-75.24139699999999, 39.933541000000005], [-75.241188, 39.933574], [-75.240972, 39.933607], [-75.240759, 39.933616], [-75.240714, 39.93361099999999], [-75.240515, 39.933587], [-75.24046, 39.933574], [-75.240303, 39.93353499999999], [-75.240243, 39.933519999999994], [-75.240161, 39.933492], [-75.239988, 39.93343399999999], [-75.239903, 39.933405], [-75.239611, 39.933323], [-75.239419, 39.933229000000004], [-75.239284, 39.933132], [-75.23911099999998, 39.933006], [-75.23885399999999, 39.932821999999994], [-75.238652, 39.93270499999999], [-75.238494, 39.932640000000006], [-75.23831299999999, 39.93260300000001], [-75.23812599999998, 39.932562], [-75.23799690299995, 39.932531193000045], [-75.23795, 39.93252], [-75.237786, 39.932488000000006], [-75.23755799999999, 39.932521], [-75.237435, 39.93255599999999], [-75.237322, 39.932618999999995], [-75.23721699999999, 39.93269200000001], [-75.237148732, 39.93277093400007], [-75.237121, 39.932803], [-75.237013, 39.932923], [-75.23690899999998, 39.933071], [-75.23679, 39.933257], [-75.23671699999998, 39.933405], [-75.236656, 39.933544999999995], [-75.23664199999999, 39.93376299999999], [-75.23664199999999, 39.933789], [-75.23664699999999, 39.93389700000001], [-75.236649, 39.933935], [-75.236661, 39.934086], [-75.236655, 39.934142], [-75.23665099999998, 39.93420299999999], [-75.236603, 39.93434299999999], [-75.23655199999999, 39.93454], [-75.23652199999998, 39.93468], [-75.236467, 39.934847999999995], [-75.236392, 39.935171], [-75.236318, 39.935325], [-75.23616999999999, 39.93540599999999], [-75.23601299999999, 39.93551599999999], [-75.235861, 39.935616], [-75.235663, 39.93571], [-75.235623, 39.935732], [-75.235458, 39.935823], [-75.235263, 39.93596], [-75.234979, 39.936222], [-75.23491999999999, 39.936333], [-75.23492099999999, 39.936451], [-75.234915, 39.936592], [-75.23484499999999, 39.93668], [-75.23477299999999, 39.936753], [-75.23474199999998, 39.936884], [-75.234787, 39.937040999999994], [-75.23478, 39.937186], [-75.2348, 39.937337], [-75.23486799999999, 39.937456], [-75.23491999999999, 39.937551], [-75.234968, 39.93775], [-75.23498199999999, 39.938023], [-75.23500299999999, 39.938127], [-75.23507199999999, 39.93820399999999], [-75.235162, 39.93827099999999], [-75.235294, 39.938321], [-75.235489, 39.938359], [-75.23578, 39.93839299999999], [-75.235945, 39.938411], [-75.236145, 39.938429], [-75.236346, 39.938457], [-75.236498, 39.93846099999999], [-75.23668199999999, 39.938446], [-75.236878, 39.938431], [-75.237144, 39.93838099999999], [-75.237447, 39.938322], [-75.237621, 39.93827400000001], [-75.237769, 39.93824899999999], [-75.237964, 39.938224999999996], [-75.238172, 39.93822899999999], [-75.238326, 39.938222999999994], [-75.23849799999999, 39.938203], [-75.238736, 39.938179999999996], [-75.23887099999999, 39.938154999999995], [-75.23900599999999, 39.938139], [-75.239183, 39.938148], [-75.239336, 39.938156000000006], [-75.239428, 39.938154], [-75.23945099999999, 39.938154], [-75.239562, 39.93814700000001], [-75.23970899999999, 39.93815], [-75.239819, 39.93815699999999], [-75.23985299999998, 39.938163], [-75.239922, 39.938173], [-75.24003599999999, 39.938209], [-75.24013799999999, 39.93824899999999], [-75.240258, 39.938336], [-75.24040899999999, 39.938457], [-75.24059099999998, 39.938635], [-75.240711, 39.938727], [-75.240763, 39.93879400000001], [-75.24076, 39.93886899999999], [-75.240738, 39.938967], [-75.240697, 39.939074999999995], [-75.240626, 39.939190999999994], [-75.240543, 39.939283], [-75.24042400000002, 39.939373999999994], [-75.240342, 39.939462], [-75.24024, 39.93956800000001], [-75.240143, 39.939707], [-75.24001599999998, 39.93984], [-75.23994, 39.939977], [-75.239903, 39.940035], [-75.23987899999999, 39.940072], [-75.239836, 39.940121], [-75.239796, 39.94016499999999], [-75.23963599999999, 39.940302], [-75.239527, 39.940432], [-75.239411, 39.940608], [-75.239398, 39.94074400000001], [-75.239431, 39.940889999999996], [-75.23946099999999, 39.94102699999999], [-75.23949399999998, 39.94116], [-75.23956099999998, 39.941298], [-75.239631, 39.941421000000005], [-75.23973499999998, 39.94159299999999], [-75.23984499999999, 39.941727], [-75.239985, 39.94189], [-75.24007400000002, 39.94199499999999], [-75.240149, 39.942086], [-75.240251, 39.94214], [-75.24036699999999, 39.942171], [-75.240519, 39.94218799999999], [-75.240789, 39.942223], [-75.240953, 39.942245], [-75.241179, 39.942264], [-75.2414, 39.94227299999999], [-75.24144699999998, 39.942275], [-75.241582, 39.94225399999999], [-75.241828, 39.942241], [-75.242035, 39.94223999999999], [-75.24229100000001, 39.942246], [-75.24260899999999, 39.942266999999994], [-75.242966, 39.942279000000006], [-75.243066, 39.942282], [-75.243175, 39.942308000000004], [-75.243333, 39.94233], [-75.243364, 39.942355], [-75.24341500000001, 39.942396], [-75.24341949999996, 39.94240050000008], [-75.243424, 39.942404999999994], [-75.24353099999999, 39.94244200000001], [-75.243843, 39.942477], [-75.244068, 39.94250100000001], [-75.24441000000002, 39.942551], [-75.24465899999998, 39.942589], [-75.245012, 39.942597], [-75.24522599999999, 39.942616], [-75.24540799999998, 39.94261], [-75.245561, 39.942609], [-75.24574, 39.942604], [-75.24588499999999, 39.942597], [-75.246051, 39.942606], [-75.24619, 39.942613], [-75.24634799999998, 39.94264499999999], [-75.246469, 39.942667], [-75.246566, 39.942702], [-75.246661, 39.94276500000001], [-75.246743, 39.942856], [-75.24682199999998, 39.94297000000001], [-75.24684648499994, 39.94304884300004], [-75.246872, 39.943131], [-75.246964, 39.943265], [-75.24697799999998, 39.94329200000001], [-75.247021, 39.94337899999999], [-75.247028, 39.943414], [-75.24646584, 39.943598501000054], [-75.24037905799996, 39.94587089900006], [-75.23772116399992, 39.946337552000045], [-75.23388649199994, 39.947291148000026], [-75.23151264699999, 39.947940405000054], [-75.22745479299994, 39.947818669000064], [-75.22481718799997, 39.94550569200004], [-75.21566672699997, 39.94345647600006], [-75.21526094199997, 39.943111558000055], [-75.22732246299995, 39.934690260000025]]], &quot;type&quot;: &quot;Polygon&quot;}, &quot;id&quot;: &quot;53&quot;, &quot;properties&quot;: {&quot;N&quot;: null, &quot;Name&quot;: &quot;KINGESESSING&quot;, &quot;__folium_color&quot;: &quot;#1b9e77&quot;, &quot;label&quot;: -1.0, &quot;neighborhood&quot;: null, &quot;overall_satisfaction&quot;: null, &quot;price_per_person&quot;: null}, &quot;type&quot;: &quot;Feature&quot;}, {&quot;bbox&quot;: [-75.04036439699996, 40.056605961000066, -75.01302231699998, 40.08104660500004], &quot;geometry&quot;: {&quot;coordinates&quot;: [[[-75.01302231699998, 40.07210340100005], [-75.01873302399997, 40.06629751600007], [-75.02030346799995, 40.06453671500003], [-75.02211185799996, 40.06329939500006], [-75.02208833699996, 40.06325542100006], [-75.02258774999996, 40.06225243200003], [-75.02568104999995, 40.05958743600006], [-75.02739426199997, 40.057826634000044], [-75.02838738299992, 40.056605961000066], [-75.03139175599995, 40.056684493000034], [-75.03422538799997, 40.05738286500008], [-75.03383277699999, 40.057953936000054], [-75.03422538799997, 40.058239471000036], [-75.03429677199995, 40.05856069800006], [-75.03440384699996, 40.058917617000084], [-75.03336878199995, 40.061166208000024], [-75.03386846899997, 40.06423571300007], [-75.03418969599994, 40.06480678300005], [-75.03497491799999, 40.06544923800004], [-75.03608136699994, 40.06637722800008], [-75.04036439699996, 40.06859012600006], [-75.03950779099995, 40.06994641900008], [-75.03497491799999, 40.07476482800006], [-75.02894298399997, 40.08104660500004], [-75.01302231699998, 40.07210340100005]]], &quot;type&quot;: &quot;Polygon&quot;}, &quot;id&quot;: &quot;54&quot;, &quot;properties&quot;: {&quot;N&quot;: 12.0, &quot;Name&quot;: &quot;PENNYPACK&quot;, &quot;__folium_color&quot;: &quot;#e7298a&quot;, &quot;label&quot;: 1.0, &quot;neighborhood&quot;: &quot;PENNYPACK&quot;, &quot;overall_satisfaction&quot;: 1.0, &quot;price_per_person&quot;: 151.7891666666667}, &quot;type&quot;: &quot;Feature&quot;}, {&quot;bbox&quot;: [-75.15110071899993, 39.89282100300005, -75.128253, 39.960459823000065], &quot;geometry&quot;: {&quot;coordinates&quot;: [[[-75.135429, 39.893009], [-75.13554434299992, 39.89282100300005], [-75.13704283599999, 39.893081026000054], [-75.13705321599997, 39.89308282700005], [-75.15110071899993, 39.89552039000005], [-75.14880024999995, 39.911083628000036], [-75.14827642199998, 39.91367657800003], [-75.14825491899994, 39.91378301700007], [-75.14765810899995, 39.916737227000056], [-75.14817207199995, 39.92062050700007], [-75.14795148399998, 39.92162076000006], [-75.14532465099994, 39.93353209000002], [-75.14530743099994, 39.933610172000044], [-75.14485986299997, 39.93563966500005], [-75.14385322099997, 39.938268120000025], [-75.14383193599997, 39.93832369700004], [-75.14352850699997, 39.94080169400008], [-75.14352165299992, 39.94085767000007], [-75.14348929299996, 39.94112194300004], [-75.14239861699997, 39.94643899000004], [-75.14238264399995, 39.946516860000024], [-75.14211872399994, 39.94780347000005], [-75.14109079699995, 39.95242914200003], [-75.14129186099996, 39.95549269800006], [-75.14034007699996, 39.95552244100002], [-75.13891239999998, 39.960459823000065], [-75.13715754699996, 39.96022187700003], [-75.13139536099999, 39.95773378300004], [-75.13177699999999, 39.957319], [-75.13369799999998, 39.95462], [-75.13376, 39.95446], [-75.13385499999998, 39.95421700000001], [-75.13427, 39.953154999999995], [-75.13430699999999, 39.953058999999996], [-75.13437, 39.952898], [-75.13438599999999, 39.952857], [-75.13442999999998, 39.952747], [-75.13443199999999, 39.952740999999996], [-75.134636, 39.95221699999999], [-75.135239, 39.950677], [-75.135436, 39.949404], [-75.13560599999998, 39.948311999999994], [-75.135816, 39.94696799999999], [-75.13595441699994, 39.94606191000002], [-75.13595628499995, 39.94604691700005], [-75.13600257099995, 39.94564095100003], [-75.13600426699998, 39.94562591400007], [-75.13608235599997, 39.94493077900007], [-75.13608404499995, 39.944915740000056], [-75.13609289099998, 39.94483699400007], [-75.13609457999996, 39.944821955000066], [-75.13626703399996, 39.94328189100003], [-75.13626763199994, 39.94327004900003], [-75.136257, 39.942924999999995], [-75.13625704099996, 39.94291001500006], [-75.13626498799994, 39.940477808000026], [-75.13622099999999, 39.939764], [-75.136204, 39.938663], [-75.13620414999997, 39.93865744800007], [-75.13620432799996, 39.93864778000005], [-75.13622976599999, 39.93769699400008], [-75.13622975799994, 39.937690755000055], [-75.136195, 39.936793], [-75.136177, 39.93654800000001], [-75.13617717199998, 39.936533977000074], [-75.13618585699997, 39.935895251000034], [-75.13606199999998, 39.934495], [-75.13606217199998, 39.93448078100005], [-75.13607094799995, 39.93382899900007], [-75.13607211299994, 39.93381388100005], [-75.13608862899997, 39.93364596400005], [-75.13609004499993, 39.93363086800008], [-75.13615020499998, 39.932973926000045], [-75.13615009999995, 39.932968523000056], [-75.13607099999999, 39.932486999999995], [-75.136001, 39.93205], [-75.135539, 39.929237], [-75.135527, 39.92916], [-75.13498072999992, 39.927593911000024], [-75.134896, 39.92735099999999], [-75.13477799999998, 39.927009], [-75.13448399999999, 39.92616799999999], [-75.13430099999998, 39.925781], [-75.13275499999999, 39.92253099999999], [-75.13243299999999, 39.92185099999999], [-75.132376, 39.921733], [-75.13234399999999, 39.921666], [-75.13163099999998, 39.920143], [-75.131187, 39.919192], [-75.13035, 39.917404000000005], [-75.13012000000002, 39.917049000000006], [-75.129342, 39.91589999999999], [-75.12887, 39.914781], [-75.12882099999999, 39.914666000000004], [-75.128601, 39.913989], [-75.128253, 39.913163999999995], [-75.12825364699994, 39.91314907900005], [-75.12838080099992, 39.910716990000026], [-75.128462, 39.910288], [-75.12846271499994, 39.91027281600004], [-75.12853676099996, 39.90909498500003], [-75.128673, 39.908632], [-75.12888547599994, 39.90744598400005], [-75.12890199999998, 39.907405999999995], [-75.128927, 39.907338], [-75.129247, 39.906468], [-75.129515, 39.905302], [-75.129544, 39.905224000000004], [-75.12955999999998, 39.90518], [-75.129584, 39.90506599999999], [-75.129634, 39.90482599999999], [-75.129734, 39.903940999999996], [-75.129911, 39.903378], [-75.130055, 39.90238999999999], [-75.130724, 39.90055499999999], [-75.13136299999998, 39.899138], [-75.13191899999998, 39.898288], [-75.13199499999999, 39.898188], [-75.13321140699998, 39.89657843300006], [-75.134696, 39.894614], [-75.13539999999999, 39.893057000000006], [-75.135429, 39.893009]]], &quot;type&quot;: &quot;Polygon&quot;}, &quot;id&quot;: &quot;55&quot;, &quot;properties&quot;: {&quot;N&quot;: 58.0, &quot;Name&quot;: &quot;RIVERFRONT&quot;, &quot;__folium_color&quot;: &quot;#d95f02&quot;, &quot;label&quot;: 0.0, &quot;neighborhood&quot;: &quot;RIVERFRONT&quot;, &quot;overall_satisfaction&quot;: 2.8409090909090917, &quot;price_per_person&quot;: 138.6260162601626}, &quot;type&quot;: &quot;Feature&quot;}, {&quot;bbox&quot;: [-75.03640259499997, 40.05042294200006, -75.02280397499999, 40.05752563300007], &quot;geometry&quot;: {&quot;coordinates&quot;: [[[-75.03422538799997, 40.05738286500008], [-75.03139175599995, 40.056684493000034], [-75.02838738299992, 40.056605961000066], [-75.02844122399995, 40.05654172600003], [-75.02468167599994, 40.05644654700007], [-75.02439614099995, 40.05644654700007], [-75.02355350499992, 40.05545550200003], [-75.02483841399997, 40.05334967900007], [-75.02280397499999, 40.05252876500003], [-75.02408888399998, 40.05095832000006], [-75.02523102499998, 40.05042294200006], [-75.02701562099996, 40.05092262800008], [-75.03015650899994, 40.05135093100006], [-75.03151280199995, 40.05138662300004], [-75.03236940799997, 40.05260014800007], [-75.03361862499997, 40.05220753700007], [-75.03490353399997, 40.05117247200007], [-75.03586721599997, 40.05142231500002], [-75.03618844299996, 40.05206477000008], [-75.03590290799997, 40.05277860800004], [-75.03640259499997, 40.053670906000036], [-75.03629551899995, 40.05467027900006], [-75.03451092299996, 40.05752563300007], [-75.03422538799997, 40.05738286500008]]], &quot;type&quot;: &quot;Polygon&quot;}, &quot;id&quot;: &quot;56&quot;, &quot;properties&quot;: {&quot;N&quot;: null, &quot;Name&quot;: &quot;WINCHESTER_PARK&quot;, &quot;__folium_color&quot;: &quot;#1b9e77&quot;, &quot;label&quot;: -1.0, &quot;neighborhood&quot;: null, &quot;overall_satisfaction&quot;: null, &quot;price_per_person&quot;: null}, &quot;type&quot;: &quot;Feature&quot;}, {&quot;bbox&quot;: [-75.24671982599995, 39.97720238600005, -75.21773799099998, 40.003924], &quot;geometry&quot;: {&quot;coordinates&quot;: [[[-75.22069599999999, 40.003924], [-75.21791644999995, 39.994227429000034], [-75.21773799099998, 39.99415604500006], [-75.21863028799999, 39.993228055000024], [-75.21870167199994, 39.99265698500005], [-75.21998658099994, 39.990301318000036], [-75.22045057599996, 39.99022993500005], [-75.22509052499998, 39.98762442500003], [-75.22559021199999, 39.986517975000034], [-75.22641112599995, 39.98252048100005], [-75.22516190899995, 39.98152110700005], [-75.22409115099998, 39.981628183000055], [-75.22586852899997, 39.97869706900008], [-75.22612559099997, 39.97827314300008], [-75.22641112599995, 39.97763068900007], [-75.22673235299999, 39.97720238600005], [-75.22719495999996, 39.97740155000002], [-75.22719634799994, 39.977416537000074], [-75.22769408299996, 39.97763409000003], [-75.22993515299999, 39.978613630000034], [-75.23021600899995, 39.97873638800007], [-75.23258582699998, 39.97977220300004], [-75.23499237299994, 39.98058310400006], [-75.23915313999998, 39.98198510200007], [-75.24136667899995, 39.98273504400003], [-75.24568475999996, 39.98419800100003], [-75.24571583799995, 39.98425372800006], [-75.24595164499993, 39.98467655300004], [-75.24671982599995, 39.98605398100005], [-75.24669391599997, 39.98606613500004], [-75.24642671799994, 39.98619147000005], [-75.24091394799994, 39.988777356000064], [-75.23979559399997, 39.989301945000086], [-75.23941352499996, 39.98967127900005], [-75.23872483699995, 39.99033701000008], [-75.23813422399996, 39.99054067000003], [-75.23768977099996, 39.99069392900004], [-75.23619071099995, 39.99101515700005], [-75.23618451499992, 39.99101808400008], [-75.23612016499999, 39.991031106000044], [-75.23369633299994, 39.99218829300003], [-75.23057761899997, 39.993656643000065], [-75.22908160599995, 39.994356347000064], [-75.22613145199995, 39.995740696000034], [-75.22600687799996, 39.99582613900003], [-75.22584005499992, 39.99590494900008], [-75.22596600499998, 39.99620582900008], [-75.22597081399994, 39.996268137000065], [-75.22612972799998, 39.99667302600005], [-75.22633817199994, 39.99709489300006], [-75.22648250999998, 39.997439701000076], [-75.22689895999996, 39.997439701000076], [-75.22694645299998, 39.997440683000036], [-75.22694220799995, 39.997521350000056], [-75.22687380799992, 39.99774022000002], [-75.22685754999998, 39.998177748000046], [-75.22703791999997, 39.99864392500006], [-75.22710252399997, 39.99872493400005], [-75.22712496399997, 39.998795994000034], [-75.22755326699995, 39.99940275700005], [-75.22834272099993, 40.000281088000065], [-75.228375, 40.000317], [-75.22754061999996, 40.000709058000034], [-75.227462, 40.000746], [-75.22723140499994, 40.00085425600002], [-75.22710636099998, 40.00091296000004], [-75.22706466499993, 40.00093253500006], [-75.22700092099994, 40.00096246100003], [-75.226414, 40.001238], [-75.22612765899997, 40.001372483000075], [-75.22609792599995, 40.00138644700007], [-75.22606308599995, 40.001402810000066], [-75.223629, 40.00254600000001], [-75.22069599999999, 40.003924]]], &quot;type&quot;: &quot;Polygon&quot;}, &quot;id&quot;: &quot;57&quot;, &quot;properties&quot;: {&quot;N&quot;: 55.0, &quot;Name&quot;: &quot;WYNNEFIELD&quot;, &quot;__folium_color&quot;: &quot;#d95f02&quot;, &quot;label&quot;: 0.0, &quot;neighborhood&quot;: &quot;WYNNEFIELD&quot;, &quot;overall_satisfaction&quot;: 2.083333333333333, &quot;price_per_person&quot;: 97.69791666666664}, &quot;type&quot;: &quot;Feature&quot;}, {&quot;bbox&quot;: [-75.22488232199998, 39.95926658800004, -75.21894291199999, 39.96491757600006], &quot;geometry&quot;: {&quot;coordinates&quot;: [[[-75.22456806699995, 39.96491757600006], [-75.21995418299996, 39.96375782000007], [-75.21950803399994, 39.96191373800007], [-75.21941880399999, 39.96084298000005], [-75.21894291199999, 39.95926658800004], [-75.22486515099996, 39.95997130100006], [-75.22488232199998, 39.95995724200002], [-75.22426695599995, 39.963192698000064], [-75.22458489799999, 39.964854397000074], [-75.22456806699995, 39.96491757600006]]], &quot;type&quot;: &quot;Polygon&quot;}, &quot;id&quot;: &quot;58&quot;, &quot;properties&quot;: {&quot;N&quot;: null, &quot;Name&quot;: &quot;DUNLAP&quot;, &quot;__folium_color&quot;: &quot;#1b9e77&quot;, &quot;label&quot;: -1.0, &quot;neighborhood&quot;: null, &quot;overall_satisfaction&quot;: null, &quot;price_per_person&quot;: null}, &quot;type&quot;: &quot;Feature&quot;}, {&quot;bbox&quot;: [-75.15389756199993, 39.99681501600003, -75.13168030099996, 40.00933890200002], &quot;geometry&quot;: {&quot;coordinates&quot;: [[[-75.13197773399996, 40.00513951800008], [-75.13336297699993, 40.00509113600003], [-75.13423082099995, 40.00490648800007], [-75.13448132299997, 40.00485319000007], [-75.13983511099997, 40.00292582700006], [-75.14009589899996, 40.00197693700005], [-75.15389756199993, 39.99681501600003], [-75.15295886899996, 40.00160732800003], [-75.15293104199996, 40.00158978100006], [-75.15130025999997, 40.00933890200002], [-75.13171004399999, 40.00671591100008], [-75.13168030099996, 40.00662668200005], [-75.13197773399996, 40.00513951800008]]], &quot;type&quot;: &quot;Polygon&quot;}, &quot;id&quot;: &quot;59&quot;, &quot;properties&quot;: {&quot;N&quot;: 12.0, &quot;Name&quot;: &quot;FRANKLINVILLE&quot;, &quot;__folium_color&quot;: &quot;#d95f02&quot;, &quot;label&quot;: 0.0, &quot;neighborhood&quot;: &quot;FRANKLINVILLE&quot;, &quot;overall_satisfaction&quot;: 2.409090909090909, &quot;price_per_person&quot;: 74.96875}, &quot;type&quot;: &quot;Feature&quot;}, {&quot;bbox&quot;: [-75.15928684699998, 39.97056257200007, -75.14917148099994, 39.98016886000005], &quot;geometry&quot;: {&quot;coordinates&quot;: [[[-75.14917148099994, 39.97907430800007], [-75.15096431499994, 39.97056257200007], [-75.15177475699994, 39.970578955000065], [-75.15262435699997, 39.970596130000054], [-75.15928684699998, 39.97147653000008], [-75.15892727099998, 39.97326842300003], [-75.15749959499992, 39.98016886000005], [-75.14917148099994, 39.97907430800007]]], &quot;type&quot;: &quot;Polygon&quot;}, &quot;id&quot;: &quot;60&quot;, &quot;properties&quot;: {&quot;N&quot;: 24.0, &quot;Name&quot;: &quot;YORKTOWN&quot;, &quot;__folium_color&quot;: &quot;#e7298a&quot;, &quot;label&quot;: 1.0, &quot;neighborhood&quot;: &quot;YORKTOWN&quot;, &quot;overall_satisfaction&quot;: 1.7, &quot;price_per_person&quot;: 99.30303030303033}, &quot;type&quot;: &quot;Feature&quot;}, {&quot;bbox&quot;: [-75.14534054899997, 39.97499695700003, -75.12549274599996, 39.99236391500006], &quot;geometry&quot;: {&quot;coordinates&quot;: [[[-75.13622308899994, 39.991499655000034], [-75.12607706699998, 39.99016715700003], [-75.12552793199995, 39.989869961000075], [-75.12549274599996, 39.98983737100008], [-75.13190198799998, 39.98630291200004], [-75.13320169399998, 39.980120120000045], [-75.13418322099993, 39.97562888700003], [-75.13434120299996, 39.97499695700003], [-75.13706002399994, 39.976052392000035], [-75.14534054899997, 39.97709935500007], [-75.14510260299993, 39.97857462100006], [-75.14504313999998, 39.97858040400006], [-75.14404580499995, 39.98377406100008], [-75.14214223599998, 39.99236391500006], [-75.13622308899994, 39.991499655000034]]], &quot;type&quot;: &quot;Polygon&quot;}, &quot;id&quot;: &quot;61&quot;, &quot;properties&quot;: {&quot;N&quot;: 54.0, &quot;Name&quot;: &quot;WEST_KENSINGTON&quot;, &quot;__folium_color&quot;: &quot;#d95f02&quot;, &quot;label&quot;: 0.0, &quot;neighborhood&quot;: &quot;WEST_KENSINGTON&quot;, &quot;overall_satisfaction&quot;: 3.119047619047618, &quot;price_per_person&quot;: 39.42228682170544}, &quot;type&quot;: &quot;Feature&quot;}, {&quot;bbox&quot;: [-75.19261088199993, 39.99564949200004, -75.16562949899998, 40.01459622300007], &quot;geometry&quot;: {&quot;coordinates&quot;: [[[-75.16592149899996, 40.00327234900003], [-75.16595667499996, 40.00324320700002], [-75.16760663899998, 39.99564949200004], [-75.18040396899995, 39.99733698800003], [-75.18770891399998, 39.99819359400005], [-75.18763752999996, 39.99859810300006], [-75.18709025399994, 40.00028752000003], [-75.18851793099996, 40.00023993100007], [-75.18916038499998, 40.00000198500003], [-75.18999319699998, 39.99976403800008], [-75.19061185699996, 39.99964506500004], [-75.19200411999998, 39.999795368000036], [-75.19154012499995, 40.003685787000045], [-75.19261088199993, 40.00646975600006], [-75.19221827099994, 40.00750482200004], [-75.19104043799994, 40.00839711900005], [-75.18905527599998, 40.00916912700007], [-75.18782816599997, 40.00964633600007], [-75.18411620699999, 40.010824170000035], [-75.17835269599993, 40.01459622300007], [-75.17089405599994, 40.006336506000025], [-75.16771152699994, 40.005265749000046], [-75.16562949899998, 40.00487908600008], [-75.16592149899996, 40.00327234900003]]], &quot;type&quot;: &quot;Polygon&quot;}, &quot;id&quot;: &quot;62&quot;, &quot;properties&quot;: {&quot;N&quot;: 23.0, &quot;Name&quot;: &quot;ALLEGHENY_WEST&quot;, &quot;__folium_color&quot;: &quot;#d95f02&quot;, &quot;label&quot;: 0.0, &quot;neighborhood&quot;: &quot;ALLEGHENY_WEST&quot;, &quot;overall_satisfaction&quot;: 4.666666666666667, &quot;price_per_person&quot;: 120.79166666666664}, &quot;type&quot;: &quot;Feature&quot;}, {&quot;bbox&quot;: [-75.21909362499999, 40.01315874200002, -75.20242615899996, 40.025993234000055], &quot;geometry&quot;: {&quot;coordinates&quot;: [[[-75.20824382799998, 40.01315874200002], [-75.208651, 40.01343800000001], [-75.21000699999999, 40.014105], [-75.210751, 40.01456], [-75.211662, 40.01511800000001], [-75.213082, 40.016239], [-75.213368, 40.016494], [-75.213849, 40.016921], [-75.214644, 40.01781600000001], [-75.214663, 40.017835], [-75.21542399999998, 40.018626], [-75.21566999999999, 40.018886], [-75.21625499999999, 40.019507], [-75.217344, 40.020423], [-75.21848799999998, 40.021258], [-75.21856299999999, 40.021313000000006], [-75.21909362499999, 40.02166054000002], [-75.21865408299993, 40.021995739000026], [-75.21761583099999, 40.02259762400007], [-75.21747074599993, 40.02268173100003], [-75.21714509199995, 40.02239497800008], [-75.21677389599995, 40.022137996000026], [-75.21482273799995, 40.02059610600002], [-75.21338144199994, 40.021282223000064], [-75.21306538699997, 40.02086636100005], [-75.21130154799992, 40.01854552100008], [-75.21063529899999, 40.019735251000036], [-75.21001663999994, 40.02044908900007], [-75.20927900699998, 40.021924355000074], [-75.20870793599995, 40.02249542600003], [-75.20825583799996, 40.02297131800003], [-75.20770856199994, 40.023827924000045], [-75.20324707299994, 40.025993234000055], [-75.20242615899996, 40.025564931000076], [-75.20310430499995, 40.02463694100005], [-75.20285446199993, 40.02438709700004], [-75.20296153799995, 40.02367325900008], [-75.20342553299997, 40.023459108000054], [-75.20424644699995, 40.02160312800004], [-75.20410367899996, 40.021388976000026], [-75.20456767399996, 40.020924982000054], [-75.20356829999996, 40.01949730500007], [-75.20346122399997, 40.018676391000035], [-75.20338984099999, 40.01817670400004], [-75.20399660299994, 40.01781978500003], [-75.20378245199997, 40.017605633000066], [-75.20431782999998, 40.01728440600004], [-75.20503166899994, 40.01724871400006], [-75.20717318399994, 40.016677644000026], [-75.20713749199996, 40.015499810000044], [-75.20824382799998, 40.01315874200002]]], &quot;type&quot;: &quot;Polygon&quot;}, &quot;id&quot;: &quot;63&quot;, &quot;properties&quot;: {&quot;N&quot;: 83.0, &quot;Name&quot;: &quot;WISSAHICKON&quot;, &quot;__folium_color&quot;: &quot;#d95f02&quot;, &quot;label&quot;: 0.0, &quot;neighborhood&quot;: &quot;WISSAHICKON&quot;, &quot;overall_satisfaction&quot;: 2.6, &quot;price_per_person&quot;: 62.73306010928961}, &quot;type&quot;: &quot;Feature&quot;}, {&quot;bbox&quot;: [-75.22598389399995, 39.95313947500006, -75.21305374599996, 39.95997130100006], &quot;geometry&quot;: {&quot;coordinates&quot;: [[[-75.21305374599996, 39.958523006000064], [-75.21415424699995, 39.95313947500006], [-75.22598389399995, 39.95458535600005], [-75.22488232199998, 39.95995724200002], [-75.22486515099996, 39.95997130100006], [-75.21894291199999, 39.95926658800004], [-75.21394604399994, 39.95861223600008], [-75.21305374599996, 39.958523006000064]]], &quot;type&quot;: &quot;Polygon&quot;}, &quot;id&quot;: &quot;64&quot;, &quot;properties&quot;: {&quot;N&quot;: 82.0, &quot;Name&quot;: &quot;WALNUT_HILL&quot;, &quot;__folium_color&quot;: &quot;#d95f02&quot;, &quot;label&quot;: 0.0, &quot;neighborhood&quot;: &quot;WALNUT_HILL&quot;, &quot;overall_satisfaction&quot;: 3.1041666666666665, &quot;price_per_person&quot;: 55.03358208955225}, &quot;type&quot;: &quot;Feature&quot;}, {&quot;bbox&quot;: [-75.16683164699997, 39.937193139000044, -75.16024810799996, 39.943672330000034], &quot;geometry&quot;: {&quot;coordinates&quot;: [[[-75.16024810799996, 39.94297657600004], [-75.16144769199997, 39.937193139000044], [-75.16147785999993, 39.93720097300007], [-75.16683164699997, 39.937843428000065], [-75.16561828399995, 39.943672330000034], [-75.16557290799994, 39.94366690200008], [-75.16024810799996, 39.94297657600004]]], &quot;type&quot;: &quot;Polygon&quot;}, &quot;id&quot;: &quot;65&quot;, &quot;properties&quot;: {&quot;N&quot;: 152.0, &quot;Name&quot;: &quot;HAWTHORNE&quot;, &quot;__folium_color&quot;: &quot;#d95f02&quot;, &quot;label&quot;: 0.0, &quot;neighborhood&quot;: &quot;HAWTHORNE&quot;, &quot;overall_satisfaction&quot;: 3.4090909090909087, &quot;price_per_person&quot;: 120.89836601307192}, &quot;type&quot;: &quot;Feature&quot;}, {&quot;bbox&quot;: [-75.22745479299994, 39.943111558000055, -75.21141786599996, 39.951998728000035], &quot;geometry&quot;: {&quot;coordinates&quot;: [[[-75.21526094199997, 39.943111558000055], [-75.21566672699997, 39.94345647600006], [-75.22481718799997, 39.94550569200004], [-75.22745479299994, 39.947818669000064], [-75.22738132899997, 39.94777068000008], [-75.22651431499997, 39.951998728000035], [-75.21468962499996, 39.95058155500005], [-75.21469409299993, 39.95054551600004], [-75.21501680099993, 39.94876721600008], [-75.21141786599996, 39.945822633000034], [-75.21526094199997, 39.943111558000055]]], &quot;type&quot;: &quot;Polygon&quot;}, &quot;id&quot;: &quot;66&quot;, &quot;properties&quot;: {&quot;N&quot;: 261.0, &quot;Name&quot;: &quot;CEDAR_PARK&quot;, &quot;__folium_color&quot;: &quot;#d95f02&quot;, &quot;label&quot;: 0.0, &quot;neighborhood&quot;: &quot;CEDAR_PARK&quot;, &quot;overall_satisfaction&quot;: 3.22, &quot;price_per_person&quot;: 39.05317109144544}, &quot;type&quot;: &quot;Feature&quot;}, {&quot;bbox&quot;: [-75.19648777399993, 40.04319622100007, -75.16475766099995, 40.07319822800008], &quot;geometry&quot;: {&quot;coordinates&quot;: [[[-75.188499, 40.07276399999999], [-75.17528677599994, 40.06528951600007], [-75.16725609499997, 40.06054249200003], [-75.16593549399994, 40.059935729000074], [-75.16475766099995, 40.05915050700003], [-75.16707952099993, 40.05686947100002], [-75.16795398599999, 40.05601038200007], [-75.17218339599998, 40.05185533500003], [-75.17221895499995, 40.05182040100004], [-75.18098790499992, 40.043206557000076], [-75.18099748299994, 40.04319622100007], [-75.181283018, 40.04355314000002], [-75.18228239199993, 40.045944499000015], [-75.18745771899995, 40.05568839100004], [-75.18845709299995, 40.05740160300007], [-75.19056291599996, 40.05950742600004], [-75.19402503199996, 40.06396891600007], [-75.19406072399993, 40.06439721900006], [-75.19613085499999, 40.06539659200008], [-75.19648777399993, 40.06657442500005], [-75.19530994099995, 40.06732395600005], [-75.19331119299993, 40.069001476000025], [-75.18926205599996, 40.07319822800008], [-75.189206, 40.07316300000001], [-75.18879411599994, 40.07293067900008], [-75.18876099999999, 40.072911999999995], [-75.188499, 40.07276399999999]]], &quot;type&quot;: &quot;Polygon&quot;}, &quot;id&quot;: &quot;67&quot;, &quot;properties&quot;: {&quot;N&quot;: 93.0, &quot;Name&quot;: &quot;MOUNT_AIRY_EAST&quot;, &quot;__folium_color&quot;: &quot;#d95f02&quot;, &quot;label&quot;: 0.0, &quot;neighborhood&quot;: &quot;MOUNT_AIRY_EAST&quot;, &quot;overall_satisfaction&quot;: 3.435483870967741, &quot;price_per_person&quot;: 47.59808558558559}, &quot;type&quot;: &quot;Feature&quot;}, {&quot;bbox&quot;: [-75.14214223599998, 39.991499655000034, -75.13379127999997, 40.00491462000007], &quot;geometry&quot;: {&quot;coordinates&quot;: [[[-75.14214223599998, 39.99236391500006], [-75.14059558599996, 39.99985921700005], [-75.14009589899996, 40.00197693700005], [-75.13983511099997, 40.00292582700006], [-75.13448132299997, 40.00485319000007], [-75.13423082099995, 40.00490648800007], [-75.13416946999996, 40.00491462000007], [-75.13379127999997, 40.00230716700002], [-75.13445752899997, 39.99914248400007], [-75.13462409099998, 39.998214494000074], [-75.13505239399996, 39.997381682000025], [-75.13534744699994, 39.99606822000004], [-75.13622308899994, 39.991499655000034], [-75.14214223599998, 39.99236391500006]]], &quot;type&quot;: &quot;Polygon&quot;}, &quot;id&quot;: &quot;68&quot;, &quot;properties&quot;: {&quot;N&quot;: null, &quot;Name&quot;: &quot;FAIRHILL&quot;, &quot;__folium_color&quot;: &quot;#1b9e77&quot;, &quot;label&quot;: -1.0, &quot;neighborhood&quot;: null, &quot;overall_satisfaction&quot;: null, &quot;price_per_person&quot;: null}, &quot;type&quot;: &quot;Feature&quot;}, {&quot;bbox&quot;: [-75.20817585099996, 39.942212118000036, -75.17932738699994, 39.96341906400005], &quot;geometry&quot;: {&quot;coordinates&quot;: [[[-75.18044518499994, 39.954525587000035], [-75.18045905999998, 39.95449269900007], [-75.18126069899995, 39.95259251700002], [-75.18274786199999, 39.95009408300007], [-75.18370722099996, 39.94937708800007], [-75.18506727699999, 39.94836062500008], [-75.18557347199999, 39.94798231100003], [-75.18760348699993, 39.94650431700006], [-75.18896420399994, 39.945513620000035], [-75.19122469199992, 39.94366953800006], [-75.19193145899997, 39.94320307200007], [-75.19271185499997, 39.94268801000004], [-75.19378261199995, 39.942212118000036], [-75.19577541099994, 39.942420321000036], [-75.19708411399995, 39.94286647000007], [-75.19970152099994, 39.94372902400005], [-75.20205123899994, 39.94384799700004], [-75.20330045599997, 39.943431592000024], [-75.20395230699994, 39.94290779300008], [-75.20526101099995, 39.944097524000036], [-75.20817585099996, 39.94576314600004], [-75.20511229499994, 39.94858875600005], [-75.20389282099994, 39.94906464800005], [-75.20396255499998, 39.949483056000076], [-75.20399499199992, 39.94967767700007], [-75.20404153699997, 39.94995694600004], [-75.20576664699995, 39.94980823000003], [-75.20573690299994, 39.95087898700006], [-75.20475537599998, 39.95593534200003], [-75.20442819999994, 39.95587585600003], [-75.20410102399995, 39.95739276200003], [-75.20190002199996, 39.95715481600007], [-75.20175130599995, 39.95786865400003], [-75.20097798099994, 39.95780916800004], [-75.20085900799994, 39.95926658800004], [-75.19612731799998, 39.95968408900006], [-75.19580265399996, 39.95971273600003], [-75.19578828299994, 39.95970523000005], [-75.19122469199992, 39.95732169500007], [-75.19086777199993, 39.95877911500003], [-75.18747703999998, 39.95883860200007], [-75.18726883799995, 39.959314494000076], [-75.18747703999998, 39.96041499500007], [-75.18712012099996, 39.960623198000064], [-75.18703089199994, 39.96166421200007], [-75.18717960799994, 39.96264573900004], [-75.18253965899999, 39.96341906400005], [-75.18033865699994, 39.96095037300005], [-75.17932738699994, 39.95877911500003], [-75.17965456199994, 39.95639965400005], [-75.18044518499994, 39.954525587000035]]], &quot;type&quot;: &quot;Polygon&quot;}, &quot;id&quot;: &quot;69&quot;, &quot;properties&quot;: {&quot;N&quot;: 326.0, &quot;Name&quot;: &quot;UNIVERSITY_CITY&quot;, &quot;__folium_color&quot;: &quot;#666666&quot;, &quot;label&quot;: 4.0, &quot;neighborhood&quot;: &quot;UNIVERSITY_CITY&quot;, &quot;overall_satisfaction&quot;: 2.231578947368421, &quot;price_per_person&quot;: 82.22806176783813}, &quot;type&quot;: &quot;Feature&quot;}, {&quot;bbox&quot;: [-75.15826944999998, 39.91378301700007, -75.14765810899995, 39.92271005600003], &quot;geometry&quot;: {&quot;coordinates&quot;: [[[-75.14765810899995, 39.916737227000056], [-75.14825491899994, 39.91378301700007], [-75.15815429799993, 39.91520583000004], [-75.15826944999998, 39.915219408000034], [-75.15659996499993, 39.92271005600003], [-75.15341702599994, 39.92230915800008], [-75.15329106099995, 39.922293292000056], [-75.14795148399998, 39.92162076000006], [-75.14817207199995, 39.92062050700007], [-75.14765810899995, 39.916737227000056]]], &quot;type&quot;: &quot;Polygon&quot;}, &quot;id&quot;: &quot;70&quot;, &quot;properties&quot;: {&quot;N&quot;: 50.0, &quot;Name&quot;: &quot;WHITMAN&quot;, &quot;__folium_color&quot;: &quot;#d95f02&quot;, &quot;label&quot;: 0.0, &quot;neighborhood&quot;: &quot;WHITMAN&quot;, &quot;overall_satisfaction&quot;: 3.4090909090909087, &quot;price_per_person&quot;: 63.38645833333334}, &quot;type&quot;: &quot;Feature&quot;}, {&quot;bbox&quot;: [-75.11285634299996, 40.014799812000035, -75.08146744199996, 40.03006645800008], &quot;geometry&quot;: {&quot;coordinates&quot;: [[[-75.08658784299996, 40.029170898000075], [-75.08146744199996, 40.026270070000066], [-75.08276567899998, 40.025091799000045], [-75.08459786399999, 40.023140640000065], [-75.08652522799997, 40.021237072000076], [-75.08785772599998, 40.01999975200005], [-75.09230731799994, 40.01528841900005], [-75.09442461499998, 40.014799812000035], [-75.09583843799997, 40.015697686000074], [-75.09779911399993, 40.01600225700003], [-75.09878896999999, 40.01640200700007], [-75.09943618299997, 40.01630682800005], [-75.10038796799994, 40.01605936500005], [-75.10202503699996, 40.01604032900008], [-75.10674588799998, 40.01640200700007], [-75.10724081499995, 40.016706578000026], [-75.10754538599997, 40.01733475600002], [-75.10743117199996, 40.01788679100008], [-75.10705045899994, 40.01824846900006], [-75.10594638899994, 40.018705325000035], [-75.10564181799997, 40.01887664600008], [-75.10535628199995, 40.01923832400007], [-75.10381439199995, 40.01900989600006], [-75.10352885599997, 40.02032335900004], [-75.10314814199994, 40.021160929000075], [-75.10341464199995, 40.021808142000054], [-75.10350982099999, 40.02228403500004], [-75.10413799799994, 40.02287414100004], [-75.10429028399994, 40.023292926000074], [-75.10484231899994, 40.02361653300006], [-75.10529917499996, 40.023502319000045], [-75.10539435399994, 40.023235819000035], [-75.10558471099995, 40.02302642600005], [-75.10609867399995, 40.02291221200005], [-75.10674588799998, 40.02312160500002], [-75.10705045899994, 40.02338810400005], [-75.10733599399998, 40.02327389000004], [-75.10762152899997, 40.02291221200005], [-75.10828777799998, 40.02264571300003], [-75.10923956299995, 40.02211271300007], [-75.11040073999999, 40.02228403500004], [-75.11108602399997, 40.02281703400007], [-75.11125734599995, 40.02317871200006], [-75.11156191699997, 40.02462542400007], [-75.11133348799996, 40.02550106600007], [-75.11175227299998, 40.025748530000044], [-75.11224720099995, 40.02584370800003], [-75.11253273699998, 40.02595792200003], [-75.11285634299996, 40.02698584900003], [-75.11270882899997, 40.027314217000026], [-75.11268241599997, 40.02737301100006], [-75.11269207999997, 40.02731986200006], [-75.11264490199994, 40.02732396400006], [-75.11200798499993, 40.02737934900006], [-75.10885519899995, 40.028212160000066], [-75.10489934499998, 40.02958035000006], [-75.10421524999998, 40.029699323000045], [-75.10373031699997, 40.02978092300003], [-75.10220746199995, 40.02949538800005], [-75.09901898399994, 40.027734587000054], [-75.09744853999995, 40.02678280200008], [-75.09616363099995, 40.02640208800006], [-75.09502148999997, 40.02635449900003], [-75.09345104599997, 40.026973159000086], [-75.09130953099996, 40.02821047900005], [-75.08816864199996, 40.03006645800008], [-75.08658784299996, 40.029170898000075]]], &quot;type&quot;: &quot;Polygon&quot;}, &quot;id&quot;: &quot;71&quot;, &quot;properties&quot;: {&quot;N&quot;: null, &quot;Name&quot;: &quot;NORTHWOOD&quot;, &quot;__folium_color&quot;: &quot;#1b9e77&quot;, &quot;label&quot;: -1.0, &quot;neighborhood&quot;: null, &quot;overall_satisfaction&quot;: null, &quot;price_per_person&quot;: null}, &quot;type&quot;: &quot;Feature&quot;}, {&quot;bbox&quot;: [-75.251647, 39.943414, -75.22488232199998, 39.96294999999999], &quot;geometry&quot;: {&quot;coordinates&quot;: [[[-75.22651431499997, 39.951998728000035], [-75.22738132899997, 39.94777068000008], [-75.22745479299994, 39.947818669000064], [-75.23151264699999, 39.947940405000054], [-75.23388649199994, 39.947291148000026], [-75.23772116399992, 39.946337552000045], [-75.24037905799996, 39.94587089900006], [-75.24646584, 39.943598501000054], [-75.247028, 39.943414], [-75.24702905199996, 39.943419181000024], [-75.24704099999998, 39.943478], [-75.247048, 39.943529999999996], [-75.247052, 39.943559], [-75.24707699999999, 39.943616999999996], [-75.24710699999999, 39.943681999999995], [-75.247209, 39.943904999999994], [-75.247303, 39.944011], [-75.24737799999998, 39.944138999999986], [-75.247422, 39.94429100000001], [-75.247509, 39.944406], [-75.24763299999998, 39.94452199999999], [-75.247636, 39.944525000000006], [-75.247757, 39.94465099999999], [-75.24789699999998, 39.94479], [-75.24809100000002, 39.944936], [-75.248167, 39.945022], [-75.248213, 39.945111999999995], [-75.2482225, 39.94517599900007], [-75.248232, 39.94523999999999], [-75.248319, 39.945354], [-75.248413, 39.945465], [-75.248462, 39.945496], [-75.2485, 39.945521], [-75.248562, 39.945562], [-75.248706, 39.945677999999994], [-75.24889499999999, 39.945837], [-75.249078, 39.945996], [-75.249243, 39.946160000000006], [-75.249426, 39.94631900000001], [-75.249492, 39.94636299999999], [-75.24955299999999, 39.946397], [-75.24961299999998, 39.946417000000004], [-75.24966819499997, 39.94643999800007], [-75.249709, 39.946457], [-75.249809, 39.94653900000001], [-75.24991700000001, 39.946631], [-75.249966, 39.946712], [-75.25003399999999, 39.946816999999996], [-75.250115, 39.946974], [-75.25012573999999, 39.94701413500007], [-75.25015299999998, 39.947116], [-75.250196, 39.947233000000004], [-75.25019949999995, 39.94724050000008], [-75.250203, 39.947248], [-75.25021499999998, 39.947321], [-75.250228, 39.94738999999999], [-75.25023299999998, 39.947413], [-75.25026999999999, 39.947579], [-75.250307, 39.947721], [-75.250338, 39.947849], [-75.250365, 39.947981000000006], [-75.25041599999999, 39.94809499999999], [-75.250474, 39.948181], [-75.25053845699993, 39.94823691500005], [-75.250557, 39.948252999999994], [-75.250722, 39.948379], [-75.25072699999998, 39.948382999999986], [-75.250732, 39.948387], [-75.251062, 39.948691999999994], [-75.25119299999999, 39.94882599999999], [-75.25131699999999, 39.948937], [-75.251441, 39.94903399999999], [-75.251505, 39.949111], [-75.251557, 39.949225], [-75.25156690899996, 39.94943236500007], [-75.251517, 39.949633], [-75.25143218499994, 39.949793029000034], [-75.25141099999999, 39.949833000000005], [-75.25130799999998, 39.949967], [-75.25124199999999, 39.95012500000001], [-75.251194, 39.950264999999995], [-75.25115099999998, 39.950415], [-75.25115, 39.950575], [-75.251139, 39.95068], [-75.251172, 39.95076100000001], [-75.251267, 39.950953999999996], [-75.25134899999999, 39.951054000000006], [-75.251425, 39.95114], [-75.25149099999999, 39.951184], [-75.25154099999999, 39.951214], [-75.25158499999999, 39.95128], [-75.251609, 39.95138399999999], [-75.251609, 39.951466], [-75.251609, 39.9515], [-75.251626, 39.951625], [-75.25164599999998, 39.95174699999999], [-75.251647, 39.951846], [-75.25164299999999, 39.951954], [-75.251612, 39.95204499999999], [-75.251577, 39.95212699999999], [-75.251511, 39.95224000000001], [-75.25141, 39.952377], [-75.251281, 39.952541], [-75.251186, 39.952664], [-75.251152, 39.95275], [-75.251152, 39.952849], [-75.251179, 39.95294299999999], [-75.251206, 39.953031], [-75.251182, 39.953089], [-75.251149, 39.953161], [-75.2511, 39.953228], [-75.251047, 39.95329499999999], [-75.25092099999999, 39.953390999999996], [-75.250816, 39.953475], [-75.250789, 39.95349699999999], [-75.250648, 39.953614], [-75.250487, 39.953737], [-75.250352, 39.953861], [-75.250136, 39.954066], [-75.250047, 39.954150999999996], [-75.250003, 39.954232000000005], [-75.24995299999999, 39.954330000000006], [-75.24988699999999, 39.954378000000005], [-75.24988008099996, 39.954385334000044], [-75.24987316199996, 39.95439266800002], [-75.249837, 39.954431], [-75.249799, 39.954496], [-75.249767, 39.95457], [-75.249746, 39.95464], [-75.24975999999998, 39.954706], [-75.249766, 39.95476099999999], [-75.24975, 39.954826], [-75.249694, 39.95497499999999], [-75.24961299999998, 39.95517999999999], [-75.24959599999998, 39.955239], [-75.249556, 39.95528999999999], [-75.24949399999998, 39.955352], [-75.24942199999998, 39.95538100000001], [-75.249357, 39.95540499999999], [-75.24932730799998, 39.95540885600007], [-75.24928, 39.955414999999995], [-75.249234, 39.95542900000001], [-75.249199, 39.95546499999999], [-75.24916299999998, 39.95551400000001], [-75.249143, 39.95557], [-75.24912199999999, 39.955656], [-75.249134, 39.955755999999994], [-75.249174, 39.95585], [-75.249217, 39.95593399999999], [-75.24926200000002, 39.956043], [-75.24927379999997, 39.95612167100006], [-75.249234, 39.956216], [-75.24922951399998, 39.95622007800005], [-75.24922502699998, 39.95622415700007], [-75.249113, 39.95632599999999], [-75.249045, 39.956372], [-75.248987, 39.956427], [-75.248956, 39.956516], [-75.248926, 39.956628], [-75.248946, 39.956746], [-75.24900600000001, 39.956907], [-75.249064, 39.95695799999999], [-75.249193, 39.957012000000006], [-75.24924321699996, 39.95703482600004], [-75.24931399999998, 39.957066999999995], [-75.2494, 39.95712], [-75.24943899999998, 39.957148], [-75.249499, 39.95718899999999], [-75.249532, 39.95721300000001], [-75.249627, 39.957309], [-75.24968499999999, 39.957353000000005], [-75.249778, 39.957425], [-75.24999371199993, 39.95761572600003], [-75.250037, 39.957654], [-75.25017700000001, 39.957791], [-75.25024199999999, 39.957872], [-75.250359, 39.958014], [-75.25046199999998, 39.958119], [-75.250559, 39.95823200000001], [-75.250666, 39.958327999999995], [-75.250735, 39.95842600000001], [-75.250793, 39.958529], [-75.250839, 39.95863800000001], [-75.25085, 39.95866550000006], [-75.250875, 39.958728], [-75.25088099999999, 39.958808], [-75.250891, 39.958942], [-75.250883, 39.95902399999999], [-75.25085, 39.959098999999995], [-75.25075046499995, 39.95915587700006], [-75.25074662799994, 39.959158070000065], [-75.250605, 39.95923899999999], [-75.25045399999999, 39.959318], [-75.25029099999999, 39.959397], [-75.25008, 39.959482], [-75.249826, 39.959573], [-75.249652, 39.959639], [-75.249552, 39.95968200000001], [-75.249443, 39.95975199999999], [-75.249318, 39.959838999999995], [-75.24921299999998, 39.959920999999994], [-75.24912199999999, 39.95999], [-75.248972, 39.960071], [-75.24883699999998, 39.96012900000001], [-75.248689, 39.960199], [-75.248546, 39.960269000000004], [-75.248459, 39.960333], [-75.24838299999999, 39.960424999999994], [-75.248335, 39.960516], [-75.248282, 39.960621], [-75.248198, 39.960725000000004], [-75.248058, 39.960886], [-75.247975, 39.960997000000006], [-75.247922, 39.961085], [-75.247892, 39.961180999999996], [-75.24787923299994, 39.961283134000034], [-75.247872, 39.961341], [-75.247872, 39.96142999999999], [-75.247867, 39.961493], [-75.247841, 39.961613], [-75.247823, 39.96169], [-75.24780699999998, 39.96176499999999], [-75.24777399999999, 39.96183699999999], [-75.247741, 39.961904000000004], [-75.247707, 39.961977], [-75.24770200000002, 39.962056], [-75.24772599999999, 39.962167], [-75.24776199999998, 39.962225], [-75.247776, 39.962303], [-75.247752, 39.962452], [-75.24774145099997, 39.96251187300004], [-75.24773424099999, 39.962552793000036], [-75.247715, 39.962661999999995], [-75.24770209999998, 39.962736054000054], [-75.24768828299993, 39.96281537600004], [-75.24764199999998, 39.96294999999999], [-75.24762355299997, 39.96293673300004], [-75.24736822899996, 39.96275310900007], [-75.24668944999996, 39.96266871100005], [-75.22488232199998, 39.95995724200002], [-75.22598389399995, 39.95458535600005], [-75.22599605999994, 39.95452603000007], [-75.22650797699997, 39.95202963600008], [-75.22651431499997, 39.951998728000035]]], &quot;type&quot;: &quot;Polygon&quot;}, &quot;id&quot;: &quot;72&quot;, &quot;properties&quot;: {&quot;N&quot;: 42.0, &quot;Name&quot;: &quot;COBBS_CREEK&quot;, &quot;__folium_color&quot;: &quot;#d95f02&quot;, &quot;label&quot;: 0.0, &quot;neighborhood&quot;: &quot;COBBS_CREEK&quot;, &quot;overall_satisfaction&quot;: 2.03125, &quot;price_per_person&quot;: 67.64605734767025}, &quot;type&quot;: &quot;Feature&quot;}, {&quot;bbox&quot;: [-75.20732961099998, 39.92081957400007, -75.18494886299999, 39.94384799700004], &quot;geometry&quot;: {&quot;coordinates&quot;: [[[-75.18891780399997, 39.922033099000025], [-75.19530665699995, 39.92081957400007], [-75.19420020799998, 39.92592351800005], [-75.19673433299994, 39.92867179500007], [-75.20654960999995, 39.93327605200006], [-75.20732961099998, 39.93348878000006], [-75.20732671899997, 39.93349938500007], [-75.20597854, 39.93502495600007], [-75.20533608499994, 39.93638124900007], [-75.20501485799997, 39.93930798600008], [-75.20523126799998, 39.941182684000076], [-75.20466614599997, 39.94249138700007], [-75.20395230699994, 39.94290779300008], [-75.20330045599997, 39.943431592000024], [-75.20205123899994, 39.94384799700004], [-75.19970152099994, 39.94372902400005], [-75.19708411399995, 39.94286647000007], [-75.19577541099994, 39.942420321000036], [-75.19378261199995, 39.942212118000036], [-75.19271185499997, 39.94268801000004], [-75.19098674499998, 39.94194442900005], [-75.18807190599996, 39.94007060300004], [-75.18750678399992, 39.94042752200005], [-75.18494886299999, 39.94013009000002], [-75.18706063499997, 39.93043378600003], [-75.18527603899997, 39.93019584000006], [-75.18563295799999, 39.92817329800004], [-75.18563295799999, 39.92772714900008], [-75.18688217499994, 39.92237336200003], [-75.18891780399997, 39.922033099000025]]], &quot;type&quot;: &quot;Polygon&quot;}, &quot;id&quot;: &quot;73&quot;, &quot;properties&quot;: {&quot;N&quot;: 65.0, &quot;Name&quot;: &quot;GRAYS_FERRY&quot;, &quot;__folium_color&quot;: &quot;#d95f02&quot;, &quot;label&quot;: 0.0, &quot;neighborhood&quot;: &quot;GRAYS_FERRY&quot;, &quot;overall_satisfaction&quot;: 3.0357142857142856, &quot;price_per_person&quot;: 66.83353510895884}, &quot;type&quot;: &quot;Feature&quot;}, {&quot;bbox&quot;: [-75.11546423299995, 39.98854936000003, -75.08654260499998, 40.004184448000046], &quot;geometry&quot;: {&quot;coordinates&quot;: [[[-75.11342837299998, 39.996472965000066], [-75.11546423299995, 39.99675717700006], [-75.11407462699998, 40.00361002500005], [-75.10990581199995, 40.00307702500003], [-75.11002002599997, 40.002296562000026], [-75.10409992699994, 40.00153513500004], [-75.10301489299997, 40.00216331200004], [-75.09722804299997, 40.001325742000056], [-75.09511508199995, 40.00128767100006], [-75.09385872699994, 40.00153513500004], [-75.09273562099996, 40.00206813400007], [-75.09027837999999, 40.004184448000046], [-75.09018959799994, 40.00415254200004], [-75.08871327699994, 40.00351150800003], [-75.08865743099993, 40.00348725900005], [-75.08838120699994, 40.00336732000005], [-75.08830030599995, 40.00325235500003], [-75.08828763499997, 40.003234349000024], [-75.08792910999993, 40.00272486500006], [-75.08759598499995, 40.001939643000064], [-75.08745321799995, 40.00101165300003], [-75.08745321799995, 40.00032160900002], [-75.08654260499998, 39.998904893000024], [-75.08726619899994, 39.99854309600004], [-75.09217371999995, 39.995969864000074], [-75.09221459799994, 39.99594843000005], [-75.10632568099999, 39.98854936000003], [-75.11289299399992, 39.995830511000065], [-75.11342837299998, 39.996472965000066]]], &quot;type&quot;: &quot;Polygon&quot;}, &quot;id&quot;: &quot;74&quot;, &quot;properties&quot;: {&quot;N&quot;: 16.0, &quot;Name&quot;: &quot;HARROWGATE&quot;, &quot;__folium_color&quot;: &quot;#d95f02&quot;, &quot;label&quot;: 0.0, &quot;neighborhood&quot;: &quot;HARROWGATE&quot;, &quot;overall_satisfaction&quot;: 3.458333333333333, &quot;price_per_person&quot;: 24.79642857142857}, &quot;type&quot;: &quot;Feature&quot;}, {&quot;bbox&quot;: [-75.15749959499992, 39.97857462100006, -75.14009589899996, 40.00197693700005], &quot;geometry&quot;: {&quot;coordinates&quot;: [[[-75.14214223599998, 39.99236391500006], [-75.14404580499995, 39.98377406100008], [-75.14504313999998, 39.97858040400006], [-75.14510260299993, 39.97857462100006], [-75.14917148099994, 39.97907430800007], [-75.15749959499992, 39.98016886000005], [-75.15733236199996, 39.98096321700005], [-75.15654780999989, 39.98468983600004], [-75.15653969199995, 39.984680679000064], [-75.15453922799998, 39.994005743000066], [-75.15596690399995, 39.99607587400005], [-75.15408517399999, 39.99674637600003], [-75.15389756199993, 39.99681501600003], [-75.14009589899996, 40.00197693700005], [-75.14059558599996, 39.99985921700005], [-75.14214223599998, 39.99236391500006]]], &quot;type&quot;: &quot;Polygon&quot;}, &quot;id&quot;: &quot;75&quot;, &quot;properties&quot;: {&quot;N&quot;: 73.0, &quot;Name&quot;: &quot;HARTRANFT&quot;, &quot;__folium_color&quot;: &quot;#d95f02&quot;, &quot;label&quot;: 0.0, &quot;neighborhood&quot;: &quot;HARTRANFT&quot;, &quot;overall_satisfaction&quot;: 2.8, &quot;price_per_person&quot;: 77.10529953917052}, &quot;type&quot;: &quot;Feature&quot;}, {&quot;bbox&quot;: [-75.17598512699993, 39.97147653000008, -75.15654780999989, 39.98702170800004], &quot;geometry&quot;: {&quot;coordinates&quot;: [[[-75.16529439199995, 39.98583577900008], [-75.15654780999989, 39.98468983600004], [-75.15733236199996, 39.98096321700005], [-75.15749959499992, 39.98016886000005], [-75.15892727099998, 39.97326842300003], [-75.15928684699998, 39.97147653000008], [-75.16658913599997, 39.97236422800006], [-75.16725538499998, 39.973363601000074], [-75.16913515899995, 39.97674132000003], [-75.17030109499996, 39.97883636200004], [-75.17596421199993, 39.97962158400003], [-75.17598512699993, 39.97957313800004], [-75.17455562499998, 39.98606982800004], [-75.17444803199999, 39.98655881100006], [-75.17434617799995, 39.98702170800004], [-75.17410607599997, 39.986990251000066], [-75.16529439199995, 39.98583577900008]]], &quot;type&quot;: &quot;Polygon&quot;}, &quot;id&quot;: &quot;76&quot;, &quot;properties&quot;: {&quot;N&quot;: 197.0, &quot;Name&quot;: &quot;NORTH_CENTRAL&quot;, &quot;__folium_color&quot;: &quot;#d95f02&quot;, &quot;label&quot;: 0.0, &quot;neighborhood&quot;: &quot;NORTH_CENTRAL&quot;, &quot;overall_satisfaction&quot;: 1.8559322033898304, &quot;price_per_person&quot;: 72.62795857988166}, &quot;type&quot;: &quot;Feature&quot;}, {&quot;bbox&quot;: [-75.15835256999998, 40.03901709500008, -75.1428666199999, 40.05511255500006], &quot;geometry&quot;: {&quot;coordinates&quot;: [[[-75.14476846499997, 40.03909379400005], [-75.14934779899994, 40.03901709500008], [-75.15294673399995, 40.03925504100005], [-75.15458261299996, 40.03952273000005], [-75.15835256999998, 40.04145020300007], [-75.15834929999994, 40.04153575400006], [-75.15817797899996, 40.04507639200006], [-75.15772112199994, 40.05248127500004], [-75.15754895599996, 40.05511255500006], [-75.15327676199996, 40.05304719000003], [-75.15077832799993, 40.051916946000055], [-75.14955885399996, 40.05132208000003], [-75.1428666199999, 40.047514943000074], [-75.14476846499997, 40.03909379400005]]], &quot;type&quot;: &quot;Polygon&quot;}, &quot;id&quot;: &quot;77&quot;, &quot;properties&quot;: {&quot;N&quot;: 13.0, &quot;Name&quot;: &quot;OGONTZ&quot;, &quot;__folium_color&quot;: &quot;#d95f02&quot;, &quot;label&quot;: 0.0, &quot;neighborhood&quot;: &quot;OGONTZ&quot;, &quot;overall_satisfaction&quot;: 2.25, &quot;price_per_person&quot;: 35.38919413919414}, &quot;type&quot;: &quot;Feature&quot;}, {&quot;bbox&quot;: [-75.18706063499997, 39.92886279900006, -75.16683164699997, 39.94013009000002], &quot;geometry&quot;: {&quot;coordinates&quot;: [[[-75.18494886299999, 39.94013009000002], [-75.17621523999998, 39.939050984000055], [-75.16683164699997, 39.937843428000065], [-75.16768825299994, 39.93415526300002], [-75.16778343099996, 39.93287035400004], [-75.16835450199994, 39.93051468800007], [-75.17477904699996, 39.93137129400003], [-75.17532648099996, 39.92886279900006], [-75.18527603899997, 39.93019584000006], [-75.18706063499997, 39.93043378600003], [-75.18494886299999, 39.94013009000002]]], &quot;type&quot;: &quot;Polygon&quot;}, &quot;id&quot;: &quot;78&quot;, &quot;properties&quot;: {&quot;N&quot;: 435.0, &quot;Name&quot;: &quot;POINT_BREEZE&quot;, &quot;__folium_color&quot;: &quot;#666666&quot;, &quot;label&quot;: 4.0, &quot;neighborhood&quot;: &quot;POINT_BREEZE&quot;, &quot;overall_satisfaction&quot;: 2.7595419847328246, &quot;price_per_person&quot;: 63.801071927722894}, &quot;type&quot;: &quot;Feature&quot;}, {&quot;bbox&quot;: [-75.15096431499994, 39.97038339700003, -75.14510260299993, 39.97907430800007], &quot;geometry&quot;: {&quot;coordinates&quot;: [[[-75.14534054899997, 39.97709935500007], [-75.14654586299996, 39.970388992000046], [-75.14658616199995, 39.97039407300009], [-75.14658810299994, 39.97038339700003], [-75.15096431499994, 39.97056257200007], [-75.14917148099994, 39.97907430800007], [-75.14510260299993, 39.97857462100006], [-75.14534054899997, 39.97709935500007]]], &quot;type&quot;: &quot;Polygon&quot;}, &quot;id&quot;: &quot;79&quot;, &quot;properties&quot;: {&quot;N&quot;: 11.0, &quot;Name&quot;: &quot;LUDLOW&quot;, &quot;__folium_color&quot;: &quot;#d95f02&quot;, &quot;label&quot;: 0.0, &quot;neighborhood&quot;: &quot;LUDLOW&quot;, &quot;overall_satisfaction&quot;: 4.4, &quot;price_per_person&quot;: 63.33333333333334}, &quot;type&quot;: &quot;Feature&quot;}, {&quot;bbox&quot;: [-75.22732246299995, 39.93076415000007, -75.20395230699994, 39.94671493100004], &quot;geometry&quot;: {&quot;coordinates&quot;: [[[-75.20856251299995, 39.94543597000006], [-75.20817585099996, 39.94576314600004], [-75.20526101099995, 39.944097524000036], [-75.20395230699994, 39.94290779300008], [-75.20466614599997, 39.94249138700007], [-75.20523126799998, 39.941182684000076], [-75.20811636399998, 39.941301657000054], [-75.21561166599997, 39.93576941000003], [-75.21498705799996, 39.93517454500005], [-75.21397578699998, 39.93585864000005], [-75.21417465699993, 39.93556033500005], [-75.21512861799992, 39.93412939300003], [-75.21587935599996, 39.933003287000076], [-75.22105468299998, 39.931813556000066], [-75.22253974699998, 39.93076415000007], [-75.22732246299995, 39.934690260000025], [-75.21526094199997, 39.943111558000055], [-75.21141786599996, 39.945822633000034], [-75.21137204599994, 39.94579055300005], [-75.21010916299996, 39.94671493100004], [-75.20856251299995, 39.94543597000006]]], &quot;type&quot;: &quot;Polygon&quot;}, &quot;id&quot;: &quot;80&quot;, &quot;properties&quot;: {&quot;N&quot;: 26.0, &quot;Name&quot;: &quot;SOUTHWEST_SCHUYLKILL&quot;, &quot;__folium_color&quot;: &quot;#d95f02&quot;, &quot;label&quot;: 0.0, &quot;neighborhood&quot;: &quot;SOUTHWEST_SCHUYLKILL&quot;, &quot;overall_satisfaction&quot;: 2.375, &quot;price_per_person&quot;: 83.0986394557823}, &quot;type&quot;: &quot;Feature&quot;}, {&quot;bbox&quot;: [-75.17835269599993, 40.00158978100006, -75.14969424899994, 40.01995892100007], &quot;geometry&quot;: {&quot;coordinates&quot;: [[[-75.14969424899994, 40.016970318000055], [-75.15008085399994, 40.01513325500008], [-75.15130025999997, 40.00933890200002], [-75.15293104199996, 40.00158978100006], [-75.15295886899996, 40.00160732800003], [-75.16595667499996, 40.00324320700002], [-75.16592149899996, 40.00327234900003], [-75.16562949899998, 40.00487908600008], [-75.16771152699994, 40.005265749000046], [-75.17089405599994, 40.006336506000025], [-75.17835269599993, 40.01459622300007], [-75.17533599499994, 40.01657056800007], [-75.17262340999997, 40.01778409300004], [-75.16794947299995, 40.01841703000009], [-75.16530351299997, 40.01889292200008], [-75.16166769599994, 40.01995892100007], [-75.16187708899997, 40.01929267200006], [-75.16185805299995, 40.01672285400007], [-75.16189612499993, 40.01224946700006], [-75.15121710399995, 40.017141639000045], [-75.14969424899994, 40.016970318000055]]], &quot;type&quot;: &quot;Polygon&quot;}, &quot;id&quot;: &quot;81&quot;, &quot;properties&quot;: {&quot;N&quot;: 14.0, &quot;Name&quot;: &quot;TIOGA&quot;, &quot;__folium_color&quot;: &quot;#d95f02&quot;, &quot;label&quot;: 0.0, &quot;neighborhood&quot;: &quot;TIOGA&quot;, &quot;overall_satisfaction&quot;: 3.8333333333333335, &quot;price_per_person&quot;: 44.63636363636363}, &quot;type&quot;: &quot;Feature&quot;}, {&quot;bbox&quot;: [-75.188499, 40.06528951600007, -75.163391, 40.084651], &quot;geometry&quot;: {&quot;coordinates&quot;: [[[-75.163391, 40.07696299999999], [-75.17528677599994, 40.06528951600007], [-75.188499, 40.07276399999999], [-75.18706, 40.074155], [-75.186986, 40.074242], [-75.18653915499993, 40.07467672300003], [-75.18607888199995, 40.07512450900003], [-75.18591699999999, 40.075281999999994], [-75.18587211099997, 40.075321573000046], [-75.18584099999998, 40.075349], [-75.185673, 40.075513], [-75.18502199999999, 40.076148999999994], [-75.184938, 40.076233], [-75.18337999999999, 40.077797], [-75.183093, 40.07807400000001], [-75.18287, 40.078291], [-75.18257899999999, 40.078573], [-75.18232, 40.078839], [-75.18203699999998, 40.079108], [-75.18180199999999, 40.079336], [-75.18147014999994, 40.07966119400004], [-75.181453, 40.07967800000001], [-75.181117, 40.080015], [-75.18090284199997, 40.080221135000045], [-75.18079625099993, 40.08032373200007], [-75.18076999999998, 40.080349], [-75.18051199999998, 40.08060499999999], [-75.180261, 40.080852], [-75.18000599999999, 40.08109700000001], [-75.17974499999998, 40.081355], [-75.17947, 40.08160899999999], [-75.179198, 40.081878], [-75.178944, 40.08214], [-75.17868300000002, 40.082389], [-75.178441, 40.082640000000005], [-75.17819799999998, 40.082876000000006], [-75.177942, 40.08312800000001], [-75.177697, 40.083385], [-75.17648099999998, 40.084607], [-75.17643799999999, 40.084651], [-75.176169, 40.08449699999999], [-75.17587099999999, 40.084323000000005], [-75.175342, 40.08401], [-75.17508, 40.083855], [-75.174785, 40.08368], [-75.17415799999999, 40.083309], [-75.173572, 40.082964], [-75.17293699999999, 40.08258699999999], [-75.17230591499998, 40.082214320000055], [-75.17171099999999, 40.081863], [-75.171494, 40.081735], [-75.169932, 40.08080999999999], [-75.16826499999999, 40.07982400000001], [-75.16778899999998, 40.079542], [-75.16765999999998, 40.079466], [-75.16632634899997, 40.078676933000054], [-75.16545924899998, 40.078163905000046], [-75.16415653699994, 40.077393143000045], [-75.16409392899997, 40.07735613400007], [-75.16408698299995, 40.077352028000064], [-75.16406917599994, 40.07734203800004], [-75.163391, 40.07696299999999]]], &quot;type&quot;: &quot;Polygon&quot;}, &quot;id&quot;: &quot;82&quot;, &quot;properties&quot;: {&quot;N&quot;: null, &quot;Name&quot;: &quot;CEDARBROOK&quot;, &quot;__folium_color&quot;: &quot;#1b9e77&quot;, &quot;label&quot;: -1.0, &quot;neighborhood&quot;: null, &quot;overall_satisfaction&quot;: null, &quot;price_per_person&quot;: null}, &quot;type&quot;: &quot;Feature&quot;}, {&quot;bbox&quot;: [-75.04052763599998, 40.01745990500007, -74.99574510399998, 40.04922561600005], &quot;geometry&quot;: {&quot;coordinates&quot;: [[[-75.02146815299994, 40.048833005000056], [-75.02021893599994, 40.047726555000054], [-75.01957648199993, 40.04658441400005], [-75.02005837599995, 40.04621094600003], [-75.02100415799998, 40.04547796500003], [-75.02143246099996, 40.04487120200002], [-75.02152240699995, 40.04454140200005], [-75.02175368899998, 40.04369336900004], [-75.02024462099995, 40.04359276400003], [-75.01961217399997, 40.04355060100005], [-75.01896971899997, 40.04383613700002], [-75.01867797599992, 40.044038571000044], [-75.01832273499997, 40.044285065000054], [-75.01722081499996, 40.04504966200005], [-75.01490712199995, 40.04689541700002], [-75.01404423499997, 40.047583788000054], [-75.00569232699996, 40.04040971300003], [-75.00455018599996, 40.03991002600003], [-74.99866101999997, 40.03491315800006], [-74.99574510399998, 40.03225165900005], [-74.99619699999998, 40.031934], [-74.997114, 40.031287999999996], [-74.99816499999999, 40.03051200000001], [-75.000617, 40.0287], [-75.00112988899997, 40.02842995000003], [-75.00335, 40.02726100000001], [-75.003853, 40.026996], [-75.01036899999998, 40.022491], [-75.012421, 40.02092499999999], [-75.01258004699996, 40.02080376600003], [-75.01323699999999, 40.020303], [-75.013776, 40.020166], [-75.01522099999998, 40.019801], [-75.016671, 40.019434], [-75.019645, 40.018436], [-75.01999, 40.018389], [-75.021116, 40.018234], [-75.021211, 40.018221999999994], [-75.022647, 40.018024], [-75.024072, 40.017829000000006], [-75.02575901199998, 40.01745990500007], [-75.03035543999992, 40.02413419900006], [-75.03274679899994, 40.027132320000085], [-75.03392463199997, 40.028631381000025], [-75.03695844499998, 40.03248610800006], [-75.04052763599998, 40.036840521000045], [-75.03353202099998, 40.039517415000034], [-75.03656583299993, 40.043479217000026], [-75.03447223099994, 40.04444435300007], [-75.03439111199998, 40.04448174800006], [-75.03429488899997, 40.04452610600003], [-75.03155147299998, 40.04579080200005], [-75.03153327299998, 40.04579919200007], [-75.03174742499993, 40.04647733800004], [-75.03164034899997, 40.04722686900004], [-75.03138677799994, 40.04781008200007], [-75.03128342999996, 40.04804778300007], [-75.03068853699995, 40.04832663900003], [-75.03045269099994, 40.04843719200006], [-75.03014128899997, 40.04858316100007], [-75.02970839999993, 40.048626450000036], [-75.02946900999996, 40.04865038900004], [-75.02871361199992, 40.04872592900006], [-75.026179486, 40.048369010000044], [-75.02572136499998, 40.04851217300006], [-75.02446627399996, 40.04890438900003], [-75.02278875399996, 40.04922561600005], [-75.02184932899996, 40.048946328000056], [-75.02146815299994, 40.048833005000056]]], &quot;type&quot;: &quot;Polygon&quot;}, &quot;id&quot;: &quot;83&quot;, &quot;properties&quot;: {&quot;N&quot;: 19.0, &quot;Name&quot;: &quot;HOLMESBURG&quot;, &quot;__folium_color&quot;: &quot;#e7298a&quot;, &quot;label&quot;: 1.0, &quot;neighborhood&quot;: &quot;HOLMESBURG&quot;, &quot;overall_satisfaction&quot;: 0.5555555555555556, &quot;price_per_person&quot;: 47.44117647058823}, &quot;type&quot;: &quot;Feature&quot;}, {&quot;bbox&quot;: [-75.17977134999995, 39.96221575000004, -75.16035760499994, 39.96741494900005], &quot;geometry&quot;: {&quot;coordinates&quot;: [[[-75.160395017, 39.96706554300005], [-75.16035760499994, 39.96707452700008], [-75.16129225199994, 39.962625661000054], [-75.16137496799996, 39.96223193900005], [-75.16138268099996, 39.96223290300002], [-75.16138645499996, 39.96221575000004], [-75.16166630799995, 39.96243457800006], [-75.17637137699995, 39.96421917400005], [-75.17627975099998, 39.96424434100004], [-75.17977134999995, 39.96741494900005], [-75.17132426299996, 39.96724838700004], [-75.160395017, 39.96706554300005]]], &quot;type&quot;: &quot;Polygon&quot;}, &quot;id&quot;: &quot;84&quot;, &quot;properties&quot;: {&quot;N&quot;: 413.0, &quot;Name&quot;: &quot;SPRING_GARDEN&quot;, &quot;__folium_color&quot;: &quot;#666666&quot;, &quot;label&quot;: 4.0, &quot;neighborhood&quot;: &quot;SPRING_GARDEN&quot;, &quot;overall_satisfaction&quot;: 3.454022988505747, &quot;price_per_person&quot;: 157.1256921373201}, &quot;type&quot;: &quot;Feature&quot;}, {&quot;bbox&quot;: [-75.21225067799998, 39.96295475200004, -75.20195950899995, 39.97321617800003], &quot;geometry&quot;: {&quot;coordinates&quot;: [[[-75.20195950899995, 39.96295475200004], [-75.21129889299992, 39.96866545900008], [-75.21225067799998, 39.97321617800003], [-75.20600459299997, 39.971877731000056], [-75.20377384799997, 39.97143158200003], [-75.20195950899995, 39.96295475200004]]], &quot;type&quot;: &quot;Polygon&quot;}, &quot;id&quot;: &quot;85&quot;, &quot;properties&quot;: {&quot;N&quot;: 11.0, &quot;Name&quot;: &quot;BELMONT&quot;, &quot;__folium_color&quot;: &quot;#d95f02&quot;, &quot;label&quot;: 0.0, &quot;neighborhood&quot;: &quot;BELMONT&quot;, &quot;overall_satisfaction&quot;: 3.25, &quot;price_per_person&quot;: 69.425}, &quot;type&quot;: &quot;Feature&quot;}, {&quot;bbox&quot;: [-75.16202937399999, 40.01938654100008, -75.13605256099997, 40.04145020300007], &quot;geometry&quot;: {&quot;coordinates&quot;: [[[-75.14476846499997, 40.03909379400005], [-75.13605256099997, 40.037113526000034], [-75.13655819599995, 40.03622122800005], [-75.13765869699995, 40.03520995700006], [-75.13878894099996, 40.03443663200006], [-75.13971098199994, 40.03393099700003], [-75.13896739999996, 40.03288998200003], [-75.13739100699995, 40.032592550000054], [-75.13905662999998, 40.024710585000044], [-75.14003815799998, 40.02120088000003], [-75.14271505099998, 40.02001115000007], [-75.14455913399996, 40.01944602800006], [-75.14681962199995, 40.01938654100008], [-75.14908510699996, 40.01961627800006], [-75.15152167499997, 40.02003506300007], [-75.15475774199994, 40.02049192000003], [-75.15666130999993, 40.02060613400005], [-75.15921209299995, 40.02054902700007], [-75.16081108999997, 40.02013024200004], [-75.16079815699999, 40.02016745400004], [-75.16031616299995, 40.02117720500007], [-75.15987834199997, 40.022186096000034], [-75.15907884299996, 40.02302366600003], [-75.15972605599995, 40.02422291500006], [-75.15997351999994, 40.02507952100006], [-75.16003062699995, 40.02597419800003], [-75.16048748399999, 40.02665948300007], [-75.16143926799998, 40.027782588000036], [-75.16202937399999, 40.02831558800006], [-75.16071733999996, 40.02943845500005], [-75.15918972599997, 40.03026650800007], [-75.15829028899998, 40.030709087000055], [-75.15744795999996, 40.030966069000044], [-75.15706248799994, 40.03103745300006], [-75.15650569399996, 40.03119449800005], [-75.15560625699999, 40.03133726500004], [-75.15463543699995, 40.03139437200007], [-75.15522078499998, 40.03186550600004], [-75.15562053399998, 40.032393746000025], [-75.15580613199994, 40.033007647000034], [-75.15577757899995, 40.033807146000065], [-75.15554914999996, 40.03473513600005], [-75.15534927599998, 40.035420420000044], [-75.15536355199998, 40.035991491000054], [-75.15576330199995, 40.03641979400004], [-75.15614877399997, 40.03664822200006], [-75.15723380899992, 40.036733883000075], [-75.15834739599995, 40.03670532900003], [-75.15848856299993, 40.03778315600004], [-75.15846351399995, 40.03854715100004], [-75.15837807299994, 40.040782868000065], [-75.15835256999998, 40.04145020300007], [-75.15458261299996, 40.03952273000005], [-75.15294673399995, 40.03925504100005], [-75.14934779899994, 40.03901709500008], [-75.14476846499997, 40.03909379400005]]], &quot;type&quot;: &quot;Polygon&quot;}, &quot;id&quot;: &quot;86&quot;, &quot;properties&quot;: {&quot;N&quot;: 18.0, &quot;Name&quot;: &quot;LOGAN&quot;, &quot;__folium_color&quot;: &quot;#d95f02&quot;, &quot;label&quot;: 0.0, &quot;neighborhood&quot;: &quot;LOGAN&quot;, &quot;overall_satisfaction&quot;: 2.8, &quot;price_per_person&quot;: 63.58259803921569}, &quot;type&quot;: &quot;Feature&quot;}, {&quot;bbox&quot;: [-75.23301428299997, 40.01271899999999, -75.18554388299997, 40.086022], &quot;geometry&quot;: {&quot;coordinates&quot;: [[[-75.21052822399997, 40.04797945300004], [-75.21006422899995, 40.047087155000035], [-75.20970730999994, 40.046980080000026], [-75.20906485499995, 40.04651608500007], [-75.21009992099994, 40.04612347400006], [-75.20995715299995, 40.04451733700006], [-75.20813686499997, 40.04348227200005], [-75.20845809299995, 40.04323242900005], [-75.20835101699998, 40.04230443900008], [-75.20802978999996, 40.04169767600007], [-75.20760148699998, 40.041626292000046], [-75.20674488099996, 40.04201890300005], [-75.20599534999998, 40.042661358000025], [-75.20588827499995, 40.04291120100003], [-75.20488890099995, 40.04258997400006], [-75.20499597699995, 40.04184044400005], [-75.20556704699999, 40.04116229700003], [-75.20588827499995, 40.040484151000044], [-75.20553135599994, 40.03955616100006], [-75.20535289599997, 40.03909216600004], [-75.20321138099995, 40.037628798000064], [-75.20285446199993, 40.039484777000034], [-75.19989203299995, 40.037164803000046], [-75.19874989199997, 40.03777156500007], [-75.19750067499996, 40.033738379000056], [-75.19689391199995, 40.03331007600008], [-75.19303918499996, 40.03195378300006], [-75.19178996799997, 40.032025167000036], [-75.19068351899993, 40.030990102000025], [-75.18911307499997, 40.031989475000046], [-75.18554388299997, 40.028955662000044], [-75.18747124699996, 40.028027673000054], [-75.18789954999993, 40.02842028400004], [-75.18943430199994, 40.02781352100004], [-75.19321764499995, 40.02495816800007], [-75.19353887199996, 40.02438709700004], [-75.19314626099998, 40.02417294600008], [-75.19410994299994, 40.023744643000036], [-75.19585884699995, 40.02278096100008], [-75.19864281599996, 40.02035391100003], [-75.20028464399996, 40.018747775000065], [-75.20110555799994, 40.017141639000045], [-75.20224769899994, 40.01610657300006], [-75.20224769899994, 40.015749654000054], [-75.20510305299996, 40.01503581600007], [-75.20581689099998, 40.01532135100007], [-75.20610242599999, 40.01478597200003], [-75.20635226999997, 40.01485735600004], [-75.20759899999999, 40.01271899999999], [-75.207628, 40.012736], [-75.20772799999999, 40.01280499999999], [-75.20774637899994, 40.01281760300004], [-75.20783403499995, 40.01287771000005], [-75.208008, 40.01299699999999], [-75.20824382799998, 40.01315874200002], [-75.20713749199996, 40.015499810000044], [-75.20717318399994, 40.016677644000026], [-75.20503166899994, 40.01724871400006], [-75.20431782999998, 40.01728440600004], [-75.20378245199997, 40.017605633000066], [-75.20399660299994, 40.01781978500003], [-75.20338984099999, 40.01817670400004], [-75.20346122399997, 40.018676391000035], [-75.20356829999996, 40.01949730500007], [-75.20456767399996, 40.020924982000054], [-75.20410367899996, 40.021388976000026], [-75.20424644699995, 40.02160312800004], [-75.20342553299997, 40.023459108000054], [-75.20296153799995, 40.02367325900008], [-75.20285446199993, 40.02438709700004], [-75.20310430499995, 40.02463694100005], [-75.20242615899996, 40.025564931000076], [-75.20324707299994, 40.025993234000055], [-75.20545997199997, 40.028634435000065], [-75.20342553299997, 40.02959811700003], [-75.20563843099995, 40.03256054600007], [-75.20753010299994, 40.031703940000064], [-75.20774425399996, 40.03195378300006], [-75.20881501199996, 40.03534451500008], [-75.21027837999996, 40.037664490000054], [-75.21409741499996, 40.040127232000025], [-75.21666723299995, 40.04209028700006], [-75.21748814699998, 40.043303812000026], [-75.21780937399996, 40.044481646000065], [-75.21777368199997, 40.046159166000045], [-75.21788075799998, 40.04787237700003], [-75.21848752099997, 40.048586216000054], [-75.22744619099996, 40.05272647800007], [-75.22883817599995, 40.05308339700007], [-75.23016287999997, 40.05351837400008], [-75.23018051199993, 40.053524164000066], [-75.23122953399997, 40.05386861900007], [-75.22862402499999, 40.055046452000056], [-75.22910409999996, 40.05569596600002], [-75.22923078699993, 40.05586736600003], [-75.22791018599996, 40.056438437000054], [-75.22876679199997, 40.05658120500004], [-75.22776741899997, 40.05704520000007], [-75.22987324199994, 40.059757785000045], [-75.22826710499999, 40.060507315000045], [-75.22741049999996, 40.05932948200006], [-75.22541175199994, 40.05815164900009], [-75.22334162099997, 40.05925809800004], [-75.22594713099994, 40.062184835000046], [-75.22487637399995, 40.062648830000064], [-75.22473360599997, 40.06393373900004], [-75.22484068199998, 40.06475465300009], [-75.22523329299997, 40.06504018900005], [-75.22655389399995, 40.06543280000005], [-75.22587574699998, 40.06582541100004], [-75.22462652999997, 40.066860476000045], [-75.22865971699999, 40.07039397600005], [-75.22980185799996, 40.07089366300006], [-75.23201475699993, 40.07064381900006], [-75.23247875099997, 40.07007274900007], [-75.23297843799996, 40.07057243500003], [-75.23197906499996, 40.071357658000075], [-75.23072984799995, 40.07178596100004], [-75.22908801999995, 40.07203580400006], [-75.22851694899998, 40.07242841500005], [-75.22843603799998, 40.07310267500002], [-75.22840987299996, 40.073320713000044], [-75.22940924699998, 40.07421301100005], [-75.22926647899999, 40.07453423800006], [-75.23058707999995, 40.07681852100007], [-75.22591143899994, 40.07899572700006], [-75.22791018599996, 40.081565545000046], [-75.23045157899998, 40.08226978600004], [-75.23087261499994, 40.08238645900007], [-75.23233598399997, 40.082993222000034], [-75.23301428299997, 40.083618132000026], [-75.23295150799999, 40.08361866000007], [-75.23294755399996, 40.083622750000075], [-75.23290799999998, 40.08366500000001], [-75.232596, 40.083998], [-75.231851, 40.084725999999996], [-75.230929, 40.085628], [-75.23075107299996, 40.08579141100006], [-75.2305, 40.086022], [-75.22840987299996, 40.08477781800008], [-75.22455514599993, 40.081565545000046], [-75.22366284799993, 40.08038771200007], [-75.22398407599997, 40.08006648500003], [-75.22341300499994, 40.079209879000075], [-75.21855890499995, 40.07571207100005], [-75.21720261199994, 40.076961288000064], [-75.21677430899996, 40.07688990400004], [-75.21627462199996, 40.076961288000064], [-75.21573924299996, 40.07713974800004], [-75.21506109699999, 40.07713974800004], [-75.21713122799997, 40.075105309000044], [-75.21531093999992, 40.07335640500002], [-75.21566785899995, 40.07282102600005], [-75.22144994999996, 40.07274964200008], [-75.22252070699993, 40.07128627400004], [-75.221664101, 40.07050105200005], [-75.22127148999994, 40.07071520300008], [-75.22084318699996, 40.070179824000036], [-75.22062903599993, 40.070322592000025], [-75.21998658099994, 40.06996567300006], [-75.22065675899994, 40.06942034200006], [-75.21940747699993, 40.06811427400004], [-75.21912997499997, 40.067824158000064], [-75.21813060199997, 40.06803830900002], [-75.21734537899992, 40.06853799600004], [-75.21616754599994, 40.06921614300006], [-75.21477556199993, 40.06846661200006], [-75.21591770299995, 40.067288779000066], [-75.21656015699995, 40.067645698000035], [-75.21823767699993, 40.06675340100003], [-75.22134287399996, 40.06418358300005], [-75.21941551099997, 40.06104269400004], [-75.21977242999998, 40.060685775000024], [-75.21798783399997, 40.05840149200003], [-75.21748814699998, 40.05929379000003], [-75.21656015699995, 40.05843718400008], [-75.21659584899997, 40.05718796700007], [-75.21613185399997, 40.05683104800005], [-75.21563216799994, 40.05700950800007], [-75.21473987, 40.05665258900007], [-75.21477556199993, 40.05615290200007], [-75.21581062699993, 40.056224286000024], [-75.21652446499996, 40.05611721000003], [-75.21730968799993, 40.055510447000074], [-75.21777368199997, 40.055367680000074], [-75.21730968799993, 40.05326185700006], [-75.21709553599997, 40.052655094000045], [-75.21552509199995, 40.05172710400007], [-75.21452571799993, 40.05083480600006], [-75.21377618799994, 40.04919297800006], [-75.21341926899998, 40.049335746000054], [-75.21313373299996, 40.04876467500004], [-75.21181313299996, 40.04869329200005], [-75.21052822399997, 40.04797945300004]]], &quot;type&quot;: &quot;Polygon&quot;}, &quot;id&quot;: &quot;87&quot;, &quot;properties&quot;: {&quot;N&quot;: 11.0, &quot;Name&quot;: &quot;WISSAHICKON_PARK&quot;, &quot;__folium_color&quot;: &quot;#e7298a&quot;, &quot;label&quot;: 1.0, &quot;neighborhood&quot;: &quot;WISSAHICKON_PARK&quot;, &quot;overall_satisfaction&quot;: 0.0, &quot;price_per_person&quot;: 99.54166666666669}, &quot;type&quot;: &quot;Feature&quot;}, {&quot;bbox&quot;: [-75.00945312599998, 40.052051635000055, -74.99042451999996, 40.06929563700004], &quot;geometry&quot;: {&quot;coordinates&quot;: [[[-74.99850760499999, 40.06434635800008], [-74.99455769999999, 40.06191930700004], [-74.99151198999992, 40.06120546900007], [-74.99042451999996, 40.060408738000035], [-74.99048757099996, 40.06036149300007], [-74.99148694499995, 40.059897498000055], [-74.99316446499995, 40.05943350300004], [-74.99991023699992, 40.05768460000007], [-75.00130222099993, 40.05725629700004], [-75.00797660899997, 40.05243788800004], [-75.00845942499994, 40.052051635000055], [-75.00859651999997, 40.05368637200007], [-75.00864410899997, 40.057779045000075], [-75.00907241199995, 40.05920672200005], [-75.00945312599998, 40.060919934000026], [-75.00940553599997, 40.06582162300003], [-75.00869169799995, 40.06786796000006], [-75.00807303799996, 40.068676977000045], [-75.00723359099999, 40.06924517300006], [-75.00731161099998, 40.06929563700004], [-74.99840391799995, 40.06414666000006], [-74.99850760499999, 40.06434635800008]]], &quot;type&quot;: &quot;Polygon&quot;}, &quot;id&quot;: &quot;88&quot;, &quot;properties&quot;: {&quot;N&quot;: null, &quot;Name&quot;: &quot;ACADEMY_GARDENS&quot;, &quot;__folium_color&quot;: &quot;#1b9e77&quot;, &quot;label&quot;: -1.0, &quot;neighborhood&quot;: null, &quot;overall_satisfaction&quot;: null, &quot;price_per_person&quot;: null}, &quot;type&quot;: &quot;Feature&quot;}, {&quot;bbox&quot;: [-75.07624432199998, 40.04359276400003, -75.01691480899994, 40.09464522400003], &quot;geometry&quot;: {&quot;coordinates&quot;: [[[-75.05635437499994, 40.088577599000075], [-75.05639006699994, 40.08743545700002], [-75.05703252099994, 40.08679300300002], [-75.05492669799997, 40.08097522100008], [-75.05249964799998, 40.07951185200005], [-75.05153596699996, 40.08058261000007], [-75.05107197199997, 40.08029707400004], [-75.04753847199997, 40.08290258400007], [-75.04364805299997, 40.077798640000026], [-75.04364805299997, 40.07740602900003], [-75.04296990699999, 40.07701341800003], [-75.04150299399998, 40.07493529100003], [-75.04145749299992, 40.074870832000045], [-75.03997178599995, 40.072766080000065], [-75.03997178599995, 40.07215931800004], [-75.04122100299999, 40.07112425200007], [-75.04179207399994, 40.07033903000006], [-75.04161361399997, 40.069767960000036], [-75.04111392699998, 40.06901842900004], [-75.04036439699996, 40.06859012600006], [-75.03608136699994, 40.06637722800008], [-75.03497491799999, 40.06544923800004], [-75.03418969599994, 40.06480678300005], [-75.03386846899997, 40.06423571300007], [-75.03336878199995, 40.061166208000024], [-75.03440384699996, 40.058917617000084], [-75.03429677199995, 40.05856069800006], [-75.03422538799997, 40.058239471000036], [-75.03383277699999, 40.057953936000054], [-75.03422538799997, 40.05738286500008], [-75.03451092299996, 40.05752563300007], [-75.03629551899995, 40.05467027900006], [-75.03640259499997, 40.053670906000036], [-75.03590290799997, 40.05277860800004], [-75.03618844299996, 40.05206477000008], [-75.03586721599997, 40.05142231500002], [-75.03490353399997, 40.05117247200007], [-75.03361862499997, 40.05220753700007], [-75.03236940799997, 40.05260014800007], [-75.03151280199995, 40.05138662300004], [-75.03015650899994, 40.05135093100006], [-75.02701562099996, 40.05092262800008], [-75.02523102499998, 40.05042294200006], [-75.02408888399998, 40.05095832000006], [-75.02280397499999, 40.05252876500003], [-75.02483841399997, 40.05334967900007], [-75.02355350499992, 40.05545550200003], [-75.01998431399994, 40.053421062000034], [-75.01809264199993, 40.05242168900003], [-75.01709326799994, 40.05124385600004], [-75.01691480899994, 40.049494952000025], [-75.01730741999995, 40.04828142700007], [-75.01869940499995, 40.04703221000005], [-75.01802125799998, 40.04642544700005], [-75.01937755099992, 40.04510484600007], [-75.01832273499997, 40.044285065000054], [-75.01867797599992, 40.044038571000044], [-75.01947603099995, 40.04362566300005], [-75.02024462099995, 40.04359276400003], [-75.02175368899998, 40.04369336900004], [-75.02152240699995, 40.04454140200005], [-75.02143246099996, 40.04487120200002], [-75.02100415799998, 40.04547796500003], [-75.02005837599995, 40.04621094600003], [-75.01957648199993, 40.04658441400005], [-75.02021893599994, 40.047726555000054], [-75.02146815299994, 40.048833005000056], [-75.02184932899996, 40.048946328000056], [-75.02278875399996, 40.04922561600005], [-75.02446627399996, 40.04890438900003], [-75.02572136499998, 40.04851217300006], [-75.026179486, 40.048369010000044], [-75.02871361199992, 40.04872592900006], [-75.02946900999996, 40.04865038900004], [-75.02961706499997, 40.04864967500003], [-75.02970839999993, 40.048626450000036], [-75.03014128899997, 40.04858316100007], [-75.03045269099994, 40.04843719200006], [-75.03058435499997, 40.04840371200004], [-75.03068853699995, 40.04832663900003], [-75.03128342999996, 40.04804778300007], [-75.03138677799994, 40.04781008200007], [-75.03164034899997, 40.04722686900004], [-75.03174742499993, 40.04647733800004], [-75.03153327299998, 40.04579919200007], [-75.03155147299998, 40.04579080200005], [-75.03429488899997, 40.04452610600003], [-75.03440842099997, 40.04453019400005], [-75.03439111199998, 40.04448174800006], [-75.03447223099994, 40.04444435300007], [-75.03586721599997, 40.04467654300004], [-75.03697366499993, 40.04539038200004], [-75.03736627599994, 40.04571160900009], [-75.03890102899999, 40.04589006800006], [-75.03975763499994, 40.046246987000075], [-75.03990040199994, 40.04710359300003], [-75.04040008899995, 40.04767466400005], [-75.04225606899996, 40.04792450700007], [-75.04329113399994, 40.04746051300003], [-75.04382651299996, 40.04685375000003], [-75.04728862899998, 40.04631837100004], [-75.04775262399994, 40.046211296000024], [-75.04946583499998, 40.04678236600007], [-75.05157165799994, 40.04713928500007], [-75.05117904699995, 40.04924510800004], [-75.05082212799994, 40.04903095700006], [-75.05057228499997, 40.049280800000076], [-75.04843076999998, 40.04821004300005], [-75.04764554799992, 40.047995891000035], [-75.04211330099997, 40.05003033000003], [-75.04150653799996, 40.05074416900005], [-75.04161361399997, 40.051707850000064], [-75.03990040199994, 40.05338537000006], [-75.04000747799995, 40.05431336000004], [-75.03879395299998, 40.05638349100008], [-75.03861549299994, 40.05784686000004], [-75.03811580599995, 40.05973853100004], [-75.03811580599995, 40.06113051600005], [-75.03947209899995, 40.06302218800004], [-75.04054285699993, 40.064200021000026], [-75.04115161399993, 40.064553493000055], [-75.04132382399996, 40.06465348600005], [-75.04164930599994, 40.064842475000034], [-75.04211330099997, 40.065020935000064], [-75.04318405799995, 40.06523508600004], [-75.04468311899994, 40.06487816700007], [-75.04810954299995, 40.06684122200004], [-75.04746708799995, 40.067697828000064], [-75.04736001199996, 40.06805474800006], [-75.04736001199996, 40.068697202000074], [-75.04796677499996, 40.07001780300005], [-75.04732432099996, 40.07058887400007], [-75.04571818399995, 40.06973226800005], [-75.04511142199992, 40.06998211100006], [-75.04411204799999, 40.07169532300003], [-75.04389789699997, 40.07226639400005], [-75.04425481599998, 40.07294454000004], [-75.04689601799998, 40.076406656000074], [-75.04796677499996, 40.07672788300004], [-75.04889476499994, 40.07679926700006], [-75.04978706299994, 40.076513731000034], [-75.05603314799998, 40.07337284300007], [-75.05639006699994, 40.07294454000004], [-75.05838881399995, 40.07472913600002], [-75.06042325299995, 40.07301592400006], [-75.06549150499994, 40.07023195400006], [-75.06901905599995, 40.07202249900008], [-75.06742958199999, 40.07525111900002], [-75.06736082299994, 40.07539078600008], [-75.06616370299997, 40.07782243500003], [-75.06714523099997, 40.07823884100004], [-75.06744266299994, 40.07874447600005], [-75.06842419099996, 40.08023163900003], [-75.06238630899996, 40.08454441200008], [-75.06250528199996, 40.084722872000036], [-75.06310014699994, 40.084871588000055], [-75.06726420399997, 40.084782358000034], [-75.06842419099996, 40.08528799400005], [-75.07139851699998, 40.08659669700006], [-75.07261799099996, 40.08701310300006], [-75.07428361399995, 40.08737002200007], [-75.07389695099994, 40.08778642800007], [-75.07431335699992, 40.08778642800007], [-75.07624432199998, 40.087381286000046], [-75.07621, 40.087417], [-75.07460251999998, 40.08908174900006], [-75.074582, 40.089102999999994], [-75.07456099999999, 40.089123999999984], [-75.07343092499995, 40.090294435000025], [-75.07316213299998, 40.090572826000034], [-75.071369, 40.09243], [-75.071281, 40.09252], [-75.07126975699997, 40.09253175400005], [-75.07119779699997, 40.092606984000035], [-75.07117099999999, 40.092635], [-75.071009, 40.092802000000006], [-75.070708, 40.093113999999986], [-75.06945599999999, 40.094410999999994], [-75.06838254999997, 40.09464522400003], [-75.06591980799999, 40.09253940100006], [-75.06616965199999, 40.09250370900003], [-75.06445643999996, 40.09086188100009], [-75.06381398499998, 40.09046927000003], [-75.05810327899997, 40.09018373500003], [-75.05706821299998, 40.08971974000007], [-75.05635437499994, 40.088577599000075]]], &quot;type&quot;: &quot;Polygon&quot;}, &quot;id&quot;: &quot;89&quot;, &quot;properties&quot;: {&quot;N&quot;: null, &quot;Name&quot;: &quot;PENNYPACK_PARK&quot;, &quot;__folium_color&quot;: &quot;#1b9e77&quot;, &quot;label&quot;: -1.0, &quot;neighborhood&quot;: null, &quot;overall_satisfaction&quot;: null, &quot;price_per_person&quot;: null}, &quot;type&quot;: &quot;Feature&quot;}, {&quot;bbox&quot;: [-75.19084980299994, 39.978812567000034, -75.15979706399996, 40.00028752000003], &quot;geometry&quot;: {&quot;coordinates&quot;: [[[-75.16931568099994, 39.99026998900007], [-75.17043402699994, 39.989508562000026], [-75.17164755199997, 39.98962753500007], [-75.17369388899992, 39.988604366000054], [-75.17474085199994, 39.98774776000004], [-75.17534555199995, 39.98721206400006], [-75.17596421199993, 39.98687894000006], [-75.17777260199993, 39.98597474500008], [-75.17889094899994, 39.98523711200006], [-75.18160353399996, 39.98340492700003], [-75.18376884399999, 39.98200104500007], [-75.18560102899993, 39.98076372500004], [-75.18719526799997, 39.97964537800004], [-75.18919401499994, 39.978812567000034], [-75.18899382299998, 39.979681388000074], [-75.18880346599997, 39.98089491300004], [-75.18797065499996, 39.98541588900008], [-75.18640021099998, 39.992649450000044], [-75.18732819999997, 39.99457681300004], [-75.18778029799995, 39.99579033900005], [-75.18782788699997, 39.996527972000074], [-75.18999319699998, 39.99683730100002], [-75.19054047299993, 39.997479756000075], [-75.19084980299994, 39.99819359400005], [-75.19061185699996, 39.99964506500004], [-75.18999319699998, 39.99976403800008], [-75.18916038499998, 40.00000198500003], [-75.18851793099996, 40.00023993100007], [-75.18709025399994, 40.00028752000003], [-75.18763752999996, 39.99859810300006], [-75.18770891399998, 39.99819359400005], [-75.18040396899995, 39.99733698800003], [-75.16760663899998, 39.99564949200004], [-75.16757867399996, 39.99564757100006], [-75.16705414599994, 39.99557913700006], [-75.15980685099998, 39.99463360500005], [-75.15979706399996, 39.99463232700004], [-75.15989301499997, 39.99457681300004], [-75.16312908199995, 39.99336328800006], [-75.16360497399995, 39.99314913700005], [-75.16731693299994, 39.99126936300007], [-75.16931568099994, 39.99026998900007]]], &quot;type&quot;: &quot;Polygon&quot;}, &quot;id&quot;: &quot;90&quot;, &quot;properties&quot;: {&quot;N&quot;: null, &quot;Name&quot;: &quot;STRAWBERRY_MANSION&quot;, &quot;__folium_color&quot;: &quot;#1b9e77&quot;, &quot;label&quot;: -1.0, &quot;neighborhood&quot;: null, &quot;overall_satisfaction&quot;: null, &quot;price_per_person&quot;: null}, &quot;type&quot;: &quot;Feature&quot;}, {&quot;bbox&quot;: [-75.15826558699995, 39.953376501000044, -75.15393496799997, 39.957473981000085], &quot;geometry&quot;: {&quot;coordinates&quot;: [[[-75.15393496799997, 39.95671255300004], [-75.15455140899996, 39.953376501000044], [-75.15776590099995, 39.95380961100005], [-75.15748036499997, 39.95552282300008], [-75.15826558699995, 39.955570412000036], [-75.15788487399992, 39.957473981000085], [-75.15393496799997, 39.95671255300004]]], &quot;type&quot;: &quot;Polygon&quot;}, &quot;id&quot;: &quot;91&quot;, &quot;properties&quot;: {&quot;N&quot;: 101.0, &quot;Name&quot;: &quot;CHINATOWN&quot;, &quot;__folium_color&quot;: &quot;#d95f02&quot;, &quot;label&quot;: 0.0, &quot;neighborhood&quot;: &quot;CHINATOWN&quot;, &quot;overall_satisfaction&quot;: 2.984848484848485, &quot;price_per_person&quot;: 48.47666666666666}, &quot;type&quot;: &quot;Feature&quot;}, {&quot;bbox&quot;: [-75.11415076999997, 40.00128767100006, -75.09027837999999, 40.02361653300006], &quot;geometry&quot;: {&quot;coordinates&quot;: [[[-75.10429028399994, 40.023292926000074], [-75.10413799799994, 40.02287414100004], [-75.10350982099999, 40.02228403500004], [-75.10341464199995, 40.021808142000054], [-75.10314814199994, 40.021160929000075], [-75.10352885599997, 40.02032335900004], [-75.10381439199995, 40.01900989600006], [-75.10535628199995, 40.01923832400007], [-75.10564181799997, 40.01887664600008], [-75.10594638899994, 40.018705325000035], [-75.10705045899994, 40.01824846900006], [-75.10743117199996, 40.01788679100008], [-75.10754538599997, 40.01733475600002], [-75.10724081499995, 40.016706578000026], [-75.10674588799998, 40.01640200700007], [-75.10202503699996, 40.01604032900008], [-75.10038796799994, 40.01605936500005], [-75.09943618299997, 40.01630682800005], [-75.09878896999999, 40.01640200700007], [-75.09779911399993, 40.01600225700003], [-75.09583843799997, 40.015697686000074], [-75.09442461499998, 40.014799812000035], [-75.09447262799993, 40.014788732000056], [-75.09440799199994, 40.014690949000055], [-75.09354463799997, 40.01338485000007], [-75.09344945899994, 40.01281378000004], [-75.09509128699995, 40.010315346000034], [-75.09504369799998, 40.00969668600004], [-75.09449642199995, 40.00922079400004], [-75.09347325399995, 40.00867351800008], [-75.0921645499999, 40.00750758200007], [-75.09211696099997, 40.00719825200007], [-75.09256905899997, 40.006579592000044], [-75.09290218299996, 40.006222673000025], [-75.09275941599998, 40.00574678100003], [-75.09245008599997, 40.005342272000064], [-75.09171245299996, 40.00469981800006], [-75.09027837999999, 40.004184448000046], [-75.09273562099996, 40.00206813400007], [-75.09385872699994, 40.00153513500004], [-75.09511508199995, 40.00128767100006], [-75.09722804299997, 40.001325742000056], [-75.10301489299997, 40.00216331200004], [-75.10409992699994, 40.00153513500004], [-75.11002002599997, 40.002296562000026], [-75.10990581199995, 40.00307702500003], [-75.11407462699998, 40.00361002500005], [-75.11285634299996, 40.00901616000005], [-75.11217105899993, 40.01208090600005], [-75.11151109099997, 40.01513325500008], [-75.11049591799996, 40.019828431000064], [-75.11415076999997, 40.02034239400007], [-75.11125734599995, 40.02317871200006], [-75.11108602399997, 40.02281703400007], [-75.11040073999999, 40.02228403500004], [-75.10923956299995, 40.02211271300007], [-75.10828777799998, 40.02264571300003], [-75.10762152899997, 40.02291221200005], [-75.10733599399998, 40.02327389000004], [-75.10705045899994, 40.02338810400005], [-75.10674588799998, 40.02312160500002], [-75.10609867399995, 40.02291221200005], [-75.10558471099995, 40.02302642600005], [-75.10539435399994, 40.023235819000035], [-75.10529917499996, 40.023502319000045], [-75.10484231899994, 40.02361653300006], [-75.10429028399994, 40.023292926000074]]], &quot;type&quot;: &quot;Polygon&quot;}, &quot;id&quot;: &quot;92&quot;, &quot;properties&quot;: {&quot;N&quot;: null, &quot;Name&quot;: &quot;JUNIATA_PARK&quot;, &quot;__folium_color&quot;: &quot;#1b9e77&quot;, &quot;label&quot;: -1.0, &quot;neighborhood&quot;: null, &quot;overall_satisfaction&quot;: null, &quot;price_per_person&quot;: null}, &quot;type&quot;: &quot;Feature&quot;}, {&quot;bbox&quot;: [-75.16528499699996, 39.95128907300005, -75.15455140899996, 39.95806884600006], &quot;geometry&quot;: {&quot;coordinates&quot;: [[[-75.15788487399992, 39.957473981000085], [-75.15826558699995, 39.955570412000036], [-75.15748036499997, 39.95552282300008], [-75.15776590099995, 39.95380961100005], [-75.15455140899996, 39.953376501000044], [-75.15456448699996, 39.95330572300003], [-75.15493712699997, 39.95128907300005], [-75.16247723299995, 39.95223916700007], [-75.16266758999996, 39.951453945000026], [-75.16388111499997, 39.95162050700003], [-75.16511843499994, 39.951763275000076], [-75.16528499699996, 39.95238193400007], [-75.16523401199997, 39.952578030000026], [-75.16523042299997, 39.95259183300005], [-75.16497566699996, 39.95357166500003], [-75.16350040199994, 39.953381308000075], [-75.16242964399997, 39.95806884600006], [-75.15788487399992, 39.957473981000085]]], &quot;type&quot;: &quot;Polygon&quot;}, &quot;id&quot;: &quot;93&quot;, &quot;properties&quot;: {&quot;N&quot;: 168.0, &quot;Name&quot;: &quot;CENTER_CITY&quot;, &quot;__folium_color&quot;: &quot;#d95f02&quot;, &quot;label&quot;: 0.0, &quot;neighborhood&quot;: &quot;CENTER_CITY&quot;, &quot;overall_satisfaction&quot;: 2.5277777777777777, &quot;price_per_person&quot;: 110.12702777777776}, &quot;type&quot;: &quot;Feature&quot;}, {&quot;bbox&quot;: [-75.18729146399994, 39.96724838700004, -75.17032488899997, 39.97507625900005], &quot;geometry&quot;: {&quot;coordinates&quot;: [[[-75.17786778099997, 39.97383949400007], [-75.17784398599996, 39.97250699500006], [-75.17648769299996, 39.972340433000056], [-75.17032488899997, 39.97305427100008], [-75.17132426299996, 39.96724838700004], [-75.17977134999995, 39.96741494900005], [-75.18203183699994, 39.96955646400004], [-75.18555343999996, 39.972483201000045], [-75.18545826099995, 39.973363601000074], [-75.18655281299992, 39.97353016400006], [-75.18727636499995, 39.97504728800005], [-75.18729146399994, 39.97507625900005], [-75.17786778099997, 39.97383949400007]]], &quot;type&quot;: &quot;Polygon&quot;}, &quot;id&quot;: &quot;94&quot;, &quot;properties&quot;: {&quot;N&quot;: 463.0, &quot;Name&quot;: &quot;FAIRMOUNT&quot;, &quot;__folium_color&quot;: &quot;#666666&quot;, &quot;label&quot;: 4.0, &quot;neighborhood&quot;: &quot;FAIRMOUNT&quot;, &quot;overall_satisfaction&quot;: 2.903614457831325, &quot;price_per_person&quot;: 144.76411027568926}, &quot;type&quot;: &quot;Feature&quot;}, {&quot;bbox&quot;: [-75.08816864199996, 40.02338466900005, -75.03353202099998, 40.04792450700007], &quot;geometry&quot;: {&quot;coordinates&quot;: [[[-75.08658784299996, 40.029170898000075], [-75.08816864199996, 40.03006645800008], [-75.08502775399994, 40.03173208100003], [-75.06408849699994, 40.036728949000064], [-75.06285117699996, 40.036966895000035], [-75.06199457099994, 40.03753796600006], [-75.05433270699994, 40.04453358100005], [-75.05157165799994, 40.04713928500007], [-75.04946583499998, 40.04678236600007], [-75.04775262399994, 40.046211296000024], [-75.04728862899998, 40.04631837100004], [-75.04382651299996, 40.04685375000003], [-75.04329113399994, 40.04746051300003], [-75.04225606899996, 40.04792450700007], [-75.04040008899995, 40.04767466400005], [-75.03990040199994, 40.04710359300003], [-75.03975763499994, 40.046246987000075], [-75.03890102899999, 40.04589006800006], [-75.03736627599994, 40.04571160900009], [-75.03697366499993, 40.04539038200004], [-75.03586721599997, 40.04467654300004], [-75.03447223099994, 40.04444435300007], [-75.03656583299993, 40.043479217000026], [-75.03353202099998, 40.039517415000034], [-75.04052763599998, 40.036840521000045], [-75.04215161799993, 40.036198067000036], [-75.04418605699993, 40.03509161700004], [-75.04618480499994, 40.03402086000005], [-75.04771955699994, 40.03334271400007], [-75.04950415299999, 40.032771643000046], [-75.05346595499998, 40.031629502000044], [-75.05482224799994, 40.030701512000064], [-75.05610715699999, 40.02948798700004], [-75.05782036899994, 40.028631381000025], [-75.05896250999996, 40.028024618000074], [-75.06231754999999, 40.027560623000056], [-75.06506582799994, 40.02716801200006], [-75.06770702899996, 40.02673970900003], [-75.07341773599995, 40.02541910800005], [-75.07624713999996, 40.02372146600004], [-75.07678512199993, 40.023398677000046], [-75.07680846799997, 40.02338466900005], [-75.08146744199996, 40.026270070000066], [-75.08658784299996, 40.029170898000075]]], &quot;type&quot;: &quot;Polygon&quot;}, &quot;id&quot;: &quot;95&quot;, &quot;properties&quot;: {&quot;N&quot;: 16.0, &quot;Name&quot;: &quot;MAYFAIR&quot;, &quot;__folium_color&quot;: &quot;#e7298a&quot;, &quot;label&quot;: 1.0, &quot;neighborhood&quot;: &quot;MAYFAIR&quot;, &quot;overall_satisfaction&quot;: 1.0, &quot;price_per_person&quot;: 67.2051282051282}, &quot;type&quot;: &quot;Feature&quot;}, {&quot;bbox&quot;: [-75.17528677599994, 40.047514943000074, -75.139414, 40.07696299999999], &quot;geometry&quot;: {&quot;coordinates&quot;: [[[-75.16323742499998, 40.07685812000006], [-75.16293999999999, 40.076655], [-75.16195696699998, 40.07612281000007], [-75.161937, 40.076111999999995], [-75.16154708599997, 40.07589704000002], [-75.16128399999998, 40.075752], [-75.16105240399997, 40.075629837000065], [-75.16104702399997, 40.075626999000065], [-75.160429, 40.075300999999996], [-75.15991615999997, 40.07500325400008], [-75.159399, 40.074703], [-75.15901656699997, 40.074506331000066], [-75.15876460199996, 40.07437675600004], [-75.15875934999995, 40.07437405500007], [-75.15850256199995, 40.074242], [-75.15841289999997, 40.07419589100004], [-75.158382, 40.07417999999999], [-75.15758759799995, 40.073728862000046], [-75.15756309299996, 40.07371494600005], [-75.155834, 40.072733], [-75.15472899099996, 40.07210392000007], [-75.15469399999999, 40.072084], [-75.154076, 40.071732], [-75.15396368599994, 40.07166805800006], [-75.15373726699994, 40.07153915400004], [-75.15369797999993, 40.07151678800005], [-75.15360758699997, 40.07146532600007], [-75.15354910499995, 40.07143203200008], [-75.15333299999999, 40.071309], [-75.152756, 40.07098], [-75.15220853299996, 40.07066935300003], [-75.152185, 40.07065599999999], [-75.15218002099994, 40.07065315500005], [-75.151926, 40.070508], [-75.151588, 40.070316], [-75.150724, 40.06982399999999], [-75.15003999999999, 40.06943400000001], [-75.149531, 40.069144], [-75.148354, 40.068475], [-75.147799, 40.06815900000001], [-75.147678, 40.06808999999999], [-75.14711730299996, 40.06777096400003], [-75.14662, 40.067488000000004], [-75.14625108399996, 40.06727769200007], [-75.145464, 40.066829], [-75.145219, 40.066689], [-75.144876, 40.066495], [-75.14455399999999, 40.06631099999999], [-75.14394299999998, 40.065963], [-75.143056, 40.065458], [-75.14185399999998, 40.064773], [-75.140901, 40.06423099999999], [-75.13972038399999, 40.063558123000064], [-75.139464, 40.06341200000001], [-75.13944427399997, 40.063401041000084], [-75.13942799999998, 40.063392], [-75.13942099899998, 40.06338850000002], [-75.139414, 40.063385], [-75.1428666199999, 40.047514943000074], [-75.14955885399996, 40.05132208000003], [-75.15077832799993, 40.051916946000055], [-75.15327676199996, 40.05304719000003], [-75.15754895599996, 40.05511255500006], [-75.15776799499997, 40.055218448000055], [-75.16037484199995, 40.05668493800004], [-75.16038207799993, 40.05668900900002], [-75.16081474599997, 40.05693240800009], [-75.16101108099997, 40.057042857000056], [-75.16475766099995, 40.05915050700003], [-75.16593549399994, 40.059935729000074], [-75.16725609499997, 40.06054249200003], [-75.17528677599994, 40.06528951600007], [-75.163391, 40.07696299999999], [-75.16326813899997, 40.07687909500004], [-75.16324468099997, 40.07686307500006], [-75.16323742499998, 40.07685812000006]]], &quot;type&quot;: &quot;Polygon&quot;}, &quot;id&quot;: &quot;96&quot;, &quot;properties&quot;: {&quot;N&quot;: 18.0, &quot;Name&quot;: &quot;WEST_OAK_LANE&quot;, &quot;__folium_color&quot;: &quot;#e7298a&quot;, &quot;label&quot;: 1.0, &quot;neighborhood&quot;: &quot;WEST_OAK_LANE&quot;, &quot;overall_satisfaction&quot;: 1.6666666666666667, &quot;price_per_person&quot;: 49.25}, &quot;type&quot;: &quot;Feature&quot;}, {&quot;bbox&quot;: [-75.280266, 39.96266871100005, -75.22584005499992, 40.000317], &quot;geometry&quot;: {&quot;coordinates&quot;: [[[-75.22694645299998, 39.997440683000036], [-75.22689895999996, 39.997439701000076], [-75.22648250999998, 39.997439701000076], [-75.22633817199994, 39.99709489300006], [-75.22596600499998, 39.99620582900008], [-75.22584005499992, 39.99590494900008], [-75.22600687799996, 39.99582613900003], [-75.23618451499992, 39.99101808400008], [-75.23619071099995, 39.99101515700005], [-75.23768977099996, 39.99069392900004], [-75.23813422399996, 39.99054067000003], [-75.23872483699995, 39.99033701000008], [-75.23941352499996, 39.98967127900005], [-75.23979559399997, 39.989301945000086], [-75.24091394799994, 39.988777356000064], [-75.24642671799994, 39.98619147000005], [-75.24669391599997, 39.98606613500004], [-75.24671982599995, 39.98605398100005], [-75.24595164499993, 39.98467655300004], [-75.24571583799995, 39.98425372800006], [-75.24568475999996, 39.98419800100003], [-75.24136667899995, 39.98273504400003], [-75.23915313999998, 39.98198510200007], [-75.23499237299994, 39.98058310400006], [-75.23258582699998, 39.97977220300004], [-75.23021600899995, 39.97873638800007], [-75.22993515299999, 39.978613630000034], [-75.22769408299996, 39.97763409000003], [-75.22719634799994, 39.977416537000074], [-75.22890955999998, 39.97713100200008], [-75.23790392299998, 39.97613162800007], [-75.24539922499997, 39.97541779000006], [-75.24739797199999, 39.975167946000056], [-75.24686259299995, 39.97209844200006], [-75.24754073999998, 39.96906462900006], [-75.24654136599997, 39.96902893700008], [-75.24743366399997, 39.96438898800005], [-75.24643428999995, 39.964246220000064], [-75.24672060899996, 39.96270798200003], [-75.24668944999996, 39.96266871100005], [-75.24736822899996, 39.96275310900007], [-75.24762355299997, 39.96293673300004], [-75.24764199999998, 39.96294999999999], [-75.247604, 39.96299199999999], [-75.24754075699997, 39.96306184200005], [-75.247489, 39.963119000000006], [-75.247418, 39.963191], [-75.24739900000002, 39.963249], [-75.247405, 39.963327], [-75.24743399999998, 39.963417], [-75.24747899999998, 39.963528], [-75.247564, 39.96363800000001], [-75.24765306899997, 39.96374031900006], [-75.247685, 39.963777], [-75.247778, 39.963876000000006], [-75.247903, 39.963979], [-75.248056, 39.964074], [-75.24821654399993, 39.96415384100004], [-75.24861500000002, 39.964352], [-75.24896700000001, 39.964494], [-75.249465, 39.964721000000004], [-75.249728, 39.96485], [-75.249848, 39.964907999999994], [-75.24991199999998, 39.964947], [-75.24999, 39.96500100000001], [-75.250054, 39.96504199999999], [-75.250133, 39.965067000000005], [-75.250221, 39.965075999999996], [-75.250313, 39.965069], [-75.25034176699994, 39.96505805100003], [-75.250447, 39.965018], [-75.25046097499995, 39.96501184700002], [-75.250606, 39.964948], [-75.25066719999994, 39.96492003500003], [-75.250757, 39.964879], [-75.250913, 39.964837], [-75.251048, 39.964833000000006], [-75.25110199999999, 39.96485799999999], [-75.25120099999998, 39.964912], [-75.251283, 39.965003], [-75.251342, 39.96507199999999], [-75.251336, 39.965138], [-75.251341, 39.965191999999995], [-75.251353, 39.96521899999999], [-75.251368, 39.96524900000001], [-75.251427, 39.965302], [-75.25149599999999, 39.965337], [-75.25160299999999, 39.96535600000001], [-75.251707, 39.96534599999999], [-75.251811, 39.96533], [-75.25192299999999, 39.965318], [-75.25209399999999, 39.965305], [-75.25233399999999, 39.96527999999999], [-75.252636, 39.965250999999995], [-75.25284299999998, 39.965244], [-75.25297199999999, 39.96523499999999], [-75.253077, 39.965214], [-75.253222, 39.965183999999994], [-75.253314, 39.965226], [-75.25340699999998, 39.965261], [-75.25358199999998, 39.9653], [-75.253712, 39.96532899999999], [-75.253936, 39.96538999999999], [-75.25404599999999, 39.965402], [-75.25413999999999, 39.965404], [-75.254223, 39.965337], [-75.254302, 39.965272999999996], [-75.254337, 39.96521099999999], [-75.254381, 39.965127], [-75.254456, 39.965045999999994], [-75.254543, 39.964992], [-75.25454953799994, 39.964987078000036], [-75.25463199999999, 39.964924999999994], [-75.254738, 39.96485], [-75.254937, 39.964763], [-75.25511199999998, 39.964691], [-75.255267, 39.96465499999999], [-75.255409, 39.96462999999999], [-75.255543, 39.964594999999996], [-75.255686, 39.964546], [-75.255812, 39.964470999999996], [-75.255852, 39.964437], [-75.25589199999999, 39.96437199999999], [-75.255966, 39.96431200000001], [-75.25601342399995, 39.964283627000036], [-75.256083, 39.96424199999999], [-75.25609913099998, 39.964229242000044], [-75.256193, 39.96415499999999], [-75.25628099999999, 39.964079], [-75.25638299999999, 39.963974], [-75.256586, 39.963802], [-75.25665501899992, 39.963744714000036], [-75.25668599999999, 39.963719], [-75.256746, 39.963688], [-75.256816, 39.96367699999999], [-75.25689999999999, 39.963672], [-75.256981, 39.963688], [-75.25711000099994, 39.963719], [-75.25712795399996, 39.96372621000006], [-75.25722434299996, 39.963747368000035], [-75.25725, 39.963753000000004], [-75.25731899999998, 39.963767], [-75.257418, 39.96376599999999], [-75.257487, 39.96374399999999], [-75.257543, 39.96370499999998], [-75.257629, 39.963664], [-75.257705, 39.963631], [-75.25778799999999, 39.963602], [-75.25785799999998, 39.96359399999999], [-75.25789872299998, 39.96361028900004], [-75.25792338499996, 39.96362015400006], [-75.25792819199994, 39.96362207700002], [-75.25793299999998, 39.963623999999996], [-75.257994, 39.96367699999999], [-75.25800459199996, 39.96370983400004], [-75.258014, 39.96373899999999], [-75.258012, 39.96385399999999], [-75.258014, 39.963993], [-75.257991, 39.964095], [-75.25796199999999, 39.964161000000004], [-75.257944, 39.96423599999999], [-75.257944, 39.964301], [-75.257976, 39.964377], [-75.25800699999999, 39.96439900000001], [-75.258058, 39.964428000000005], [-75.25812, 39.964446], [-75.25818899999999, 39.96445], [-75.258271, 39.964451999999994], [-75.258339, 39.964448999999995], [-75.258407, 39.964451999999994], [-75.25846999999999, 39.964484000000006], [-75.25850999999999, 39.964535], [-75.25854206899997, 39.96460693900008], [-75.258547, 39.96461800000001], [-75.25858999999998, 39.964708], [-75.258637, 39.964766], [-75.25868399999999, 39.964846], [-75.258706, 39.964903], [-75.258713, 39.964965], [-75.25871499999998, 39.965059], [-75.25871099999999, 39.965239999999994], [-75.2587, 39.965324], [-75.25870498199998, 39.96535389000008], [-75.258709, 39.96537800000001], [-75.258738, 39.965447], [-75.258767, 39.965516], [-75.25877133399995, 39.96552394500003], [-75.25877566699995, 39.96553188900003], [-75.258797, 39.965571000000004], [-75.258839, 39.965614], [-75.25889, 39.965648], [-75.25897400000001, 39.96567599999999], [-75.259078, 39.965692], [-75.259214, 39.965697], [-75.25927247399993, 39.96569749100007], [-75.259333, 39.96569800000001], [-75.2594, 39.96571599999999], [-75.25941478599997, 39.96574492800005], [-75.25941889299996, 39.965752964000046], [-75.259423, 39.965761], [-75.259427, 39.965813], [-75.25942799999999, 39.96589199999999], [-75.25945, 39.965947], [-75.259551, 39.96601], [-75.259649, 39.966041], [-75.259779, 39.966080999999996], [-75.25990899999998, 39.966114999999995], [-75.260065, 39.966196], [-75.260309, 39.966257000000006], [-75.260491, 39.96631300000001], [-75.26058658399995, 39.96627286700005], [-75.260662, 39.966269], [-75.26066904599998, 39.966269871000065], [-75.26067609199998, 39.96627074200006], [-75.260751, 39.96628], [-75.260828, 39.966269999999994], [-75.260932, 39.966241999999994], [-75.26102599999999, 39.966198], [-75.261115, 39.966136], [-75.261161, 39.966080999999996], [-75.261215, 39.96602600000001], [-75.26128399999999, 39.96599700000001], [-75.261386, 39.96600099999999], [-75.261445, 39.966031], [-75.26147899999998, 39.966075999999994], [-75.261547, 39.96611600000001], [-75.261661, 39.96615899999999], [-75.261736, 39.966182], [-75.261811, 39.96619], [-75.261893, 39.966170999999996], [-75.262013, 39.966135], [-75.262093, 39.96608700000001], [-75.262104, 39.96605400000001], [-75.262116, 39.966006], [-75.26213799999998, 39.965965], [-75.26214549999997, 39.96595750000006], [-75.262153, 39.96595], [-75.262169, 39.965934], [-75.262242, 39.96587999999999], [-75.26227299999998, 39.965851], [-75.26234323899996, 39.965782545000025], [-75.262382, 39.96573899999999], [-75.26242199999999, 39.96567599999999], [-75.26245699999998, 39.965633], [-75.262512, 39.96561100000001], [-75.26255899999998, 39.965617], [-75.26256550699998, 39.96561799300007], [-75.26257202599999, 39.965618987000035], [-75.262618, 39.965626], [-75.26267899999999, 39.965638], [-75.262766, 39.965647000000004], [-75.262836, 39.965639], [-75.26286323799997, 39.965629155000045], [-75.262919, 39.965609], [-75.26296099999999, 39.965579], [-75.26302799999999, 39.965531], [-75.263092, 39.965486], [-75.263144, 39.965458999999996], [-75.26319499999998, 39.965456999999994], [-75.26325099999998, 39.965474], [-75.26327905299995, 39.965489529000024], [-75.26330699999998, 39.96550500000001], [-75.263383, 39.965545], [-75.26338709099996, 39.965546559000074], [-75.263467, 39.965577], [-75.26353, 39.965605], [-75.263614, 39.96562099999999], [-75.26369599999998, 39.965614], [-75.26376999999998, 39.965596], [-75.263855, 39.965556], [-75.26392799999999, 39.965529000000004], [-75.26399005999997, 39.965490922000065], [-75.26401599999998, 39.965456999999994], [-75.264056, 39.965421000000006], [-75.26408830799994, 39.96540032300004], [-75.264131, 39.965373], [-75.264242, 39.965312000000004], [-75.264373, 39.965241999999996], [-75.26443350899996, 39.96521887900008], [-75.264496, 39.965195], [-75.26455300000002, 39.965181], [-75.264644, 39.965179], [-75.26475799999999, 39.965183999999994], [-75.26491799999998, 39.965188999999995], [-75.265058, 39.965191999999995], [-75.265252, 39.965207], [-75.265388, 39.965224000000006], [-75.265448, 39.965256999999994], [-75.265528, 39.965349999999994], [-75.265566, 39.965404], [-75.265598, 39.965447999999995], [-75.265656, 39.965526], [-75.265744, 39.965626], [-75.26580599999998, 39.96571599999999], [-75.26585509699997, 39.965786814000076], [-75.26585799999998, 39.965791], [-75.265921, 39.96586], [-75.26602654399994, 39.96591485000005], [-75.26604678299998, 39.96592536800006], [-75.26605117799993, 39.96592690800003], [-75.266062, 39.96593], [-75.266193, 39.965968], [-75.26631299999998, 39.966004000000005], [-75.266395, 39.966018], [-75.26651978899997, 39.96602049600006], [-75.26654499999998, 39.96602099999999], [-75.26670699999998, 39.96602099999999], [-75.266795, 39.96600899999999], [-75.266909, 39.966008], [-75.26702400000002, 39.966024999999995], [-75.2671, 39.96605], [-75.26713799999999, 39.966062], [-75.267214, 39.966092], [-75.267245, 39.966117], [-75.26731788299998, 39.96616765600004], [-75.267386, 39.966215], [-75.267475, 39.96626], [-75.26751287499995, 39.96626688600002], [-75.26752999999998, 39.966269999999994], [-75.267534, 39.966271000000006], [-75.267538, 39.966272000000004], [-75.267598, 39.966273], [-75.26767, 39.966297999999995], [-75.267779, 39.96634100000001], [-75.267818, 39.966359], [-75.267909, 39.96639999999999], [-75.268129, 39.96649099999999], [-75.268393, 39.966589], [-75.268461, 39.96661799999999], [-75.268513, 39.966651000000006], [-75.26853326699995, 39.966665739000064], [-75.268568, 39.966691], [-75.268701, 39.966796], [-75.26872156, 39.966814276000036], [-75.26876222899995, 39.966850426000065], [-75.268773, 39.96686], [-75.268846, 39.966946], [-75.268916, 39.96704100000001], [-75.26893334099998, 39.967074641000075], [-75.26894277699995, 39.967092948000065], [-75.26901226499996, 39.96722775500006], [-75.26901599999998, 39.96723500000001], [-75.269044, 39.96728499999999], [-75.26908, 39.96732999999999], [-75.269125, 39.96736099999999], [-75.269157, 39.967374], [-75.26916238699994, 39.96737477000005], [-75.26918653599995, 39.967378219000075], [-75.26919626799997, 39.96737961000008], [-75.269206, 39.967380999999996], [-75.269272, 39.967391], [-75.26935105699992, 39.96740123100005], [-75.269357, 39.967402], [-75.26944499999999, 39.96738800000001], [-75.26949799999998, 39.967375], [-75.269548, 39.967355], [-75.269614, 39.967331], [-75.26967, 39.967316999999994], [-75.269741, 39.967315], [-75.26980099999999, 39.967326], [-75.269857, 39.967344], [-75.269919, 39.96738], [-75.269961, 39.967425], [-75.27000199999999, 39.967479], [-75.27002999999999, 39.967552], [-75.270054, 39.967653], [-75.27007299999998, 39.967729], [-75.27008518799994, 39.967755013000044], [-75.27013999999998, 39.967872], [-75.27019199999998, 39.967977], [-75.270297, 39.968183999999994], [-75.27035376099997, 39.968270078000046], [-75.270388, 39.96832200000001], [-75.270402, 39.96835699999999], [-75.27041299999999, 39.968428], [-75.270422, 39.968479], [-75.270447, 39.968528], [-75.27050099999998, 39.968585], [-75.27052199999999, 39.968602], [-75.27056999999999, 39.968638], [-75.27057499799997, 39.968641927000085], [-75.27058, 39.96864585700007], [-75.270598, 39.968659999999986], [-75.270651, 39.968675], [-75.270718, 39.96867100000001], [-75.270773, 39.968663], [-75.270838, 39.96864399999999], [-75.270913, 39.968619], [-75.27098599999998, 39.968603], [-75.271043, 39.968609], [-75.271109, 39.968619], [-75.271168, 39.96863299999998], [-75.27124099999999, 39.968663], [-75.271327, 39.968691], [-75.27140700000001, 39.96870400000001], [-75.27149100000001, 39.96870899999999], [-75.27158999999999, 39.968714999999996], [-75.271698, 39.96872900000001], [-75.271802, 39.96875599999999], [-75.27185687899998, 39.96880008300007], [-75.271863, 39.968805], [-75.271922, 39.968859], [-75.271985, 39.96894400000001], [-75.27201637899996, 39.968976988000065], [-75.27202018899999, 39.96898099400005], [-75.272024, 39.968985], [-75.27208540699995, 39.969010694000076], [-75.272196, 39.969046999999996], [-75.272344, 39.96909399999999], [-75.272505, 39.969131], [-75.272625, 39.969178], [-75.272726, 39.96921699999999], [-75.272815, 39.969244], [-75.272957, 39.969293], [-75.273054, 39.96930499999999], [-75.27318499999998, 39.96930499999999], [-75.27319618799997, 39.969303704000026], [-75.27320737499997, 39.96930240900007], [-75.27328, 39.96929399999999], [-75.273415, 39.96928100000001], [-75.273492, 39.96927600000001], [-75.27356899999998, 39.969278], [-75.273681, 39.969287], [-75.27381, 39.969297000000005], [-75.27391199999998, 39.96931], [-75.27392274299996, 39.96931053700007], [-75.27393348599996, 39.96931107400008], [-75.274012, 39.969314999999995], [-75.27415, 39.96931699999999], [-75.27432599999999, 39.969316], [-75.27444824199995, 39.969311473000054], [-75.27448799999999, 39.96931], [-75.27480799999998, 39.969293], [-75.27488899999999, 39.969287], [-75.27502699999998, 39.969289], [-75.275084, 39.969297000000005], [-75.27512391599998, 39.96930689100003], [-75.275197, 39.969325], [-75.275266, 39.96936399999999], [-75.27531999999998, 39.969411], [-75.275362, 39.969502999999996], [-75.27539399999999, 39.969575], [-75.27545599999999, 39.969778], [-75.275494, 39.96992899999999], [-75.27549557799995, 39.96993323500004], [-75.27549715599997, 39.96993747300008], [-75.27556700000001, 39.970125], [-75.27558631199997, 39.97016758500007], [-75.27560600000001, 39.970211], [-75.275652, 39.970259], [-75.27570499999999, 39.970293], [-75.27578770899997, 39.970305334000045], [-75.275819, 39.97030999999999], [-75.276005, 39.970312], [-75.27612959099996, 39.97032026000006], [-75.27618599999998, 39.97032399999999], [-75.27624499999999, 39.97033], [-75.276277, 39.970341999999995], [-75.276302, 39.970351], [-75.27630930999997, 39.970354977000056], [-75.27631662199997, 39.97035895600004], [-75.27636999999999, 39.970388], [-75.27640481099996, 39.97041177300008], [-75.276411, 39.970416], [-75.27641540899998, 39.970424492000056], [-75.276438, 39.970468000000004], [-75.27646222599996, 39.97051144100004], [-75.27646644899994, 39.970519013000064], [-75.27650799999999, 39.97059], [-75.27655299999999, 39.970672], [-75.276611, 39.970776], [-75.27664, 39.970828000000004], [-75.276656, 39.970862000000004], [-75.276667, 39.97090699999999], [-75.276674, 39.970945], [-75.276662, 39.970983], [-75.276636, 39.971016], [-75.27660007899992, 39.971045323000055], [-75.276587, 39.971056], [-75.27658137499996, 39.97105971800005], [-75.27657574599993, 39.97106343900003], [-75.276528, 39.971095], [-75.276471, 39.97113499999999], [-75.27648499999998, 39.971177999999995], [-75.27652399999998, 39.971224], [-75.276583, 39.97126200000001], [-75.276689, 39.97125299999999], [-75.27675999999998, 39.971244], [-75.27682333799999, 39.97121574200003], [-75.27689599999998, 39.971175], [-75.27700516499992, 39.97113182700007], [-75.277073, 39.971105], [-75.27713599999998, 39.971089], [-75.27719799999998, 39.971082], [-75.277266, 39.971082], [-75.27733800000001, 39.971083], [-75.277421, 39.971097], [-75.277491, 39.971109999999996], [-75.27754, 39.971127], [-75.277576, 39.971149999999994], [-75.277611, 39.971175], [-75.277656, 39.971208999999995], [-75.277687, 39.971247000000005], [-75.277704, 39.97128399999999], [-75.27770756299998, 39.971298647000026], [-75.27771299999999, 39.971320999999996], [-75.277688, 39.971345], [-75.27768394899994, 39.971346640000036], [-75.27767989699998, 39.971348280000036], [-75.27764599999999, 39.971362], [-75.27759600000002, 39.971377], [-75.27755100000002, 39.971386], [-75.277523, 39.97140100000001], [-75.277509, 39.971424], [-75.277503, 39.971451999999985], [-75.277505, 39.971487], [-75.277513, 39.971518], [-75.27752899999999, 39.971555], [-75.277553, 39.971583], [-75.27759099999999, 39.971615], [-75.27764100000002, 39.971643], [-75.27767599999999, 39.971658999999995], [-75.27768457899998, 39.97166083200005], [-75.27769315699999, 39.97166266300008], [-75.27776499999999, 39.97167799999999], [-75.27780942299995, 39.97168350700007], [-75.277886, 39.971693], [-75.27794213099997, 39.971707552000055], [-75.27796699999999, 39.97171399999999], [-75.278018, 39.971751], [-75.278297, 39.971928], [-75.278352, 39.97201299999999], [-75.278449, 39.972106], [-75.27847438699996, 39.97212879100005], [-75.278537, 39.97218500000001], [-75.278609, 39.972263], [-75.27865699999998, 39.972332], [-75.278697, 39.97241400000001], [-75.27872399999998, 39.97252999999999], [-75.27875899999998, 39.972634000000006], [-75.27877699999999, 39.972692], [-75.27878, 39.972745], [-75.278784, 39.972841], [-75.27879499999999, 39.97294999999999], [-75.27881, 39.973051000000005], [-75.27882999999999, 39.973162], [-75.278859, 39.973247], [-75.278916, 39.97331499999999], [-75.27895199999999, 39.97335900000001], [-75.278971, 39.97344600000001], [-75.278998, 39.97352599999999], [-75.279046, 39.973618], [-75.27908099999999, 39.973691], [-75.27910900000002, 39.973811999999995], [-75.279123, 39.973913], [-75.27917, 39.973986], [-75.27924199999998, 39.97403099999999], [-75.279359, 39.974072], [-75.279465, 39.974122], [-75.27957930499997, 39.97417534200009], [-75.2796, 39.974185000000006], [-75.27975255199993, 39.974285461000086], [-75.279805, 39.97432], [-75.27995499999999, 39.974424], [-75.28002699999999, 39.974502], [-75.28004399999999, 39.974540000000005], [-75.28005709899998, 39.974566837000054], [-75.280085, 39.974624000000006], [-75.28011247399996, 39.97469176900005], [-75.28013, 39.974735], [-75.28019199999999, 39.97483499999999], [-75.28019444599994, 39.97483841200005], [-75.28019689199994, 39.97484182400006], [-75.28023, 39.974888], [-75.28026386799998, 39.97495949700005], [-75.280266, 39.97496399999999], [-75.27951, 39.975348999999994], [-75.279137, 39.975552], [-75.278938, 39.97565399999999], [-75.27818599999999, 39.976040999999995], [-75.277669, 39.97631199999999], [-75.27672938699999, 39.976824157000074], [-75.276475, 39.976955000000004], [-75.27637899999999, 39.977004], [-75.276202, 39.977083], [-75.27614520099995, 39.97710852600005], [-75.27586599999998, 39.977233999999996], [-75.27571047799994, 39.97730312100003], [-75.27546099999999, 39.977414], [-75.27527206199994, 39.97749851700007], [-75.27523756099998, 39.97751395000005], [-75.273572, 39.978258999999994], [-75.27315899999999, 39.978443000000006], [-75.272301, 39.97882400000001], [-75.27152499999998, 39.97916899999999], [-75.271337, 39.97925299999999], [-75.26927, 39.98017], [-75.26739199999999, 39.981002000000004], [-75.26628599999998, 39.98149299999999], [-75.265591, 39.981801], [-75.26477600000001, 39.98216300000001], [-75.26438199999998, 39.982337], [-75.26374, 39.982622], [-75.26371299999998, 39.982634], [-75.26367268699994, 39.98265634700005], [-75.26338805999995, 39.98281412700005], [-75.262526, 39.983292000000006], [-75.26218299999998, 39.98348099999999], [-75.26076263999994, 39.98426249100004], [-75.260729, 39.984280999999996], [-75.26068931699996, 39.98430279400003], [-75.25965477999995, 39.98487097100008], [-75.259591, 39.984905999999995], [-75.25953107499998, 39.984938886000066], [-75.25950899999998, 39.984950999999995], [-75.259267, 39.98508399999999], [-75.25926118099994, 39.985087197000034], [-75.259034, 39.985212], [-75.25895599999998, 39.985255], [-75.258726, 39.98538099999999], [-75.258566, 39.98551199999999], [-75.25855594099994, 39.98552023000007], [-75.25849999999998, 39.985566], [-75.25846841499997, 39.98558940400006], [-75.25840256099997, 39.98563820100003], [-75.25697626699996, 39.98669506400005], [-75.25687743499998, 39.986768297000026], [-75.25686819599996, 39.986775143000045], [-75.256836, 39.986799000000005], [-75.25628699899994, 39.987190000000005], [-75.25611899999998, 39.987301], [-75.255676, 39.98749900000001], [-75.253999, 39.98830399999999], [-75.25163486599996, 39.989412650000084], [-75.2516, 39.989429], [-75.251546, 39.98945400000001], [-75.25143851499998, 39.989504555000046], [-75.25143116099997, 39.98950801400008], [-75.25078599899996, 39.989803], [-75.25033599999999, 39.990016999999995], [-75.25013, 39.990116], [-75.25000040799995, 39.99018086700004], [-75.24976809099996, 39.99029019300008], [-75.24975999999998, 39.990294000000006], [-75.24921372499993, 39.99054569000003], [-75.247948, 39.991138], [-75.24568899999998, 39.992191], [-75.243908, 39.993044], [-75.24381647299997, 39.993087007000035], [-75.24164999999999, 39.994105], [-75.24078499999999, 39.994510000000005], [-75.238977, 39.99535800000001], [-75.237997, 39.995816999999995], [-75.237343, 39.996123], [-75.23531293299997, 39.997074902000065], [-75.235285, 39.997088], [-75.23432985699998, 39.99753282100005], [-75.234308, 39.99754300000001], [-75.23418998699997, 39.997598022000034], [-75.23378313199999, 39.99778771200004], [-75.233215, 39.99805800000001], [-75.23215, 39.99854899999999], [-75.23212270299996, 39.99856173000006], [-75.23211137599998, 39.99856701200008], [-75.232056, 39.998589], [-75.230896, 39.99913000000001], [-75.230441, 39.999343999999994], [-75.230435, 39.999349], [-75.229477332, 39.99979955300007], [-75.229453, 39.999811], [-75.228881, 40.00007900000001], [-75.22874091399996, 40.00014489000005], [-75.228375, 40.000317], [-75.22834272099993, 40.000281088000065], [-75.22755326699995, 39.99940275700005], [-75.22712496399997, 39.998795994000034], [-75.22710252399997, 39.99872493400005], [-75.22691081299996, 39.99811784800005], [-75.22694220799995, 39.997521350000056], [-75.22694645299998, 39.997440683000036]]], &quot;type&quot;: &quot;Polygon&quot;}, &quot;id&quot;: &quot;97&quot;, &quot;properties&quot;: {&quot;N&quot;: 111.0, &quot;Name&quot;: &quot;OVERBROOK&quot;, &quot;__folium_color&quot;: &quot;#e7298a&quot;, &quot;label&quot;: 1.0, &quot;neighborhood&quot;: &quot;OVERBROOK&quot;, &quot;overall_satisfaction&quot;: 1.0833333333333333, &quot;price_per_person&quot;: 83.71734693877548}, &quot;type&quot;: &quot;Feature&quot;}, {&quot;bbox&quot;: [-75.22584334899994, 39.95861223600008, -75.21046608199997, 39.97321617800003], &quot;geometry&quot;: {&quot;coordinates&quot;: [[[-75.21129889299992, 39.96866545900008], [-75.21103781299995, 39.96675398300004], [-75.21102760399997, 39.966679235000065], [-75.21046608199997, 39.96256809000005], [-75.21198298799999, 39.96271680600005], [-75.21290502999993, 39.96265731900007], [-75.21394604399994, 39.95861223600008], [-75.21894291199999, 39.95926658800004], [-75.21941880399999, 39.96084298000005], [-75.21950803399994, 39.96191373800007], [-75.21995418299996, 39.96375782000007], [-75.22456806699995, 39.96491757600006], [-75.22458489799999, 39.964854397000074], [-75.22584334899994, 39.97143158200003], [-75.21847000499997, 39.973008099000026], [-75.21763420799994, 39.97259156900004], [-75.21225067799998, 39.97321617800003], [-75.21129889299992, 39.96866545900008]]], &quot;type&quot;: &quot;Polygon&quot;}, &quot;id&quot;: &quot;98&quot;, &quot;properties&quot;: {&quot;N&quot;: 37.0, &quot;Name&quot;: &quot;MILL_CREEK&quot;, &quot;__folium_color&quot;: &quot;#d95f02&quot;, &quot;label&quot;: 0.0, &quot;neighborhood&quot;: &quot;MILL_CREEK&quot;, &quot;overall_satisfaction&quot;: 4.357142857142857, &quot;price_per_person&quot;: 53.02083333333334}, &quot;type&quot;: &quot;Feature&quot;}, {&quot;bbox&quot;: [-75.25348999999999, 39.90308863900003, -75.24229220399997, 39.91873597400008], &quot;geometry&quot;: {&quot;coordinates&quot;: [[[-75.24235923199994, 39.910491517000025], [-75.24229220399997, 39.910285603000034], [-75.24230450199995, 39.91027925400004], [-75.24237017499995, 39.910455450000036], [-75.24463702699995, 39.907844522000055], [-75.24876616599994, 39.90308863900003], [-75.24886762599992, 39.90314151900002], [-75.25043219399998, 39.903956960000066], [-75.25100119499994, 39.904253519000065], [-75.251288, 39.904403], [-75.25297099999999, 39.905309], [-75.25348999999999, 39.905588], [-75.25341186199995, 39.905667977000064], [-75.252555, 39.906545], [-75.252475, 39.90662799999999], [-75.252393, 39.906631000000004], [-75.25215099999998, 39.90666], [-75.25199, 39.906684], [-75.251754, 39.906741], [-75.25162799999998, 39.90681099999999], [-75.251497, 39.906898000000005], [-75.25130299999998, 39.90702900000001], [-75.251056, 39.907176], [-75.250869, 39.907284], [-75.250713, 39.907365], [-75.25044399999999, 39.90753899999999], [-75.25031699999998, 39.90762599999999], [-75.25026999999999, 39.90770899999999], [-75.250223, 39.907809], [-75.250204, 39.907916], [-75.25018616999994, 39.908039963000085], [-75.250183, 39.908062], [-75.25019167199997, 39.90819208000005], [-75.25019799999998, 39.908287], [-75.250196, 39.908323], [-75.250192, 39.90845], [-75.25016599999998, 39.90856699999999], [-75.250116, 39.90872300000001], [-75.250044, 39.90888499999999], [-75.25000100000001, 39.909040999999995], [-75.249932, 39.909152], [-75.24989099999999, 39.909275], [-75.24990261799995, 39.90931157500005], [-75.249918, 39.90935999999999], [-75.249991, 39.909439], [-75.25003399999999, 39.909469], [-75.25014799999998, 39.909511], [-75.25028, 39.909541999999995], [-75.25046899999998, 39.909546000000006], [-75.25065, 39.90958400000001], [-75.25088099999999, 39.90965099999999], [-75.251104, 39.909729], [-75.25117316999994, 39.90976868800004], [-75.251226, 39.90979899999999], [-75.25129499999998, 39.909879000000004], [-75.25128565099999, 39.909988637000026], [-75.251268, 39.910031000000004], [-75.25123700099992, 39.91011], [-75.25112300000002, 39.910248], [-75.25100099999999, 39.910376], [-75.250871, 39.910531999999996], [-75.25085891499998, 39.910542164000056], [-75.25071999999999, 39.910658999999995], [-75.250615, 39.91077], [-75.250537, 39.910887], [-75.25051203299994, 39.910915454000076], [-75.250401, 39.911041999999995], [-75.25035300099995, 39.91107699999999], [-75.250194, 39.91119599999999], [-75.24992599999999, 39.911293], [-75.24986782599994, 39.91131783900004], [-75.24974800099994, 39.911368999999986], [-75.249518, 39.91147699999999], [-75.24933199999998, 39.91155299999999], [-75.24916099899997, 39.91164], [-75.24898, 39.91174900000001], [-75.24885399999998, 39.911854], [-75.248762, 39.911983], [-75.24875548499995, 39.912006634000086], [-75.24871899899995, 39.912139], [-75.24868499899998, 39.912302], [-75.24859799899997, 39.912504], [-75.24855799999999, 39.91260400000001], [-75.24851, 39.912722], [-75.248432, 39.912839999999996], [-75.24837699899996, 39.912934], [-75.248295, 39.913012], [-75.248212, 39.91307700000001], [-75.24810986799997, 39.913134613000075], [-75.248056, 39.913165], [-75.24785397499994, 39.91327274700005], [-75.24783100000002, 39.913285], [-75.24759999999999, 39.91338703900004], [-75.24740028499997, 39.91350383900004], [-75.2472, 39.91357899999999], [-75.24719549999996, 39.913583500000065], [-75.247191, 39.913588], [-75.24714192999993, 39.91364688400005], [-75.24711599999999, 39.913678], [-75.24706799999998, 39.91377799999999], [-75.247063, 39.913907], [-75.24711699999999, 39.914043], [-75.24722199999998, 39.91416400000001], [-75.247323, 39.914286], [-75.247411, 39.914418], [-75.24748599999998, 39.914533], [-75.247551, 39.914582], [-75.247594, 39.914611], [-75.247631, 39.914636], [-75.24770599999998, 39.91472199999999], [-75.247715, 39.914837], [-75.247654, 39.914955000000006], [-75.24761730899996, 39.91500058600008], [-75.24755499999999, 39.915077999999994], [-75.247485, 39.915213], [-75.247347, 39.91539900000001], [-75.24718699999998, 39.915632], [-75.247136, 39.915727], [-75.247056, 39.915851], [-75.24698699999999, 39.915929999999996], [-75.246919, 39.91600499999999], [-75.246842, 39.916087], [-75.246781, 39.916165], [-75.24675200000001, 39.916231999999994], [-75.24675604999999, 39.91626771500005], [-75.246763, 39.91632899999999], [-75.24678699999998, 39.916448], [-75.24683400000002, 39.91655900000001], [-75.246882, 39.916720000000005], [-75.24693045999999, 39.91684616300005], [-75.24694, 39.916871], [-75.246974, 39.916939], [-75.24697912699997, 39.916944522000044], [-75.24699026999997, 39.91695652200008], [-75.247, 39.91696700000001], [-75.24703999899998, 39.91699150000005], [-75.247045, 39.916993999999995], [-75.247102, 39.917027], [-75.247155, 39.917062], [-75.24718699999998, 39.917094], [-75.2472, 39.917135], [-75.24721, 39.917182000000004], [-75.247192, 39.91721100000001], [-75.24717199999999, 39.917236], [-75.247239, 39.917402], [-75.24724807699992, 39.91743221000007], [-75.247303, 39.917615], [-75.247347, 39.91778500000001], [-75.24735699999998, 39.917993], [-75.24734733799993, 39.91841521500004], [-75.247347, 39.91843], [-75.247341, 39.918541], [-75.247332, 39.918679], [-75.24733210599999, 39.91869291400007], [-75.24693873999998, 39.91873597400008], [-75.24693007599994, 39.91871258100007], [-75.24657326899995, 39.917749204000074], [-75.24636766899994, 39.91719408300002], [-75.24532527799994, 39.91597040700003], [-75.24505420699995, 39.91565219300003], [-75.24489410399997, 39.91545778200003], [-75.24483101099999, 39.91538117000005], [-75.24481167799995, 39.91535769400008], [-75.24425470799996, 39.91468137300007], [-75.24334099499997, 39.91325369600002], [-75.24235923199994, 39.910491517000025]]], &quot;type&quot;: &quot;Polygon&quot;}, &quot;id&quot;: &quot;99&quot;, &quot;properties&quot;: {&quot;N&quot;: null, &quot;Name&quot;: &quot;CLEARVIEW&quot;, &quot;__folium_color&quot;: &quot;#1b9e77&quot;, &quot;label&quot;: -1.0, &quot;neighborhood&quot;: null, &quot;overall_satisfaction&quot;: null, &quot;price_per_person&quot;: null}, &quot;type&quot;: &quot;Feature&quot;}, {&quot;bbox&quot;: [-75.15493712699997, 39.946516860000024, -75.14109079699995, 39.95766395600003], &quot;geometry&quot;: {&quot;coordinates&quot;: [[[-75.15456448699996, 39.95330572300003], [-75.15455140899996, 39.953376501000044], [-75.15393496799997, 39.95671255300004], [-75.15219796199993, 39.95709326700006], [-75.15077028499995, 39.957473981000085], [-75.14887639299995, 39.95766395600003], [-75.14882931099999, 39.95765764000003], [-75.14399849799997, 39.95700960400006], [-75.14185698299997, 39.95638499600006], [-75.14129186099996, 39.95549269800006], [-75.14109079699995, 39.95242914200003], [-75.14211872399994, 39.94780347000005], [-75.14238264399995, 39.946516860000024], [-75.15425868599992, 39.94809765300005], [-75.15360184399998, 39.95112082000002], [-75.15493712699997, 39.95128907300005], [-75.15456448699996, 39.95330572300003]]], &quot;type&quot;: &quot;Polygon&quot;}, &quot;id&quot;: &quot;100&quot;, &quot;properties&quot;: {&quot;N&quot;: 352.0, &quot;Name&quot;: &quot;OLD_CITY&quot;, &quot;__folium_color&quot;: &quot;#666666&quot;, &quot;label&quot;: 4.0, &quot;neighborhood&quot;: &quot;OLD_CITY&quot;, &quot;overall_satisfaction&quot;: 2.756637168141593, &quot;price_per_person&quot;: 111.70808378334152}, &quot;type&quot;: &quot;Feature&quot;}, {&quot;bbox&quot;: [-75.15341702599994, 39.92162076000006, -75.14530743099994, 39.93432182500004], &quot;geometry&quot;: {&quot;coordinates&quot;: [[[-75.14530743099994, 39.933610172000044], [-75.14532465099994, 39.93353209000002], [-75.14795148399998, 39.92162076000006], [-75.15329106099995, 39.922293292000056], [-75.15341702599994, 39.92230915800008], [-75.15294286599999, 39.92465332900009], [-75.15243590799997, 39.927159648000035], [-75.15186483699993, 39.92965808200006], [-75.15131756099998, 39.93203754300004], [-75.15086801399995, 39.93430894200002], [-75.15086546399993, 39.93432182500004], [-75.14530743099994, 39.933610172000044]]], &quot;type&quot;: &quot;Polygon&quot;}, &quot;id&quot;: &quot;101&quot;, &quot;properties&quot;: {&quot;N&quot;: 100.0, &quot;Name&quot;: &quot;PENNSPORT&quot;, &quot;__folium_color&quot;: &quot;#d95f02&quot;, &quot;label&quot;: 0.0, &quot;neighborhood&quot;: &quot;PENNSPORT&quot;, &quot;overall_satisfaction&quot;: 3.1, &quot;price_per_person&quot;: 88.77389682539682}, &quot;type&quot;: &quot;Feature&quot;}, {&quot;bbox&quot;: [-75.19292370399995, 40.02728692400006, -75.17475853899997, 40.045944499000015], &quot;geometry&quot;: {&quot;coordinates&quot;: [[[-75.18098790499992, 40.043206557000076], [-75.17475853899997, 40.03584039500003], [-75.17856798799994, 40.03208305800007], [-75.17893306499995, 40.031722976000026], [-75.18133156199997, 40.02949580000007], [-75.18361390499994, 40.02728692400006], [-75.18554388299997, 40.028955662000044], [-75.18911307499997, 40.031989475000046], [-75.19292370399995, 40.03552930400008], [-75.18228239199993, 40.045944499000015], [-75.181283018, 40.04355314000002], [-75.18099748299994, 40.04319622100007], [-75.18098790499992, 40.043206557000076]]], &quot;type&quot;: &quot;Polygon&quot;}, &quot;id&quot;: &quot;102&quot;, &quot;properties&quot;: {&quot;N&quot;: null, &quot;Name&quot;: &quot;GERMANTOWN_WEST_CENTRAL&quot;, &quot;__folium_color&quot;: &quot;#1b9e77&quot;, &quot;label&quot;: -1.0, &quot;neighborhood&quot;: null, &quot;overall_satisfaction&quot;: null, &quot;price_per_person&quot;: null}, &quot;type&quot;: &quot;Feature&quot;}, {&quot;bbox&quot;: [-75.18361390499994, 40.02147906300007, -75.17102569399997, 40.031722976000026], &quot;geometry&quot;: {&quot;coordinates&quot;: [[[-75.17377506799993, 40.02454652100005], [-75.17689682499997, 40.02147906300007], [-75.17950413599993, 40.023733450000066], [-75.18361390499994, 40.02728692400006], [-75.18133156199997, 40.02949580000007], [-75.17893306499995, 40.031722976000026], [-75.17482135699998, 40.029438693000024], [-75.17102569399997, 40.02725731100002], [-75.17373625299996, 40.024584522000055], [-75.17377506799993, 40.02454652100005]]], &quot;type&quot;: &quot;Polygon&quot;}, &quot;id&quot;: &quot;103&quot;, &quot;properties&quot;: {&quot;N&quot;: 27.0, &quot;Name&quot;: &quot;GERMANTOWN_WESTSIDE&quot;, &quot;__folium_color&quot;: &quot;#d95f02&quot;, &quot;label&quot;: 0.0, &quot;neighborhood&quot;: &quot;GERMANTOWN_WESTSIDE&quot;, &quot;overall_satisfaction&quot;: 2.375, &quot;price_per_person&quot;: 49.83012820512821}, &quot;type&quot;: &quot;Feature&quot;}, {&quot;bbox&quot;: [-75.18760348699993, 39.94461297400006, -75.17901110699995, 39.94937708800007], &quot;geometry&quot;: {&quot;coordinates&quot;: [[[-75.17972542799998, 39.94545146000007], [-75.17981417499995, 39.94511861000007], [-75.18064698599994, 39.94461297400006], [-75.18564385399998, 39.94529706900004], [-75.18760348699993, 39.94650431700006], [-75.18557347199999, 39.94798231100003], [-75.18506727699999, 39.94836062500008], [-75.18370722099996, 39.94937708800007], [-75.17901110699995, 39.94871754500008], [-75.17972542799998, 39.94545146000007]]], &quot;type&quot;: &quot;Polygon&quot;}, &quot;id&quot;: &quot;104&quot;, &quot;properties&quot;: {&quot;N&quot;: 78.0, &quot;Name&quot;: &quot;FITLER_SQUARE&quot;, &quot;__folium_color&quot;: &quot;#d95f02&quot;, &quot;label&quot;: 0.0, &quot;neighborhood&quot;: &quot;FITLER_SQUARE&quot;, &quot;overall_satisfaction&quot;: 3.5526315789473686, &quot;price_per_person&quot;: 145.58653846153848}, &quot;type&quot;: &quot;Feature&quot;}, {&quot;bbox&quot;: [-75.18688217499994, 39.92237336200003, -75.17532648099996, 39.93019584000006], &quot;geometry&quot;: {&quot;coordinates&quot;: [[[-75.18527603899997, 39.93019584000006], [-75.17532648099996, 39.92886279900006], [-75.17533616799994, 39.92881840900004], [-75.17632447499994, 39.92428971000004], [-75.18688217499994, 39.92237336200003], [-75.18563295799999, 39.92772714900008], [-75.18563295799999, 39.92817329800004], [-75.18527603899997, 39.93019584000006]]], &quot;type&quot;: &quot;Polygon&quot;}, &quot;id&quot;: &quot;105&quot;, &quot;properties&quot;: {&quot;N&quot;: 48.0, &quot;Name&quot;: &quot;WEST_PASSYUNK&quot;, &quot;__folium_color&quot;: &quot;#d95f02&quot;, &quot;label&quot;: 0.0, &quot;neighborhood&quot;: &quot;WEST_PASSYUNK&quot;, &quot;overall_satisfaction&quot;: 3.5, &quot;price_per_person&quot;: 48.84649122807017}, &quot;type&quot;: &quot;Feature&quot;}, {&quot;bbox&quot;: [-75.17665882099999, 39.92189245000003, -75.16835450199994, 39.93137129400003], &quot;geometry&quot;: {&quot;coordinates&quot;: [[[-75.16971079499996, 39.92442326800005], [-75.17022557799999, 39.92189245000003], [-75.17665882099999, 39.922757645000054], [-75.17635410199995, 39.92415395000005], [-75.17632447499994, 39.92428971000004], [-75.17533616799994, 39.92881840900004], [-75.17532648099996, 39.92886279900006], [-75.17477904699996, 39.93137129400003], [-75.16835450199994, 39.93051468800007], [-75.16971079499996, 39.92442326800005]]], &quot;type&quot;: &quot;Polygon&quot;}, &quot;id&quot;: &quot;106&quot;, &quot;properties&quot;: {&quot;N&quot;: 121.0, &quot;Name&quot;: &quot;NEWBOLD&quot;, &quot;__folium_color&quot;: &quot;#d95f02&quot;, &quot;label&quot;: 0.0, &quot;neighborhood&quot;: &quot;NEWBOLD&quot;, &quot;overall_satisfaction&quot;: 2.9761904761904763, &quot;price_per_person&quot;: 82.83662818662819}, &quot;type&quot;: &quot;Feature&quot;}, {&quot;bbox&quot;: [-75.16971079499996, 39.92332380300008, -75.15680538099997, 39.93051468800007], &quot;geometry&quot;: {&quot;coordinates&quot;: [[[-75.16971079499996, 39.92442326800005], [-75.16835450199994, 39.93051468800007], [-75.16302450899995, 39.92980084900006], [-75.15680538099997, 39.929023948000065], [-75.15683287299998, 39.92889557500007], [-75.15759531599997, 39.92533535200004], [-75.16078781599997, 39.92580335500003], [-75.16129683599996, 39.92332380300008], [-75.16130862899996, 39.92332534400004], [-75.16971079499996, 39.92442326800005]]], &quot;type&quot;: &quot;Polygon&quot;}, &quot;id&quot;: &quot;107&quot;, &quot;properties&quot;: {&quot;N&quot;: 190.0, &quot;Name&quot;: &quot;EAST_PASSYUNK&quot;, &quot;__folium_color&quot;: &quot;#d95f02&quot;, &quot;label&quot;: 0.0, &quot;neighborhood&quot;: &quot;EAST_PASSYUNK&quot;, &quot;overall_satisfaction&quot;: 3.716981132075472, &quot;price_per_person&quot;: 81.25367647058825}, &quot;type&quot;: &quot;Feature&quot;}, {&quot;bbox&quot;: [-75.20921686499997, 39.94543597000006, -75.20389282099994, 39.94995694600004], &quot;geometry&quot;: {&quot;coordinates&quot;: [[[-75.20399499199992, 39.94967767700007], [-75.20396255499998, 39.949483056000076], [-75.20389282099994, 39.94906464800005], [-75.20511229499994, 39.94858875600005], [-75.20817585099996, 39.94576314600004], [-75.20856251299995, 39.94543597000006], [-75.20921686499997, 39.94954054100003], [-75.20802713399995, 39.949748744000026], [-75.20576664699995, 39.94980823000003], [-75.20404153699997, 39.94995694600004], [-75.20399499199992, 39.94967767700007]]], &quot;type&quot;: &quot;Polygon&quot;}, &quot;id&quot;: &quot;108&quot;, &quot;properties&quot;: {&quot;N&quot;: 22.0, &quot;Name&quot;: &quot;WOODLAND_TERRACE&quot;, &quot;__folium_color&quot;: &quot;#d95f02&quot;, &quot;label&quot;: 0.0, &quot;neighborhood&quot;: &quot;WOODLAND_TERRACE&quot;, &quot;overall_satisfaction&quot;: 3.0625, &quot;price_per_person&quot;: 66.90277777777777}, &quot;type&quot;: &quot;Feature&quot;}, {&quot;bbox&quot;: [-75.22673235299999, 39.97259156900004, -75.21225067799998, 39.981628183000055], &quot;geometry&quot;: {&quot;coordinates&quot;: [[[-75.21225067799998, 39.97321617800003], [-75.21763420799994, 39.97259156900004], [-75.21847000499997, 39.973008099000026], [-75.22022187199997, 39.97419770500005], [-75.22673235299999, 39.97720238600005], [-75.22641112599995, 39.97763068900007], [-75.22612559099997, 39.97827314300008], [-75.22586852899997, 39.97869706900008], [-75.22409115099998, 39.981628183000055], [-75.22405309899993, 39.98161491100006], [-75.21343556999994, 39.97768206100005], [-75.21225067799998, 39.97321617800003]]], &quot;type&quot;: &quot;Polygon&quot;}, &quot;id&quot;: &quot;109&quot;, &quot;properties&quot;: {&quot;N&quot;: null, &quot;Name&quot;: &quot;WEST_PARKSIDE&quot;, &quot;__folium_color&quot;: &quot;#1b9e77&quot;, &quot;label&quot;: -1.0, &quot;neighborhood&quot;: null, &quot;overall_satisfaction&quot;: null, &quot;price_per_person&quot;: null}, &quot;type&quot;: &quot;Feature&quot;}, {&quot;bbox&quot;: [-75.24222217799995, 40.032666119000055, -75.22627331099994, 40.04534531100006], &quot;geometry&quot;: {&quot;coordinates&quot;: [[[-75.22627331099994, 40.042370984000065], [-75.23486911399993, 40.034905425000034], [-75.23537474999995, 40.03555977700006], [-75.23668345299994, 40.03413210100007], [-75.23846804899995, 40.03306134300004], [-75.23888135199995, 40.032666119000055], [-75.23980999999999, 40.033312], [-75.240488, 40.03385], [-75.2411, 40.03449700000001], [-75.24113599999998, 40.034535], [-75.241268, 40.034674], [-75.24188599999998, 40.035409], [-75.24216307699997, 40.03562674000005], [-75.24222217799995, 40.035673185000064], [-75.24096648299997, 40.03728488600007], [-75.24013367199994, 40.03844487400005], [-75.23873573799993, 40.04014024000002], [-75.23757575099995, 40.04266841700007], [-75.23665370999998, 40.04341199800007], [-75.23451219499998, 40.044244810000066], [-75.23204350399999, 40.04534531100006], [-75.23115120699998, 40.044899162000036], [-75.22900969199996, 40.04415558000005], [-75.22627331099994, 40.042370984000065]]], &quot;type&quot;: &quot;Polygon&quot;}, &quot;id&quot;: &quot;110&quot;, &quot;properties&quot;: {&quot;N&quot;: null, &quot;Name&quot;: &quot;ROXBOROUGH_PARK&quot;, &quot;__folium_color&quot;: &quot;#1b9e77&quot;, &quot;label&quot;: -1.0, &quot;neighborhood&quot;: null, &quot;overall_satisfaction&quot;: null, &quot;price_per_person&quot;: null}, &quot;type&quot;: &quot;Feature&quot;}, {&quot;bbox&quot;: [-75.247623, 39.91535769400008, -75.22253974699998, 39.934690260000025], &quot;geometry&quot;: {&quot;coordinates&quot;: [[[-75.22253974699998, 39.93076415000007], [-75.22350342799997, 39.930371539000085], [-75.22525233199995, 39.929193705000046], [-75.23967186599997, 39.91909289300003], [-75.23956478999997, 39.91891443400004], [-75.24249152699997, 39.91695137800008], [-75.24487673599998, 39.91546774000004], [-75.24481167799995, 39.91535769400008], [-75.24483101099999, 39.91538117000005], [-75.24489410399997, 39.91545778200003], [-75.24505420699995, 39.91565219300003], [-75.24532527799994, 39.91597040700003], [-75.24636766899994, 39.91719408300002], [-75.24657326899995, 39.917749204000074], [-75.24693007599994, 39.91871258100007], [-75.24693873999998, 39.91873597400008], [-75.24733210599999, 39.91869291400007], [-75.247333, 39.91881], [-75.24738899999998, 39.919014], [-75.24741599999999, 39.919076], [-75.24745, 39.919159], [-75.24748245199999, 39.91923730800005], [-75.24748440699993, 39.91924182400004], [-75.24749724999998, 39.919271500000036], [-75.247501, 39.919276], [-75.247583, 39.919399], [-75.247622, 39.91951699999999], [-75.247623, 39.919667999999994], [-75.247595, 39.91990199999999], [-75.24758987499996, 39.919931285000075], [-75.247581, 39.919982], [-75.24752699999999, 39.920103], [-75.24751296199997, 39.92013914800003], [-75.247487, 39.92020599999999], [-75.247476, 39.92032799999999], [-75.24746499999999, 39.92045399999999], [-75.24745999999999, 39.920586], [-75.24746799999998, 39.920717999999994], [-75.24746799999998, 39.920972], [-75.24746730199995, 39.921000785000054], [-75.247459, 39.92134299999999], [-75.247484, 39.921499], [-75.247507, 39.921609999999994], [-75.247516, 39.921655], [-75.24751299999998, 39.92167899999999], [-75.24750773299996, 39.92172927300005], [-75.247502, 39.921784], [-75.24747224999997, 39.92187375000003], [-75.24746999999999, 39.921879], [-75.247392, 39.922047], [-75.247288, 39.922167], [-75.24728049999999, 39.92217399999999], [-75.24727299999999, 39.922181], [-75.24716199999999, 39.922282], [-75.24706699999999, 39.92237399999999], [-75.246934, 39.922493], [-75.24663999999999, 39.922769], [-75.246521, 39.922888], [-75.246362, 39.923054], [-75.24629841099994, 39.92313083700002], [-75.24626599999999, 39.92317], [-75.246187, 39.923303999999995], [-75.24616763999994, 39.92339812800003], [-75.246158, 39.923445], [-75.24613899999999, 39.923609], [-75.246129, 39.923905], [-75.24609499999998, 39.92400799999999], [-75.246071, 39.92412499999998], [-75.246043, 39.92420599999999], [-75.246031, 39.924237000000005], [-75.24601999999999, 39.924271000000005], [-75.24599, 39.924358], [-75.24594299999998, 39.924446999999994], [-75.245928, 39.924474], [-75.245865, 39.92458100000001], [-75.24579400000002, 39.924697], [-75.24574799999999, 39.92478199999999], [-75.24572499999998, 39.924822999999996], [-75.24563599999999, 39.924938], [-75.24558, 39.92500999999999], [-75.245552, 39.925045], [-75.245437, 39.92516399999999], [-75.245263, 39.925415], [-75.245197, 39.925549], [-75.24512699999998, 39.925661000000005], [-75.24505, 39.925766999999986], [-75.24502630599994, 39.92579671800008], [-75.244991, 39.925841000000005], [-75.24486799999998, 39.925895], [-75.24476200000001, 39.92595399999999], [-75.24468673999996, 39.92598091800005], [-75.24462499999998, 39.926003], [-75.244519, 39.926061], [-75.2444, 39.92613399999999], [-75.244336, 39.92625], [-75.24430099999998, 39.926353000000006], [-75.24431885899997, 39.92643145400007], [-75.24432899999998, 39.926475999999994], [-75.244412, 39.92657199999999], [-75.24449899999999, 39.926641999999994], [-75.24450299999998, 39.92664550000006], [-75.24450699999998, 39.92664899999999], [-75.244576, 39.926754], [-75.24459599999999, 39.926858], [-75.24457899999999, 39.927002999999985], [-75.24457899999999, 39.92717699999999], [-75.24455, 39.927275], [-75.244498, 39.927406], [-75.24448124999998, 39.92743414900007], [-75.244426, 39.927527000000005], [-75.244341, 39.927656], [-75.244269, 39.927796], [-75.24425662199997, 39.92781226800003], [-75.244199, 39.927888], [-75.24411999999998, 39.928009], [-75.244055, 39.92814899999999], [-75.244001, 39.928363999999995], [-75.24398499999998, 39.928476], [-75.243965, 39.92864500000001], [-75.24396699999998, 39.928805], [-75.24396999999999, 39.929177], [-75.243966, 39.929427999999994], [-75.24396699999998, 39.929468], [-75.24396699999998, 39.929499], [-75.243966, 39.929532], [-75.24396699999998, 39.929604], [-75.24397291399998, 39.92965262700005], [-75.243976, 39.929678], [-75.243981, 39.92971299999999], [-75.244009, 39.929793], [-75.24409899999999, 39.929857000000005], [-75.24413049699994, 39.92987239900004], [-75.24418900000002, 39.929901], [-75.244278, 39.929964], [-75.244355, 39.93004100000001], [-75.24437365099998, 39.930085389000055], [-75.24440499999999, 39.93016000000001], [-75.244427, 39.930287], [-75.24441418899994, 39.930318192000065], [-75.244381, 39.930398999999994], [-75.24433741099995, 39.930434441000045], [-75.244274, 39.930486], [-75.24302690599995, 39.93051430600008], [-75.239172179, 39.92994323600005], [-75.23867249199998, 39.92962200800008], [-75.23556729599994, 39.92894386200003], [-75.22732246299995, 39.934690260000025], [-75.22253974699998, 39.93076415000007]]], &quot;type&quot;: &quot;Polygon&quot;}, &quot;id&quot;: &quot;111&quot;, &quot;properties&quot;: {&quot;N&quot;: 12.0, &quot;Name&quot;: &quot;PASCHALL&quot;, &quot;__folium_color&quot;: &quot;#d95f02&quot;, &quot;label&quot;: 0.0, &quot;neighborhood&quot;: &quot;PASCHALL&quot;, &quot;overall_satisfaction&quot;: 4.071428571428571, &quot;price_per_person&quot;: 21.722222222222214}, &quot;type&quot;: &quot;Feature&quot;}, {&quot;bbox&quot;: [-74.99136762899997, 40.08723977400007, -74.95874899999998, 40.118635000000005], &quot;geometry&quot;: {&quot;coordinates&quot;: [[[-74.963371, 40.110336999999994], [-74.96338948799995, 40.11026117500007], [-74.96342829499997, 40.11010201800008], [-74.96345, 40.110013], [-74.96350750999994, 40.10989209800005], [-74.96363063799998, 40.109633250000066], [-74.963714, 40.109458], [-74.96503162399995, 40.10942726800005], [-74.96537941799994, 40.11026513500008], [-74.96626471099995, 40.11029675200006], [-74.966770592, 40.10972763600006], [-74.96843841999997, 40.10907947500004], [-74.96784558999995, 40.10726936700007], [-74.96750570099994, 40.10592562000005], [-74.96660459999998, 40.10596514200006], [-74.96527666099996, 40.105775436000044], [-74.963419, 40.106152], [-74.963205, 40.105724], [-74.96291580699994, 40.10548692900005], [-74.96268899999998, 40.10530099999999], [-74.962489, 40.10503200000001], [-74.96244599999999, 40.104883], [-74.96243057099997, 40.10485291400005], [-74.96239967599996, 40.10479266900007], [-74.962246, 40.104493], [-74.962146, 40.104384], [-74.96176027499996, 40.10416871200004], [-74.961673, 40.10412], [-74.96153122199996, 40.10393516700004], [-74.96120567599995, 40.10351076100005], [-74.961156, 40.103446], [-74.96114849999998, 40.10343850000004], [-74.961141, 40.103431], [-74.96102247699996, 40.103340414000066], [-74.96100099999998, 40.103324], [-74.96094729199996, 40.10322125400006], [-74.96088599999999, 40.103104], [-74.960908, 40.103032999999996], [-74.96101417399996, 40.10297687000007], [-74.961065, 40.10295], [-74.96103747199997, 40.10288668700009], [-74.96099185199995, 40.10278176000003], [-74.96096499999999, 40.10271999999999], [-74.96093347799996, 40.102686902000066], [-74.960865, 40.102615], [-74.960872, 40.102473], [-74.96087599999998, 40.102468875000056], [-74.96088, 40.102464750000024], [-74.96090247599994, 40.10244157100004], [-74.960936, 40.102407], [-74.96106643999997, 40.10232125600004], [-74.96107271999995, 40.10231712800003], [-74.961079, 40.102312999999995], [-74.96107800599997, 40.10229118400007], [-74.96107296399998, 40.10218050000003], [-74.96105799999998, 40.101852], [-74.96099299999999, 40.101792], [-74.960814, 40.101676], [-74.96080929199996, 40.10160605700002], [-74.960807, 40.101572], [-74.960988, 40.101392000000004], [-74.961054, 40.10132599999999], [-74.961243, 40.101138], [-74.96132199999998, 40.10099499999999], [-74.96158599999998, 40.100891], [-74.96168699999998, 40.100731], [-74.961708, 40.10057799999999], [-74.96167899999999, 40.100314], [-74.961693, 40.100067], [-74.961858, 40.099693], [-74.96184399999999, 40.099622], [-74.961736, 40.099496], [-74.96160699999999, 40.099463], [-74.961414, 40.09938], [-74.96139436799994, 40.09933754100007], [-74.96137099999999, 40.099287], [-74.96137731599998, 40.09926195300005], [-74.9614, 40.099171999999996], [-74.9615, 40.099056], [-74.96170591499997, 40.09890829200003], [-74.96182899999998, 40.09882], [-74.96185970599998, 40.098694324000064], [-74.96186206799996, 40.09868465500005], [-74.96186442999993, 40.09867498600005], [-74.961872, 40.098644], [-74.961757, 40.098474], [-74.961643, 40.098428], [-74.96148499999998, 40.098364], [-74.961464, 40.098298], [-74.961514, 40.098161000000005], [-74.96153732199997, 40.09813114800005], [-74.96161737799997, 40.09802867600007], [-74.961664, 40.097969000000006], [-74.961647, 40.097884], [-74.96163714299996, 40.09783761500006], [-74.96162999999999, 40.097804], [-74.961629, 40.09779850000007], [-74.961628, 40.09779300000001], [-74.96134813699994, 40.097502373000054], [-74.96134506799994, 40.09749918600005], [-74.961342, 40.097496], [-74.96119199999998, 40.097447], [-74.96104899999999, 40.097431], [-74.96045499999998, 40.097464], [-74.960083, 40.097376000000004], [-74.95997855499995, 40.09737161800007], [-74.95993999999999, 40.09737], [-74.959339, 40.097128999999995], [-74.959154, 40.097046999999996], [-74.95900691299994, 40.09700514000008], [-74.95887933399996, 40.096968831000034], [-74.958771, 40.096938], [-74.95874899999998, 40.096929], [-74.95978028399996, 40.09541322300003], [-74.96202887499999, 40.093343092000055], [-74.96581221799993, 40.091594188000045], [-74.97016663199997, 40.08845329900004], [-74.97155861599998, 40.08723977400007], [-74.97998190799996, 40.09377139500003], [-74.98437201399996, 40.08998805200007], [-74.99136762899997, 40.09577014200005], [-74.98660295199994, 40.099160342000054], [-74.98209149399996, 40.10264387300003], [-74.98340495599994, 40.10361469300006], [-74.98226281499994, 40.104471299000075], [-74.98032117499997, 40.105327905000024], [-74.97780846399996, 40.107155331000065], [-74.96987058199993, 40.11343710800003], [-74.97146957999996, 40.114807678000034], [-74.96794671399994, 40.11748322100004], [-74.967923, 40.117492000000006], [-74.967607, 40.117608999999995], [-74.96676972899995, 40.117918651000025], [-74.966228, 40.118119], [-74.96546299999999, 40.118553], [-74.96520499999998, 40.118612999999996], [-74.964991, 40.118635000000005], [-74.96490481099993, 40.11861268000007], [-74.96474144899997, 40.11857013600007], [-74.964612, 40.11847600000001], [-74.96452599999999, 40.118372], [-74.96434567299997, 40.118016672000074], [-74.964289, 40.117905], [-74.96407894799995, 40.117765328000075], [-74.964031, 40.117734], [-74.96398581499994, 40.11770375200007], [-74.96391, 40.11765299999999], [-74.96387699999998, 40.117593], [-74.963857, 40.117557], [-74.96383429899998, 40.11751552800007], [-74.963753, 40.11736700000001], [-74.963741, 40.117342], [-74.96369792699994, 40.11725003400005], [-74.963567, 40.116972], [-74.96334514899995, 40.11625493300004], [-74.963244, 40.115928], [-74.96320515599996, 40.11573668500006], [-74.96313699999999, 40.115401], [-74.96313544799995, 40.115318952000045], [-74.96313296699998, 40.11518775800005], [-74.963129, 40.114978], [-74.963201, 40.11467600000001], [-74.96329491099993, 40.11445687400004], [-74.963387, 40.114242], [-74.963472, 40.113956], [-74.96347595799995, 40.11392541400004], [-74.96349373699996, 40.113785914000054], [-74.96354809099995, 40.11371366900005], [-74.96358, 40.113671], [-74.96363, 40.113369], [-74.963644, 40.112836], [-74.96357166699993, 40.11257013900006], [-74.96349299999999, 40.112281], [-74.963507, 40.111935], [-74.96355341499996, 40.111680362000065], [-74.963579, 40.11154], [-74.96360129199996, 40.11147398000003], [-74.96365699999998, 40.11130899999999], [-74.96364999999999, 40.111110999999994], [-74.96359999999999, 40.110885999999994], [-74.96352473899996, 40.11070557000005], [-74.963371, 40.110336999999994]]], &quot;type&quot;: &quot;Polygon&quot;}, &quot;id&quot;: &quot;112&quot;, &quot;properties&quot;: {&quot;N&quot;: null, &quot;Name&quot;: &quot;PARKWOOD_MANOR&quot;, &quot;__folium_color&quot;: &quot;#1b9e77&quot;, &quot;label&quot;: -1.0, &quot;neighborhood&quot;: null, &quot;overall_satisfaction&quot;: null, &quot;price_per_person&quot;: null}, &quot;type&quot;: &quot;Feature&quot;}, {&quot;bbox&quot;: [-75.19728414799992, 39.879006000000004, -75.13554434299992, 39.89926246500005], &quot;geometry&quot;: {&quot;coordinates&quot;: [[[-75.17089773399992, 39.89682739500006], [-75.17072936299996, 39.89680686200006], [-75.17049737299998, 39.89722444300003], [-75.17044382699997, 39.89732082500007], [-75.16885624299994, 39.89717305400006], [-75.15110071899993, 39.89552039000005], [-75.13554434299992, 39.89282100300005], [-75.137296, 39.88996600000001], [-75.138527, 39.88889], [-75.139832, 39.888317], [-75.140108, 39.888192], [-75.140823, 39.887535], [-75.141522, 39.886891000000006], [-75.143746, 39.88499800000001], [-75.145626, 39.88450199999999], [-75.147366, 39.883921], [-75.148893, 39.883727], [-75.150653, 39.883504], [-75.156628, 39.88302699999999], [-75.16287199999998, 39.882649], [-75.164519, 39.882622], [-75.168658, 39.882503], [-75.16912899999998, 39.882493], [-75.172647, 39.882420999999994], [-75.174539, 39.88235999999999], [-75.17677, 39.882287999999996], [-75.178594, 39.882245], [-75.18011199999998, 39.88219699999999], [-75.181386, 39.882123], [-75.18288, 39.881977], [-75.183956, 39.88188499999999], [-75.184909, 39.881734999999985], [-75.184964, 39.881726], [-75.185735, 39.881607], [-75.18641699999999, 39.88143999999999], [-75.187214, 39.881266999999994], [-75.187889, 39.881095], [-75.18877, 39.880832], [-75.18889599999999, 39.880787], [-75.18925499999999, 39.880660000000006], [-75.189495, 39.880574], [-75.190099, 39.88034799999999], [-75.190809, 39.880027000000005], [-75.19158899999998, 39.879616], [-75.19217, 39.87929900000001], [-75.192738, 39.879006000000004], [-75.19574225699995, 39.89189565400004], [-75.19616920999994, 39.892069598000035], [-75.19728414799992, 39.89252383200005], [-75.19723863299998, 39.892558966000024], [-75.19712139899997, 39.89264946300005], [-75.19402904499997, 39.89503654300005], [-75.19243004699996, 39.895893149000074], [-75.19031708599992, 39.89680686200006], [-75.19012045999995, 39.89684410800004], [-75.19007910999994, 39.89685194100007], [-75.17735378199995, 39.89926246500005], [-75.17524082099997, 39.89909114400007], [-75.17525015199999, 39.89899783200008], [-75.17541214199996, 39.89737793200005], [-75.17539262799993, 39.89737555200002], [-75.17362700499994, 39.89716023300007], [-75.17089773399992, 39.89682739500006]]], &quot;type&quot;: &quot;Polygon&quot;}, &quot;id&quot;: &quot;113&quot;, &quot;properties&quot;: {&quot;N&quot;: null, &quot;Name&quot;: &quot;NAVY_YARD&quot;, &quot;__folium_color&quot;: &quot;#1b9e77&quot;, &quot;label&quot;: -1.0, &quot;neighborhood&quot;: null, &quot;overall_satisfaction&quot;: null, &quot;price_per_person&quot;: null}, &quot;type&quot;: &quot;Feature&quot;}, {&quot;bbox&quot;: [-75.15385078399997, 39.933610172000044, -75.14352165299992, 39.94198369000002], &quot;geometry&quot;: {&quot;coordinates&quot;: [[[-75.14485986299997, 39.93563966500005], [-75.14530743099994, 39.933610172000044], [-75.15086546399993, 39.93432182500004], [-75.15385078399997, 39.93517931100006], [-75.15229784299997, 39.941963145000045], [-75.15229313999997, 39.94198369000002], [-75.14916693399992, 39.94158231200004], [-75.14910995199993, 39.941575055000044], [-75.14407128499994, 39.940928228000075], [-75.14352165299992, 39.94085767000007], [-75.14352850699997, 39.94080169400008], [-75.14383193599997, 39.93832369700004], [-75.14385322099997, 39.938268120000025], [-75.14485986299997, 39.93563966500005]]], &quot;type&quot;: &quot;Polygon&quot;}, &quot;id&quot;: &quot;114&quot;, &quot;properties&quot;: {&quot;N&quot;: 248.0, &quot;Name&quot;: &quot;QUEEN_VILLAGE&quot;, &quot;__folium_color&quot;: &quot;#666666&quot;, &quot;label&quot;: 4.0, &quot;neighborhood&quot;: &quot;QUEEN_VILLAGE&quot;, &quot;overall_satisfaction&quot;: 3.125, &quot;price_per_person&quot;: 106.40574424015438}, &quot;type&quot;: &quot;Feature&quot;}, {&quot;bbox&quot;: [-75.24334099499997, 39.90417367300006, -75.23038674599997, 39.914966100000065], &quot;geometry&quot;: {&quot;coordinates&quot;: [[[-75.23763726799996, 39.914966100000065], [-75.23624528299995, 39.913752575000046], [-75.23371115799995, 39.91410949400005], [-75.23038674599997, 39.91108509900005], [-75.23283329499998, 39.90902777300004], [-75.23483204199994, 39.90668638400006], [-75.23614550499997, 39.905658457000065], [-75.23734475299995, 39.904858958000034], [-75.24002878499992, 39.90417367300006], [-75.24230450199995, 39.91027925400004], [-75.24229220399997, 39.910285603000034], [-75.24235923199994, 39.910491517000025], [-75.24334099499997, 39.91325369600002], [-75.23963601499997, 39.91357411500007], [-75.23763726799996, 39.914966100000065]]], &quot;type&quot;: &quot;Polygon&quot;}, &quot;id&quot;: &quot;115&quot;, &quot;properties&quot;: {&quot;N&quot;: null, &quot;Name&quot;: &quot;PENROSE&quot;, &quot;__folium_color&quot;: &quot;#1b9e77&quot;, &quot;label&quot;: -1.0, &quot;neighborhood&quot;: null, &quot;overall_satisfaction&quot;: null, &quot;price_per_person&quot;: null}, &quot;type&quot;: &quot;Feature&quot;}, {&quot;bbox&quot;: [-75.09744853999995, 40.02635449900003, -75.08502775399994, 40.038061447000075], &quot;geometry&quot;: {&quot;coordinates&quot;: [[[-75.09744853999995, 40.02678280200008], [-75.09559256099999, 40.02835324600005], [-75.09321309999996, 40.03073270700003], [-75.09440282999996, 40.03211279500005], [-75.08869212399998, 40.038061447000075], [-75.08812105299995, 40.03653859200005], [-75.08745480399995, 40.035444040000066], [-75.08678855499994, 40.034444667000066], [-75.08564641399994, 40.03358806100004], [-75.08521811099996, 40.03311216800006], [-75.08502775399994, 40.03173208100003], [-75.08816864199996, 40.03006645800008], [-75.09130953099996, 40.02821047900005], [-75.09345104599997, 40.026973159000086], [-75.09502148999997, 40.02635449900003], [-75.09616363099995, 40.02640208800006], [-75.09744853999995, 40.02678280200008]]], &quot;type&quot;: &quot;Polygon&quot;}, &quot;id&quot;: &quot;116&quot;, &quot;properties&quot;: {&quot;N&quot;: null, &quot;Name&quot;: &quot;SUMMERDALE&quot;, &quot;__folium_color&quot;: &quot;#1b9e77&quot;, &quot;label&quot;: -1.0, &quot;neighborhood&quot;: null, &quot;overall_satisfaction&quot;: null, &quot;price_per_person&quot;: null}, &quot;type&quot;: &quot;Feature&quot;}, {&quot;bbox&quot;: [-75.07680846799997, 40.00273949900003, -75.04857616299995, 40.028631381000025], &quot;geometry&quot;: {&quot;coordinates&quot;: [[[-75.049902, 40.007217000000004], [-75.05222499999999, 40.00545999999999], [-75.053405, 40.00456799999999], [-75.053712, 40.004078], [-75.05455451899996, 40.00273949900003], [-75.05803451999998, 40.00511040900006], [-75.06171078799996, 40.00682362100008], [-75.06274585299997, 40.00600270700005], [-75.06552982299996, 40.00603839900003], [-75.06767133699998, 40.00557440400007], [-75.06892055399999, 40.00878667600005], [-75.07045530699997, 40.013212473000074], [-75.0718116, 40.017138584000065], [-75.07252543799994, 40.01881610400006], [-75.07338204399996, 40.01956563400007], [-75.07491679599997, 40.021528690000025], [-75.07680846799997, 40.02338466900005], [-75.07678512199993, 40.023398677000046], [-75.07624713999996, 40.02372146600004], [-75.07341773599995, 40.02541910800005], [-75.06770702899996, 40.02673970900003], [-75.06506582799994, 40.02716801200006], [-75.06231754999999, 40.027560623000056], [-75.05896250999996, 40.028024618000074], [-75.05782036899994, 40.028631381000025], [-75.04857616299995, 40.01774534700007], [-75.05614284899997, 40.013962004000064], [-75.049902, 40.007217000000004]]], &quot;type&quot;: &quot;Polygon&quot;}, &quot;id&quot;: &quot;117&quot;, &quot;properties&quot;: {&quot;N&quot;: 12.0, &quot;Name&quot;: &quot;WISSINOMING&quot;, &quot;__folium_color&quot;: &quot;#e7298a&quot;, &quot;label&quot;: 1.0, &quot;neighborhood&quot;: &quot;WISSINOMING&quot;, &quot;overall_satisfaction&quot;: 0.0, &quot;price_per_person&quot;: 77.89814814814814}, &quot;type&quot;: &quot;Feature&quot;}, {&quot;bbox&quot;: [-75.16760663899998, 39.99463232700004, -75.15295886899996, 40.00324320700002], &quot;geometry&quot;: {&quot;coordinates&quot;: [[[-75.15929378699997, 39.99481814900003], [-75.15979706399996, 39.99463232700004], [-75.15980685099998, 39.99463360500005], [-75.16705414599994, 39.99557913700006], [-75.16757867399996, 39.99564757100006], [-75.16760663899998, 39.99564949200004], [-75.16595667499996, 40.00324320700002], [-75.15295886899996, 40.00160732800003], [-75.15389756199993, 39.99681501600003], [-75.15408517399999, 39.99674637600003], [-75.15596690399995, 39.99607587400005], [-75.15787253899997, 39.99534826800004], [-75.15929378699997, 39.99481814900003]]], &quot;type&quot;: &quot;Polygon&quot;}, &quot;id&quot;: &quot;118&quot;, &quot;properties&quot;: {&quot;N&quot;: null, &quot;Name&quot;: &quot;GLENWOOD&quot;, &quot;__folium_color&quot;: &quot;#1b9e77&quot;, &quot;label&quot;: -1.0, &quot;neighborhood&quot;: null, &quot;overall_satisfaction&quot;: null, &quot;price_per_person&quot;: null}, &quot;type&quot;: &quot;Feature&quot;}, {&quot;bbox&quot;: [-75.13622308899994, 39.989869961000075, -75.12487755499996, 39.997381682000025], &quot;geometry&quot;: {&quot;coordinates&quot;: [[[-75.12552793199995, 39.989869961000075], [-75.12607706699998, 39.99016715700003], [-75.13622308899994, 39.991499655000034], [-75.13534744699994, 39.99606822000004], [-75.13505239399996, 39.997381682000025], [-75.13231601399997, 39.996168157000064], [-75.13024588299999, 39.99474048100007], [-75.12853267099996, 39.993431777000076], [-75.12660530699996, 39.99162338700006], [-75.12487755499996, 39.990224886000085], [-75.12552793199995, 39.989869961000075]]], &quot;type&quot;: &quot;Polygon&quot;}, &quot;id&quot;: &quot;119&quot;, &quot;properties&quot;: {&quot;N&quot;: null, &quot;Name&quot;: &quot;MCGUIRE&quot;, &quot;__folium_color&quot;: &quot;#1b9e77&quot;, &quot;label&quot;: -1.0, &quot;neighborhood&quot;: null, &quot;overall_satisfaction&quot;: null, &quot;price_per_person&quot;: null}, &quot;type&quot;: &quot;Feature&quot;}, {&quot;bbox&quot;: [-75.13505239399996, 39.990224886000085, -75.11342837299998, 40.00516926200004], &quot;geometry&quot;: {&quot;coordinates&quot;: [[[-75.12784341999998, 40.00516926200004], [-75.11407462699998, 40.00361002500005], [-75.11546423299995, 39.99675717700006], [-75.11342837299998, 39.996472965000066], [-75.11599089399992, 39.99507453900003], [-75.12480600199996, 39.99026393400004], [-75.12487755499996, 39.990224886000085], [-75.12660530699996, 39.99162338700006], [-75.12853267099996, 39.993431777000076], [-75.13024588299999, 39.99474048100007], [-75.13231601399997, 39.996168157000064], [-75.13505239399996, 39.997381682000025], [-75.13462409099998, 39.998214494000074], [-75.13445752899997, 39.99914248400007], [-75.13379127999997, 40.00230716700002], [-75.13416946999996, 40.00491462000007], [-75.13423082099995, 40.00490648800007], [-75.13336297699993, 40.00509113600003], [-75.13197773399996, 40.00513951800008], [-75.12784341999998, 40.00516926200004]]], &quot;type&quot;: &quot;Polygon&quot;}, &quot;id&quot;: &quot;120&quot;, &quot;properties&quot;: {&quot;N&quot;: null, &quot;Name&quot;: &quot;UPPER_KENSINGTON&quot;, &quot;__folium_color&quot;: &quot;#1b9e77&quot;, &quot;label&quot;: -1.0, &quot;neighborhood&quot;: null, &quot;overall_satisfaction&quot;: null, &quot;price_per_person&quot;: null}, &quot;type&quot;: &quot;Feature&quot;}, {&quot;bbox&quot;: [-75.20428213899999, 39.96405261200004, -75.17627975099998, 39.999795368000036], &quot;geometry&quot;: {&quot;coordinates&quot;: [[[-75.19061185699996, 39.99964506500004], [-75.19084980299994, 39.99819359400005], [-75.19054047299993, 39.997479756000075], [-75.18999319699998, 39.99683730100002], [-75.18782788699997, 39.996527972000074], [-75.18778029799995, 39.99579033900005], [-75.18732819999997, 39.99457681300004], [-75.18640021099998, 39.992649450000044], [-75.18797065499996, 39.98541588900008], [-75.18880346599997, 39.98089491300004], [-75.18899382299998, 39.979681388000074], [-75.18919401499994, 39.978812567000034], [-75.18976508599997, 39.97821770200005], [-75.18986026399995, 39.97795596100008], [-75.18969370199994, 39.97719453400003], [-75.18890847999995, 39.977004177000026], [-75.18814705199996, 39.97664725800008], [-75.18729146399994, 39.97507625900005], [-75.18727636499995, 39.97504728800005], [-75.18655281299992, 39.97353016400006], [-75.18545826099995, 39.973363601000074], [-75.18555343999996, 39.972483201000045], [-75.18203183699994, 39.96955646400004], [-75.17977134999995, 39.96741494900005], [-75.17627975099998, 39.96424434100004], [-75.17637137699995, 39.96421917400005], [-75.17777525899997, 39.96452850400004], [-75.17867945499995, 39.96490921800006], [-75.17951226599996, 39.96452850400004], [-75.18015471999995, 39.96405261200004], [-75.18091614799994, 39.964195379000046], [-75.18229623499997, 39.96450470900003], [-75.18284351099999, 39.96440953100005], [-75.18338256999994, 39.96436662300003], [-75.18421939999995, 39.965307345000035], [-75.18585527899995, 39.96721091400008], [-75.18731269899996, 39.96795449500007], [-75.18936498399995, 39.968608847000034], [-75.19082240399995, 39.96953088800007], [-75.191952648, 39.97223752500002], [-75.19318195299995, 39.97523933000008], [-75.19336041299994, 39.975667633000064], [-75.19407425099998, 39.97655993100005], [-75.19728652299995, 39.978130375000035], [-75.20214062399998, 39.98073588500006], [-75.20421075499996, 39.983162935000045], [-75.20428213899999, 39.98516168300006], [-75.20328276499997, 39.98623244000004], [-75.19842866399995, 39.99069392900004], [-75.19400286699992, 39.99526249500007], [-75.19200411999998, 39.999795368000036], [-75.19061185699996, 39.99964506500004]]], &quot;type&quot;: &quot;Polygon&quot;}, &quot;id&quot;: &quot;121&quot;, &quot;properties&quot;: {&quot;N&quot;: 42.0, &quot;Name&quot;: &quot;EAST_PARK&quot;, &quot;__folium_color&quot;: &quot;#666666&quot;, &quot;label&quot;: 4.0, &quot;neighborhood&quot;: &quot;EAST_PARK&quot;, &quot;overall_satisfaction&quot;: 2.7142857142857144, &quot;price_per_person&quot;: 193.38888888888889}, &quot;type&quot;: &quot;Feature&quot;}, {&quot;bbox&quot;: [-75.13320169399998, 39.97857347000008, -75.12020983599996, 39.98983737100008], &quot;geometry&quot;: {&quot;coordinates&quot;: [[[-75.12020983599996, 39.984730325000044], [-75.12025206099997, 39.98475670300007], [-75.12481409299994, 39.98249958100006], [-75.12758021699995, 39.981399080000074], [-75.13049505699995, 39.97857347000008], [-75.13320169399998, 39.980120120000045], [-75.13190198799998, 39.98630291200004], [-75.12549274599996, 39.98983737100008], [-75.12242273499999, 39.986978916000055], [-75.12227996799999, 39.987085992000054], [-75.12020983599996, 39.984730325000044]]], &quot;type&quot;: &quot;Polygon&quot;}, &quot;id&quot;: &quot;122&quot;, &quot;properties&quot;: {&quot;N&quot;: 108.0, &quot;Name&quot;: &quot;EAST_KENSINGTON&quot;, &quot;__folium_color&quot;: &quot;#d95f02&quot;, &quot;label&quot;: 0.0, &quot;neighborhood&quot;: &quot;EAST_KENSINGTON&quot;, &quot;overall_satisfaction&quot;: 2.602564102564102, &quot;price_per_person&quot;: 58.98442802408319}, &quot;type&quot;: &quot;Feature&quot;}, {&quot;bbox&quot;: [-75.18098790499992, 40.03584039500003, -75.16941188999992, 40.05185533500003], &quot;geometry&quot;: {&quot;coordinates&quot;: [[[-75.17209592199998, 40.038404264000064], [-75.17475853899997, 40.03584039500003], [-75.18098790499992, 40.043206557000076], [-75.17221895499995, 40.05182040100004], [-75.17218339599998, 40.05185533500003], [-75.17142491399993, 40.05101064900003], [-75.17082528999998, 40.04969718600006], [-75.16992585399998, 40.04735579700009], [-75.16951182799994, 40.04608516500007], [-75.16941188999992, 40.04474314800006], [-75.16948327399994, 40.043415409000026], [-75.16995440699998, 40.04237320500004], [-75.17031132599999, 40.04135955500004], [-75.17076818299995, 40.04060288600005], [-75.17145346799998, 40.03974628000004], [-75.17199598499995, 40.03901816500008], [-75.17209592199998, 40.038404264000064]]], &quot;type&quot;: &quot;Polygon&quot;}, &quot;id&quot;: &quot;123&quot;, &quot;properties&quot;: {&quot;N&quot;: 12.0, &quot;Name&quot;: &quot;GERMANTOWN_MORTON&quot;, &quot;__folium_color&quot;: &quot;#d95f02&quot;, &quot;label&quot;: 0.0, &quot;neighborhood&quot;: &quot;GERMANTOWN_MORTON&quot;, &quot;overall_satisfaction&quot;: 3.75, &quot;price_per_person&quot;: 37.35714285714286}, &quot;type&quot;: &quot;Feature&quot;}, {&quot;bbox&quot;: [-75.22525233199995, 39.92531675500005, -75.20501485799997, 39.941301657000054], &quot;geometry&quot;: {&quot;coordinates&quot;: [[[-75.20732671899997, 39.93349938500007], [-75.20732961099998, 39.93348878000006], [-75.20733483199994, 39.933490204000066], [-75.20755830499996, 39.93322888500006], [-75.21176062999994, 39.92831487600006], [-75.21258154399999, 39.92531675500005], [-75.21764979599999, 39.927279810000066], [-75.21943439099994, 39.92795795700005], [-75.22089775999996, 39.925816442000034], [-75.22236112899996, 39.92645889600004], [-75.22332480999994, 39.927279810000066], [-75.22525233199995, 39.929193705000046], [-75.22350342799997, 39.930371539000085], [-75.22253974699998, 39.93076415000007], [-75.22105468299998, 39.931813556000066], [-75.21587935599996, 39.933003287000076], [-75.21512861799992, 39.93412939300003], [-75.21417465699993, 39.93556033500005], [-75.21397578699998, 39.93585864000005], [-75.21498705799996, 39.93517454500005], [-75.21561166599997, 39.93576941000003], [-75.20811636399998, 39.941301657000054], [-75.20523126799998, 39.941182684000076], [-75.20501485799997, 39.93930798600008], [-75.20533608499994, 39.93638124900007], [-75.20597854, 39.93502495600007], [-75.20732671899997, 39.93349938500007]]], &quot;type&quot;: &quot;Polygon&quot;}, &quot;id&quot;: &quot;124&quot;, &quot;properties&quot;: {&quot;N&quot;: null, &quot;Name&quot;: &quot;BARTRAM_VILLAGE&quot;, &quot;__folium_color&quot;: &quot;#1b9e77&quot;, &quot;label&quot;: -1.0, &quot;neighborhood&quot;: null, &quot;overall_satisfaction&quot;: null, &quot;price_per_person&quot;: null}, &quot;type&quot;: &quot;Feature&quot;}, {&quot;bbox&quot;: [-75.19352444099995, 39.89684410800004, -75.17225027699999, 39.914611560000026], &quot;geometry&quot;: {&quot;coordinates&quot;: [[[-75.17488520499995, 39.90066200500008], [-75.17524082099997, 39.89909114400007], [-75.17735378199995, 39.89926246500005], [-75.19007910999994, 39.89685194100007], [-75.19012045999995, 39.89684410800004], [-75.19190640699998, 39.89766979800004], [-75.19314372699993, 39.89904036700006], [-75.19352444099995, 39.900639365000075], [-75.19213483499992, 39.906673678000054], [-75.19127822899998, 39.91108995800005], [-75.19047873099998, 39.914611560000026], [-75.18147484999997, 39.91345038300005], [-75.17225027699999, 39.912301568000025], [-75.17225260399994, 39.91229099100008], [-75.17488520499995, 39.90066200500008]]], &quot;type&quot;: &quot;Polygon&quot;}, &quot;id&quot;: &quot;125&quot;, &quot;properties&quot;: {&quot;N&quot;: 26.0, &quot;Name&quot;: &quot;PACKER_PARK&quot;, &quot;__folium_color&quot;: &quot;#e7298a&quot;, &quot;label&quot;: 1.0, &quot;neighborhood&quot;: &quot;PACKER_PARK&quot;, &quot;overall_satisfaction&quot;: 0.0, &quot;price_per_person&quot;: 194.32291666666663}, &quot;type&quot;: &quot;Feature&quot;}, {&quot;bbox&quot;: [-75.16242964399997, 39.95671255300004, -75.148209733, 39.96223290300002], &quot;geometry&quot;: {&quot;coordinates&quot;: [[[-75.15245479699996, 39.961480850000044], [-75.15003265199994, 39.96137629700007], [-75.148209733, 39.961410199000056], [-75.14825178399997, 39.96117366100003], [-75.14887639299995, 39.95766395600003], [-75.15077028499995, 39.957473981000085], [-75.15219796199993, 39.95709326700006], [-75.15393496799997, 39.95671255300004], [-75.15788487399992, 39.957473981000085], [-75.16242964399997, 39.95806884600006], [-75.16242623799995, 39.958093932000054], [-75.16195375199999, 39.960900405000075], [-75.16164442199994, 39.961043172000075], [-75.16138645499996, 39.96221575000004], [-75.16138268099996, 39.96223290300002], [-75.16137496799996, 39.96223193900005], [-75.16135470199998, 39.962229406000056], [-75.15776590099995, 39.96178080500005], [-75.15334010299995, 39.96151906500006], [-75.15249149999998, 39.96148216300003], [-75.15245479699996, 39.961480850000044]]], &quot;type&quot;: &quot;Polygon&quot;}, &quot;id&quot;: &quot;126&quot;, &quot;properties&quot;: {&quot;N&quot;: null, &quot;Name&quot;: &quot;CALLOW_HILL&quot;, &quot;__folium_color&quot;: &quot;#1b9e77&quot;, &quot;label&quot;: -1.0, &quot;neighborhood&quot;: null, &quot;overall_satisfaction&quot;: null, &quot;price_per_person&quot;: null}, &quot;type&quot;: &quot;Feature&quot;}, {&quot;bbox&quot;: [-75.16561828395663, 39.9421550157914, -75.15108773099399, 39.95223916704396], &quot;geometry&quot;: {&quot;coordinates&quot;: [[[-75.15592521629566, 39.94237425054126], [-75.15864630103594, 39.9427689119957], [-75.16557290803325, 39.943666901965976], [-75.16561828395663, 39.94367233000406], [-75.16388111500146, 39.95162050704078], [-75.16266758997727, 39.95145394504357], [-75.16247723299789, 39.95223916704396], [-75.15493712702674, 39.95128907296237], [-75.1536018439599, 39.951120819969894], [-75.15415958775475, 39.94855376067756], [-75.1542586860295, 39.948097653044265], [-75.15108773099399, 39.947675574408265], [-75.15138919885243, 39.94613617545418], [-75.15299844518204, 39.9463117295927], [-75.15318375228833, 39.9455509949625], [-75.1535251075976, 39.944166067879735], [-75.15395745082564, 39.9421550157914], [-75.15552920702724, 39.9423168139898], [-75.15592521629566, 39.94237425054126]]], &quot;type&quot;: &quot;Polygon&quot;}, &quot;id&quot;: &quot;127&quot;, &quot;properties&quot;: {&quot;N&quot;: 703.0, &quot;Name&quot;: &quot;WASHINGTON_SQUARE&quot;, &quot;__folium_color&quot;: &quot;#666666&quot;, &quot;label&quot;: 4.0, &quot;neighborhood&quot;: &quot;WASHINGTON_SQUARE&quot;, &quot;overall_satisfaction&quot;: 3.0637450199203187, &quot;price_per_person&quot;: 126.95911776105952}, &quot;type&quot;: &quot;Feature&quot;}, {&quot;bbox&quot;: [-75.02894298399997, 40.06924517300006, -74.98437201399996, 40.10480019600004], &quot;geometry&quot;: {&quot;coordinates&quot;: [[[-74.99136762899997, 40.09577014200005], [-74.98437201399996, 40.08998805200007], [-74.98499226599995, 40.089235520000045], [-74.98661029999992, 40.08638016700007], [-74.98813315499994, 40.08514284700004], [-74.99222582799995, 40.08295374300007], [-74.99441493199998, 40.08166883400003], [-74.99438247399996, 40.08171829600008], [-74.99728501999994, 40.08011539200004], [-74.99893590799996, 40.07843276700004], [-75.00079188799997, 40.076148484000036], [-75.00150572599993, 40.075244289000075], [-75.00221956399997, 40.07467321800004], [-75.00236233199995, 40.074197326000046], [-75.00225171799997, 40.074014737000034], [-75.00283822399994, 40.072341347000076], [-75.00345688399995, 40.07162750800006], [-75.00432314399995, 40.07110347500003], [-75.00435636999998, 40.07108337500005], [-75.00591594399998, 40.07013992900005], [-75.00623401199994, 40.06994751700005], [-75.00685772799993, 40.06957020800007], [-75.00731161099998, 40.06929563700004], [-75.00723359099999, 40.06924517300006], [-75.00810602699994, 40.069675335000056], [-75.00811057899995, 40.06967758300004], [-75.01302231699998, 40.07210340100005], [-75.02894298399997, 40.08104660500004], [-75.02226859599993, 40.08754253300003], [-75.01536221099995, 40.094776095000036], [-75.014559143, 40.09554942000005], [-75.01286377699995, 40.09727452900006], [-75.00917561199996, 40.09980270600004], [-75.00563616399995, 40.10236062700005], [-75.00164690099996, 40.10480019600004], [-74.99907708299996, 40.10262299000004], [-74.99818478499998, 40.10158792400006], [-74.99136762899997, 40.09577014200005]]], &quot;type&quot;: &quot;Polygon&quot;}, &quot;id&quot;: &quot;128&quot;, &quot;properties&quot;: {&quot;N&quot;: null, &quot;Name&quot;: &quot;NORTHEAST_AIRPORT&quot;, &quot;__folium_color&quot;: &quot;#1b9e77&quot;, &quot;label&quot;: -1.0, &quot;neighborhood&quot;: null, &quot;overall_satisfaction&quot;: null, &quot;price_per_person&quot;: null}, &quot;type&quot;: &quot;Feature&quot;}, {&quot;bbox&quot;: [-75.12362272899998, 40.04257458700004, -75.11099090099998, 40.05315900000001], &quot;geometry&quot;: {&quot;coordinates&quot;: [[[-75.12362272899998, 40.045105738000075], [-75.122121, 40.05315900000001], [-75.12150283299997, 40.05280831400006], [-75.120806, 40.052413], [-75.12002214099994, 40.05196782200006], [-75.119989, 40.051949], [-75.11953272299996, 40.05169038500003], [-75.119465, 40.051652000000004], [-75.118768, 40.051256], [-75.11865813599995, 40.05119322000007], [-75.11864757199997, 40.05118720400003], [-75.11856489999997, 40.05114017600005], [-75.11710406899992, 40.050311012000066], [-75.11705999999998, 40.050286], [-75.11702941399994, 40.05026827100005], [-75.11504499999998, 40.04911800000001], [-75.11452195399993, 40.048815235000056], [-75.114506, 40.048806], [-75.11449883599992, 40.04880184600006], [-75.11335174399993, 40.048136743000036], [-75.112871, 40.047858], [-75.112363, 40.047563], [-75.11225870999994, 40.04750282500004], [-75.11225186699993, 40.047498878000056], [-75.11205485299996, 40.04738525500005], [-75.11114079799994, 40.046858351000026], [-75.11099090099998, 40.04677217200003], [-75.11131794099997, 40.046417416000054], [-75.11106809799996, 40.044632821000036], [-75.11235300699995, 40.04334791200005], [-75.11251956899996, 40.04257458700004], [-75.11336427799995, 40.04283632800008], [-75.11361412099994, 40.04293150600006], [-75.11370929999997, 40.04335980900004], [-75.11389965699993, 40.04363344700005], [-75.11545820399992, 40.04393088000006], [-75.11932482799995, 40.04449005300006], [-75.12362272899998, 40.045105738000075]]], &quot;type&quot;: &quot;Polygon&quot;}, &quot;id&quot;: &quot;129&quot;, &quot;properties&quot;: {&quot;N&quot;: null, &quot;Name&quot;: &quot;MELROSE_PARK_GARDENS&quot;, &quot;__folium_color&quot;: &quot;#1b9e77&quot;, &quot;label&quot;: -1.0, &quot;neighborhood&quot;: null, &quot;overall_satisfaction&quot;: null, &quot;price_per_person&quot;: null}, &quot;type&quot;: &quot;Feature&quot;}, {&quot;bbox&quot;: [-75.24319712599998, 40.06114017300007, -75.22462652999997, 40.083618132000026], &quot;geometry&quot;: {&quot;coordinates&quot;: [[[-75.22462652999997, 40.066860476000045], [-75.22587574699998, 40.06582541100004], [-75.22655389399995, 40.06543280000005], [-75.22523329299997, 40.06504018900005], [-75.22484068199998, 40.06475465300009], [-75.22473360599997, 40.06393373900004], [-75.22487637399995, 40.062648830000064], [-75.22594713099994, 40.062184835000046], [-75.22688364299995, 40.06181118100006], [-75.22838270399996, 40.06246791200004], [-75.23173774399999, 40.064081187000056], [-75.23607788099997, 40.06114017300007], [-75.23966134899996, 40.063995526000035], [-75.23998257599999, 40.066743803000065], [-75.24026811099998, 40.06824286400006], [-75.24108902499994, 40.070455763000034], [-75.24230255099995, 40.072418818000074], [-75.24319712599998, 40.07357258200005], [-75.243133, 40.07362799999999], [-75.241277, 40.075446], [-75.24094200000002, 40.075758], [-75.24086899999999, 40.07583], [-75.240658, 40.07603999999999], [-75.24038199999998, 40.076336000000005], [-75.24012100000002, 40.076592], [-75.23998399999999, 40.076716], [-75.239632, 40.07703500000001], [-75.239349, 40.077309], [-75.238197, 40.078464], [-75.238088, 40.078572], [-75.23781203499993, 40.07884657800002], [-75.23768999999999, 40.078968], [-75.237148, 40.07949299999999], [-75.236662, 40.079985], [-75.236209, 40.080442000000005], [-75.23609692499998, 40.08055577400006], [-75.236077, 40.080576], [-75.23605452999992, 40.08059627100004], [-75.23546399999998, 40.081129000000004], [-75.23548641299998, 40.08113871200004], [-75.235524, 40.081155], [-75.23302999999999, 40.083618], [-75.23301428299997, 40.083618132000026], [-75.23233598399997, 40.082993222000034], [-75.23087261499994, 40.08238645900007], [-75.23045157899998, 40.08226978600004], [-75.22791018599996, 40.081565545000046], [-75.22591143899994, 40.07899572700006], [-75.23058707999995, 40.07681852100007], [-75.22926647899999, 40.07453423800006], [-75.22940924699998, 40.07421301100005], [-75.22840987299996, 40.073320713000044], [-75.22843603799998, 40.07310267500002], [-75.22851694899998, 40.07242841500005], [-75.22908801999995, 40.07203580400006], [-75.23072984799995, 40.07178596100004], [-75.23197906499996, 40.071357658000075], [-75.23297843799996, 40.07057243500003], [-75.23247875099997, 40.07007274900007], [-75.23201475699993, 40.07064381900006], [-75.22980185799996, 40.07089366300006], [-75.22865971699999, 40.07039397600005], [-75.22462652999997, 40.066860476000045]]], &quot;type&quot;: &quot;Polygon&quot;}, &quot;id&quot;: &quot;130&quot;, &quot;properties&quot;: {&quot;N&quot;: null, &quot;Name&quot;: &quot;ANDORRA&quot;, &quot;__folium_color&quot;: &quot;#1b9e77&quot;, &quot;label&quot;: -1.0, &quot;neighborhood&quot;: null, &quot;overall_satisfaction&quot;: null, &quot;price_per_person&quot;: null}, &quot;type&quot;: &quot;Feature&quot;}, {&quot;bbox&quot;: [-75.20377384799997, 39.961264745000044, -75.18253965899999, 39.97523933000008], &quot;geometry&quot;: {&quot;coordinates&quot;: [[[-75.18338256999994, 39.96436662300003], [-75.18337075399995, 39.96435334000006], [-75.18253965899999, 39.96341906400005], [-75.18717960799994, 39.96264573900004], [-75.19875004699998, 39.961264745000044], [-75.20195950899995, 39.96295475200004], [-75.20377384799997, 39.97143158200003], [-75.19868774999998, 39.971937217000054], [-75.19930629799994, 39.97460436500007], [-75.19318195299995, 39.97523933000008], [-75.191952648, 39.97223752500002], [-75.19082240399995, 39.96953088800007], [-75.18936498399995, 39.968608847000034], [-75.18731269899996, 39.96795449500007], [-75.18585527899995, 39.96721091400008], [-75.18421939999995, 39.965307345000035], [-75.18338256999994, 39.96436662300003]]], &quot;type&quot;: &quot;Polygon&quot;}, &quot;id&quot;: &quot;131&quot;, &quot;properties&quot;: {&quot;N&quot;: 162.0, &quot;Name&quot;: &quot;MANTUA&quot;, &quot;__folium_color&quot;: &quot;#d95f02&quot;, &quot;label&quot;: 0.0, &quot;neighborhood&quot;: &quot;MANTUA&quot;, &quot;overall_satisfaction&quot;: 2.96875, &quot;price_per_person&quot;: 96.52777777777776}, &quot;type&quot;: &quot;Feature&quot;}, {&quot;bbox&quot;: [-75.17789157499999, 39.972340433000056, -75.16725538499998, 39.97962158400003], &quot;geometry&quot;: {&quot;coordinates&quot;: [[[-75.16725538499998, 39.973363601000074], [-75.17032488899997, 39.97305427100008], [-75.17648769299996, 39.972340433000056], [-75.17784398599996, 39.97250699500006], [-75.17786778099997, 39.97383949400007], [-75.17789157499999, 39.97424400200003], [-75.17708255899997, 39.974339180000065], [-75.17596421199993, 39.97962158400003], [-75.17030109499996, 39.97883636200004], [-75.16913515899995, 39.97674132000003], [-75.16725538499998, 39.973363601000074]]], &quot;type&quot;: &quot;Polygon&quot;}, &quot;id&quot;: &quot;132&quot;, &quot;properties&quot;: {&quot;N&quot;: 31.0, &quot;Name&quot;: &quot;SHARSWOOD&quot;, &quot;__folium_color&quot;: &quot;#66a61e&quot;, &quot;label&quot;: 2.0, &quot;neighborhood&quot;: &quot;SHARSWOOD&quot;, &quot;overall_satisfaction&quot;: 5.0, &quot;price_per_person&quot;: 387.6269841269841}, &quot;type&quot;: &quot;Feature&quot;}, {&quot;bbox&quot;: [-75.16137496799996, 39.96148216300003, -75.15096431499994, 39.97147653000008], &quot;geometry&quot;: {&quot;coordinates&quot;: [[[-75.15096431499994, 39.97056257200007], [-75.15109272999996, 39.96984913700003], [-75.15155359899995, 39.96728867900004], [-75.15164175599995, 39.966526379000065], [-75.15195810699998, 39.96379087100007], [-75.15249149999998, 39.96148216300003], [-75.15334010299995, 39.96151906500006], [-75.15776590099995, 39.96178080500005], [-75.16135470199998, 39.962229406000056], [-75.16137496799996, 39.96223193900005], [-75.16129225199994, 39.962625661000054], [-75.16035760499994, 39.96707452700008], [-75.15928684699998, 39.97147653000008], [-75.15262435699997, 39.970596130000054], [-75.15177475699994, 39.970578955000065], [-75.15096431499994, 39.97056257200007]]], &quot;type&quot;: &quot;Polygon&quot;}, &quot;id&quot;: &quot;133&quot;, &quot;properties&quot;: {&quot;N&quot;: 120.0, &quot;Name&quot;: &quot;WEST_POPLAR&quot;, &quot;__folium_color&quot;: &quot;#d95f02&quot;, &quot;label&quot;: 0.0, &quot;neighborhood&quot;: &quot;WEST_POPLAR&quot;, &quot;overall_satisfaction&quot;: 2.7285714285714286, &quot;price_per_person&quot;: 130.17117442482612}, &quot;type&quot;: &quot;Feature&quot;}, {&quot;bbox&quot;: [-75.15249149999998, 39.96137629700007, -75.14658810299994, 39.97056257200007], &quot;geometry&quot;: {&quot;coordinates&quot;: [[[-75.148209733, 39.961410199000056], [-75.15003265199994, 39.96137629700007], [-75.15245479699996, 39.961480850000044], [-75.15249149999998, 39.96148216300003], [-75.15195810699998, 39.96379087100007], [-75.15164175599995, 39.966526379000065], [-75.15155359899995, 39.96728867900004], [-75.15109272999996, 39.96984913700003], [-75.15096431499994, 39.97056257200007], [-75.14658810299994, 39.97038339700003], [-75.14777589199997, 39.96385055500007], [-75.148209733, 39.961410199000056]]], &quot;type&quot;: &quot;Polygon&quot;}, &quot;id&quot;: &quot;134&quot;, &quot;properties&quot;: {&quot;N&quot;: 36.0, &quot;Name&quot;: &quot;EAST_POPLAR&quot;, &quot;__folium_color&quot;: &quot;#d95f02&quot;, &quot;label&quot;: 0.0, &quot;neighborhood&quot;: &quot;EAST_POPLAR&quot;, &quot;overall_satisfaction&quot;: 3.35, &quot;price_per_person&quot;: 69.16436781609197}, &quot;type&quot;: &quot;Feature&quot;}, {&quot;bbox&quot;: [-75.18338256999994, 39.95259183300005, -75.16138645499996, 39.96490921800006], &quot;geometry&quot;: {&quot;coordinates&quot;: [[[-75.17637137699995, 39.96421917400005], [-75.16166630799995, 39.96243457800006], [-75.16138645499996, 39.96221575000004], [-75.16164442199994, 39.961043172000075], [-75.16195375199999, 39.960900405000075], [-75.16242623799995, 39.958093932000054], [-75.16242964399997, 39.95806884600006], [-75.16350040199994, 39.953381308000075], [-75.16497566699996, 39.95357166500003], [-75.16523042299997, 39.95259183300005], [-75.18044518499994, 39.954525587000035], [-75.17965456199994, 39.95639965400005], [-75.17932738699994, 39.95877911500003], [-75.18033865699994, 39.96095037300005], [-75.18253965899999, 39.96341906400005], [-75.18337075399995, 39.96435334000006], [-75.18338256999994, 39.96436662300003], [-75.18284351099999, 39.96440953100005], [-75.18229623499997, 39.96450470900003], [-75.18091614799994, 39.964195379000046], [-75.18015471999995, 39.96405261200004], [-75.17951226599996, 39.96452850400004], [-75.17867945499995, 39.96490921800006], [-75.17777525899997, 39.96452850400004], [-75.17637137699995, 39.96421917400005]]], &quot;type&quot;: &quot;Polygon&quot;}, &quot;id&quot;: &quot;135&quot;, &quot;properties&quot;: {&quot;N&quot;: 510.0, &quot;Name&quot;: &quot;LOGAN_SQUARE&quot;, &quot;__folium_color&quot;: &quot;#666666&quot;, &quot;label&quot;: 4.0, &quot;neighborhood&quot;: &quot;LOGAN_SQUARE&quot;, &quot;overall_satisfaction&quot;: 3.1392405063291138, &quot;price_per_person&quot;: 145.4394137517707}, &quot;type&quot;: &quot;Feature&quot;}, {&quot;bbox&quot;: [-75.17127107699996, 39.915219408000034, -75.15659996499993, 39.92442326800005], &quot;geometry&quot;: {&quot;coordinates&quot;: [[[-75.15659996499993, 39.92271005600003], [-75.15826944999998, 39.915219408000034], [-75.17127107699996, 39.91675248000008], [-75.17024378199993, 39.92180295400004], [-75.17022557799999, 39.92189245000003], [-75.16971079499996, 39.92442326800005], [-75.16130862899996, 39.92332534400004], [-75.16129683599996, 39.92332380300008], [-75.15659996499993, 39.92271005600003]]], &quot;type&quot;: &quot;Polygon&quot;}, &quot;id&quot;: &quot;136&quot;, &quot;properties&quot;: {&quot;N&quot;: 100.0, &quot;Name&quot;: &quot;LOWER_MOYAMENSING&quot;, &quot;__folium_color&quot;: &quot;#d95f02&quot;, &quot;label&quot;: 0.0, &quot;neighborhood&quot;: &quot;LOWER_MOYAMENSING&quot;, &quot;overall_satisfaction&quot;: 2.838709677419355, &quot;price_per_person&quot;: 72.6054794520548}, &quot;type&quot;: &quot;Feature&quot;}, {&quot;bbox&quot;: [-75.17541214199996, 39.89552039000005, -75.14825491899994, 39.91675248000008], &quot;geometry&quot;: {&quot;coordinates&quot;: [[[-75.14880024999995, 39.911083628000036], [-75.15110071899993, 39.89552039000005], [-75.16885624299994, 39.89717305400006], [-75.17044382699997, 39.89732082500007], [-75.17049737299998, 39.89722444300003], [-75.17072936299996, 39.89680686200006], [-75.17089773399992, 39.89682739500006], [-75.17362700499994, 39.89716023300007], [-75.17539262799993, 39.89737555200002], [-75.17541214199996, 39.89737793200005], [-75.17525015199999, 39.89899783200008], [-75.17524082099997, 39.89909114400007], [-75.17488520499995, 39.90066200500008], [-75.17225260399994, 39.91229099100008], [-75.17225027699999, 39.912301568000025], [-75.17127107699996, 39.91675248000008], [-75.15826944999998, 39.915219408000034], [-75.15815429799993, 39.91520583000004], [-75.14825491899994, 39.91378301700007], [-75.14827642199998, 39.91367657800003], [-75.14880024999995, 39.911083628000036]]], &quot;type&quot;: &quot;Polygon&quot;}, &quot;id&quot;: &quot;137&quot;, &quot;properties&quot;: {&quot;N&quot;: 31.0, &quot;Name&quot;: &quot;STADIUM_DISTRICT&quot;, &quot;__folium_color&quot;: &quot;#d95f02&quot;, &quot;label&quot;: 0.0, &quot;neighborhood&quot;: &quot;STADIUM_DISTRICT&quot;, &quot;overall_satisfaction&quot;: 2.875, &quot;price_per_person&quot;: 118.9810606060606}, &quot;type&quot;: &quot;Feature&quot;}, {&quot;bbox&quot;: [-75.21129889299992, 39.962211171000035, -75.20195950899995, 39.96866545900008], &quot;geometry&quot;: {&quot;coordinates&quot;: [[[-75.21103781299995, 39.96675398300004], [-75.21129889299992, 39.96866545900008], [-75.20195950899995, 39.96295475200004], [-75.20903840499994, 39.962211171000035], [-75.21046608199997, 39.96256809000005], [-75.21102760399997, 39.966679235000065], [-75.21103781299995, 39.96675398300004]]], &quot;type&quot;: &quot;Polygon&quot;}, &quot;id&quot;: &quot;138&quot;, &quot;properties&quot;: {&quot;N&quot;: 11.0, &quot;Name&quot;: &quot;HAVERFORD_NORTH&quot;, &quot;__folium_color&quot;: &quot;#d95f02&quot;, &quot;label&quot;: 0.0, &quot;neighborhood&quot;: &quot;HAVERFORD_NORTH&quot;, &quot;overall_satisfaction&quot;: 4.0, &quot;price_per_person&quot;: 102.025}, &quot;type&quot;: &quot;Feature&quot;}, {&quot;bbox&quot;: [-75.21343556999994, 39.97143158200003, -75.19868774999998, 39.97768206100005], &quot;geometry&quot;: {&quot;coordinates&quot;: [[[-75.21334637199998, 39.977649021000055], [-75.20385383599995, 39.97413288100006], [-75.19930629799994, 39.97460436500007], [-75.19868774999998, 39.971937217000054], [-75.20377384799997, 39.97143158200003], [-75.20600459299997, 39.971877731000056], [-75.21225067799998, 39.97321617800003], [-75.21343556999994, 39.97768206100005], [-75.21334637199998, 39.977649021000055]]], &quot;type&quot;: &quot;Polygon&quot;}, &quot;id&quot;: &quot;139&quot;, &quot;properties&quot;: {&quot;N&quot;: null, &quot;Name&quot;: &quot;EAST_PARKSIDE&quot;, &quot;__folium_color&quot;: &quot;#1b9e77&quot;, &quot;label&quot;: -1.0, &quot;neighborhood&quot;: null, &quot;overall_satisfaction&quot;: null, &quot;price_per_person&quot;: null}, &quot;type&quot;: &quot;Feature&quot;}, {&quot;bbox&quot;: [-75.21394604399994, 39.95715481600007, -75.19580265399996, 39.96295475200004], &quot;geometry&quot;: {&quot;coordinates&quot;: [[[-75.19875004699998, 39.961264745000044], [-75.19872428499995, 39.96125118000004], [-75.19580265399996, 39.95971273600003], [-75.19612731799998, 39.95968408900006], [-75.20085900799994, 39.95926658800004], [-75.20097798099994, 39.95780916800004], [-75.20175130599995, 39.95786865400003], [-75.20190002199996, 39.95715481600007], [-75.20410102399995, 39.95739276200003], [-75.21305374599996, 39.958523006000064], [-75.21394604399994, 39.95861223600008], [-75.21290502999993, 39.96265731900007], [-75.21198298799999, 39.96271680600005], [-75.21046608199997, 39.96256809000005], [-75.20903840499994, 39.962211171000035], [-75.20195950899995, 39.96295475200004], [-75.19875004699998, 39.961264745000044]]], &quot;type&quot;: &quot;Polygon&quot;}, &quot;id&quot;: &quot;140&quot;, &quot;properties&quot;: {&quot;N&quot;: 139.0, &quot;Name&quot;: &quot;WEST_POWELTON&quot;, &quot;__folium_color&quot;: &quot;#d95f02&quot;, &quot;label&quot;: 0.0, &quot;neighborhood&quot;: &quot;WEST_POWELTON&quot;, &quot;overall_satisfaction&quot;: 2.7333333333333334, &quot;price_per_person&quot;: 59.05678013392858}, &quot;type&quot;: &quot;Feature&quot;}, {&quot;bbox&quot;: [-75.25758684399995, 39.86700400000001, -75.192738, 39.89766346800007], &quot;geometry&quot;: {&quot;coordinates&quot;: [[[-75.19728414799992, 39.89252383200005], [-75.19616920999994, 39.892069598000035], [-75.19574225699995, 39.89189565400004], [-75.192738, 39.879006000000004], [-75.193462, 39.87854899999999], [-75.19395916299997, 39.87823906200004], [-75.19417099999998, 39.878107], [-75.19471, 39.877741], [-75.195018, 39.877520999999994], [-75.19523599999998, 39.877365], [-75.195361, 39.87727600000001], [-75.195489, 39.87716699999999], [-75.195908, 39.87681099999999], [-75.196404, 39.876417999999994], [-75.19676099999998, 39.87609799999999], [-75.197123, 39.875818], [-75.197424, 39.875515], [-75.19763599999999, 39.87529399999999], [-75.19782799999999, 39.87512699999999], [-75.198106, 39.87486100000001], [-75.19855199999999, 39.87444099999999], [-75.199049, 39.87398999999999], [-75.19946799999998, 39.87355199999999], [-75.199857, 39.87322199999999], [-75.204087, 39.871204], [-75.21030185199999, 39.86766517400009], [-75.21146299999998, 39.86700400000001], [-75.21545331499993, 39.87058961500003], [-75.216038, 39.871115], [-75.216021, 39.871358], [-75.21600894499994, 39.87154830600008], [-75.21591103099996, 39.87309400800006], [-75.215787, 39.875052], [-75.21577856099998, 39.87518787000004], [-75.21572699999999, 39.87601800000001], [-75.21572352599998, 39.87606594700003], [-75.215722, 39.87608699999999], [-75.21590000000002, 39.87605899999999], [-75.21604599999999, 39.876024], [-75.216203, 39.87599099999999], [-75.216348, 39.875957], [-75.216359, 39.87595450000003], [-75.21637, 39.87595199999999], [-75.216702, 39.875876], [-75.216844, 39.875843], [-75.217013, 39.875807], [-75.217515, 39.875744999999995], [-75.217701, 39.87572], [-75.217858, 39.875701], [-75.21803399999999, 39.875683], [-75.21831999999999, 39.875678], [-75.218824, 39.875672], [-75.21888499999999, 39.875673000000006], [-75.218921, 39.875669], [-75.21924100000001, 39.87559099999999], [-75.21944499999998, 39.875543], [-75.21962, 39.875502], [-75.21964799999999, 39.87549099999998], [-75.21968505699994, 39.87548089400007], [-75.219703, 39.875476], [-75.219735, 39.875473], [-75.21977, 39.87547899999999], [-75.22025903799994, 39.87551964200003], [-75.22086499999999, 39.87557000000001], [-75.221041, 39.875586], [-75.221229, 39.87560199999999], [-75.22127502499995, 39.87560568200007], [-75.22127899999998, 39.875606], [-75.22208199999999, 39.875674000000004], [-75.22263199399998, 39.87572399900005], [-75.222698, 39.87572999999999], [-75.22287, 39.87574999999999], [-75.223066, 39.875774], [-75.223153, 39.875784], [-75.22376399999999, 39.875858], [-75.224653, 39.876022999999996], [-75.22485699999999, 39.87606000000001], [-75.22502799999998, 39.876093], [-75.22534562899993, 39.876152534000035], [-75.22595099999998, 39.876266], [-75.22684399999999, 39.876402], [-75.22688999999998, 39.876403999999994], [-75.227119, 39.876436], [-75.22847, 39.876630999999996], [-75.228724, 39.876667], [-75.22890499999998, 39.87669199999999], [-75.22998500000001, 39.876847], [-75.23047499999998, 39.876889], [-75.230644, 39.87690099999999], [-75.230846, 39.876918999999994], [-75.23099599999999, 39.876933], [-75.231055, 39.876938], [-75.23186999999999, 39.877010000000006], [-75.231929, 39.877016], [-75.23231, 39.87705600000001], [-75.23254899999999, 39.877082], [-75.23265699999999, 39.877092999999995], [-75.232814, 39.87711099999999], [-75.232991, 39.87712799999999], [-75.23327099999999, 39.877154000000004], [-75.233956, 39.877176999999996], [-75.234018, 39.877179], [-75.23412199999999, 39.877181], [-75.234302, 39.87713599999999], [-75.23447999999999, 39.87709400000001], [-75.23465199999998, 39.877053], [-75.23468399999999, 39.877045], [-75.235024, 39.876963999999994], [-75.235537, 39.87675099999999], [-75.23555312499995, 39.87674025000007], [-75.235795, 39.87657899999999], [-75.235928, 39.876487999999995], [-75.235966, 39.87646099999999], [-75.23597746599995, 39.876453219000034], [-75.23601266999998, 39.876429331000054], [-75.23604999999999, 39.876403999999994], [-75.23637, 39.87618700000001], [-75.23663999999998, 39.875735999999996], [-75.23671299999998, 39.87561399999999], [-75.236774, 39.875474999999994], [-75.236785, 39.875446], [-75.23682447299996, 39.87535738700006], [-75.23684298399995, 39.87531583200007], [-75.23693199999998, 39.87511599999999], [-75.2375, 39.87508], [-75.23754043699994, 39.87503596800008], [-75.23758999999998, 39.874982], [-75.237536, 39.874911], [-75.2375, 39.874867], [-75.237459, 39.87480399999999], [-75.23751109399996, 39.87478711500005], [-75.23801047899995, 39.87462525600006], [-75.23811, 39.874593000000004], [-75.238246, 39.874446], [-75.238325, 39.874362], [-75.23837599999999, 39.874301], [-75.238688, 39.873959], [-75.23875835599995, 39.87393053400007], [-75.23892321599999, 39.87386383000006], [-75.238992, 39.873836], [-75.23917100000001, 39.873609], [-75.23925999999999, 39.87348999999999], [-75.239348, 39.873372], [-75.23940399999998, 39.873299], [-75.23948277299996, 39.87326846700006], [-75.24007732499996, 39.87303801400003], [-75.24009799999999, 39.87303000000001], [-75.240105, 39.872858], [-75.240101, 39.872730999999995], [-75.2401, 39.872629], [-75.240101, 39.872597000000006], [-75.24029127399996, 39.87248562000008], [-75.24047, 39.872381000000004], [-75.240898, 39.872400000000006], [-75.240937, 39.872405], [-75.24108799999999, 39.872437999999995], [-75.241216, 39.872466], [-75.241371, 39.872501], [-75.241419, 39.872510999999996], [-75.241555, 39.87254], [-75.241746, 39.872584999999994], [-75.24201530699996, 39.87269454900008], [-75.242218, 39.87277699999999], [-75.24229, 39.87280799999999], [-75.242568, 39.872955], [-75.242694, 39.873021], [-75.242729, 39.873039], [-75.24673399999999, 39.875068], [-75.24677599999998, 39.875103], [-75.246825, 39.875143], [-75.24809799999998, 39.876208], [-75.248404, 39.87646399999999], [-75.248431, 39.876485], [-75.24964403499996, 39.87631124600006], [-75.25030200000002, 39.87621699999999], [-75.251751, 39.876009], [-75.252257, 39.875937], [-75.25272499999998, 39.875965], [-75.25304461699993, 39.87598464900004], [-75.253457, 39.87601], [-75.253665, 39.876022999999996], [-75.253737, 39.876027], [-75.253986, 39.876042], [-75.25429099999998, 39.87606100000001], [-75.254652, 39.87608300000001], [-75.25508399999998, 39.876109], [-75.25534324899996, 39.876124511000064], [-75.25543499999999, 39.87613], [-75.256127, 39.876172000000004], [-75.25714600000002, 39.87623399999999], [-75.25741, 39.87625], [-75.25758684399995, 39.87626080300003], [-75.25230680399994, 39.877390460000065], [-75.24819509499997, 39.87927499300003], [-75.24591081299997, 39.88161638300005], [-75.24362652999996, 39.884985699000026], [-75.24151356899993, 39.88858344400006], [-75.23797293099994, 39.89166722600004], [-75.23317593699994, 39.89309490200003], [-75.23096354799996, 39.89329602900005], [-75.23066322699998, 39.89332333100003], [-75.22706548199994, 39.89309490200003], [-75.22421012799998, 39.89229540400004], [-75.21233185899996, 39.89766346800007], [-75.20833436499998, 39.89555050600007], [-75.19728414799992, 39.89252383200005]]], &quot;type&quot;: &quot;Polygon&quot;}, &quot;id&quot;: &quot;141&quot;, &quot;properties&quot;: {&quot;N&quot;: null, &quot;Name&quot;: &quot;AIRPORT&quot;, &quot;__folium_color&quot;: &quot;#1b9e77&quot;, &quot;label&quot;: -1.0, &quot;neighborhood&quot;: null, &quot;overall_satisfaction&quot;: null, &quot;price_per_person&quot;: null}, &quot;type&quot;: &quot;Feature&quot;}, {&quot;bbox&quot;: [-75.14887639299995, 39.95549269800006, -75.12692473299995, 39.97039407300009], &quot;geometry&quot;: {&quot;coordinates&quot;: [[[-75.13674114199995, 39.967300773000034], [-75.13445091099999, 39.96709257100007], [-75.13263657199997, 39.96733051700004], [-75.13183350299992, 39.965813610000055], [-75.13031659699999, 39.96634898900004], [-75.12692473299995, 39.96102784100003], [-75.12959, 39.959296], [-75.12968499999998, 39.959234], [-75.130404, 39.958737], [-75.13059099999998, 39.958608000000005], [-75.13134111499993, 39.95779274100005], [-75.13139536099999, 39.95773378300004], [-75.13715754699996, 39.96022187700003], [-75.13891239999998, 39.960459823000065], [-75.14034007699996, 39.95552244100002], [-75.14129186099996, 39.95549269800006], [-75.14185698299997, 39.95638499600006], [-75.14399849799997, 39.95700960400006], [-75.14882931099999, 39.95765764000003], [-75.14887639299995, 39.95766395600003], [-75.14825178399997, 39.96117366100003], [-75.148209733, 39.961410199000056], [-75.14777589199997, 39.96385055500007], [-75.14658810299994, 39.97038339700003], [-75.14658616199995, 39.97039407300009], [-75.14654586299996, 39.970388992000046], [-75.14277944, 39.969914095000036], [-75.13974521099993, 39.96953151800005], [-75.13679151399998, 39.96899077500007], [-75.13624432599994, 39.96889058500006], [-75.13627805699997, 39.96878264400004], [-75.13674114199995, 39.967300773000034]]], &quot;type&quot;: &quot;Polygon&quot;}, &quot;id&quot;: &quot;142&quot;, &quot;properties&quot;: {&quot;N&quot;: 367.0, &quot;Name&quot;: &quot;NORTHERN_LIBERTIES&quot;, &quot;__folium_color&quot;: &quot;#666666&quot;, &quot;label&quot;: 4.0, &quot;neighborhood&quot;: &quot;NORTHERN_LIBERTIES&quot;, &quot;overall_satisfaction&quot;: 3.0955056179775284, &quot;price_per_person&quot;: 145.00486641221374}, &quot;type&quot;: &quot;Feature&quot;}, {&quot;bbox&quot;: [-74.97155861599998, 40.077206999999994, -74.95576350599998, 40.096929], &quot;geometry&quot;: {&quot;coordinates&quot;: [[[-74.95728624699994, 40.09594892400002], [-74.95707899999998, 40.095915], [-74.95700992499997, 40.095922736000034], [-74.956829, 40.09594299999999], [-74.95663599999999, 40.09594299999999], [-74.956271, 40.095767], [-74.95619797999994, 40.095751987000035], [-74.956164, 40.095745], [-74.95611399999999, 40.095691], [-74.95608541499996, 40.09562318100006], [-74.95607496999996, 40.09559840000003], [-74.956063, 40.095569999999995], [-74.95600355099997, 40.095482652000044], [-74.95598528899995, 40.09545581900005], [-74.955835, 40.095234999999995], [-74.955777, 40.09510300000001], [-74.95576350599998, 40.094980726000074], [-74.955813, 40.09485599999999], [-74.95591299999998, 40.09471800000001], [-74.956049, 40.09459799999999], [-74.95616365599994, 40.09434772000003], [-74.95618999999999, 40.09429021400006], [-74.95630600000001, 40.094037], [-74.956328, 40.093845], [-74.95632207499995, 40.093802301000046], [-74.956299, 40.09363599999999], [-74.956299, 40.093532069000055], [-74.956299, 40.093422], [-74.95633240699993, 40.093354601000044], [-74.956356, 40.093306999999996], [-74.95650599999999, 40.093115], [-74.95659553599995, 40.093040115000065], [-74.95665000299994, 40.09299456100006], [-74.95667099999999, 40.09297699999999], [-74.956864, 40.092741], [-74.95689857699993, 40.09266493000007], [-74.956964, 40.092521], [-74.95706399999999, 40.092098], [-74.95755885299995, 40.09131592500006], [-74.957922, 40.090742], [-74.95805699999998, 40.090423], [-74.958072, 40.089951000000006], [-74.95806908099996, 40.08992740500002], [-74.95804799999999, 40.089757], [-74.958036, 40.089665], [-74.958036, 40.089607754000035], [-74.958036, 40.089451], [-74.95806850799994, 40.08920593900006], [-74.9581, 40.08896853800007], [-74.958114, 40.088862999999996], [-74.9581, 40.08879883300005], [-74.958078, 40.088698], [-74.95802782899995, 40.088605431000076], [-74.958007, 40.088567], [-74.95797652999994, 40.08853821200006], [-74.957699, 40.088276], [-74.957678, 40.087754], [-74.95770198999998, 40.087686491000056], [-74.958006, 40.086831], [-74.95808266699999, 40.08674261300007], [-74.95810402299998, 40.08671799200005], [-74.958163, 40.08665], [-74.95820970099999, 40.08642511600004], [-74.95821749299995, 40.08638759300003], [-74.958228, 40.086337], [-74.95827420099994, 40.08622247300007], [-74.958299, 40.086161000000004], [-74.95833821999996, 40.08610390700005], [-74.958378, 40.08604599999999], [-74.958399, 40.085951999999985], [-74.958371, 40.085881], [-74.95836672399997, 40.085877210000035], [-74.95836244899994, 40.08587342000004], [-74.95828986199996, 40.08580907400006], [-74.958142, 40.08567799999999], [-74.95807, 40.085584], [-74.958034, 40.085474], [-74.95802, 40.085271], [-74.95805599999998, 40.085156], [-74.95811999999998, 40.085073], [-74.958235, 40.084991], [-74.95826010599995, 40.08498020900004], [-74.95827174099998, 40.08497520800005], [-74.95833031699993, 40.08495003000007], [-74.95833965799994, 40.084946015000064], [-74.958349, 40.084942], [-74.95836408699994, 40.08491236400005], [-74.958377, 40.084887], [-74.95838066099998, 40.08479449100002], [-74.958392, 40.08450800000001], [-74.95838742999996, 40.08450577300005], [-74.958234, 40.084430999999995], [-74.958177, 40.084337000000005], [-74.95815599999999, 40.08424999999998], [-74.958284, 40.08414500000001], [-74.95834317499998, 40.084122240000056], [-74.95852160499999, 40.08405361300003], [-74.95857, 40.08403499999999], [-74.958627, 40.08399699999999], [-74.95865191199994, 40.08391834200006], [-74.958735, 40.083656], [-74.95882107299997, 40.08351344700003], [-74.95891299999998, 40.083431], [-74.958956, 40.083222000000006], [-74.95894231999995, 40.08313833100004], [-74.95891299999998, 40.082958999999995], [-74.95886072399998, 40.08284841600004], [-74.958835, 40.08279399999999], [-74.958806, 40.082584999999995], [-74.958841, 40.082503], [-74.958927, 40.082431], [-74.95907953299995, 40.08235183700003], [-74.959085, 40.08234900000001], [-74.95917526899996, 40.08235403600003], [-74.959185, 40.08235499999999], [-74.95920814999992, 40.08234864000007], [-74.959276, 40.08233], [-74.959468, 40.082260999999995], [-74.95961399999999, 40.082157], [-74.95969653899994, 40.08201576600003], [-74.959749, 40.081925999999996], [-74.95990622399995, 40.08150704900004], [-74.959914, 40.081487], [-74.95991762799997, 40.08148224300004], [-74.95992125699995, 40.08147748600004], [-74.960078, 40.081272], [-74.96024300000002, 40.081109], [-74.9603, 40.081053], [-74.960411, 40.080967], [-74.96056399999999, 40.08084899999999], [-74.96067752299997, 40.08072219700006], [-74.960829, 40.080553], [-74.96099999999998, 40.080426], [-74.96117176799997, 40.080138035000054], [-74.96127199999998, 40.079969999999996], [-74.96148178099999, 40.07983921600004], [-74.961511, 40.079820999999995], [-74.961615, 40.079755999999996], [-74.961664, 40.079693999999996], [-74.96167899999999, 40.07967399999999], [-74.96172199999998, 40.079582], [-74.961758, 40.07950399999999], [-74.96174645399998, 40.07934312100007], [-74.961743, 40.07929500000001], [-74.96205596799996, 40.078973407000035], [-74.962251, 40.078773], [-74.962267, 40.078708999999996], [-74.962315, 40.07852], [-74.96233707599997, 40.078365468000065], [-74.96234399999999, 40.078317], [-74.96240781299997, 40.07818937300004], [-74.962465, 40.078075000000005], [-74.96256466199998, 40.077988529000045], [-74.96271047099998, 40.07786201800008], [-74.96273699999999, 40.077839], [-74.96303327699997, 40.07766336800005], [-74.96312762299992, 40.077607440000065], [-74.963459, 40.077411], [-74.963787, 40.07729500000001], [-74.964231, 40.077218], [-74.96429973799995, 40.077213752000034], [-74.96433661599997, 40.07721147300002], [-74.964409, 40.077206999999994], [-74.96452599999999, 40.077223], [-74.96455499999999, 40.077227], [-74.96460194699995, 40.077233584000055], [-74.96597358099996, 40.08101458800007], [-74.96675300299995, 40.082437879000054], [-74.97029993499994, 40.08624461900006], [-74.97116780599998, 40.08693078600004], [-74.97155861599998, 40.08723977400007], [-74.97016663199997, 40.08845329900004], [-74.96581221799993, 40.091594188000045], [-74.96202887499999, 40.093343092000055], [-74.95978028399996, 40.09541322300003], [-74.95874899999998, 40.096929], [-74.95862306899993, 40.096871849000024], [-74.95856502199997, 40.09684537300006], [-74.95848632599996, 40.09680898200002], [-74.958345, 40.096723], [-74.958159, 40.096569], [-74.95803126099997, 40.09642186900005], [-74.95792318999996, 40.096297393000036], [-74.957744, 40.09609100000001], [-74.95741499999998, 40.095969999999994], [-74.95728624699994, 40.09594892400002]]], &quot;type&quot;: &quot;Polygon&quot;}, &quot;id&quot;: &quot;143&quot;, &quot;properties&quot;: {&quot;N&quot;: null, &quot;Name&quot;: &quot;FRANKLIN_MILLS&quot;, &quot;__folium_color&quot;: &quot;#1b9e77&quot;, &quot;label&quot;: -1.0, &quot;neighborhood&quot;: null, &quot;overall_satisfaction&quot;: null, &quot;price_per_person&quot;: null}, &quot;type&quot;: &quot;Feature&quot;}, {&quot;bbox&quot;: [-75.00164690099996, 40.09577014200005, -74.98660295199994, 40.10812615100007], &quot;geometry&quot;: {&quot;coordinates&quot;: [[[-74.99136762899997, 40.09577014200005], [-74.99818478499998, 40.10158792400006], [-74.99907708299996, 40.10262299000004], [-75.00164690099996, 40.10480019600004], [-74.99665379499999, 40.10812615100007], [-74.98660295199994, 40.099160342000054], [-74.99136762899997, 40.09577014200005]]], &quot;type&quot;: &quot;Polygon&quot;}, &quot;id&quot;: &quot;144&quot;, &quot;properties&quot;: {&quot;N&quot;: null, &quot;Name&quot;: &quot;NORMANDY_VILLAGE&quot;, &quot;__folium_color&quot;: &quot;#1b9e77&quot;, &quot;label&quot;: -1.0, &quot;neighborhood&quot;: null, &quot;overall_satisfaction&quot;: null, &quot;price_per_person&quot;: null}, &quot;type&quot;: &quot;Feature&quot;}, {&quot;bbox&quot;: [-75.26443126099997, 40.03888434500004, -75.21748814699998, 40.07357258200005], &quot;geometry&quot;: {&quot;coordinates&quot;: [[[-75.23966134899996, 40.063995526000035], [-75.23607788099997, 40.06114017300007], [-75.23173774399999, 40.064081187000056], [-75.22838270399996, 40.06246791200004], [-75.22688364299995, 40.06181118100006], [-75.22594713099994, 40.062184835000046], [-75.22334162099997, 40.05925809800004], [-75.22541175199994, 40.05815164900009], [-75.22741049999996, 40.05932948200006], [-75.22826710499999, 40.060507315000045], [-75.22987324199994, 40.059757785000045], [-75.22776741899997, 40.05704520000007], [-75.22876679199997, 40.05658120500004], [-75.22791018599996, 40.056438437000054], [-75.22923078699993, 40.05586736600003], [-75.22910409999996, 40.05569596600002], [-75.22862402499999, 40.055046452000056], [-75.23122953399997, 40.05386861900007], [-75.23018051199993, 40.053524164000066], [-75.23016287999997, 40.05351837400008], [-75.22883817599995, 40.05308339700007], [-75.22744619099996, 40.05272647800007], [-75.21848752099997, 40.048586216000054], [-75.21788075799998, 40.04787237700003], [-75.21777368199997, 40.046159166000045], [-75.21780937399996, 40.044481646000065], [-75.21748814699998, 40.043303812000026], [-75.21886723899996, 40.04329302500002], [-75.22005696999997, 40.042638674000045], [-75.22172259199994, 40.04097305100003], [-75.22222822799993, 40.039932037000035], [-75.22335384899996, 40.03888434500004], [-75.22335847199997, 40.03889102300007], [-75.22544049999993, 40.04150843000008], [-75.22627331099994, 40.042370984000065], [-75.22900969199996, 40.04415558000005], [-75.23115120699998, 40.044899162000036], [-75.23204350399999, 40.04534531100006], [-75.23302503199993, 40.045940176000045], [-75.23489885799995, 40.047546312000065], [-75.23588038499997, 40.04998526000003], [-75.23641576399994, 40.05174011200006], [-75.23623730399999, 40.052751383000036], [-75.23730806199995, 40.05260266700003], [-75.23971726599996, 40.05156165200003], [-75.24162083499994, 40.05072884100008], [-75.24358388999995, 40.04998526000003], [-75.24557668899996, 40.04933090800005], [-75.24673667599994, 40.04843861000006], [-75.24768846099994, 40.046951447000026], [-75.25009766499993, 40.044631472000056], [-75.251361, 40.043554], [-75.25265342399996, 40.04455582000002], [-75.25288199999999, 40.044732999999994], [-75.25431799999998, 40.045755], [-75.25509799999999, 40.046122000000004], [-75.25540450199996, 40.04626657700005], [-75.25589300000001, 40.04649700000001], [-75.257655, 40.047611], [-75.25851286999995, 40.04832094600004], [-75.25962100000001, 40.049237999999995], [-75.261097, 40.050670999999994], [-75.26208230699996, 40.05168935900008], [-75.262677, 40.052304], [-75.26334015999998, 40.05298077100007], [-75.26441873299996, 40.05408113500005], [-75.26443126099997, 40.05409373800006], [-75.26415253999994, 40.054319792000065], [-75.26386572499996, 40.05455235800007], [-75.26386019499995, 40.05455721300006], [-75.263639, 40.05476], [-75.263519, 40.054871], [-75.26344199999998, 40.05494099999999], [-75.263231, 40.05513599999999], [-75.26217252599997, 40.05611034900005], [-75.260551, 40.057603], [-75.256707, 40.061142], [-75.254923, 40.06278199999999], [-75.25485718899994, 40.062842577000026], [-75.245857, 40.071127], [-75.243458, 40.073333999999996], [-75.243288, 40.073494], [-75.243214, 40.073558], [-75.24320556299995, 40.07356529100008], [-75.24319712599998, 40.07357258200005], [-75.24230255099995, 40.072418818000074], [-75.24108902499994, 40.070455763000034], [-75.24026811099998, 40.06824286400006], [-75.23998257599999, 40.066743803000065], [-75.23966134899996, 40.063995526000035]]], &quot;type&quot;: &quot;Polygon&quot;}, &quot;id&quot;: &quot;145&quot;, &quot;properties&quot;: {&quot;N&quot;: 43.0, &quot;Name&quot;: &quot;UPPER_ROXBOROUGH&quot;, &quot;__folium_color&quot;: &quot;#d95f02&quot;, &quot;label&quot;: 0.0, &quot;neighborhood&quot;: &quot;UPPER_ROXBOROUGH&quot;, &quot;overall_satisfaction&quot;: 3.2307692307692317, &quot;price_per_person&quot;: 96.72419354838706}, &quot;type&quot;: &quot;Feature&quot;}, {&quot;bbox&quot;: [-75.16129683599996, 39.92230915800008, -75.15294286599999, 39.92580335500003], &quot;geometry&quot;: {&quot;coordinates&quot;: [[[-75.15294286599999, 39.92465332900009], [-75.15341702599994, 39.92230915800008], [-75.15659996499993, 39.92271005600003], [-75.16129683599996, 39.92332380300008], [-75.16078781599997, 39.92580335500003], [-75.15759531599997, 39.92533535200004], [-75.15753165399995, 39.92532602000006], [-75.15294286599999, 39.92465332900009]]], &quot;type&quot;: &quot;Polygon&quot;}, &quot;id&quot;: &quot;146&quot;, &quot;properties&quot;: {&quot;N&quot;: 14.0, &quot;Name&quot;: &quot;GREENWICH&quot;, &quot;__folium_color&quot;: &quot;#d95f02&quot;, &quot;label&quot;: 0.0, &quot;neighborhood&quot;: &quot;GREENWICH&quot;, &quot;overall_satisfaction&quot;: 2.5, &quot;price_per_person&quot;: 57.55757575757576}, &quot;type&quot;: &quot;Feature&quot;}, {&quot;bbox&quot;: [-75.14654586299996, 39.96889058500006, -75.13434120299996, 39.97709935500007], &quot;geometry&quot;: {&quot;coordinates&quot;: [[[-75.14534054899997, 39.97709935500007], [-75.13706002399994, 39.976052392000035], [-75.13434120299996, 39.97499695700003], [-75.13436168099996, 39.97491504900005], [-75.13624432599994, 39.96889058500006], [-75.13679151399998, 39.96899077500007], [-75.13974521099993, 39.96953151800005], [-75.14277944, 39.969914095000036], [-75.14654586299996, 39.970388992000046], [-75.14534054899997, 39.97709935500007]]], &quot;type&quot;: &quot;Polygon&quot;}, &quot;id&quot;: &quot;147&quot;, &quot;properties&quot;: {&quot;N&quot;: 118.0, &quot;Name&quot;: &quot;OLD_KENSINGTON&quot;, &quot;__folium_color&quot;: &quot;#d95f02&quot;, &quot;label&quot;: 0.0, &quot;neighborhood&quot;: &quot;OLD_KENSINGTON&quot;, &quot;overall_satisfaction&quot;: 2.9459459459459465, &quot;price_per_person&quot;: 75.64120879120878}, &quot;type&quot;: &quot;Feature&quot;}, {&quot;bbox&quot;: [-75.17893306499995, 40.02725731100002, -75.16655986799998, 40.03584039500003], &quot;geometry&quot;: {&quot;coordinates&quot;: [[[-75.17893306499995, 40.031722976000026], [-75.17856798799994, 40.03208305800007], [-75.17475853899997, 40.03584039500003], [-75.17377820099995, 40.03502186100007], [-75.17064682999994, 40.033156363000046], [-75.16655986799998, 40.030980584000076], [-75.16695961799998, 40.030352406000084], [-75.16720708199995, 40.030352406000084], [-75.16834922299995, 40.02919122900005], [-75.16874897199995, 40.02947676500003], [-75.17101421899997, 40.027268625000026], [-75.17102569399997, 40.02725731100002], [-75.17482135699998, 40.029438693000024], [-75.17893306499995, 40.031722976000026]]], &quot;type&quot;: &quot;Polygon&quot;}, &quot;id&quot;: &quot;148&quot;, &quot;properties&quot;: {&quot;N&quot;: 21.0, &quot;Name&quot;: &quot;GERMANTOWN_PENN_KNOX&quot;, &quot;__folium_color&quot;: &quot;#d95f02&quot;, &quot;label&quot;: 0.0, &quot;neighborhood&quot;: &quot;GERMANTOWN_PENN_KNOX&quot;, &quot;overall_satisfaction&quot;: 4.666666666666667, &quot;price_per_person&quot;: 36.030701754385966}, &quot;type&quot;: &quot;Feature&quot;}, {&quot;bbox&quot;: [-75.17689682499997, 40.01778409300004, -75.15907884299996, 40.030980584000076], &quot;geometry&quot;: {&quot;coordinates&quot;: [[[-75.16359846199998, 40.02923858100007], [-75.16202937399999, 40.02831558800006], [-75.16143926799998, 40.027782588000036], [-75.16048748399999, 40.02665948300007], [-75.16003062699995, 40.02597419800003], [-75.15997351999994, 40.02507952100006], [-75.15972605599995, 40.02422291500006], [-75.15907884299996, 40.02302366600003], [-75.15987834199997, 40.022186096000034], [-75.16031616299995, 40.02117720500007], [-75.16079815699999, 40.02016745400004], [-75.16081108999997, 40.02013024200004], [-75.16166769599994, 40.01995892100007], [-75.16530351299997, 40.01889292200008], [-75.16794947299995, 40.01841703000009], [-75.17262340999997, 40.01778409300004], [-75.17685222099993, 40.021440496000025], [-75.17689682499997, 40.02147906300007], [-75.17377506799993, 40.02454652100005], [-75.17373625299996, 40.024584522000055], [-75.17102569399997, 40.02725731100002], [-75.17101421899997, 40.027268625000026], [-75.16874897199995, 40.02947676500003], [-75.16834922299995, 40.02919122900005], [-75.16720708199995, 40.030352406000084], [-75.16695961799998, 40.030352406000084], [-75.16655986799998, 40.030980584000076], [-75.16359846199998, 40.02923858100007]]], &quot;type&quot;: &quot;Polygon&quot;}, &quot;id&quot;: &quot;149&quot;, &quot;properties&quot;: {&quot;N&quot;: 25.0, &quot;Name&quot;: &quot;GERMANTOWN_SOUTHWEST&quot;, &quot;__folium_color&quot;: &quot;#d95f02&quot;, &quot;label&quot;: 0.0, &quot;neighborhood&quot;: &quot;GERMANTOWN_SOUTHWEST&quot;, &quot;overall_satisfaction&quot;: 3.083333333333333, &quot;price_per_person&quot;: 39.10526315789474}, &quot;type&quot;: &quot;Feature&quot;}, {&quot;bbox&quot;: [-75.18370722099996, 39.943672330000034, -75.16388111499997, 39.954525587000035], &quot;geometry&quot;: {&quot;coordinates&quot;: [[[-75.16523042299997, 39.95259183300005], [-75.16523401199997, 39.952578030000026], [-75.16528499699996, 39.95238193400007], [-75.16511843499994, 39.951763275000076], [-75.16388111499997, 39.95162050700003], [-75.16561828399995, 39.943672330000034], [-75.17972542799998, 39.94545146000007], [-75.17901110699995, 39.94871754500008], [-75.18370722099996, 39.94937708800007], [-75.18274786199999, 39.95009408300007], [-75.18126069899995, 39.95259251700002], [-75.18045905999998, 39.95449269900007], [-75.18044518499994, 39.954525587000035], [-75.16523042299997, 39.95259183300005]]], &quot;type&quot;: &quot;Polygon&quot;}, &quot;id&quot;: &quot;150&quot;, &quot;properties&quot;: {&quot;N&quot;: 1499.0, &quot;Name&quot;: &quot;RITTENHOUSE&quot;, &quot;__folium_color&quot;: &quot;#a6761d&quot;, &quot;label&quot;: 3.0, &quot;neighborhood&quot;: &quot;RITTENHOUSE&quot;, &quot;overall_satisfaction&quot;: 3.000924214417745, &quot;price_per_person&quot;: 136.26399583945644}, &quot;type&quot;: &quot;Feature&quot;}, {&quot;bbox&quot;: [-75.19271185499997, 39.937843428000065, -75.16561828399995, 39.94650431700006], &quot;geometry&quot;: {&quot;coordinates&quot;: [[[-75.17972542799998, 39.94545146000007], [-75.16561828399995, 39.943672330000034], [-75.16683164699997, 39.937843428000065], [-75.17621523999998, 39.939050984000055], [-75.18494886299999, 39.94013009000002], [-75.18750678399992, 39.94042752200005], [-75.18807190599996, 39.94007060300004], [-75.19098674499998, 39.94194442900005], [-75.19271185499997, 39.94268801000004], [-75.19193145899997, 39.94320307200007], [-75.19122469199992, 39.94366953800006], [-75.18896420399994, 39.945513620000035], [-75.18760348699993, 39.94650431700006], [-75.18564385399998, 39.94529706900004], [-75.18064698599994, 39.94461297400006], [-75.17981417499995, 39.94511861000007], [-75.17972542799998, 39.94545146000007]]], &quot;type&quot;: &quot;Polygon&quot;}, &quot;id&quot;: &quot;151&quot;, &quot;properties&quot;: {&quot;N&quot;: 649.0, &quot;Name&quot;: &quot;GRADUATE_HOSPITAL&quot;, &quot;__folium_color&quot;: &quot;#666666&quot;, &quot;label&quot;: 4.0, &quot;neighborhood&quot;: &quot;GRADUATE_HOSPITAL&quot;, &quot;overall_satisfaction&quot;: 3.180790960451977, &quot;price_per_person&quot;: 106.42041684541697}, &quot;type&quot;: &quot;Feature&quot;}, {&quot;bbox&quot;: [-75.16835450199994, 39.929023948000065, -75.15533884999996, 39.937843428000065], &quot;geometry&quot;: {&quot;coordinates&quot;: [[[-75.15655237499993, 39.93020535800008], [-75.15680538099997, 39.929023948000065], [-75.16302450899995, 39.92980084900006], [-75.16835450199994, 39.93051468800007], [-75.16778343099996, 39.93287035400004], [-75.16768825299994, 39.93415526300002], [-75.16683164699997, 39.937843428000065], [-75.16147785999993, 39.93720097300007], [-75.15994217099995, 39.93680217000008], [-75.15986364099994, 39.93678177700007], [-75.15533884999996, 39.93560673400004], [-75.15600509899997, 39.93263240800007], [-75.15655237499993, 39.93020535800008]]], &quot;type&quot;: &quot;Polygon&quot;}, &quot;id&quot;: &quot;152&quot;, &quot;properties&quot;: {&quot;N&quot;: 232.0, &quot;Name&quot;: &quot;PASSYUNK_SQUARE&quot;, &quot;__folium_color&quot;: &quot;#d95f02&quot;, &quot;label&quot;: 0.0, &quot;neighborhood&quot;: &quot;PASSYUNK_SQUARE&quot;, &quot;overall_satisfaction&quot;: 3.7426470588235294, &quot;price_per_person&quot;: 86.23984477769005}, &quot;type&quot;: &quot;Feature&quot;}, {&quot;bbox&quot;: [-75.15759531599997, 39.92465332900009, -75.15086546399993, 39.93560673400004], &quot;geometry&quot;: {&quot;coordinates&quot;: [[[-75.15243590799997, 39.927159648000035], [-75.15294286599999, 39.92465332900009], [-75.15753165399995, 39.92532602000006], [-75.15759531599997, 39.92533535200004], [-75.15683287299998, 39.92889557500007], [-75.15680538099997, 39.929023948000065], [-75.15655237499993, 39.93020535800008], [-75.15600509899997, 39.93263240800007], [-75.15533884999996, 39.93560673400004], [-75.15385078399997, 39.93517931100006], [-75.15086546399993, 39.93432182500004], [-75.15086801399995, 39.93430894200002], [-75.15131756099998, 39.93203754300004], [-75.15186483699993, 39.92965808200006], [-75.15243590799997, 39.927159648000035]]], &quot;type&quot;: &quot;Polygon&quot;}, &quot;id&quot;: &quot;153&quot;, &quot;properties&quot;: {&quot;N&quot;: 125.0, &quot;Name&quot;: &quot;DICKINSON_NARROWS&quot;, &quot;__folium_color&quot;: &quot;#d95f02&quot;, &quot;label&quot;: 0.0, &quot;neighborhood&quot;: &quot;DICKINSON_NARROWS&quot;, &quot;overall_satisfaction&quot;: 3.227272727272727, &quot;price_per_person&quot;: 62.62639311043566}, &quot;type&quot;: &quot;Feature&quot;}, {&quot;bbox&quot;: [-75.22651431499997, 39.95058155500005, -75.21415178899997, 39.95458535600005], &quot;geometry&quot;: {&quot;coordinates&quot;: [[[-75.21415178899997, 39.953119066000056], [-75.21468962499996, 39.95058155500005], [-75.22651431499997, 39.951998728000035], [-75.22650797699997, 39.95202963600008], [-75.22599605999994, 39.95452603000007], [-75.22598389399995, 39.95458535600005], [-75.21415424699995, 39.95313947500006], [-75.21415178899997, 39.953119066000056]]], &quot;type&quot;: &quot;Polygon&quot;}, &quot;id&quot;: &quot;154&quot;, &quot;properties&quot;: {&quot;N&quot;: 93.0, &quot;Name&quot;: &quot;GARDEN_COURT&quot;, &quot;__folium_color&quot;: &quot;#d95f02&quot;, &quot;label&quot;: 0.0, &quot;neighborhood&quot;: &quot;GARDEN_COURT&quot;, &quot;overall_satisfaction&quot;: 3.467391304347826, &quot;price_per_person&quot;: 45.95437500000001}, &quot;type&quot;: &quot;Feature&quot;}, {&quot;bbox&quot;: [-75.22335384899996, 40.03729208800007, -75.21409741499996, 40.043303812000026], &quot;geometry&quot;: {&quot;coordinates&quot;: [[[-75.22010141199995, 40.037565726000025], [-75.22063679099995, 40.03729208800007], [-75.22282801699998, 40.03811528700003], [-75.22282309299997, 40.03811769800006], [-75.22335384899996, 40.03888434500004], [-75.22222822799993, 40.039932037000035], [-75.22172259199994, 40.04097305100003], [-75.22005696999997, 40.042638674000045], [-75.21886723899996, 40.04329302500002], [-75.21748814699998, 40.043303812000026], [-75.21666723299995, 40.04209028700006], [-75.21409741499996, 40.040127232000025], [-75.22010141199995, 40.037565726000025]]], &quot;type&quot;: &quot;Polygon&quot;}, &quot;id&quot;: &quot;155&quot;, &quot;properties&quot;: {&quot;N&quot;: null, &quot;Name&quot;: &quot;WISSAHICKON_HILLS&quot;, &quot;__folium_color&quot;: &quot;#1b9e77&quot;, &quot;label&quot;: -1.0, &quot;neighborhood&quot;: null, &quot;overall_satisfaction&quot;: null, &quot;price_per_person&quot;: null}, &quot;type&quot;: &quot;Feature&quot;}, {&quot;bbox&quot;: [-75.251361, 40.035673185000064, -75.23204350399999, 40.052751383000036], &quot;geometry&quot;: {&quot;coordinates&quot;: [[[-75.251361, 40.043554], [-75.25009766499993, 40.044631472000056], [-75.24768846099994, 40.046951447000026], [-75.24673667599994, 40.04843861000006], [-75.24557668899996, 40.04933090800005], [-75.24358388999995, 40.04998526000003], [-75.24162083499994, 40.05072884100008], [-75.23971726599996, 40.05156165200003], [-75.23730806199995, 40.05260266700003], [-75.23623730399999, 40.052751383000036], [-75.23641576399994, 40.05174011200006], [-75.23588038499997, 40.04998526000003], [-75.23489885799995, 40.047546312000065], [-75.23302503199993, 40.045940176000045], [-75.23204350399999, 40.04534531100006], [-75.23451219499998, 40.044244810000066], [-75.23665370999998, 40.04341199800007], [-75.23757575099995, 40.04266841700007], [-75.23873573799993, 40.04014024000002], [-75.24013367199994, 40.03844487400005], [-75.24096648299997, 40.03728488600007], [-75.24222217799995, 40.035673185000064], [-75.242423, 40.035831], [-75.24297900000002, 40.036225], [-75.24321099999999, 40.036334], [-75.24333100000001, 40.03638899999999], [-75.243373, 40.036409], [-75.24352099999999, 40.03647800000001], [-75.244373, 40.03685000000001], [-75.244949, 40.037188], [-75.245487, 40.037577], [-75.245595, 40.037655], [-75.24583360799994, 40.03791917300004], [-75.24590299999998, 40.03799600000001], [-75.24617, 40.03829000000001], [-75.246674, 40.039168000000004], [-75.247, 40.039738], [-75.24732199999998, 40.04009599999999], [-75.24751437099995, 40.04031060500006], [-75.24791899999998, 40.040762], [-75.24903899999998, 40.041848], [-75.249181, 40.041951000000005], [-75.24934899999998, 40.042073], [-75.24985557099996, 40.042441229000076], [-75.250334, 40.042789], [-75.250986, 40.043263], [-75.251222, 40.043447], [-75.251361, 40.043554]]], &quot;type&quot;: &quot;Polygon&quot;}, &quot;id&quot;: &quot;156&quot;, &quot;properties&quot;: {&quot;N&quot;: null, &quot;Name&quot;: &quot;DEARNLEY_PARK&quot;, &quot;__folium_color&quot;: &quot;#1b9e77&quot;, &quot;label&quot;: -1.0, &quot;neighborhood&quot;: null, &quot;overall_satisfaction&quot;: null, &quot;price_per_person&quot;: null}, &quot;type&quot;: &quot;Feature&quot;}, {&quot;bbox&quot;: [-75.23888135199995, 40.030235, -75.22282309299997, 40.042370984000065], &quot;geometry&quot;: {&quot;coordinates&quot;: [[[-75.22722509599998, 40.03529208800006], [-75.23100249000001, 40.03312083000002], [-75.23269785599994, 40.032317762000055], [-75.23326297799996, 40.03163366700006], [-75.23463116799996, 40.030771112000025], [-75.23501799999998, 40.030235], [-75.235698, 40.030746], [-75.23578280099997, 40.03079864700004], [-75.237138, 40.03164], [-75.237621, 40.0319], [-75.23805999999999, 40.032136], [-75.238319, 40.032275000000006], [-75.23885957199997, 40.032650971000066], [-75.23888135199995, 40.032666119000055], [-75.23846804899995, 40.03306134300004], [-75.23668345299994, 40.03413210100007], [-75.23537474999995, 40.03555977700006], [-75.23486911399993, 40.034905425000034], [-75.22627331099994, 40.042370984000065], [-75.22544049999993, 40.04150843000008], [-75.22335847199997, 40.03889102300007], [-75.22335384899996, 40.03888434500004], [-75.22282309299997, 40.03811769800006], [-75.22282801699998, 40.03811528700003], [-75.22567844599996, 40.036719764000054], [-75.22603536499997, 40.03636284500004], [-75.22722509599998, 40.03529208800006]]], &quot;type&quot;: &quot;Polygon&quot;}, &quot;id&quot;: &quot;157&quot;, &quot;properties&quot;: {&quot;N&quot;: 20.0, &quot;Name&quot;: &quot;GERMANY_HILL&quot;, &quot;__folium_color&quot;: &quot;#d95f02&quot;, &quot;label&quot;: 0.0, &quot;neighborhood&quot;: &quot;GERMANY_HILL&quot;, &quot;overall_satisfaction&quot;: 5.0, &quot;price_per_person&quot;: 135.20833333333331}, &quot;type&quot;: &quot;Feature&quot;}], &quot;type&quot;: &quot;FeatureCollection&quot;});\n",
       "\n",
       "        \n",
       "    \n",
       "    geo_json_a186f6ed29797c8b22ba9c1a2dcf0d0d.bindTooltip(\n",
       "    function(layer){\n",
       "    let div = L.DomUtil.create(&#x27;div&#x27;);\n",
       "    \n",
       "    let handleObject = feature=&gt;typeof(feature)==&#x27;object&#x27; ? JSON.stringify(feature) : feature;\n",
       "    let fields = [&quot;Name&quot;, &quot;neighborhood&quot;, &quot;price_per_person&quot;, &quot;overall_satisfaction&quot;, &quot;N&quot;, &quot;label&quot;];\n",
       "    let aliases = [&quot;Name&quot;, &quot;neighborhood&quot;, &quot;price_per_person&quot;, &quot;overall_satisfaction&quot;, &quot;N&quot;, &quot;label&quot;];\n",
       "    let table = &#x27;&lt;table&gt;&#x27; +\n",
       "        String(\n",
       "        fields.map(\n",
       "        (v,i)=&gt;\n",
       "        `&lt;tr&gt;\n",
       "            &lt;th&gt;${aliases[i]}&lt;/th&gt;\n",
       "            \n",
       "            &lt;td&gt;${handleObject(layer.feature.properties[v])}&lt;/td&gt;\n",
       "        &lt;/tr&gt;`).join(&#x27;&#x27;))\n",
       "    +&#x27;&lt;/table&gt;&#x27;;\n",
       "    div.innerHTML=table;\n",
       "    \n",
       "    return div\n",
       "    }\n",
       "    ,{&quot;className&quot;: &quot;foliumtooltip&quot;, &quot;sticky&quot;: true});\n",
       "                     \n",
       "    \n",
       "            geo_json_a186f6ed29797c8b22ba9c1a2dcf0d0d.addTo(map_444041e9ad5eb3c139fc188fb9b65bf8);\n",
       "        \n",
       "&lt;/script&gt;\n",
       "&lt;/html&gt;\" style=\"position:absolute;width:100%;height:100%;left:0;top:0;border:none !important;\" allowfullscreen webkitallowfullscreen mozallowfullscreen></iframe></div></div>"
      ],
      "text/plain": [
       "<folium.folium.Map at 0x14523d5d0>"
      ]
     },
     "execution_count": 105,
     "metadata": {},
     "output_type": "execute_result"
    }
   ],
   "source": [
    "airbnb2.explore(\n",
    "    column=\"label\",\n",
    "    cmap=\"Dark2\",\n",
    "    categorical=True,\n",
    "    legend=True,\n",
    "    tiles=\"CartoDB positron\"\n",
    ")"
   ]
  },
  {
   "cell_type": "markdown",
   "metadata": {
    "hide_input": true,
    "slideshow": {
     "slide_type": "slide"
    }
   },
   "source": [
    "#### Based on these results, where would you want to stay?\n",
    "\n",
    "Group 0!\n"
   ]
  },
  {
   "cell_type": "markdown",
   "metadata": {
    "slideshow": {
     "slide_type": "slide"
    }
   },
   "source": [
    "### Why 5 groups? \n",
    "\n",
    "Use the [\"Elbow\" method](https://en.wikipedia.org/wiki/Elbow_method_(clustering))..."
   ]
  },
  {
   "cell_type": "code",
   "execution_count": 106,
   "metadata": {
    "slideshow": {
     "slide_type": "subslide"
    }
   },
   "outputs": [
    {
     "data": {
      "image/png": "[encoded data removed]",
      "text/plain": [
       "<Figure size 640x480 with 1 Axes>"
      ]
     },
     "metadata": {},
     "output_type": "display_data"
    }
   ],
   "source": [
    "# Number of clusters to try out\n",
    "n_clusters = list(range(2, 10))\n",
    "\n",
    "# Run kmeans for each value of k\n",
    "inertias = []\n",
    "for k in n_clusters:\n",
    "    \n",
    "    # Initialize and run\n",
    "    kmeans = KMeans(n_clusters=k, n_init=10)\n",
    "    kmeans.fit(scaled_airbnb_data)\n",
    "    \n",
    "    # Save the \"inertia\"\n",
    "    inertias.append(kmeans.inertia_)\n",
    "    \n",
    "# Plot it!\n",
    "plt.plot(n_clusters, inertias, marker='o', ms=10, mfc='white', lw=4, mew=3);"
   ]
  },
  {
   "cell_type": "markdown",
   "metadata": {
    "slideshow": {
     "slide_type": "slide"
    }
   },
   "source": [
    "### The `kneed` package\n",
    "\n",
    "There is also a nice package called kneed that can determine the “knee” point quantitatively, using the [kneedle algorithm](https://raghavan.usc.edu/papers/kneedle-simplex11.pdf)."
   ]
  },
  {
   "cell_type": "code",
   "execution_count": 107,
   "metadata": {},
   "outputs": [
    {
     "data": {
      "text/plain": [
       "[2, 3, 4, 5, 6, 7, 8, 9]"
      ]
     },
     "execution_count": 107,
     "metadata": {},
     "output_type": "execute_result"
    }
   ],
   "source": [
    "n_clusters"
   ]
  },
  {
   "cell_type": "code",
   "execution_count": 109,
   "metadata": {
    "slideshow": {
     "slide_type": "slide"
    }
   },
   "outputs": [
    {
     "name": "stdout",
     "output_type": "stream",
     "text": [
      "Collecting kneed\n",
      "  Obtaining dependency information for kneed from https://files.pythonhosted.org/packages/9a/1b/7e726d8616e813007874468c61790099ba21493e0ea07561b7d9fc53151c/kneed-0.8.5-py3-none-any.whl.metadata\n",
      "  Downloading kneed-0.8.5-py3-none-any.whl.metadata (5.5 kB)\n",
      "Requirement already satisfied: numpy>=1.14.2 in /Users/delmelle/miniforge3/lib/python3.10/site-packages (from kneed) (1.24.0)\n",
      "Requirement already satisfied: scipy>=1.0.0 in /Users/delmelle/miniforge3/lib/python3.10/site-packages (from kneed) (1.12.0)\n",
      "Downloading kneed-0.8.5-py3-none-any.whl (10 kB)\n",
      "Installing collected packages: kneed\n",
      "Successfully installed kneed-0.8.5\n",
      "5\n"
     ]
    }
   ],
   "source": [
    "!pip install kneed\n",
    "from kneed import KneeLocator\n",
    "\n",
    "# Initialize the knee algorithm\n",
    "kn = KneeLocator(n_clusters, inertias, curve='convex', direction='decreasing')\n",
    "\n",
    "# Print out the knee \n",
    "print(kn.knee)"
   ]
  }
 ],
 "metadata": {
  "celltoolbar": "Slideshow",
  "kernelspec": {
   "display_name": "Python 3 (ipykernel)",
   "language": "python",
   "name": "python3"
  },
  "language_info": {
   "codemirror_mode": {
    "name": "ipython",
    "version": 3
   },
   "file_extension": ".py",
   "mimetype": "text/x-python",
   "name": "python",
   "nbconvert_exporter": "python",
   "pygments_lexer": "ipython3",
   "version": "3.10.12"
  }
 },
 "nbformat": 4,
 "nbformat_minor": 4
}
